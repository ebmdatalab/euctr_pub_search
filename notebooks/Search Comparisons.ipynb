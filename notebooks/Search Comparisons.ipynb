{
 "cells": [
  {
   "cell_type": "code",
   "execution_count": null,
   "id": "4ade77a8-ce6c-4962-95b4-0de431a31495",
   "metadata": {},
   "outputs": [],
   "source": [
    "import pandas as pd\n",
    "from sklearn.metrics import cohen_kappa_score"
   ]
  },
  {
   "cell_type": "code",
   "execution_count": null,
   "id": "bfb95084-7ca8-44fb-bb95-c4654b4eb3b4",
   "metadata": {},
   "outputs": [],
   "source": [
    "import sys\n",
    "from pathlib import Path\n",
    "import os\n",
    "cwd = os.getcwd()\n",
    "parent = str(Path(cwd).parents[0])\n",
    "sys.path.append(parent)"
   ]
  },
  {
   "cell_type": "code",
   "execution_count": null,
   "id": "14f67084-d0ee-4043-b07f-becce9c529b3",
   "metadata": {},
   "outputs": [],
   "source": [
    "def reco_checker(df, field1, field2):\n",
    "    return df[((df[field1] == 1) & (df[field2] == 0)) | ((df[field1] == 0) & (df[field2] == 1))]"
   ]
  },
  {
   "cell_type": "code",
   "execution_count": null,
   "id": "a3b470d2-6a34-4790-a080-2dfacee4d926",
   "metadata": {},
   "outputs": [],
   "source": [
    "reco_data = pd.read_csv(parent + '/data/dual_coding/' + 'dual_coding.csv')\n",
    "study_data = pd.read_csv(parent + '/data/final_dataset/' + 'analysis_df.csv')"
   ]
  },
  {
   "cell_type": "code",
   "execution_count": null,
   "id": "f672a34d-168b-4dfb-9fa4-ce1c80bd8cad",
   "metadata": {},
   "outputs": [],
   "source": [
    "#These were all the trials that were assigned for dual coding and were excluded. Uncomment to view.\n",
    "#We will exclude these from the rest of the analysis\n",
    "\n",
    "#reco_data[reco_data.euctr_res_nd.isna()]"
   ]
  },
  {
   "cell_type": "code",
   "execution_count": null,
   "id": "b03a837b-33a0-4db3-ad06-e3816af45c6e",
   "metadata": {},
   "outputs": [],
   "source": [
    "#Combining the reconcilliation data with the final data\n",
    "\n",
    "df = reco_data[reco_data.euctr_res_nd.notnull()].merge(study_data[['euctr_id', 'euctr_results', 'nct_id', 'isrctn_id', 'journal_results_inc']], how='left', left_on='trial_id', right_on='euctr_id').reset_index(drop=True)"
   ]
  },
  {
   "cell_type": "code",
   "execution_count": null,
   "id": "f13aa998-f8a2-40ec-a5c4-167457b6d2d5",
   "metadata": {},
   "outputs": [],
   "source": [
    "#The denominators here are out of 239 after exclusions. \n",
    "len(df)"
   ]
  },
  {
   "cell_type": "code",
   "execution_count": null,
   "id": "c53cebf2-7c83-42bc-ad16-1bd2380ffc8b",
   "metadata": {},
   "outputs": [],
   "source": [
    "df.columns"
   ]
  },
  {
   "cell_type": "code",
   "execution_count": null,
   "id": "e1920ac1-9059-452b-ab8e-f1f9b74b77c6",
   "metadata": {},
   "outputs": [],
   "source": [
    "#Did we extract the same information about EUCTR results?"
   ]
  },
  {
   "cell_type": "code",
   "execution_count": null,
   "id": "4c3f851c-89d8-484e-a074-5c009f2e1689",
   "metadata": {},
   "outputs": [],
   "source": [
    "reco_checker(df, 'euctr_res_nd', 'euctr_res_2nd')"
   ]
  },
  {
   "cell_type": "code",
   "execution_count": null,
   "id": "9f09cb7b-398d-4152-9606-dddc27fb7673",
   "metadata": {},
   "outputs": [],
   "source": [
    "#Percent Agreement\n",
    "\n",
    "1 - (len(reco_checker(df, 'euctr_res_nd', 'euctr_res_2nd'))/len(df))"
   ]
  },
  {
   "cell_type": "code",
   "execution_count": null,
   "id": "f4f7fcca-deff-4fa8-bb87-8ad200263a23",
   "metadata": {},
   "outputs": [],
   "source": [
    "#cohen's kappa\n",
    "\n",
    "cohen_kappa_score(df.euctr_res_nd, df.euctr_res_2nd)"
   ]
  },
  {
   "cell_type": "code",
   "execution_count": null,
   "id": "1653eabf-5ed7-4d32-b08d-45983c2df988",
   "metadata": {},
   "outputs": [],
   "source": [
    "#Now did we find a ClinicalTrials.gov cross registration?"
   ]
  },
  {
   "cell_type": "code",
   "execution_count": null,
   "id": "dad5e733-0582-427d-aa70-cdf94bcb53d6",
   "metadata": {},
   "outputs": [],
   "source": [
    "reco_checker(df, 'nct_nd', 'nct_2nd')[['trial_id', 'nct_nd', 'nct_2nd', 'nct_id']] "
   ]
  },
  {
   "cell_type": "code",
   "execution_count": null,
   "id": "a338aeca-0a81-4a7b-9ca1-ea6d10bdcac3",
   "metadata": {},
   "outputs": [],
   "source": [
    "1 - (len(reco_checker(df, 'nct_nd', 'nct_2nd'))/len(df))"
   ]
  },
  {
   "cell_type": "code",
   "execution_count": null,
   "id": "da141d47-90d8-425e-9225-75367fd3b0d2",
   "metadata": {},
   "outputs": [],
   "source": [
    "cohen_kappa_score(df.nct_nd, df.nct_2nd)"
   ]
  },
  {
   "cell_type": "code",
   "execution_count": null,
   "id": "96dc1661-d48b-4021-b7f6-2c4997c221c4",
   "metadata": {},
   "outputs": [],
   "source": [
    "#When we did both find a ClinicalTrials.gov registration, did we find the same one"
   ]
  },
  {
   "cell_type": "code",
   "execution_count": null,
   "id": "f3e02123-b8bb-4642-9aa0-99f858be28de",
   "metadata": {},
   "outputs": [],
   "source": [
    "df[(df.nct_nd == 1) & (df.nct_2nd == 1)].nct_match.value_counts()"
   ]
  },
  {
   "cell_type": "code",
   "execution_count": null,
   "id": "40eeb77c-14b6-4080-8b8e-43a59b52ce97",
   "metadata": {},
   "outputs": [],
   "source": [
    "158/160"
   ]
  },
  {
   "cell_type": "code",
   "execution_count": null,
   "id": "47f584fb-8e72-4129-b91c-19e7c970772a",
   "metadata": {},
   "outputs": [],
   "source": [
    "#What about finding the same ISRCTN registration"
   ]
  },
  {
   "cell_type": "code",
   "execution_count": null,
   "id": "a0a5f4a3-649c-44dc-9102-5e35a35a0c6e",
   "metadata": {
    "lines_to_next_cell": 0
   },
   "outputs": [],
   "source": [
    "reco_checker(df, 'isrctn_nd', 'isrctn_2nd')"
   ]
  },
  {
   "cell_type": "code",
   "execution_count": null,
   "id": "d9397fba-1fdb-4e97-9f04-bcee71ca5050",
   "metadata": {
    "lines_to_next_cell": 2
   },
   "outputs": [],
   "source": [
    "1 - (len(reco_checker(df, 'isrctn_nd', 'isrctn_2nd'))/len(df))"
   ]
  },
  {
   "cell_type": "code",
   "execution_count": null,
   "id": "473317fb-56ef-4cde-8a9b-2a4d81b74448",
   "metadata": {
    "lines_to_next_cell": 2
   },
   "outputs": [],
   "source": [
    "cohen_kappa_score(df.isrctn_nd, df.isrctn_2nd)"
   ]
  },
  {
   "cell_type": "code",
   "execution_count": null,
   "id": "80c94ea2-8b92-4ea5-9c5f-46a22f44cc2f",
   "metadata": {},
   "outputs": [],
   "source": [
    "#Now for publications"
   ]
  },
  {
   "cell_type": "code",
   "execution_count": null,
   "id": "7152d0fc-67a7-4390-b493-d76d83a55ab7",
   "metadata": {},
   "outputs": [],
   "source": [
    "reco_checker(df, 'pub_nd', 'pub_2nd')"
   ]
  },
  {
   "cell_type": "code",
   "execution_count": null,
   "id": "b8f75ccf-5397-4053-a070-f4f7bcfb301b",
   "metadata": {},
   "outputs": [],
   "source": [
    "1 - (len(reco_checker(df, 'pub_nd', 'pub_2nd'))/len(df))"
   ]
  },
  {
   "cell_type": "code",
   "execution_count": null,
   "id": "7618b00f-7b1c-4e4b-891b-7919d53e7da8",
   "metadata": {},
   "outputs": [],
   "source": [
    "cohen_kappa_score(df.pub_nd, df.pub_2nd)"
   ]
  },
  {
   "cell_type": "code",
   "execution_count": null,
   "id": "dd672783-744d-4112-9c24-ab979465c42e",
   "metadata": {},
   "outputs": [],
   "source": [
    "#Did we find the same publication?"
   ]
  },
  {
   "cell_type": "code",
   "execution_count": null,
   "id": "33586e9f-336a-44f9-8705-ccf94764da3d",
   "metadata": {},
   "outputs": [],
   "source": [
    "df[(df.pub_nd == 1) & (df.pub_2nd == 1)].pub_match.value_counts()"
   ]
  },
  {
   "cell_type": "code",
   "execution_count": null,
   "id": "2981ebc4-c722-4f3c-a7f9-606e92d2829c",
   "metadata": {},
   "outputs": [],
   "source": [
    "98/110"
   ]
  },
  {
   "cell_type": "code",
   "execution_count": null,
   "id": "62140c1b-1cc0-40f5-b117-d1b2bdaf71b2",
   "metadata": {},
   "outputs": [],
   "source": [
    "#When we both found the same pub, did the extracted publication date match"
   ]
  },
  {
   "cell_type": "code",
   "execution_count": null,
   "id": "9519c94e-56db-47a6-99f0-486973a1c14a",
   "metadata": {},
   "outputs": [],
   "source": [
    "df[(df.pub_match == 1)].pub_date_match.value_counts()"
   ]
  },
  {
   "cell_type": "code",
   "execution_count": null,
   "id": "cc9f27d8-b387-4659-bbdc-2fb178eac11b",
   "metadata": {},
   "outputs": [],
   "source": [
    "67/98"
   ]
  },
  {
   "cell_type": "code",
   "execution_count": null,
   "id": "c6a035ab-76a2-4f1e-b7f8-b817ccfb470d",
   "metadata": {},
   "outputs": [],
   "source": [
    "#When we both found the same pub, did the extracted trial ID match"
   ]
  },
  {
   "cell_type": "code",
   "execution_count": null,
   "id": "767efade-5ac9-480e-b3d6-42f7fb27c817",
   "metadata": {},
   "outputs": [],
   "source": [
    "df[(df.pub_match == 1)].pub_reg_match.value_counts()"
   ]
  },
  {
   "cell_type": "code",
   "execution_count": null,
   "id": "b3c8c1ed-aa15-4a3a-b63f-ea9fcb04f895",
   "metadata": {
    "lines_to_next_cell": 0
   },
   "outputs": [],
   "source": [
    "86/(12+86)"
   ]
  },
  {
   "cell_type": "code",
   "execution_count": null,
   "id": "d3e445e2-19d9-49b7-9c19-80a01d798f1f",
   "metadata": {},
   "outputs": [],
   "source": []
  },
  {
   "cell_type": "code",
   "execution_count": null,
   "id": "fb1f6bea",
   "metadata": {},
   "outputs": [],
   "source": []
  }
 ],
 "metadata": {
  "jupytext": {
   "cell_metadata_filter": "all",
   "notebook_metadata_filter": "all,-language_info"
  },
  "kernelspec": {
   "display_name": "Python 3",
   "language": "python",
   "name": "python3"
  },
  "language_info": {
   "codemirror_mode": {
    "name": "ipython",
    "version": 3
   },
   "file_extension": ".py",
   "mimetype": "text/x-python",
   "name": "python",
   "nbconvert_exporter": "python",
   "pygments_lexer": "ipython3",
   "version": "3.8.1"
  }
 },
 "nbformat": 4,
 "nbformat_minor": 5
}
