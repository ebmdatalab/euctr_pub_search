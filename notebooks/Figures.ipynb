{
 "cells": [
  {
   "cell_type": "code",
   "execution_count": null,
   "metadata": {},
   "outputs": [],
   "source": [
    "import schemdraw\n",
    "from schemdraw import flow"
   ]
  },
  {
   "cell_type": "code",
   "execution_count": null,
   "metadata": {},
   "outputs": [],
   "source": [
    "with schemdraw.Drawing() as d:\n",
    "    d += flow.Box(w=10, h=1.5).label('Registered Trials on the EUCTR\\n(N=38,566)')\n",
    "    d += flow.Arrow('down', l=4).at((5,-.75))\n",
    "    d += flow.Arrow('right').at((5,-2.75))\n",
    "    d += flow.Box(w=6, h=2).label('Not Authorised \\n(n=20)\\nMissing Date Info\\n(n=729)')\n",
    "    d += flow.Box(w=5, h=1).label('n=37,817').at((2.5,-5.2))\n",
    "    d += flow.Line('down', l=1).at((5, -5.7))\n",
    "    d += flow.Arrow(l=3).theta(-45).at((5,-6.7))\n",
    "    d += flow.Box(w=6, h=2).label('Inferred Completion Date\\n(n=16,051)').at((5.8,-8.8))\n",
    "    d += flow.Arrow(l=3).theta(225).at((5,-6.7))\n",
    "    d += flow.Box(w=6, h=2).label('Extracted Completion Date\\n(n=21,766)').at((4.2,-8.8))\n",
    "    d += flow.Line('down', l=2).at((1.3, -10.8))\n",
    "    d += flow.Arrow('left', l=1)\n",
    "    d += flow.Box(w=5.5, h=1.5).label('Completed <24 Months\\n(n=2,548)')\n",
    "    d += flow.Line('down', l=2).at((9, -10.8))\n",
    "    d += flow.Arrow('right', l=1)\n",
    "    d += flow.Box(w=5.5, h=1.5).label('Completed <24 Months\\n(n=7,992)')\n",
    "    \n",
    "    d += flow.Arrow('left', l=1).at((1.3, -15))\n",
    "    d += flow.Box(w=5.5, h=1.5).label('Not Sampled\\n(n=19,071)')\n",
    "    d += flow.Arrow('down', l=1).at((-2.5, -15.8))\n",
    "    \n",
    "    d += flow.Arrow('right', l=1).at((9, -15))\n",
    "    d += flow.Box(w=5.5, h=1.5).label('Not Sampled\\n(n=7,706)')\n",
    "    d += flow.Arrow('down', l=1).at((12.8, -15.8))\n",
    "    \n",
    "    d += flow.Line('down', l=4).at((9, -12.8))\n",
    "    d += flow.Box(w=4.5, h=1.5).label('Inferred Included\\n(n=353)')\n",
    "    d += flow.Line('down', l=4).at((1.3, -12.8))\n",
    "    d += flow.Box(w=4.5, h=1.5).label('Extracted Included\\n(n=147)')\n",
    "    \n",
    "    #Extracted Replaced\n",
    "    d += flow.Arrow('left', l=1).at((-1, -17.2))\n",
    "    d += flow.Arrow('right', l=1).at((-2, -18))\n",
    "    d += flow.Box(w=3, h=1.5).label('Replaced\\n(n=14)').at((-5, -17.55))\n",
    "    \n",
    "    #Inferred Replaced\n",
    "    d += flow.Arrow('right', l=1).at((11.3, -17.2))\n",
    "    d += flow.Arrow('left', l=1).at((12.3, -18))\n",
    "    d += flow.Box(w=3, h=1.5).label('Replaced\\n(n=5)').at((15.3, -17.55))\n",
    "    \n",
    "    #Final\n",
    "    d += flow.Arrow(l=3).theta(-45).at((1.3,-18.3))\n",
    "    d += flow.Arrow(l=3).theta(225).at((9,-18.3))\n",
    "    d += flow.Box(w=5, h=1.5).label('Final Sample\\n(n=500)').at((7.7,-20.5))"
   ]
  },
  {
   "cell_type": "code",
   "execution_count": null,
   "metadata": {},
   "outputs": [],
   "source": []
  },
  {
   "cell_type": "code",
   "execution_count": null,
   "metadata": {},
   "outputs": [],
   "source": []
  }
 ],
 "metadata": {
  "jupytext": {
   "cell_metadata_filter": "all",
   "notebook_metadata_filter": "all,-language_info"
  },
  "kernelspec": {
   "display_name": "Python 3",
   "language": "python",
   "name": "python3"
  },
  "language_info": {
   "codemirror_mode": {
    "name": "ipython",
    "version": 3
   },
   "file_extension": ".py",
   "mimetype": "text/x-python",
   "name": "python",
   "nbconvert_exporter": "python",
   "pygments_lexer": "ipython3",
   "version": "3.8.1"
  }
 },
 "nbformat": 4,
 "nbformat_minor": 4
}
