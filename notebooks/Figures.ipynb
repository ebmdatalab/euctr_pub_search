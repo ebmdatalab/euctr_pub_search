{
 "cells": [
  {
   "cell_type": "code",
   "execution_count": null,
   "metadata": {},
   "outputs": [],
   "source": [
    "import sys\n",
    "from pathlib import Path\n",
    "import os\n",
    "cwd = os.getcwd()\n",
    "parent = str(Path(cwd).parents[0])\n",
    "sys.path.append(parent)"
   ]
  },
  {
   "cell_type": "code",
   "execution_count": null,
   "metadata": {},
   "outputs": [],
   "source": [
    "import schemdraw\n",
    "from schemdraw import flow\n",
    "import matplotlib.pyplot as plt"
   ]
  },
  {
   "cell_type": "markdown",
   "metadata": {},
   "source": [
    "Flowchart describing the processs to get from raw data to our sample for analysis. Numbers are from a dictionary called `flowchart_dict` in the `Data Processing and Handling` notebook and the 'Analysis Prep' of the `Analysis` notebook."
   ]
  },
  {
   "cell_type": "code",
   "execution_count": null,
   "metadata": {
    "lines_to_next_cell": 0
   },
   "outputs": [],
   "source": [
    "with schemdraw.Drawing() as d:\n",
    "    d += flow.Box(w=10, h=1.5).label('Registered Trials on the EUCTR\\n(N=38,566)')\n",
    "    d += flow.Arrow('down', l=4).at((5,-.75))\n",
    "    d += flow.Arrow('right').at((5,-2.75))\n",
    "    d += flow.Box(w=6, h=2).label('Not Authorised \\n(n=20)\\nMissing Date Info\\n(n=729)')\n",
    "    d += flow.Box(w=5, h=1).label('n=37,817').at((2.5,-5.2))\n",
    "    d += flow.Line('down', l=1).at((5, -5.7))\n",
    "    d += flow.Arrow(l=3).theta(-45).at((5,-6.7))\n",
    "    d += flow.Box(w=6, h=2).label('Inferred Completion Date\\n(n=16,051)').at((5.8,-8.8))\n",
    "    d += flow.Arrow(l=3).theta(225).at((5,-6.7))\n",
    "    d += flow.Box(w=6, h=2).label('Extracted Completion Date\\n(n=21,766)').at((4.2,-8.8))\n",
    "    d += flow.Line('down', l=2).at((1.3, -10.8))\n",
    "    d += flow.Arrow('left', l=1)\n",
    "    d += flow.Box(w=5.5, h=1.5).label('Completed <24 Months\\n(n=2,584)')\n",
    "    d += flow.Line('down', l=2).at((9, -10.8))\n",
    "    d += flow.Arrow('right', l=1)\n",
    "    d += flow.Box(w=5.5, h=1.5).label('Completed <24 Months\\n(n=7,992)')\n",
    "    \n",
    "    d += flow.Arrow('left', l=1).at((1.3, -16))\n",
    "    d += flow.Box(w=5.5, h=3).label('Not Sampled\\n(n=18,815)\\n\\nReplaced\\n(n=14)')\n",
    "    \n",
    "    d += flow.Arrow('right', l=1).at((9, -16))\n",
    "    d += flow.Box(w=5.5, h=3).label('Not Sampled\\n(n=7,906)\\n\\nReplaced\\n(n=6)')\n",
    "    \n",
    "    d += flow.Arrow('down', l=6).at((9, -12.8))\n",
    "    d += flow.Box(w=4.5, h=1.5).label('Inferred Included\\n(n=147)')\n",
    "    d += flow.Arrow('down', l=6).at((1.3, -12.8))\n",
    "    d += flow.Box(w=4.5, h=1.5).label('Extracted Included\\n(n=353)')\n",
    "    \n",
    "    #Final\n",
    "    d += flow.Arrow(l=3).theta(-45).at((1.3,-20.3))\n",
    "    d += flow.Arrow(l=3).theta(225).at((9,-20.3))\n",
    "    d += flow.Box(w=5, h=1.5).label('Final Sample\\n(n=500)').at((7.7,-22.5))\n",
    "\n",
    "#d.save(parent + '/data/Figures/flowchart.jpg')"
   ]
  },
  {
   "cell_type": "markdown",
   "metadata": {},
   "source": [
    "# Upset Plot"
   ]
  },
  {
   "cell_type": "code",
   "execution_count": null,
   "metadata": {},
   "outputs": [],
   "source": [
    "from upsetplot import from_indicators, plot\n",
    "import pandas as pd"
   ]
  },
  {
   "cell_type": "code",
   "execution_count": null,
   "metadata": {},
   "outputs": [],
   "source": [
    "upset_df = pd.read_csv(parent + '/data/graphing_data/upset_data.csv').drop('Unnamed: 0', axis=1)\n",
    "upset_df.columns = ['EUCTR', 'ClinicalTrials.gov', 'ISRCTN', 'Journal Publication']\n",
    "\n",
    "upset_df = upset_df.replace(1,True)\n",
    "upset_df = upset_df.replace(0,False)"
   ]
  },
  {
   "cell_type": "code",
   "execution_count": null,
   "metadata": {},
   "outputs": [],
   "source": [
    "fig = plt.figure(figsize=(12, 7), dpi=300)\n",
    "plot(from_indicators([\"EUCTR\", \"ClinicalTrials.gov\", \"ISRCTN\", \"Journal Publication\"],\n",
    "                      data=upset_df), \n",
    "     sort_by='degree', \n",
    "     show_counts=True, \n",
    "     fig=fig, \n",
    "     element_size=None, \n",
    "     totals_plot_elements=3,\n",
    "     include_empty_subsets=True\n",
    "    )\n",
    "\n",
    "plt.show()\n",
    "\n",
    "#fig.savefig(parent + '/data/Figures/upset_chart.jpg')"
   ]
  },
  {
   "cell_type": "markdown",
   "metadata": {},
   "source": [
    "# Start Year Graphs"
   ]
  },
  {
   "cell_type": "code",
   "execution_count": null,
   "metadata": {},
   "outputs": [],
   "source": [
    "from matplotlib.patches import Patch\n",
    "import numpy as np"
   ]
  },
  {
   "cell_type": "code",
   "execution_count": null,
   "metadata": {},
   "outputs": [],
   "source": [
    "graphing_df = pd.read_csv(parent + '/data/graphing_data/start_year_data.csv')\n",
    "\n",
    "data = graphing_df[graphing_df.any_results_inc == 0][['Trial Start Year']]"
   ]
  },
  {
   "cell_type": "code",
   "execution_count": null,
   "metadata": {
    "lines_to_next_cell": 0
   },
   "outputs": [],
   "source": [
    "fig = plt.figure(figsize=(10, 6), dpi=200)\n",
    "\n",
    "bins = list(range(int(data.min()[0]),int(data.max()[0]+2)))\n",
    "\n",
    "#Graph 1\n",
    "ax1 = plt.subplot(211)\n",
    "\n",
    "data1 = graphing_df[graphing_df.any_results_inc == 0][['Trial Start Year']]\n",
    "bins1 = list(range(int(data.min()[0]),int(data.max()[0]+2)))\n",
    "\n",
    "ax1.hist(graphing_df['Trial Start Year'], bins1, align='left', histtype='stepfilled', color='#ff7f0e', alpha=.3)\n",
    "\n",
    "ax1.hist(data1, bins1, align='left', color='#1f77b4', rwidth=.98)\n",
    "\n",
    "ax1.set_axisbelow(True)\n",
    "ax1.grid(axis='y')\n",
    "ax1.set_xticks(bins)\n",
    "ax1.set_yticks(range(0,61,10))\n",
    "plt.title('a. Distribution of Fully Unreported Trials by Start Year')\n",
    "\n",
    "#Graph 2\n",
    "ax2 = plt.subplot(212)\n",
    "\n",
    "#Making first bin anything from 2004 or earlier because 1 trial is from 1999\n",
    "data2 = np.clip(graphing_df[graphing_df.euctr_results_inc == 0][['Trial Start Year']], 2004, 2020)\n",
    "bins2 = list(range(2004,2020))\n",
    "\n",
    "names = []\n",
    "for b in bins:\n",
    "    if b == 2004:\n",
    "        names.append('≤2004')\n",
    "    else:\n",
    "        names.append(str(b))\n",
    "\n",
    "ax2.hist(graphing_df['Trial Start Year'], bins1, align='left', histtype='stepfilled', color='#ff7f0e', alpha=.3)\n",
    "        \n",
    "ax2.hist(data2, bins2, align='left', color='#1f77b4', rwidth=.98)\n",
    "\n",
    "ax2.set_axisbelow(True)\n",
    "ax2.grid(axis='y')\n",
    "ax2.set_xticks(bins)\n",
    "ax2.set_xticklabels(names)\n",
    "ax2.set_yticks(range(0,61,10))\n",
    "plt.title('b. Distribution of Unreported EUCTR Results by Start Year')\n",
    "\n",
    "legend_elements = [Patch(facecolor='#1f77b4',label='Unreported Trials'), \n",
    "                   Patch(facecolor='#ff7f0e',label='All Trials', alpha=.3)]\n",
    "\n",
    "fig.legend(handles=legend_elements, loc=1, bbox_to_anchor=(.985,.95))\n",
    "\n",
    "plt.tight_layout()\n",
    "plt.subplots_adjust(hspace=.3)\n",
    "plt.show()\n",
    "\n",
    "#fig.savefig(parent + '/data/Figures/start_year_results.jpg')"
   ]
  },
  {
   "cell_type": "code",
   "execution_count": null,
   "metadata": {},
   "outputs": [],
   "source": []
  },
  {
   "cell_type": "code",
   "execution_count": null,
   "metadata": {},
   "outputs": [],
   "source": []
  },
  {
   "cell_type": "code",
   "execution_count": null,
   "metadata": {},
   "outputs": [],
   "source": []
  }
 ],
 "metadata": {
  "jupytext": {
   "cell_metadata_filter": "all",
   "notebook_metadata_filter": "all,-language_info"
  },
  "kernelspec": {
   "display_name": "Python 3",
   "language": "python",
   "name": "python3"
  },
  "language_info": {
   "codemirror_mode": {
    "name": "ipython",
    "version": 3
   },
   "file_extension": ".py",
   "mimetype": "text/x-python",
   "name": "python",
   "nbconvert_exporter": "python",
   "pygments_lexer": "ipython3",
   "version": "3.8.1"
  }
 },
 "nbformat": 4,
 "nbformat_minor": 4
}
