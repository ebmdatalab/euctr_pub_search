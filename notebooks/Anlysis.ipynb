{
 "cells": [
  {
   "cell_type": "code",
   "execution_count": 1,
   "id": "d1dcc1dc-aeb9-467e-913c-4be9b3493b5a",
   "metadata": {},
   "outputs": [],
   "source": [
    "import pandas as pd\n",
    "import numpy as np\n",
    "from statsmodels.stats.proportion import proportions_ztest, proportions_chisquare\n",
    "import statsmodels.api as sm\n",
    "from scipy.stats import median_test\n",
    "import matplotlib.pyplot as plt"
   ]
  },
  {
   "cell_type": "code",
   "execution_count": 2,
   "id": "134c4710-3c9f-40b6-bc43-90f05c16fe0d",
   "metadata": {},
   "outputs": [],
   "source": [
    "import sys\n",
    "from pathlib import Path\n",
    "import os\n",
    "cwd = os.getcwd()\n",
    "parent = str(Path(cwd).parents[0])\n",
    "sys.path.append(parent)"
   ]
  },
  {
   "cell_type": "code",
   "execution_count": 3,
   "id": "18321fb3-ba06-4ec5-80c8-76fd36a17e94",
   "metadata": {},
   "outputs": [],
   "source": [
    "#importing custom functions for analysis\n",
    "\n",
    "from lib.functions import ci_calc, z_test, summarizer, check_dupes, simple_logistic_regression, crosstab\n",
    "\n",
    "#ci_calc will compute a simple confidence interval around a proportion\n",
    "#summarizer returns a nice output of proportions and CIs\n",
    "#check_dupes helps with the date analysis\n",
    "#simple_logicstic_regression and crosstab do what they say on the tin"
   ]
  },
  {
   "cell_type": "markdown",
   "id": "9a685636-9caf-43a1-b6e1-7bdd25c78ed7",
   "metadata": {},
   "source": [
    "# Data Loading and Setup"
   ]
  },
  {
   "cell_type": "code",
   "execution_count": 4,
   "id": "f6855f03-24d2-4070-90db-cc543ad781b7",
   "metadata": {
    "lines_to_next_cell": 0
   },
   "outputs": [],
   "source": [
    "#Loading in all the data and creating the analysis dataset.\n",
    "\n",
    "#Primary dataset with dates turned into dates\n",
    "df = pd.read_csv(parent + '/data/final_dataset/final_dataset.csv')\n",
    "df['euctr_results_date'] = pd.to_datetime(df['euctr_results_date'])\n",
    "df['ctgov_results_date'] = pd.to_datetime(df['ctgov_results_date'])\n",
    "df['isrctn_results_date'] = pd.to_datetime(df['isrctn_results_date'])\n",
    "df['journal_pub_date'] = pd.to_datetime(df['journal_pub_date'])\n",
    "\n",
    "#Manually collected sponsor data for regression\n",
    "regression = pd.read_csv(parent + '/data/additional_data/manual_reg_data.csv')\n",
    "\n",
    "#Regression data derived from the EUCTR\n",
    "other_reg_data = pd.read_csv(parent + '/data/additional_data/spon_country_data.csv')\n",
    "\n",
    "#the original sample (and replacements) for data on inferred dates\n",
    "sample = pd.read_csv(parent + '/data/samples/euctr_search_sample_final.csv')\n",
    "replacements  = pd.read_csv(parent + '/data/samples/replacement_sample.csv')\n",
    "full_sample = pd.concat([sample,replacements])\n",
    "\n",
    "#the results section scrape and making one column we need into dates\n",
    "dec_results = pd.read_csv(parent + '/data/source_data/' + 'euctr_data_quality_results_scrape_dec_2020.csv.zip')\n",
    "dec_results['first_version_date'] = pd.to_datetime(dec_results.first_version_date)"
   ]
  },
  {
   "cell_type": "code",
   "execution_count": 5,
   "id": "b431c001-f80b-4217-88cc-54069f69115c",
   "metadata": {},
   "outputs": [],
   "source": [
    "#Setting search reference dates\n",
    "search_start_date = pd.to_datetime('2020-12-11')\n",
    "primary_search_completion_date = pd.to_datetime('2021-07-22')\n",
    "last_search_any = pd.to_datetime('2023-08-16')"
   ]
  },
  {
   "cell_type": "markdown",
   "id": "5e6f6281-006f-43d1-a303-e5d3c6b9d00a",
   "metadata": {},
   "source": [
    "# Analysis Prep"
   ]
  },
  {
   "cell_type": "markdown",
   "id": "c0132325-d248-4dbc-85ac-7661ce663791",
   "metadata": {},
   "source": [
    "## Detail the exclusions and get the inferred status of the final sample"
   ]
  },
  {
   "cell_type": "code",
   "execution_count": 6,
   "id": "e5433556-9613-4ede-8409-f57ac1c3965d",
   "metadata": {},
   "outputs": [
    {
     "data": {
      "text/plain": [
       "Withdrawn             16\n",
       "Ongoing                3\n",
       "No protocol access     2\n",
       "Observational          1\n",
       "Name: replaced_reason, dtype: int64"
      ]
     },
     "execution_count": 6,
     "metadata": {},
     "output_type": "execute_result"
    }
   ],
   "source": [
    "#Number and reason for exclusions\n",
    "exclusions = df[df.replaced == 1]\n",
    "exclusions.replaced_reason.value_counts()"
   ]
  },
  {
   "cell_type": "code",
   "execution_count": 7,
   "id": "1d6aaa3f-8bc7-4da1-91e7-6eed719aa2e0",
   "metadata": {},
   "outputs": [],
   "source": [
    "sample_inferred_status = df[df.replaced.isna()][['euctr_id']].merge(full_sample[['eudract_number', 'inferred']], how='left', left_on='euctr_id', right_on='eudract_number')"
   ]
  },
  {
   "cell_type": "code",
   "execution_count": 8,
   "id": "3da3eb2d-3368-41ae-89e4-a232d05f05ca",
   "metadata": {},
   "outputs": [
    {
     "data": {
      "text/plain": [
       "0    354\n",
       "1    146\n",
       "Name: inferred, dtype: int64"
      ]
     },
     "execution_count": 8,
     "metadata": {},
     "output_type": "execute_result"
    }
   ],
   "source": [
    "#Inferred completion date status of the final sample\n",
    "sample_inferred_status.inferred.value_counts()"
   ]
  },
  {
   "cell_type": "code",
   "execution_count": 9,
   "id": "79e1deec-620f-45fc-a911-84dbc33bfed0",
   "metadata": {},
   "outputs": [],
   "source": [
    "exclusions_inferred_status = exclusions[['euctr_id']].merge(full_sample[['eudract_number', 'inferred']], how='left', left_on='euctr_id', right_on='eudract_number')"
   ]
  },
  {
   "cell_type": "code",
   "execution_count": 10,
   "id": "d2d426c1-7dd2-4d5a-8381-1967f591198e",
   "metadata": {},
   "outputs": [
    {
     "data": {
      "text/plain": [
       "0    15\n",
       "1     7\n",
       "Name: inferred, dtype: int64"
      ]
     },
     "execution_count": 10,
     "metadata": {},
     "output_type": "execute_result"
    }
   ],
   "source": [
    "#Inferred completion date status of the trials we had to replace\n",
    "exclusions_inferred_status.inferred.value_counts()"
   ]
  },
  {
   "cell_type": "markdown",
   "id": "eb29949e-4f47-4ef2-88d3-f69c509ea4a1",
   "metadata": {},
   "source": [
    "## Setting up the analysis dataset"
   ]
  },
  {
   "cell_type": "code",
   "execution_count": 11,
   "id": "fc20954a-4f23-4127-aa9f-50aa190e9df3",
   "metadata": {},
   "outputs": [],
   "source": [
    "#For the analysis, we don't want to include these excluded trials so we will make an analyses dataframe moving forward.\n",
    "analysis_df = df[df.replaced != 1].reset_index(drop=True)\n",
    "\n",
    "#Quick check the final dataset is the length we expect\n",
    "assert(len(analysis_df) == 500)"
   ]
  },
  {
   "cell_type": "code",
   "execution_count": 12,
   "id": "734d86a4-3203-4540-b8cc-1ef135a3d626",
   "metadata": {},
   "outputs": [],
   "source": [
    "#Here we make binary variable to indicate whether recorded results were published after our cutoff. \n",
    "#Per protocol, nothing available after we began searches should be included in the final results.\n",
    "#Creating binary variables allows us to only correct for this once, rather than have to keep doing it throughout.\n",
    "\n",
    "#Included EUCTR results\n",
    "analysis_df['euctr_results_inc'] = np.where((analysis_df.euctr_results == 'Yes') & \n",
    "                                            (analysis_df.euctr_results_date <= search_start_date), 1, 0)\n",
    "\n",
    "#Included clinicaltrials.gov results\n",
    "analysis_df['ctgov_results_inc'] = np.where((analysis_df.ctgov_results == 'Yes') & \n",
    "                                            (analysis_df.ctgov_results_date <= search_start_date), 1, 0)\n",
    "\n",
    "#Included ISRCTN results\n",
    "analysis_df['isrctn_results_inc'] = np.where((analysis_df.isrctn_results == 'Yes') & \n",
    "                                            (analysis_df.isrctn_results_date <= search_start_date), 1, 0)\n",
    "\n",
    "#Included journal results\n",
    "analysis_df['journal_results_inc'] = np.where((analysis_df.journal_result == 'Yes') & \n",
    "                                            (analysis_df.journal_pub_date <= search_start_date), 1, 0)\n",
    "\n",
    "#A catch-all for any result\n",
    "analysis_df['any_results_inc'] = np.where(((analysis_df.euctr_results_inc == 1) | \n",
    "                                          (analysis_df.ctgov_results_inc == 1) | \n",
    "                                          (analysis_df.isrctn_results_inc == 1) | \n",
    "                                          (analysis_df.journal_results_inc == 1)), 1, 0)"
   ]
  },
  {
   "cell_type": "code",
   "execution_count": 13,
   "id": "f8dc6bdc-1b44-44e3-ac87-5cb4c32c893a",
   "metadata": {},
   "outputs": [],
   "source": [
    "#Exporting the analysis dataset so it can be used elsewhere.\n",
    "\n",
    "analysis_df.to_csv(parent + '/data/final_dataset/' + 'analysis_df.csv')"
   ]
  },
  {
   "cell_type": "markdown",
   "id": "20bddf00-4adc-4e8d-b99e-563256b5bb7a",
   "metadata": {
    "tags": []
   },
   "source": [
    "# Main Analysis"
   ]
  },
  {
   "cell_type": "markdown",
   "id": "9b49299d-d330-4b1b-86e6-06188c5070af",
   "metadata": {},
   "source": [
    "## Results on the EUCTR"
   ]
  },
  {
   "cell_type": "code",
   "execution_count": 16,
   "id": "eedda68b-7186-43b8-bf09-1069022240f5",
   "metadata": {},
   "outputs": [
    {
     "name": "stdout",
     "output_type": "stream",
     "text": [
      "Outcome of Interest: 266\n",
      "Total: 500\n",
      "Proportion: 53.2%\n",
      "95% CI: 48.83-57.57\n"
     ]
    },
    {
     "data": {
      "text/plain": [
       "(0.48826291729893273, 0.532, 0.5757370827010673)"
      ]
     },
     "execution_count": 16,
     "metadata": {},
     "output_type": "execute_result"
    }
   ],
   "source": [
    "euctr_results = analysis_df[(analysis_df.euctr_results_inc == 1)]\n",
    "total_found_euctr = len(euctr_results)\n",
    "summarizer(total_found_euctr, len(analysis_df))"
   ]
  },
  {
   "cell_type": "code",
   "execution_count": 17,
   "id": "573d0744-ba2f-4f24-83b5-ff8d42776ec3",
   "metadata": {
    "lines_to_next_cell": 2
   },
   "outputs": [
    {
     "data": {
      "text/plain": [
       "Tabular                        117\n",
       "CSR Synopsis                    88\n",
       "ClinicalTrials.gov Results      24\n",
       "Journal Article                  7\n",
       "Tabular and Journal Article      7\n",
       "Short Report                     6\n",
       "Tabular and CSR Synopsis         4\n",
       "Tabular and Short Report         4\n",
       "Report                           4\n",
       "Notice of no analysis            4\n",
       "Tabular and Report               1\n",
       "Name: euctr_results_format, dtype: int64"
      ]
     },
     "execution_count": 17,
     "metadata": {},
     "output_type": "execute_result"
    }
   ],
   "source": [
    "#What do these results look like?\n",
    "euctr_results.euctr_results_format.value_counts()"
   ]
  },
  {
   "cell_type": "code",
   "execution_count": 18,
   "id": "be12dbe6-cdb2-45a3-921d-bdfa6dee3d23",
   "metadata": {
    "lines_to_next_cell": 0
   },
   "outputs": [
    {
     "data": {
      "text/html": [
       "<div>\n",
       "<style scoped>\n",
       "    .dataframe tbody tr th:only-of-type {\n",
       "        vertical-align: middle;\n",
       "    }\n",
       "\n",
       "    .dataframe tbody tr th {\n",
       "        vertical-align: top;\n",
       "    }\n",
       "\n",
       "    .dataframe thead th {\n",
       "        text-align: right;\n",
       "    }\n",
       "</style>\n",
       "<table border=\"1\" class=\"dataframe\">\n",
       "  <thead>\n",
       "    <tr style=\"text-align: right;\">\n",
       "      <th></th>\n",
       "      <th>results_type</th>\n",
       "      <th>euctr_results_format</th>\n",
       "      <th>percent</th>\n",
       "      <th>ci_lower</th>\n",
       "      <th>ci_upper</th>\n",
       "    </tr>\n",
       "  </thead>\n",
       "  <tbody>\n",
       "    <tr>\n",
       "      <th>0</th>\n",
       "      <td>Tabular</td>\n",
       "      <td>117</td>\n",
       "      <td>43.98</td>\n",
       "      <td>38.02</td>\n",
       "      <td>49.95</td>\n",
       "    </tr>\n",
       "    <tr>\n",
       "      <th>1</th>\n",
       "      <td>CSR Synopsis</td>\n",
       "      <td>88</td>\n",
       "      <td>33.08</td>\n",
       "      <td>27.43</td>\n",
       "      <td>38.74</td>\n",
       "    </tr>\n",
       "    <tr>\n",
       "      <th>2</th>\n",
       "      <td>ClinicalTrials.gov Results</td>\n",
       "      <td>24</td>\n",
       "      <td>9.02</td>\n",
       "      <td>5.58</td>\n",
       "      <td>12.47</td>\n",
       "    </tr>\n",
       "    <tr>\n",
       "      <th>3</th>\n",
       "      <td>Journal Article</td>\n",
       "      <td>7</td>\n",
       "      <td>2.63</td>\n",
       "      <td>0.71</td>\n",
       "      <td>4.56</td>\n",
       "    </tr>\n",
       "    <tr>\n",
       "      <th>4</th>\n",
       "      <td>Tabular and Journal Article</td>\n",
       "      <td>7</td>\n",
       "      <td>2.63</td>\n",
       "      <td>0.71</td>\n",
       "      <td>4.56</td>\n",
       "    </tr>\n",
       "    <tr>\n",
       "      <th>5</th>\n",
       "      <td>Short Report</td>\n",
       "      <td>6</td>\n",
       "      <td>2.26</td>\n",
       "      <td>0.47</td>\n",
       "      <td>4.04</td>\n",
       "    </tr>\n",
       "    <tr>\n",
       "      <th>6</th>\n",
       "      <td>Tabular and CSR Synopsis</td>\n",
       "      <td>4</td>\n",
       "      <td>1.50</td>\n",
       "      <td>0.04</td>\n",
       "      <td>2.97</td>\n",
       "    </tr>\n",
       "    <tr>\n",
       "      <th>7</th>\n",
       "      <td>Tabular and Short Report</td>\n",
       "      <td>4</td>\n",
       "      <td>1.50</td>\n",
       "      <td>0.04</td>\n",
       "      <td>2.97</td>\n",
       "    </tr>\n",
       "    <tr>\n",
       "      <th>8</th>\n",
       "      <td>Report</td>\n",
       "      <td>4</td>\n",
       "      <td>1.50</td>\n",
       "      <td>0.04</td>\n",
       "      <td>2.97</td>\n",
       "    </tr>\n",
       "    <tr>\n",
       "      <th>9</th>\n",
       "      <td>Notice of no analysis</td>\n",
       "      <td>4</td>\n",
       "      <td>1.50</td>\n",
       "      <td>0.04</td>\n",
       "      <td>2.97</td>\n",
       "    </tr>\n",
       "    <tr>\n",
       "      <th>10</th>\n",
       "      <td>Tabular and Report</td>\n",
       "      <td>1</td>\n",
       "      <td>0.38</td>\n",
       "      <td>-0.36</td>\n",
       "      <td>1.11</td>\n",
       "    </tr>\n",
       "  </tbody>\n",
       "</table>\n",
       "</div>"
      ],
      "text/plain": [
       "                   results_type  euctr_results_format  percent  ci_lower  \\\n",
       "0                       Tabular                   117    43.98     38.02   \n",
       "1                  CSR Synopsis                    88    33.08     27.43   \n",
       "2    ClinicalTrials.gov Results                    24     9.02      5.58   \n",
       "3               Journal Article                     7     2.63      0.71   \n",
       "4   Tabular and Journal Article                     7     2.63      0.71   \n",
       "5                  Short Report                     6     2.26      0.47   \n",
       "6      Tabular and CSR Synopsis                     4     1.50      0.04   \n",
       "7      Tabular and Short Report                     4     1.50      0.04   \n",
       "8                        Report                     4     1.50      0.04   \n",
       "9         Notice of no analysis                     4     1.50      0.04   \n",
       "10           Tabular and Report                     1     0.38     -0.36   \n",
       "\n",
       "    ci_upper  \n",
       "0      49.95  \n",
       "1      38.74  \n",
       "2      12.47  \n",
       "3       4.56  \n",
       "4       4.56  \n",
       "5       4.04  \n",
       "6       2.97  \n",
       "7       2.97  \n",
       "8       2.97  \n",
       "9       2.97  \n",
       "10      1.11  "
      ]
     },
     "execution_count": 18,
     "metadata": {},
     "output_type": "execute_result"
    }
   ],
   "source": [
    "#Lets get percents and CIs for these.\n",
    "results_types = euctr_results.euctr_results_format.value_counts().to_frame()\n",
    "results_types['percent'] = round((results_types.euctr_results_format / total_found_euctr) * 100,2)\n",
    "\n",
    "#Adding CIs (i'm sure there's a more elegant way to do this with .map() or .apply() \n",
    "#but it's too much of a weird edge case to bother\n",
    "ci_lower = []\n",
    "ci_upper = []\n",
    "for x in results_types.euctr_results_format.to_list():\n",
    "    cis = ci_calc(x, total_found_euctr, printer=False)\n",
    "    ci_lower.append(round(cis[0] * 100,2))\n",
    "    ci_upper.append(round(cis[2] * 100,2))\n",
    "    \n",
    "results_types['ci_lower'] = ci_lower\n",
    "results_types['ci_upper'] = ci_upper\n",
    "\n",
    "results_types = results_types.reset_index().rename(columns={'index':'results_type'})\n",
    "results_types"
   ]
  },
  {
   "cell_type": "code",
   "execution_count": 19,
   "id": "60c13335-9ef6-4fe4-8783-31c50318a17d",
   "metadata": {},
   "outputs": [
    {
     "name": "stdout",
     "output_type": "stream",
     "text": [
      "Outcome of Interest: 117\n",
      "Total: 266\n",
      "Proportion: 43.98%\n",
      "95% CI: 38.02-49.95\n"
     ]
    },
    {
     "data": {
      "text/plain": [
       "(0.38019835583519473, 0.4398496240601504, 0.499500892285106)"
      ]
     },
     "execution_count": 19,
     "metadata": {},
     "output_type": "execute_result"
    }
   ],
   "source": [
    "#Now we want to group like with like to get our final descriptive stats to report\n",
    "\n",
    "#Total with just tabular results\n",
    "summarizer(results_types[results_types.results_type == 'Tabular'].euctr_results_format[0], total_found_euctr)"
   ]
  },
  {
   "cell_type": "code",
   "execution_count": 20,
   "id": "1b7f2b7b-bd6c-41c6-860c-d61b43b8291d",
   "metadata": {},
   "outputs": [
    {
     "name": "stdout",
     "output_type": "stream",
     "text": [
      "Outcome of Interest: 133\n",
      "Total: 266\n",
      "Proportion: 50.0%\n",
      "95% CI: 43.99-56.01\n"
     ]
    },
    {
     "data": {
      "text/plain": [
       "(0.43991234473047336, 0.5, 0.5600876552695266)"
      ]
     },
     "execution_count": 20,
     "metadata": {},
     "output_type": "execute_result"
    }
   ],
   "source": [
    "#Total with just a Document\n",
    "doc_types = ['CSR Synopsis', \n",
    "             'ClinicalTrials.gov Results', \n",
    "             'Journal Article', \n",
    "             'Short Report', \n",
    "             'Report', \n",
    "             'Notice of no analysis']\n",
    "summarizer(results_types[results_types.results_type.isin(doc_types)].euctr_results_format.sum(), total_found_euctr)"
   ]
  },
  {
   "cell_type": "code",
   "execution_count": 21,
   "id": "4c51da6c-1291-4c08-bc6c-9de5ace78348",
   "metadata": {},
   "outputs": [
    {
     "name": "stdout",
     "output_type": "stream",
     "text": [
      "CSR Synopsis\n",
      "Outcome of Interest: 88\n",
      "Total: 266\n",
      "Proportion: 33.08%\n",
      "95% CI: 27.43-38.74\n",
      "\n",
      "\n",
      "ClinicalTrials.gov Results\n",
      "Outcome of Interest: 24\n",
      "Total: 266\n",
      "Proportion: 9.02%\n",
      "95% CI: 5.58-12.47\n",
      "\n",
      "\n",
      "Journal Article\n",
      "Outcome of Interest: 7\n",
      "Total: 266\n",
      "Proportion: 2.63%\n",
      "95% CI: 0.71-4.56\n",
      "\n",
      "\n",
      "Short Report\n",
      "Outcome of Interest: 6\n",
      "Total: 266\n",
      "Proportion: 2.26%\n",
      "95% CI: 0.47-4.04\n",
      "\n",
      "\n",
      "Report\n",
      "Outcome of Interest: 4\n",
      "Total: 266\n",
      "Proportion: 1.5%\n",
      "95% CI: 0.04-2.97\n",
      "\n",
      "\n",
      "Notice of no analysis\n",
      "Outcome of Interest: 4\n",
      "Total: 266\n",
      "Proportion: 1.5%\n",
      "95% CI: 0.04-2.97\n",
      "\n",
      "\n"
     ]
    }
   ],
   "source": [
    "for doc in doc_types:\n",
    "    print(doc)\n",
    "    summarizer(results_types[results_types.results_type == doc].euctr_results_format.sum(), total_found_euctr)\n",
    "    print('\\n')"
   ]
  },
  {
   "cell_type": "code",
   "execution_count": 22,
   "id": "a56f6173-643d-4a49-ae98-1a577b66d12b",
   "metadata": {},
   "outputs": [
    {
     "name": "stdout",
     "output_type": "stream",
     "text": [
      "Proportion: 3.76%\n",
      "95% CI: 1.47-6.05\n"
     ]
    },
    {
     "data": {
      "text/plain": [
       "(0.014735175950589725, 0.03759398496240601, 0.060452793974222305)"
      ]
     },
     "execution_count": 22,
     "metadata": {},
     "output_type": "execute_result"
    }
   ],
   "source": [
    "#Reports\n",
    "\n",
    "ci_calc(10,266)"
   ]
  },
  {
   "cell_type": "code",
   "execution_count": 23,
   "id": "8672fb37-e0f5-4e9b-a06c-f00346b34c58",
   "metadata": {},
   "outputs": [
    {
     "name": "stdout",
     "output_type": "stream",
     "text": [
      "Proportion: 6.02%\n",
      "95% CI: 3.16-8.87\n"
     ]
    },
    {
     "data": {
      "text/plain": [
       "(0.03157686467507926, 0.06015037593984962, 0.08872388720461999)"
      ]
     },
     "execution_count": 23,
     "metadata": {},
     "output_type": "execute_result"
    }
   ],
   "source": [
    "#Tab and Document\n",
    "\n",
    "ci_calc(16,266)"
   ]
  },
  {
   "cell_type": "code",
   "execution_count": 24,
   "id": "af6ab811-77f1-4699-abaf-4d32f70d818b",
   "metadata": {},
   "outputs": [
    {
     "name": "stdout",
     "output_type": "stream",
     "text": [
      "Proportion: 1.88%\n",
      "95% CI: 0.25-3.51\n"
     ]
    },
    {
     "data": {
      "text/plain": [
       "(0.0024762890839276873, 0.018796992481203006, 0.03511769587847832)"
      ]
     },
     "execution_count": 24,
     "metadata": {},
     "output_type": "execute_result"
    }
   ],
   "source": [
    "#Tab and CSR and Tab and Report\n",
    "\n",
    "ci_calc(5,266)"
   ]
  },
  {
   "cell_type": "code",
   "execution_count": 25,
   "id": "7ee2c43c-68a4-4917-8f18-f56a1e3d0c53",
   "metadata": {},
   "outputs": [
    {
     "name": "stdout",
     "output_type": "stream",
     "text": [
      "Outcome of Interest: 16\n",
      "Total: 266\n",
      "Proportion: 6.02%\n",
      "95% CI: 3.16-8.87\n"
     ]
    },
    {
     "data": {
      "text/plain": [
       "(0.03157686467507926, 0.06015037593984962, 0.08872388720461999)"
      ]
     },
     "execution_count": 25,
     "metadata": {},
     "output_type": "execute_result"
    }
   ],
   "source": [
    "#Total with both Tabular and Document results\n",
    "summarizer(results_types[~results_types.results_type.isin(doc_types + ['Tabular'])].euctr_results_format.sum(), total_found_euctr)"
   ]
  },
  {
   "cell_type": "markdown",
   "id": "e61b8308-8b54-4d2f-96da-bbd54bca1f09",
   "metadata": {},
   "source": [
    "## Cross-Registration and results availability on other registries"
   ]
  },
  {
   "cell_type": "code",
   "execution_count": 26,
   "id": "fcbee30b-ac2c-4a50-bb4e-d2d04f97fa1c",
   "metadata": {},
   "outputs": [
    {
     "name": "stdout",
     "output_type": "stream",
     "text": [
      "Out of 500 trials 138 were only on the EUCTR\n",
      "Proportion: 27.6%\n",
      "95% CI: 23.68-31.52\n"
     ]
    },
    {
     "data": {
      "text/plain": [
       "(0.23681725179623056, 0.276, 0.3151827482037695)"
      ]
     },
     "execution_count": 26,
     "metadata": {},
     "output_type": "execute_result"
    }
   ],
   "source": [
    "#First we looks at unique registrations to the EUCTR\n",
    "euctr_only_reg = analysis_df[analysis_df.nct_id.isna() & analysis_df.isrctn_id.isna()]\n",
    "print(f'Out of {len(analysis_df)} trials {len(euctr_only_reg)} were only on the EUCTR')\n",
    "ci_calc(len(euctr_only_reg), len(analysis_df))"
   ]
  },
  {
   "cell_type": "code",
   "execution_count": 27,
   "id": "c70a1765-45aa-4a1b-9716-f063a194d177",
   "metadata": {},
   "outputs": [
    {
     "name": "stdout",
     "output_type": "stream",
     "text": [
      "Out of 500 trials 339 were cross-registered on ClinicalTrials.gov\n",
      "Proportion: 67.8%\n",
      "95% CI: 63.7-71.9\n"
     ]
    },
    {
     "data": {
      "text/plain": [
       "(0.6370443472619469, 0.678, 0.7189556527380532)"
      ]
     },
     "execution_count": 27,
     "metadata": {},
     "output_type": "execute_result"
    }
   ],
   "source": [
    "#Now we'll look at cross-registration on ClinicalTrials.gov\n",
    "ctg_xreg = analysis_df[analysis_df.nct_id.notnull()]\n",
    "print(f'Out of {len(analysis_df)} trials {len(ctg_xreg)} were cross-registered on ClinicalTrials.gov')\n",
    "ci_calc(len(ctg_xreg),len(analysis_df))"
   ]
  },
  {
   "cell_type": "code",
   "execution_count": 28,
   "id": "48a661fc-9534-43e0-8161-ba64d1b21c23",
   "metadata": {},
   "outputs": [
    {
     "name": "stdout",
     "output_type": "stream",
     "text": [
      "Of the 339 trials registered on ClinicalTrials.gov, 133 had results\n",
      "Proportion: 39.23%\n",
      "95% CI: 34.04-44.43\n"
     ]
    },
    {
     "data": {
      "text/plain": [
       "(0.34035281554493385, 0.39233038348082594, 0.444307951416718)"
      ]
     },
     "execution_count": 28,
     "metadata": {},
     "output_type": "execute_result"
    }
   ],
   "source": [
    "#CTG x-reg results rate\n",
    "ctg_results = ctg_xreg[(ctg_xreg.ctgov_results_inc == 1)]\n",
    "print(f'Of the {len(ctg_xreg)} trials registered on ClinicalTrials.gov, {len(ctg_results)} had results')\n",
    "ci_calc(len(ctg_results), len(ctg_xreg))"
   ]
  },
  {
   "cell_type": "code",
   "execution_count": 29,
   "id": "1f9062fa-90cb-4f73-8cf6-2130b56a3f38",
   "metadata": {},
   "outputs": [
    {
     "name": "stdout",
     "output_type": "stream",
     "text": [
      "Out of 500 trials 32 were cross-registered on the ISRCTN\n",
      "Proportion: 6.4%\n",
      "95% CI: 4.25-8.55\n"
     ]
    },
    {
     "data": {
      "text/plain": [
       "(0.042546459201334624, 0.064, 0.08545354079866538)"
      ]
     },
     "execution_count": 29,
     "metadata": {},
     "output_type": "execute_result"
    }
   ],
   "source": [
    "#Proportion cross-registered on the ISRCTN \n",
    "isrctn_xreg = analysis_df[analysis_df.isrctn_id.notnull()]\n",
    "print(f'Out of {len(analysis_df)} trials {len(isrctn_xreg)} were cross-registered on the ISRCTN')\n",
    "ci_calc(len(isrctn_xreg), len(analysis_df))"
   ]
  },
  {
   "cell_type": "code",
   "execution_count": 30,
   "id": "491a83bc-b264-4400-9b4e-65cb642dfb81",
   "metadata": {},
   "outputs": [
    {
     "name": "stdout",
     "output_type": "stream",
     "text": [
      "Of the 32 trials registered on the ISRCTN, 2 had results\n",
      "Proportion: 6.25%\n",
      "95% CI: -2.14-14.64\n"
     ]
    },
    {
     "data": {
      "text/plain": [
       "(-0.021370016617978563, 0.0625, 0.14637001661797855)"
      ]
     },
     "execution_count": 30,
     "metadata": {},
     "output_type": "execute_result"
    }
   ],
   "source": [
    "#ISRCTN x-reg results rate\n",
    "isrctn_results = isrctn_xreg[(isrctn_xreg.isrctn_results_inc == 1)]\n",
    "print(f'Of the {len(isrctn_xreg)} trials registered on the ISRCTN, {len(isrctn_results)} had results')\n",
    "ci_calc(len(isrctn_results), len(isrctn_xreg))"
   ]
  },
  {
   "cell_type": "code",
   "execution_count": 31,
   "id": "7657cd58-a053-49c5-8c5e-db64616acd68",
   "metadata": {},
   "outputs": [
    {
     "name": "stdout",
     "output_type": "stream",
     "text": [
      "9 registered on all three registires\n",
      "Proportion: 1.8%\n",
      "95% CI: 0.63-2.97\n"
     ]
    },
    {
     "data": {
      "text/plain": [
       "(0.006346320615359283, 0.018, 0.029653679384640714)"
      ]
     },
     "execution_count": 31,
     "metadata": {},
     "output_type": "execute_result"
    }
   ],
   "source": [
    "#How many trials registered on all three registries\n",
    "triple_reg = len(analysis_df[analysis_df.nct_id.notnull() & analysis_df.isrctn_id.notnull()])\n",
    "print(f'{triple_reg} registered on all three registires')\n",
    "ci_calc(triple_reg, len(analysis_df))"
   ]
  },
  {
   "cell_type": "markdown",
   "id": "dba764f8-f9c0-417b-a9a2-14406dd31c45",
   "metadata": {},
   "source": [
    "## Results in the literature"
   ]
  },
  {
   "cell_type": "code",
   "execution_count": 32,
   "id": "bd67e6aa-c261-4a08-bb1c-d7432ce28e85",
   "metadata": {},
   "outputs": [
    {
     "name": "stdout",
     "output_type": "stream",
     "text": [
      "Out of 500 trials on the EUCTR, 293 had results in the literature\n",
      "Proportion: 58.6%\n",
      "95% CI: 54.28-62.92\n"
     ]
    },
    {
     "data": {
      "text/plain": [
       "(0.5428262226253018, 0.586, 0.6291737773746982)"
      ]
     },
     "execution_count": 32,
     "metadata": {},
     "output_type": "execute_result"
    }
   ],
   "source": [
    "#How many had results in the literature\n",
    "journal_results = analysis_df[(analysis_df.journal_results_inc == 1)]\n",
    "print(f'Out of {len(analysis_df)} trials on the EUCTR, {len(journal_results)} had results in the literature')\n",
    "ci_calc(len(journal_results), len(analysis_df))"
   ]
  },
  {
   "cell_type": "code",
   "execution_count": 33,
   "id": "89aefd10-842b-4950-a9eb-17dbce1ea0ce",
   "metadata": {},
   "outputs": [
    {
     "data": {
      "text/plain": [
       "ClinicalTrials.gov                                 117\n",
       "Google Scholar                                      90\n",
       "PubMed                                              46\n",
       "EUCTR                                               28\n",
       "ISRCTN                                               7\n",
       "CSR on EUCTR and ClinicalTrials.gov                  1\n",
       "Forward citation from review on Google scholar       1\n",
       "Forward citation from ISRCTN articles                1\n",
       "Citation checked located Cochrane review             1\n",
       "Linked to in another document in Google Scholar      1\n",
       "Name: journal_source, dtype: int64"
      ]
     },
     "execution_count": 33,
     "metadata": {},
     "output_type": "execute_result"
    }
   ],
   "source": [
    "#How did we find journal results?\n",
    "\n",
    "journal_results.journal_source.value_counts()"
   ]
  },
  {
   "cell_type": "markdown",
   "id": "3d00901c-f5c1-41ab-9469-ada1af0ceeb3",
   "metadata": {},
   "source": [
    "## Summarizing results availability"
   ]
  },
  {
   "cell_type": "code",
   "execution_count": 34,
   "id": "0bb94c4d-2ec1-41f3-a0db-ce9f20ff400d",
   "metadata": {},
   "outputs": [],
   "source": [
    "#Getting lists of ids for all results types\n",
    "\n",
    "all_trial_ids = set(analysis_df.euctr_id.to_list())\n",
    "euctr_results_ids = set(euctr_results.euctr_id.to_list())\n",
    "ctg_results_ids = set(ctg_results.euctr_id.to_list())\n",
    "isrctn_results_ids = set(isrctn_results.euctr_id.to_list())\n",
    "journal_results_ids = set(journal_results.euctr_id.to_list())"
   ]
  },
  {
   "cell_type": "code",
   "execution_count": 35,
   "id": "b445f12e-09c7-4710-961e-a4746bb1d21b",
   "metadata": {},
   "outputs": [
    {
     "data": {
      "text/plain": [
       "694"
      ]
     },
     "execution_count": 35,
     "metadata": {},
     "output_type": "execute_result"
    }
   ],
   "source": [
    "#Overall, inclusive of duplicates, how many results did we locate?\n",
    "len(euctr_results_ids) + len(ctg_results_ids) + len(isrctn_results_ids) + len(journal_results_ids)"
   ]
  },
  {
   "cell_type": "code",
   "execution_count": 36,
   "id": "ba8e7c9a-20c6-47e1-b38b-04ceb2fa40a8",
   "metadata": {},
   "outputs": [
    {
     "name": "stdout",
     "output_type": "stream",
     "text": [
      "383 of 500 trials had results somewhere\n",
      "Proportion: 76.6%\n",
      "95% CI: 72.89-80.31\n"
     ]
    },
    {
     "data": {
      "text/plain": [
       "(0.7288897924985591, 0.766, 0.8031102075014409)"
      ]
     },
     "execution_count": 36,
     "metadata": {},
     "output_type": "execute_result"
    }
   ],
   "source": [
    "#How many had results anywhere?\n",
    "results_nowhere = all_trial_ids - euctr_results_ids - ctg_results_ids - isrctn_results_ids - journal_results_ids\n",
    "has_some_result = len(analysis_df) - len(results_nowhere)\n",
    "#sense check\n",
    "assert(len(results_nowhere) + has_some_result == 500)\n",
    "\n",
    "print(f'{has_some_result} of {len(analysis_df)} trials had results somewhere')\n",
    "ci_calc(has_some_result,len(analysis_df))"
   ]
  },
  {
   "cell_type": "code",
   "execution_count": 37,
   "id": "ff241e6b-7614-4a5e-8350-c3780bc2b054",
   "metadata": {},
   "outputs": [
    {
     "data": {
      "text/plain": [
       "33673"
      ]
     },
     "execution_count": 37,
     "metadata": {},
     "output_type": "execute_result"
    }
   ],
   "source": [
    "#What did enrollment look like for the trials with no results?\n",
    "#This uses enrollment numbers from the manual data we collected on enrollment\n",
    "\n",
    "no_results = analysis_df[analysis_df.euctr_id.isin(results_nowhere)].reset_index(drop=True)\n",
    "no_results[['euctr_id']].merge(regression[['Trial ID', 'Enrollment']], how='left', left_on='euctr_id', right_on='Trial ID').Enrollment.sum()"
   ]
  },
  {
   "cell_type": "markdown",
   "id": "222b88cf-25a5-4005-afce-c12279b50ffe",
   "metadata": {},
   "source": [
    "## What results were unique to each dissemination route?"
   ]
  },
  {
   "cell_type": "code",
   "execution_count": 38,
   "id": "8af35233-8fe6-4d25-9906-207d086d93bb",
   "metadata": {},
   "outputs": [
    {
     "name": "stdout",
     "output_type": "stream",
     "text": [
      "55 trials had results on just the EUCTR\n",
      "Outcome of Interest: 55\n",
      "Total: 383\n",
      "Proportion: 14.36%\n",
      "95% CI: 10.85-17.87\n"
     ]
    },
    {
     "data": {
      "text/plain": [
       "(0.10848138075064588, 0.14360313315926893, 0.17872488556789196)"
      ]
     },
     "execution_count": 38,
     "metadata": {},
     "output_type": "execute_result"
    }
   ],
   "source": [
    "#How many had results on just the EUCTR?\n",
    "just_euctr = len(euctr_results_ids - ctg_results_ids - isrctn_results_ids - journal_results_ids)\n",
    "print(f'{just_euctr} trials had results on just the EUCTR')\n",
    "summarizer(just_euctr, has_some_result)"
   ]
  },
  {
   "cell_type": "code",
   "execution_count": 39,
   "id": "5e50bb2c-2f01-4bc1-b0b6-2c10006bc992",
   "metadata": {},
   "outputs": [
    {
     "data": {
      "text/plain": [
       "CSR Synopsis                30\n",
       "Tabular                     15\n",
       "Short Report                 3\n",
       "Notice of no analysis        3\n",
       "Tabular and CSR Synopsis     2\n",
       "Tabular and Report           1\n",
       "Report                       1\n",
       "Name: euctr_results_format, dtype: int64"
      ]
     },
     "execution_count": 39,
     "metadata": {},
     "output_type": "execute_result"
    }
   ],
   "source": [
    "#What did the distribution of documents look like for unique results\n",
    "\n",
    "just_euctr_ids = euctr_results_ids - ctg_results_ids - isrctn_results_ids - journal_results_ids\n",
    "euctr_results[euctr_results.euctr_id.isin(just_euctr_ids)].euctr_results_format.value_counts()"
   ]
  },
  {
   "cell_type": "code",
   "execution_count": 40,
   "id": "24841fd9-8d32-4625-b0ab-8e3de32e6a13",
   "metadata": {},
   "outputs": [
    {
     "data": {
      "text/plain": [
       "55"
      ]
     },
     "execution_count": 40,
     "metadata": {},
     "output_type": "execute_result"
    }
   ],
   "source": [
    "euctr_results[euctr_results.euctr_id.isin(just_euctr_ids)].euctr_results_format.value_counts().sum()"
   ]
  },
  {
   "cell_type": "code",
   "execution_count": 41,
   "id": "2b65fb1b-67e6-4bc5-a7a4-683f2c832b5d",
   "metadata": {
    "tags": []
   },
   "outputs": [
    {
     "name": "stdout",
     "output_type": "stream",
     "text": [
      "Outcome of Interest: 1\n",
      "Total: 55\n",
      "Proportion: 1.82%\n",
      "95% CI: -1.71-5.35\n"
     ]
    },
    {
     "data": {
      "text/plain": [
       "(-0.017129092394234546, 0.01818181818181818, 0.05349272875787091)"
      ]
     },
     "execution_count": 41,
     "metadata": {},
     "output_type": "execute_result"
    }
   ],
   "source": [
    "# Values for appendix table\n",
    "\n",
    "summarizer(1,55)"
   ]
  },
  {
   "cell_type": "code",
   "execution_count": 42,
   "id": "4f1e3b4e-a4fc-4314-81d6-de45807b7ad1",
   "metadata": {},
   "outputs": [
    {
     "name": "stdout",
     "output_type": "stream",
     "text": [
      "3 trials had results on just ClinicalTrials.gov\n",
      "Outcome of Interest: 3\n",
      "Total: 383\n",
      "Proportion: 0.78%\n",
      "95% CI: -0.1-1.67\n"
     ]
    },
    {
     "data": {
      "text/plain": [
       "(-0.0009960778236745831, 0.007832898172323759, 0.0166618741683221)"
      ]
     },
     "execution_count": 42,
     "metadata": {},
     "output_type": "execute_result"
    }
   ],
   "source": [
    "#How many had results on just on ClinicalTrials.gov?\n",
    "just_ctg = len(ctg_results_ids - euctr_results_ids - isrctn_results_ids - journal_results_ids)\n",
    "print(f'{just_ctg} trials had results on just ClinicalTrials.gov')\n",
    "summarizer(just_ctg,has_some_result)"
   ]
  },
  {
   "cell_type": "code",
   "execution_count": 43,
   "id": "7ca142e4-b224-4414-b1b6-206ea9fb3704",
   "metadata": {},
   "outputs": [
    {
     "name": "stdout",
     "output_type": "stream",
     "text": [
      "0 trials had results on just the ISRCTN\n"
     ]
    }
   ],
   "source": [
    "#How many had results on just on the ISRCTN?\n",
    "just_isrctn = len(isrctn_results_ids - euctr_results_ids - ctg_results_ids - journal_results_ids)\n",
    "print(f'{just_isrctn} trials had results on just the ISRCTN')"
   ]
  },
  {
   "cell_type": "code",
   "execution_count": 44,
   "id": "21d3545f-2bb0-4bfa-b86f-86ea00ac8f18",
   "metadata": {},
   "outputs": [
    {
     "name": "stdout",
     "output_type": "stream",
     "text": [
      "108 trials had results only in a journal publication\n",
      "Outcome of Interest: 108\n",
      "Total: 383\n",
      "Proportion: 28.2%\n",
      "95% CI: 23.69-32.7\n"
     ]
    },
    {
     "data": {
      "text/plain": [
       "(0.23691967043954865, 0.2819843342036554, 0.3270489979677621)"
      ]
     },
     "execution_count": 44,
     "metadata": {},
     "output_type": "execute_result"
    }
   ],
   "source": [
    "#How many had results just in the literature?\n",
    "just_pub = len(journal_results_ids - euctr_results_ids - ctg_results_ids - isrctn_results_ids)\n",
    "print(f'{just_pub} trials had results only in a journal publication')\n",
    "summarizer(just_pub,has_some_result)"
   ]
  },
  {
   "cell_type": "code",
   "execution_count": 45,
   "id": "b8d18d9a-a662-4243-8537-f8ad706799f2",
   "metadata": {},
   "outputs": [
    {
     "name": "stdout",
     "output_type": "stream",
     "text": [
      "117 trials without EUCTR results had results somewhere else\n",
      "Proportion: 23.4%\n",
      "95% CI: 19.69-27.11\n"
     ]
    },
    {
     "data": {
      "text/plain": [
       "(0.19688979249855912, 0.234, 0.2711102075014409)"
      ]
     },
     "execution_count": 45,
     "metadata": {},
     "output_type": "execute_result"
    }
   ],
   "source": [
    "#How many have no results on the EUCTR but results anywhere else?\n",
    "not_euctr = analysis_df[(analysis_df.euctr_results_inc == 0) & ((analysis_df.ctgov_results_inc == 1) | \n",
    "                                                               (analysis_df.isrctn_results_inc == 1) | \n",
    "                                                               (analysis_df.journal_results_inc == 1))]\n",
    "print(f'{len(not_euctr)} trials without EUCTR results had results somewhere else')\n",
    "ci_calc(len(not_euctr), len(analysis_df))"
   ]
  },
  {
   "cell_type": "code",
   "execution_count": 46,
   "id": "e71069c4-9f41-4cc7-9068-964c5dad0e74",
   "metadata": {},
   "outputs": [
    {
     "name": "stdout",
     "output_type": "stream",
     "text": [
      "117 trials had no results located\n",
      "Proportion: 23.4%\n",
      "95% CI: 19.69-27.11\n"
     ]
    },
    {
     "data": {
      "text/plain": [
       "(0.19688979249855912, 0.234, 0.2711102075014409)"
      ]
     },
     "execution_count": 46,
     "metadata": {},
     "output_type": "execute_result"
    }
   ],
   "source": [
    "#How many had results nowhere?\n",
    "print(f'{len(results_nowhere)} trials had no results located')\n",
    "ci_calc(len(results_nowhere), len(analysis_df))"
   ]
  },
  {
   "cell_type": "code",
   "execution_count": 201,
   "id": "292b9e27-3d43-4b6b-952c-cf703e2b90f0",
   "metadata": {},
   "outputs": [
    {
     "name": "stdout",
     "output_type": "stream",
     "text": [
      "328 had a result outside the EUCTR\n",
      "Proportion: 65.6%\n",
      "95% CI: 61.44-69.76\n"
     ]
    },
    {
     "data": {
      "text/plain": [
       "(0.6143608159926255, 0.656, 0.6976391840073746)"
      ]
     },
     "execution_count": 201,
     "metadata": {},
     "output_type": "execute_result"
    }
   ],
   "source": [
    "#How many trials had results somewhere that wasn't the EUCTR\n",
    "outside_euctr = analysis_df[((analysis_df.ctgov_results_inc == 1) | \n",
    "                             (analysis_df.isrctn_results_inc == 1) | \n",
    "                             (analysis_df.journal_results_inc == 1))]\n",
    "print(f'{len(outside_euctr)} had a result outside the EUCTR')\n",
    "ci_calc(len(outside_euctr), len(analysis_df))"
   ]
  },
  {
   "cell_type": "markdown",
   "id": "84867c92-7bc6-475b-8537-aad17fd5e8bf",
   "metadata": {},
   "source": [
    "## Getting data on combinations of results availability\n",
    "\n",
    "We will visualise these in an upset chart in the paper"
   ]
  },
  {
   "cell_type": "code",
   "execution_count": 176,
   "id": "772bcea7-b632-435e-8d63-146d4d3d38b4",
   "metadata": {},
   "outputs": [],
   "source": [
    "upset_plot_data = analysis_df[['euctr_results_inc', 'ctgov_results_inc', 'isrctn_results_inc', 'journal_results_inc']]\n",
    "\n",
    "#upset_plot_data.to_csv(parent + '/data/graphing_data/upset_data.csv')\n",
    "\n",
    "cross_reg_upset = analysis_df[['euctr_id', 'nct_id', 'isrctn_id']]\n",
    "\n",
    "#cross_reg_upset.to_csv(parent + '/data/graphing_data/upset_reg_data.csv')"
   ]
  },
  {
   "cell_type": "markdown",
   "id": "686a9687-6e4b-4a8e-af64-5935a8b975c2",
   "metadata": {},
   "source": [
    "# Data Quality, Completion Status, and Reporting\n",
    "\n",
    "For overall population numbers, see the `Data Processing` notebook"
   ]
  },
  {
   "cell_type": "code",
   "execution_count": 49,
   "id": "5e6d5d30-0225-43f9-ae00-6840a60abdae",
   "metadata": {},
   "outputs": [
    {
     "name": "stdout",
     "output_type": "stream",
     "text": [
      "Inferred: 146; 29.2%\n",
      "Stated: 354; 70.8%\n"
     ]
    }
   ],
   "source": [
    "#Making a new DF for this population to investiage results availability by inferred and available completion dates\n",
    "\n",
    "analysis_df_2 = analysis_df.merge(full_sample[['eudract_number', 'inferred']], \n",
    "                                  how='left', \n",
    "                                  left_on='euctr_id', right_on='eudract_number').drop('eudract_number', axis=1)\n",
    "\n",
    "inferred = analysis_df_2[analysis_df_2.inferred == 1]\n",
    "print(f'Inferred: {len(inferred)}; {round((len(inferred)/len(analysis_df_2)) * 100, 2)}%')\n",
    "stated = analysis_df_2[analysis_df_2.inferred == 0]\n",
    "print(f'Stated: {len(stated)}; {round((len(stated)/len(analysis_df_2)) * 100, 2)}%')"
   ]
  },
  {
   "cell_type": "code",
   "execution_count": 50,
   "id": "4b9cb939-c2a0-4906-827f-7dec2959ee2b",
   "metadata": {},
   "outputs": [
    {
     "name": "stdout",
     "output_type": "stream",
     "text": [
      "Inferred Dates with any results: 71\n",
      "Total inferred dates: 146\n",
      "Proportion: 48.63%\n",
      "95% CI: 40.52-56.74\n"
     ]
    },
    {
     "data": {
      "text/plain": [
       "(0.40522643774242184, 0.4863013698630137, 0.5673763019836056)"
      ]
     },
     "execution_count": 50,
     "metadata": {},
     "output_type": "execute_result"
    }
   ],
   "source": [
    "#How many of the inferred ones had results anywhere?\n",
    "inferred_res_sw = len(inferred[(inferred.euctr_results_inc == 1) | (inferred.ctgov_results_inc == 1) | (inferred.isrctn_results_inc == 1) | (inferred.journal_results_inc == 1)])\n",
    "print(f'Inferred Dates with any results: {inferred_res_sw}')\n",
    "print(f'Total inferred dates: {len(inferred)}')\n",
    "ci_calc(inferred_res_sw, len(inferred))"
   ]
  },
  {
   "cell_type": "code",
   "execution_count": 51,
   "id": "2aec3675-0c70-41e7-a762-720c78ded2a8",
   "metadata": {},
   "outputs": [
    {
     "name": "stdout",
     "output_type": "stream",
     "text": [
      "Extracted with any results: 312\n",
      "Total extracted dates: 354\n",
      "Proportion: 88.14%\n",
      "95% CI: 84.77-91.5\n"
     ]
    },
    {
     "data": {
      "text/plain": [
       "(0.8476696470571278, 0.8813559322033898, 0.9150422173496519)"
      ]
     },
     "execution_count": 51,
     "metadata": {},
     "output_type": "execute_result"
    }
   ],
   "source": [
    "#How many of the extracted ones had results anywhere?\n",
    "stated_res_sw = len(stated[(stated.euctr_results_inc == 1) | (stated.ctgov_results_inc == 1) | (stated.isrctn_results_inc == 1) | (stated.journal_results_inc == 1)])\n",
    "print(f'Extracted with any results: {stated_res_sw}')\n",
    "print(f'Total extracted dates: {len(stated)}')\n",
    "ci_calc(stated_res_sw, len(stated))"
   ]
  },
  {
   "cell_type": "code",
   "execution_count": 52,
   "id": "9a1c29e5-2d61-4967-98db-efcc0114effe",
   "metadata": {},
   "outputs": [
    {
     "name": "stdout",
     "output_type": "stream",
     "text": [
      "2.3783244255374413e-21\n"
     ]
    }
   ],
   "source": [
    "#a is the number of trials with results\n",
    "#b is the total number of trials\n",
    "\n",
    "a = [inferred_res_sw, stated_res_sw]\n",
    "b = [len(inferred),len(stated)]\n",
    "\n",
    "stat, pval = proportions_ztest(a, b)\n",
    "print(pval)"
   ]
  },
  {
   "cell_type": "code",
   "execution_count": 53,
   "id": "c77585b9-48ef-45da-a977-93d35375710b",
   "metadata": {},
   "outputs": [
    {
     "name": "stdout",
     "output_type": "stream",
     "text": [
      "Inferred with results outside the EUCTR: 70\n",
      "Total Inferred: 146\n",
      "Proportion: 47.95%\n",
      "95% CI: 39.84-56.05\n"
     ]
    },
    {
     "data": {
      "text/plain": [
       "(0.3984151949615977, 0.4794520547945205, 0.5604889146274433)"
      ]
     },
     "execution_count": 53,
     "metadata": {},
     "output_type": "execute_result"
    }
   ],
   "source": [
    "#How many of the inferred ones had results somewhere else?\n",
    "inferred_res_swe = len(inferred[(inferred.ctgov_results_inc == 1) | (inferred.isrctn_results_inc == 1) | (inferred.journal_results_inc == 1)])\n",
    "print(f'Inferred with results outside the EUCTR: {inferred_res_swe}')\n",
    "print(f'Total Inferred: {len(inferred)}')\n",
    "ci_calc(inferred_res_swe, len(inferred))"
   ]
  },
  {
   "cell_type": "code",
   "execution_count": 54,
   "id": "7f94c2ff-fa26-4de0-a044-6a4fb9054b97",
   "metadata": {},
   "outputs": [
    {
     "name": "stdout",
     "output_type": "stream",
     "text": [
      "Extracted with results outside the EUCTR: 258\n",
      "Total Extracted: 354\n",
      "Proportion: 72.88%\n",
      "95% CI: 68.25-77.51\n"
     ]
    },
    {
     "data": {
      "text/plain": [
       "(0.682501227544367, 0.7288135593220338, 0.7751258910997006)"
      ]
     },
     "execution_count": 54,
     "metadata": {},
     "output_type": "execute_result"
    }
   ],
   "source": [
    "#How many of the extracted ones had results somewhere else?\n",
    "stated_res_swe = len(stated[(stated.ctgov_results_inc == 1) | (stated.isrctn_results_inc == 1) | (stated.journal_results_inc == 1)])\n",
    "print(f'Extracted with results outside the EUCTR: {stated_res_swe}')\n",
    "print(f'Total Extracted: {len(stated)}')\n",
    "ci_calc(stated_res_swe, len(stated))"
   ]
  },
  {
   "cell_type": "code",
   "execution_count": 55,
   "id": "631aa283-5041-4e99-9b10-5c4f9c2ab4b5",
   "metadata": {},
   "outputs": [
    {
     "name": "stdout",
     "output_type": "stream",
     "text": [
      "9.453467511956692e-08\n"
     ]
    }
   ],
   "source": [
    "a = [inferred_res_swe, stated_res_swe]\n",
    "b = [len(inferred),len(stated)]\n",
    "\n",
    "stat, pval = proportions_ztest(a, b)\n",
    "print(pval)"
   ]
  },
  {
   "cell_type": "markdown",
   "id": "1af893bc-5b7d-43d3-a2c8-c14f9fd1b945",
   "metadata": {
    "tags": []
   },
   "source": [
    "## Now we have to do this for each registry"
   ]
  },
  {
   "cell_type": "code",
   "execution_count": 57,
   "id": "d86dc052-1529-4aea-960e-c24cb6f65941",
   "metadata": {},
   "outputs": [
    {
     "name": "stdout",
     "output_type": "stream",
     "text": [
      "Extracted with EUCTR results: 265\n",
      "Total extracted: 354\n",
      "Proportion: 74.86%\n",
      "95% CI: 70.34-79.38\n",
      "\n",
      "\n",
      "Inferred with EUCTR results: 1\n",
      "Total inferred: 146\n",
      "Proportion: 0.68%\n",
      "95% CI: -0.65-2.02\n"
     ]
    },
    {
     "data": {
      "text/plain": [
       "(-0.006529288616355393, 0.00684931506849315, 0.020227918753341692)"
      ]
     },
     "execution_count": 57,
     "metadata": {},
     "output_type": "execute_result"
    }
   ],
   "source": [
    "#EUCTR\n",
    "\n",
    "#Results posted to EUCTR by date of search - stated\n",
    "stated_results_euctr = stated[(stated.euctr_results_inc == 1)]\n",
    "print(f'Extracted with EUCTR results: {len(stated_results_euctr)}')\n",
    "print(f'Total extracted: {len(stated)}')\n",
    "ci_calc(len(stated_results_euctr), len(stated))\n",
    "\n",
    "print('\\n')\n",
    "\n",
    "#Results posted to EUCTR by date of search - inferred\n",
    "inferred_results_euctr = inferred[(inferred.euctr_results_inc == 1)]\n",
    "print(f'Inferred with EUCTR results: {len(inferred_results_euctr)}')\n",
    "print(f'Total inferred: {len(inferred)}')\n",
    "ci_calc(len(inferred_results_euctr), len(inferred))"
   ]
  },
  {
   "cell_type": "code",
   "execution_count": 58,
   "id": "41cb1cd6-fe84-4444-8eb8-a9083a7414f8",
   "metadata": {},
   "outputs": [
    {
     "name": "stdout",
     "output_type": "stream",
     "text": [
      "1.319454443770701e-51\n"
     ]
    }
   ],
   "source": [
    "a = [len(inferred_results_euctr), len(stated_results_euctr)]\n",
    "b = [len(inferred),len(stated)]\n",
    "\n",
    "stat, pval = proportions_ztest(a, b)\n",
    "print(pval)"
   ]
  },
  {
   "cell_type": "code",
   "execution_count": 59,
   "id": "f1665174-309d-4db1-8db6-35cc4e8a53c2",
   "metadata": {},
   "outputs": [
    {
     "name": "stdout",
     "output_type": "stream",
     "text": [
      "Extracted with CTG results: 131\n",
      "Total CTG extracted: 271\n",
      "Proportion: 48.34%\n",
      "95% CI: 42.39-54.29\n",
      "\n",
      "\n",
      "Inferred with CTG results: 2\n",
      "Total CTG inferred: 68\n",
      "Proportion: 2.94%\n",
      "95% CI: -1.07-6.96\n"
     ]
    },
    {
     "data": {
      "text/plain": [
       "(-0.010746937358755954, 0.029411764705882353, 0.06957046677052066)"
      ]
     },
     "execution_count": 59,
     "metadata": {},
     "output_type": "execute_result"
    }
   ],
   "source": [
    "#CTG extracted dates\n",
    "stated_ctg = stated[stated.nct_id.notnull()]\n",
    "stated_ctg_results = stated_ctg[(stated_ctg.ctgov_results_inc == 1)]\n",
    "print(f'Extracted with CTG results: {len(stated_ctg_results)}')\n",
    "print(f'Total CTG extracted: {len(stated_ctg)}')\n",
    "ci_calc(len(stated_ctg_results), len(stated_ctg))\n",
    "\n",
    "print('\\n')\n",
    "\n",
    "#CTG inferred dates\n",
    "inferred_ctg = inferred[inferred.nct_id.notnull()]\n",
    "inferred_ctg_results = inferred_ctg[(inferred_ctg.ctgov_results_inc == 1)]\n",
    "print(f'Inferred with CTG results: {len(inferred_ctg_results)}')\n",
    "print(f'Total CTG inferred: {len(inferred_ctg)}')\n",
    "ci_calc(len(inferred_ctg_results), len(inferred_ctg))"
   ]
  },
  {
   "cell_type": "code",
   "execution_count": 60,
   "id": "d76581dc-38f8-4cc5-b0ce-996dba77cfc7",
   "metadata": {},
   "outputs": [
    {
     "name": "stdout",
     "output_type": "stream",
     "text": [
      "7.122031160427556e-12\n"
     ]
    }
   ],
   "source": [
    "a = [len(inferred_ctg_results), len(stated_ctg_results)]\n",
    "b = [len(inferred_ctg),len(stated_ctg)]\n",
    "\n",
    "stat, pval = proportions_ztest(a, b)\n",
    "print(pval)"
   ]
  },
  {
   "cell_type": "code",
   "execution_count": 61,
   "id": "bec9435b-390b-42bc-993e-a3594b22465a",
   "metadata": {},
   "outputs": [
    {
     "name": "stdout",
     "output_type": "stream",
     "text": [
      "Extracted with ISRCTN results: 2\n",
      "Total ISRCTN extracted: 29\n",
      "Proportion: 6.9%\n",
      "95% CI: -2.33-16.12\n",
      "\n",
      "\n",
      "Inferred with ISRCTN results:0\n",
      "Total ISRCTN extracted: 3\n",
      "Proportion: 0.0%\n",
      "95% CI: 0.0-0.0\n"
     ]
    },
    {
     "data": {
      "text/plain": [
       "(0.0, 0.0, 0.0)"
      ]
     },
     "execution_count": 61,
     "metadata": {},
     "output_type": "execute_result"
    }
   ],
   "source": [
    "#isrctn extracted dates\n",
    "stated_isrctn = stated[stated.isrctn_id.notnull()]\n",
    "stated_isrctn_results = stated_isrctn[(stated_isrctn.isrctn_results_inc == 1)]\n",
    "print(f'Extracted with ISRCTN results: {len(stated_isrctn_results)}')\n",
    "print(f'Total ISRCTN extracted: {len(stated_isrctn)}')\n",
    "ci_calc(len(stated_isrctn_results), len(stated_isrctn))\n",
    "\n",
    "print('\\n')\n",
    "\n",
    "#isrctn inferred dates\n",
    "inferred_isrctn = inferred[inferred.isrctn_id.notnull()]\n",
    "inferred_isrctn_results = inferred_isrctn[(inferred_isrctn.isrctn_results_inc == 1)]\n",
    "print(f'Inferred with ISRCTN results:{len(inferred_isrctn_results)}')\n",
    "print(f'Total ISRCTN extracted: {len(inferred_isrctn)}')\n",
    "ci_calc(len(inferred_isrctn_results), len(inferred_isrctn))"
   ]
  },
  {
   "cell_type": "code",
   "execution_count": 62,
   "id": "eb164586-d396-41cf-9a3d-353c20fd3d83",
   "metadata": {},
   "outputs": [
    {
     "name": "stdout",
     "output_type": "stream",
     "text": [
      "0.6385149374549752\n"
     ]
    }
   ],
   "source": [
    "a = [len(inferred_isrctn_results), len(stated_isrctn_results)]\n",
    "b = [len(inferred_isrctn),len(stated_isrctn)]\n",
    "\n",
    "stat, pval = proportions_ztest(a, b)\n",
    "print(pval)"
   ]
  },
  {
   "cell_type": "code",
   "execution_count": 63,
   "id": "e7098406-19b6-43ac-abf3-f4fd933d11dc",
   "metadata": {},
   "outputs": [
    {
     "name": "stdout",
     "output_type": "stream",
     "text": [
      "Extracted with results in a Journal: 224\n",
      "Total Extracted: 354\n",
      "Proportion: 63.28%\n",
      "95% CI: 58.26-68.3\n",
      "\n",
      "\n",
      "Inferred with results in a Journal: 69\n",
      "Total Inferred: 146\n",
      "Proportion: 47.26%\n",
      "95% CI: 39.16-55.36\n"
     ]
    },
    {
     "data": {
      "text/plain": [
       "(0.3916192111656352, 0.4726027397260274, 0.5535862682864195)"
      ]
     },
     "execution_count": 63,
     "metadata": {},
     "output_type": "execute_result"
    }
   ],
   "source": [
    "#journal extracted dates\n",
    "stated_journal = stated[(stated.journal_results_inc == 1)]\n",
    "print(f'Extracted with results in a Journal: {len(stated_journal)}')\n",
    "print(f'Total Extracted: {len(stated)}')\n",
    "ci_calc(len(stated_journal), len(stated))\n",
    "\n",
    "print('\\n')\n",
    "\n",
    "#journal inferred dates\n",
    "inferred_journal = inferred[(inferred.journal_results_inc == 1)]\n",
    "print(f'Inferred with results in a Journal: {len(inferred_journal)}')\n",
    "print(f'Total Inferred: {len(inferred)}')\n",
    "ci_calc(len(inferred_journal), len(inferred))"
   ]
  },
  {
   "cell_type": "code",
   "execution_count": 64,
   "id": "b1d53d3d-f0bf-4073-8dd0-660f3bf65d8a",
   "metadata": {},
   "outputs": [
    {
     "name": "stdout",
     "output_type": "stream",
     "text": [
      "0.0009461100911769659\n"
     ]
    }
   ],
   "source": [
    "a = [len(inferred_journal), len(stated_journal)]\n",
    "b = [len(inferred),len(stated)]\n",
    "\n",
    "stat, pval = proportions_ztest(a, b)\n",
    "print(pval)"
   ]
  },
  {
   "cell_type": "markdown",
   "id": "91b218c7-4757-43ff-b0fa-526c79e7da80",
   "metadata": {},
   "source": [
    "# Publication Date Analysis\n",
    "\n",
    "Due to the very low number of results, all but 1 of which was never the earliest, we are excluding ISRCTN from this analysis. You can verify this fact below using the original date_df dataframe."
   ]
  },
  {
   "cell_type": "code",
   "execution_count": 65,
   "id": "9ad910c4-7f31-48bd-88d0-a59cabb94a7c",
   "metadata": {},
   "outputs": [
    {
     "name": "stdout",
     "output_type": "stream",
     "text": [
      "2014-03-14 00:00:00\n"
     ]
    }
   ],
   "source": [
    "date_df = analysis_df[['euctr_id', 'euctr_results_inc', 'euctr_results_date', 'nct_id', 'ctgov_results_inc', 'ctgov_results_date', \n",
    "             'isrctn_id', 'isrctn_results_inc', 'isrctn_results_date', 'journal_results_inc', 'journal_pub_date']].reset_index(drop=True)\n",
    "\n",
    "\n",
    "#This is the earliest results available on the EUCTR\n",
    "earliest_euctr_results_date = dec_results.first_version_date.min()\n",
    "print(earliest_euctr_results_date)"
   ]
  },
  {
   "cell_type": "code",
   "execution_count": 66,
   "id": "fb2c7fa0-86d5-4756-a4b4-16623c9880fc",
   "metadata": {},
   "outputs": [],
   "source": [
    "#It's probably easiest to just blank out any dates of results that are excluded to make life easier\n",
    "#We'll also remove ISRCTN\n",
    "#Making a fresh copy so we can compare for sanity checks\n",
    "\n",
    "date_df2 = date_df.drop(['isrctn_id', 'isrctn_results_inc', 'isrctn_results_date'], axis=1).reset_index(drop=True)\n",
    "\n",
    "date_df2['euctr_results_date'] = pd.to_datetime(np.where((date_df2.euctr_results_inc == 0) & date_df2.euctr_results_date.notnull(), pd.NaT, date_df2.euctr_results_date))\n",
    "\n",
    "date_df2['ctgov_results_date'] = pd.to_datetime(np.where((date_df2.ctgov_results_inc == 0) & date_df2.ctgov_results_date.notnull(), pd.NaT, date_df2.ctgov_results_date))\n",
    "\n",
    "date_df2['journal_pub_date'] = pd.to_datetime(np.where((date_df2.journal_results_inc == 0) & date_df2.journal_pub_date.notnull(), pd.NaT, date_df2.journal_pub_date))"
   ]
  },
  {
   "cell_type": "code",
   "execution_count": 67,
   "id": "0cda2611-5b59-4242-b6b5-a1596c1d1057",
   "metadata": {},
   "outputs": [
    {
     "data": {
      "text/plain": [
       "False    500\n",
       "Name: test, dtype: int64"
      ]
     },
     "execution_count": 67,
     "metadata": {},
     "output_type": "execute_result"
    }
   ],
   "source": [
    "#Sense checking to make sure there are no duplicate date values for when we take mins and maxes\n",
    "just_dates = date_df2[['euctr_results_date','ctgov_results_date', 'journal_pub_date']].reset_index(drop=True)\n",
    "just_dates['test'] = just_dates.apply(check_dupes, axis=1)\n",
    "just_dates.test.value_counts()\n",
    "\n",
    "#There are no repeat dates so no need to worry about that."
   ]
  },
  {
   "cell_type": "code",
   "execution_count": 68,
   "id": "cf065ea3-a31a-4c3d-bb1c-e2366e021ca5",
   "metadata": {},
   "outputs": [],
   "source": [
    "#Getting the earliest and latest publication dates\n",
    "date_df2['min_date'] = date_df2[['euctr_results_date',\n",
    "                               'ctgov_results_date', \n",
    "                               'journal_pub_date']].min(axis=1)\n",
    "\n",
    "date_df2['max_date'] = date_df2[['euctr_results_date',\n",
    "                               'ctgov_results_date', \n",
    "                               'journal_pub_date']].max(axis=1)"
   ]
  },
  {
   "cell_type": "code",
   "execution_count": 69,
   "id": "ee0cdb9f-d387-4fdd-bbac-dac3a1c4e64f",
   "metadata": {},
   "outputs": [],
   "source": [
    "#Getting the total number of results available \n",
    "date_df2['results_counts'] = (date_df2[['euctr_results_inc', 'ctgov_results_inc', 'journal_results_inc']].T.sum())"
   ]
  },
  {
   "cell_type": "markdown",
   "id": "9b878a93-9a43-4b47-a65a-06d42ac9ba4d",
   "metadata": {},
   "source": [
    "# Time to Reporting"
   ]
  },
  {
   "cell_type": "code",
   "execution_count": 152,
   "id": "5c6d1559-5c84-4198-acc5-7d16c99af0db",
   "metadata": {},
   "outputs": [],
   "source": [
    "conds = [date_df2.euctr_results_date == date_df2.min_date, \n",
    "         date_df2.ctgov_results_date == date_df2.min_date, \n",
    "         date_df2.journal_pub_date == date_df2.min_date]\n",
    "\n",
    "out = ['EUCTR', 'CTgov', 'Journal']\n",
    "\n",
    "date_df2['earliest_results'] = np.select(conds, out, 'No Result')"
   ]
  },
  {
   "cell_type": "code",
   "execution_count": 156,
   "id": "3ec93637-c50b-40ea-a1a0-758afc43dc36",
   "metadata": {},
   "outputs": [
    {
     "data": {
      "text/plain": [
       "Journal      156\n",
       "EUCTR         84\n",
       "CTgov         51\n",
       "No Result     48\n",
       "Name: earliest_results, dtype: int64"
      ]
     },
     "execution_count": 156,
     "metadata": {},
     "output_type": "execute_result"
    }
   ],
   "source": [
    "# All Trials\n",
    "\n",
    "date_df2[date_df2.nct_id.notnull()].earliest_results.value_counts()"
   ]
  },
  {
   "cell_type": "code",
   "execution_count": 165,
   "id": "e9e8e272-0b1a-4263-9d5e-54e84b3a85ac",
   "metadata": {},
   "outputs": [
    {
     "name": "stdout",
     "output_type": "stream",
     "text": [
      "Outcome of Interest: 156\n",
      "Total: 291\n",
      "Proportion: 53.61%\n",
      "95% CI: 47.88-59.34\n"
     ]
    },
    {
     "data": {
      "text/plain": [
       "(0.4787836419550631, 0.5360824742268041, 0.5933813064985451)"
      ]
     },
     "execution_count": 165,
     "metadata": {},
     "output_type": "execute_result"
    }
   ],
   "source": [
    "summarizer(156,291)"
   ]
  },
  {
   "cell_type": "code",
   "execution_count": 162,
   "id": "775d2a8b-e7d4-4192-ace0-ca0b78b7c20a",
   "metadata": {},
   "outputs": [
    {
     "data": {
      "text/plain": [
       "Journal    64\n",
       "CTgov      23\n",
       "Name: earliest_results, dtype: int64"
      ]
     },
     "execution_count": 162,
     "metadata": {},
     "output_type": "execute_result"
    }
   ],
   "source": [
    "#Those with a first results\n",
    "\n",
    "date_df2[(date_df2.nct_id.notnull()) & (date_df2.min_date < earliest_euctr_results_date) & (date_df2.journal_pub_date > pd.to_datetime('2008-09-30'))].earliest_results.value_counts()"
   ]
  },
  {
   "cell_type": "code",
   "execution_count": 167,
   "id": "102f0b09-ec0d-49c8-96ac-17d50ed17739",
   "metadata": {},
   "outputs": [
    {
     "name": "stdout",
     "output_type": "stream",
     "text": [
      "Outcome of Interest: 23\n",
      "Total: 87\n",
      "Proportion: 26.44%\n",
      "95% CI: 17.17-35.7\n"
     ]
    },
    {
     "data": {
      "text/plain": [
       "(0.17169953711647767, 0.26436781609195403, 0.3570360950674304)"
      ]
     },
     "execution_count": 167,
     "metadata": {},
     "output_type": "execute_result"
    }
   ],
   "source": [
    "summarizer(23,87)"
   ]
  },
  {
   "cell_type": "code",
   "execution_count": 160,
   "id": "27edf8f2-e712-41af-96d5-dd27157edd02",
   "metadata": {},
   "outputs": [
    {
     "data": {
      "text/plain": [
       "Journal    89\n",
       "EUCTR      84\n",
       "CTgov      20\n",
       "Name: earliest_results, dtype: int64"
      ]
     },
     "execution_count": 160,
     "metadata": {},
     "output_type": "execute_result"
    }
   ],
   "source": [
    "date_df2[(date_df2.nct_id.notnull()) & (date_df2.min_date >= earliest_euctr_results_date)].earliest_results.value_counts()"
   ]
  },
  {
   "cell_type": "code",
   "execution_count": 170,
   "id": "7b080042-8747-4b75-982a-5bf8951865f7",
   "metadata": {},
   "outputs": [
    {
     "name": "stdout",
     "output_type": "stream",
     "text": [
      "Outcome of Interest: 89\n",
      "Total: 193\n",
      "Proportion: 46.11%\n",
      "95% CI: 39.08-53.15\n"
     ]
    },
    {
     "data": {
      "text/plain": [
       "(0.3908113273641295, 0.46113989637305697, 0.5314684653819844)"
      ]
     },
     "execution_count": 170,
     "metadata": {},
     "output_type": "execute_result"
    }
   ],
   "source": [
    "summarizer(89,193)"
   ]
  },
  {
   "cell_type": "markdown",
   "id": "686bd14b-f1db-429c-9256-a0ce5236624d",
   "metadata": {},
   "source": [
    "# Data for Time to Reporting K-M Curves\n",
    "\n",
    "Code for medians and 95% CIs were done in the `Figures` notebook"
   ]
  },
  {
   "cell_type": "code",
   "execution_count": 171,
   "id": "d376b377-d745-4784-be14-d8c835d00f18",
   "metadata": {},
   "outputs": [
    {
     "name": "stdout",
     "output_type": "stream",
     "text": [
      "248\n"
     ]
    }
   ],
   "source": [
    "#Make the sample\n",
    "post_euctr = date_df2[(date_df2.min_date >= earliest_euctr_results_date)].reset_index(drop=True)\n",
    "\n",
    "#Trials with a first result only after the launch of the EUCTR results section\n",
    "print(len(post_euctr))"
   ]
  },
  {
   "cell_type": "code",
   "execution_count": 172,
   "id": "c63b3af5-6e47-45e6-9a9e-68ec9d348585",
   "metadata": {},
   "outputs": [],
   "source": [
    "km_df = post_euctr.merge(full_sample, how='left', left_on='euctr_id', right_on='eudract_number')\n",
    "\n",
    "km_df['final_date'] = pd.to_datetime(km_df['final_date'])"
   ]
  },
  {
   "cell_type": "code",
   "execution_count": 173,
   "id": "dbd71fde-c0f5-427f-882c-bbe346e13c71",
   "metadata": {},
   "outputs": [],
   "source": [
    "km_df['euctr_days'] = (km_df['euctr_results_date'] - km_df['final_date']) / pd.Timedelta(1,\"d\")\n",
    "\n",
    "km_df['euctr_days'] = np.where(km_df['euctr_days'].isna(), \n",
    "                               (search_start_date - km_df['final_date']) / pd.Timedelta(1,\"d\"),\n",
    "                               km_df['euctr_days'])\n",
    "\n",
    "km_df['ctg_days'] = (km_df['ctgov_results_date'] - km_df['final_date']) / pd.Timedelta(1,\"d\")\n",
    "\n",
    "km_df['ctg_days'] = np.where(km_df['ctg_days'].isna(), \n",
    "                               (search_start_date - km_df['final_date']) / pd.Timedelta(1,\"d\"),\n",
    "                               km_df['ctg_days'])\n",
    "\n",
    "km_df['pub_days'] = (km_df['journal_pub_date'] - km_df['final_date']) / pd.Timedelta(1,\"d\")\n",
    "\n",
    "km_df['pub_days'] = np.where(km_df['pub_days'].isna(), \n",
    "                               (search_start_date - km_df['final_date']) / pd.Timedelta(1,\"d\"),\n",
    "                               km_df['pub_days'])\n"
   ]
  },
  {
   "cell_type": "code",
   "execution_count": 174,
   "id": "9577ebf6-e8e9-4fbc-ba13-7cd051fa13b1",
   "metadata": {},
   "outputs": [],
   "source": [
    "km_df.to_csv(parent + '/data/graphing_data/time_to_pub.csv')"
   ]
  },
  {
   "cell_type": "markdown",
   "id": "2e94cf35-f13c-4b94-8b14-a2a8965da0ac",
   "metadata": {},
   "source": [
    "## Data for Start Year Figure\n",
    "\n",
    "Here we just get the data we would need and export it. Figures are made in a separate notebook."
   ]
  },
  {
   "cell_type": "code",
   "execution_count": 175,
   "id": "8183551b-4ecb-4b01-b77a-4dd949869fbc",
   "metadata": {},
   "outputs": [],
   "source": [
    "graphing_df = analysis_df[['euctr_id', \n",
    "                           'euctr_results_inc', \n",
    "                           'any_results_inc']].merge(regression[['Trial ID', \n",
    "                                                                 'Trial Start Year']], \n",
    "                                                    how='left', left_on='euctr_id', right_on='Trial ID').drop('Trial ID', axis=1)\n",
    "\n",
    "#graphing_df.to_csv(parent + '/data/graphing_data/start_year_data.csv')"
   ]
  },
  {
   "cell_type": "markdown",
   "id": "f080d613-8a52-4349-92a8-fed04dbc4fee",
   "metadata": {
    "tags": []
   },
   "source": [
    "# Reporting of Trial IDs"
   ]
  },
  {
   "cell_type": "code",
   "execution_count": 94,
   "id": "44505def-5330-4133-9230-e11bd460fb0a",
   "metadata": {
    "tags": []
   },
   "outputs": [],
   "source": [
    "trial_id_df = analysis_df[['euctr_id', 'nct_id', 'isrctn_id', 'journal_results_inc', 'journal_reg_numbers']].reset_index(drop=True)"
   ]
  },
  {
   "cell_type": "code",
   "execution_count": 95,
   "id": "467ea5b9-eed6-4d14-b525-4111c02c2865",
   "metadata": {},
   "outputs": [],
   "source": [
    "reg_id_df = trial_id_df[trial_id_df.journal_results_inc == 1].journal_reg_numbers.value_counts(dropna=False).to_frame().reset_index()"
   ]
  },
  {
   "cell_type": "code",
   "execution_count": 96,
   "id": "27c49b78-a833-46f8-8f75-d0248bbac928",
   "metadata": {},
   "outputs": [
    {
     "name": "stdout",
     "output_type": "stream",
     "text": [
      "There are 293 trials with an EUCTR registration and a matched publication\n",
      "Below are the ones with a Trial ID excluding the 58 with no ID\n"
     ]
    },
    {
     "data": {
      "text/plain": [
       "ClinicalTrials.gov                   157\n",
       "EUCTR/EudraCT                         33\n",
       "EUCTR/EudraCT, ClinicalTrials.gov     27\n",
       "ISRCTN                                 7\n",
       "EUCTR/EudraCT, ISRCTN                  6\n",
       "Other registration number              3\n",
       "ClinicalTrials.gov, ISRCTN             2\n",
       "Name: journal_reg_numbers, dtype: int64"
      ]
     },
     "execution_count": 96,
     "metadata": {},
     "output_type": "execute_result"
    }
   ],
   "source": [
    "#How many EUCTR/Publication pairs had an EUCTR ID\n",
    "\n",
    "euctr_pub_ids = trial_id_df[(trial_id_df.journal_results_inc == 1) & (trial_id_df.euctr_id.notnull())]\n",
    "print(f'There are {len(euctr_pub_ids)} trials with an EUCTR registration and a matched publication')\n",
    "print(f'Below are the ones with a Trial ID excluding the {euctr_pub_ids.journal_reg_numbers.value_counts()[\"None\"]} with no ID')\n",
    "euctr_id_match = euctr_pub_ids[euctr_pub_ids.journal_reg_numbers != 'None'].journal_reg_numbers.value_counts()\n",
    "euctr_id_match"
   ]
  },
  {
   "cell_type": "code",
   "execution_count": 97,
   "id": "01d6ee98-024b-431f-aed7-02f71b936613",
   "metadata": {},
   "outputs": [
    {
     "name": "stdout",
     "output_type": "stream",
     "text": [
      "Outcome of Interest: 66\n",
      "Total: 293\n",
      "Proportion: 22.53%\n",
      "95% CI: 17.74-27.31\n"
     ]
    },
    {
     "data": {
      "text/plain": [
       "(0.17742166011265287, 0.22525597269624573, 0.2730902852798386)"
      ]
     },
     "execution_count": 97,
     "metadata": {},
     "output_type": "execute_result"
    }
   ],
   "source": [
    "#Stats on number containing an EUCTR ID\n",
    "summarizer(euctr_id_match.filter(like='EUCTR/EudraCT').sum(), len(euctr_pub_ids))"
   ]
  },
  {
   "cell_type": "code",
   "execution_count": 98,
   "id": "32a93b13-2246-4a82-9694-ea8f34366d02",
   "metadata": {},
   "outputs": [
    {
     "name": "stdout",
     "output_type": "stream",
     "text": [
      "There are 222 trials with a ClinicalTrials.gov registration and a matched publication\n",
      "Below are the ones with a Trial ID excluding the 25 with no ID\n"
     ]
    },
    {
     "data": {
      "text/plain": [
       "ClinicalTrials.gov                   157\n",
       "EUCTR/EudraCT, ClinicalTrials.gov     26\n",
       "EUCTR/EudraCT                         11\n",
       "ClinicalTrials.gov, ISRCTN             2\n",
       "ISRCTN                                 1\n",
       "Name: journal_reg_numbers, dtype: int64"
      ]
     },
     "execution_count": 98,
     "metadata": {},
     "output_type": "execute_result"
    }
   ],
   "source": [
    "#How many CTG/Publication pairs had an NCT ID\n",
    "\n",
    "ctg_pub_ids = trial_id_df[(trial_id_df.journal_results_inc == 1) & (trial_id_df.nct_id.notnull())]\n",
    "print(f'There are {len(ctg_pub_ids)} trials with a ClinicalTrials.gov registration and a matched publication')\n",
    "print(f'Below are the ones with a Trial ID excluding the {ctg_pub_ids.journal_reg_numbers.value_counts()[\"None\"]} with no ID')\n",
    "ctg_id_match = ctg_pub_ids[ctg_pub_ids.journal_reg_numbers != 'None'].journal_reg_numbers.value_counts()\n",
    "ctg_id_match"
   ]
  },
  {
   "cell_type": "code",
   "execution_count": 99,
   "id": "a8225744-ac48-4fef-aab5-f19cf322854d",
   "metadata": {},
   "outputs": [
    {
     "name": "stdout",
     "output_type": "stream",
     "text": [
      "Outcome of Interest: 185\n",
      "Total: 222\n",
      "Proportion: 83.33%\n",
      "95% CI: 78.43-88.24\n"
     ]
    },
    {
     "data": {
      "text/plain": [
       "(0.7843088149430074, 0.8333333333333334, 0.8823578517236593)"
      ]
     },
     "execution_count": 99,
     "metadata": {},
     "output_type": "execute_result"
    }
   ],
   "source": [
    "#Stats on number containing an NCT ID\n",
    "summarizer(ctg_id_match.filter(like='ClinicalTrials.gov').sum(), len(ctg_pub_ids))"
   ]
  },
  {
   "cell_type": "code",
   "execution_count": 100,
   "id": "abe92cb6-84fb-4ec2-b985-4578ea1c11cb",
   "metadata": {},
   "outputs": [
    {
     "name": "stdout",
     "output_type": "stream",
     "text": [
      "There are 24 trials with an ISRCTN registration and a matched publication\n",
      "Below are the ones with a Trial ID excluding the 3 with no ID\n"
     ]
    },
    {
     "data": {
      "text/plain": [
       "ISRCTN                               7\n",
       "EUCTR/EudraCT, ISRCTN                6\n",
       "ClinicalTrials.gov                   3\n",
       "EUCTR/EudraCT, ClinicalTrials.gov    2\n",
       "ClinicalTrials.gov, ISRCTN           2\n",
       "EUCTR/EudraCT                        1\n",
       "Name: journal_reg_numbers, dtype: int64"
      ]
     },
     "execution_count": 100,
     "metadata": {},
     "output_type": "execute_result"
    }
   ],
   "source": [
    "#How many EUCTR/Publication pairs had an ISRCTN ID\n",
    "\n",
    "isrctn_pub_ids = trial_id_df[(trial_id_df.journal_results_inc == 1) & (trial_id_df.isrctn_id.notnull())]\n",
    "print(f'There are {len(isrctn_pub_ids)} trials with an ISRCTN registration and a matched publication')\n",
    "print(f'Below are the ones with a Trial ID excluding the {isrctn_pub_ids.journal_reg_numbers.value_counts()[\"None\"]} with no ID')\n",
    "isrctn_id_match = isrctn_pub_ids[isrctn_pub_ids.journal_reg_numbers != 'None'].journal_reg_numbers.value_counts()\n",
    "isrctn_id_match"
   ]
  },
  {
   "cell_type": "code",
   "execution_count": 101,
   "id": "bd35df16-0fdc-45f0-a67f-5b2a5028f15d",
   "metadata": {},
   "outputs": [
    {
     "name": "stdout",
     "output_type": "stream",
     "text": [
      "Outcome of Interest: 15\n",
      "Total: 24\n",
      "Proportion: 62.5%\n",
      "95% CI: 43.13-81.87\n"
     ]
    },
    {
     "data": {
      "text/plain": [
       "(0.43131049331468674, 0.625, 0.8186895066853133)"
      ]
     },
     "execution_count": 101,
     "metadata": {},
     "output_type": "execute_result"
    }
   ],
   "source": [
    "#Stats on number containing an ISRCTN ID\n",
    "summarizer(isrctn_id_match.filter(like='ISRCTN').sum(), len(isrctn_pub_ids))"
   ]
  },
  {
   "cell_type": "markdown",
   "id": "579b500c-a0e6-40f8-aa13-5da23dd48098",
   "metadata": {},
   "source": [
    "# Exploratory Analyses"
   ]
  },
  {
   "cell_type": "code",
   "execution_count": 102,
   "id": "7922a2af-9dca-4b6c-b987-a7a1a4e319cb",
   "metadata": {},
   "outputs": [],
   "source": [
    "#Creating the exploratory analysis dataset through merging a few different DFs \n",
    "#and aligning the columns for ease of use.\n",
    "\n",
    "exploratory_final = analysis_df[['euctr_id', 'euctr_results_inc', 'ctgov_results_inc', 'isrctn_results_inc', \n",
    "                                 'journal_results_inc', 'any_results_inc', 'nct_id', 'isrctn_id', \n",
    "                                 'journal_result']].merge(full_sample[['eudract_number', \n",
    "                                                                  'inferred']], \n",
    "                                                          how='left', \n",
    "                                                          left_on='euctr_id', \n",
    "                                                          right_on='eudract_number')\n",
    "\n",
    "exploratory_final = exploratory_final.merge(regression, \n",
    "                                            how='left', \n",
    "                                            left_on='euctr_id', \n",
    "                                            right_on='Trial ID').drop(['eudract_number', \n",
    "                                                                       'Timestamp', \n",
    "                                                                       'Notes', \n",
    "                                                                       'Trial ID'], axis=1)\n",
    "\n",
    "exploratory_final = exploratory_final.merge(other_reg_data, \n",
    "                                            how='left', \n",
    "                                            left_on='euctr_id', \n",
    "                                            right_on='trial_id').drop(['Unnamed: 0', 'trial_id'], axis=1)\n",
    "\n",
    "exploratory_final.columns = ['euctr_id', 'euctr_results_inc', 'ctgov_results_inc', 'isrctn_results_inc', \n",
    "                             'journal_results_inc', 'any_results_inc', 'nct_id', 'isrctn_id', 'journal_result', \n",
    "                             'inferred', 'trial_start_yr', 'enrollment', 'location', 'sponsor_status', \n",
    "                             'protocol_country', 'sponsor_country']"
   ]
  },
  {
   "cell_type": "code",
   "execution_count": 103,
   "id": "01a0b66c-a7f1-403b-ba68-9b7f54c39e9d",
   "metadata": {},
   "outputs": [
    {
     "data": {
      "text/html": [
       "<div>\n",
       "<style scoped>\n",
       "    .dataframe tbody tr th:only-of-type {\n",
       "        vertical-align: middle;\n",
       "    }\n",
       "\n",
       "    .dataframe tbody tr th {\n",
       "        vertical-align: top;\n",
       "    }\n",
       "\n",
       "    .dataframe thead th {\n",
       "        text-align: right;\n",
       "    }\n",
       "</style>\n",
       "<table border=\"1\" class=\"dataframe\">\n",
       "  <thead>\n",
       "    <tr style=\"text-align: right;\">\n",
       "      <th></th>\n",
       "      <th>euctr_id</th>\n",
       "      <th>euctr_results_inc</th>\n",
       "      <th>ctgov_results_inc</th>\n",
       "      <th>isrctn_results_inc</th>\n",
       "      <th>journal_results_inc</th>\n",
       "      <th>any_results_inc</th>\n",
       "      <th>nct_id</th>\n",
       "      <th>isrctn_id</th>\n",
       "      <th>journal_result</th>\n",
       "      <th>inferred</th>\n",
       "      <th>trial_start_yr</th>\n",
       "      <th>enrollment</th>\n",
       "      <th>location</th>\n",
       "      <th>sponsor_status</th>\n",
       "      <th>protocol_country</th>\n",
       "      <th>sponsor_country</th>\n",
       "    </tr>\n",
       "  </thead>\n",
       "  <tbody>\n",
       "    <tr>\n",
       "      <th>0</th>\n",
       "      <td>2014-003401-15</td>\n",
       "      <td>1</td>\n",
       "      <td>1</td>\n",
       "      <td>0</td>\n",
       "      <td>1</td>\n",
       "      <td>1</td>\n",
       "      <td>NCT02269488</td>\n",
       "      <td>NaN</td>\n",
       "      <td>Yes</td>\n",
       "      <td>0</td>\n",
       "      <td>2014</td>\n",
       "      <td>100</td>\n",
       "      <td>Non-EEA</td>\n",
       "      <td>Commercial</td>\n",
       "      <td>0.0</td>\n",
       "      <td>Japan</td>\n",
       "    </tr>\n",
       "    <tr>\n",
       "      <th>1</th>\n",
       "      <td>2011-001616-57</td>\n",
       "      <td>1</td>\n",
       "      <td>0</td>\n",
       "      <td>0</td>\n",
       "      <td>1</td>\n",
       "      <td>1</td>\n",
       "      <td>NCT01403636</td>\n",
       "      <td>NaN</td>\n",
       "      <td>Yes</td>\n",
       "      <td>0</td>\n",
       "      <td>2011</td>\n",
       "      <td>167</td>\n",
       "      <td>EEA and Non-EEA</td>\n",
       "      <td>Commercial</td>\n",
       "      <td>2.0</td>\n",
       "      <td>France</td>\n",
       "    </tr>\n",
       "    <tr>\n",
       "      <th>2</th>\n",
       "      <td>2004-002743-27</td>\n",
       "      <td>1</td>\n",
       "      <td>1</td>\n",
       "      <td>0</td>\n",
       "      <td>1</td>\n",
       "      <td>1</td>\n",
       "      <td>NCT00630747</td>\n",
       "      <td>NaN</td>\n",
       "      <td>Yes</td>\n",
       "      <td>0</td>\n",
       "      <td>2004</td>\n",
       "      <td>94</td>\n",
       "      <td>EEA and Non-EEA</td>\n",
       "      <td>Commercial</td>\n",
       "      <td>5.0</td>\n",
       "      <td>United States</td>\n",
       "    </tr>\n",
       "    <tr>\n",
       "      <th>3</th>\n",
       "      <td>2013-003561-34</td>\n",
       "      <td>1</td>\n",
       "      <td>1</td>\n",
       "      <td>0</td>\n",
       "      <td>1</td>\n",
       "      <td>1</td>\n",
       "      <td>NCT01980628</td>\n",
       "      <td>NaN</td>\n",
       "      <td>Yes</td>\n",
       "      <td>0</td>\n",
       "      <td>2013</td>\n",
       "      <td>63</td>\n",
       "      <td>EEA and Non-EEA</td>\n",
       "      <td>Commercial</td>\n",
       "      <td>3.0</td>\n",
       "      <td>United States</td>\n",
       "    </tr>\n",
       "    <tr>\n",
       "      <th>4</th>\n",
       "      <td>2006-001414-33</td>\n",
       "      <td>1</td>\n",
       "      <td>0</td>\n",
       "      <td>0</td>\n",
       "      <td>1</td>\n",
       "      <td>1</td>\n",
       "      <td>NaN</td>\n",
       "      <td>ISRCTN70127774</td>\n",
       "      <td>Yes</td>\n",
       "      <td>0</td>\n",
       "      <td>2006</td>\n",
       "      <td>60</td>\n",
       "      <td>EEA Only</td>\n",
       "      <td>Non-Commercial</td>\n",
       "      <td>1.0</td>\n",
       "      <td>United Kingdom</td>\n",
       "    </tr>\n",
       "  </tbody>\n",
       "</table>\n",
       "</div>"
      ],
      "text/plain": [
       "         euctr_id  euctr_results_inc  ctgov_results_inc  isrctn_results_inc  \\\n",
       "0  2014-003401-15                  1                  1                   0   \n",
       "1  2011-001616-57                  1                  0                   0   \n",
       "2  2004-002743-27                  1                  1                   0   \n",
       "3  2013-003561-34                  1                  1                   0   \n",
       "4  2006-001414-33                  1                  0                   0   \n",
       "\n",
       "   journal_results_inc  any_results_inc       nct_id       isrctn_id  \\\n",
       "0                    1                1  NCT02269488             NaN   \n",
       "1                    1                1  NCT01403636             NaN   \n",
       "2                    1                1  NCT00630747             NaN   \n",
       "3                    1                1  NCT01980628             NaN   \n",
       "4                    1                1          NaN  ISRCTN70127774   \n",
       "\n",
       "  journal_result  inferred  trial_start_yr  enrollment         location  \\\n",
       "0            Yes         0            2014         100          Non-EEA   \n",
       "1            Yes         0            2011         167  EEA and Non-EEA   \n",
       "2            Yes         0            2004          94  EEA and Non-EEA   \n",
       "3            Yes         0            2013          63  EEA and Non-EEA   \n",
       "4            Yes         0            2006          60         EEA Only   \n",
       "\n",
       "   sponsor_status  protocol_country sponsor_country  \n",
       "0      Commercial               0.0           Japan  \n",
       "1      Commercial               2.0          France  \n",
       "2      Commercial               5.0   United States  \n",
       "3      Commercial               3.0   United States  \n",
       "4  Non-Commercial               1.0  United Kingdom  "
      ]
     },
     "execution_count": 103,
     "metadata": {},
     "output_type": "execute_result"
    }
   ],
   "source": [
    "exploratory_final.head()"
   ]
  },
  {
   "cell_type": "code",
   "execution_count": 104,
   "id": "14875f73-5bcf-4456-9330-ae8beeb28e13",
   "metadata": {},
   "outputs": [
    {
     "data": {
      "text/html": [
       "<div>\n",
       "<style scoped>\n",
       "    .dataframe tbody tr th:only-of-type {\n",
       "        vertical-align: middle;\n",
       "    }\n",
       "\n",
       "    .dataframe tbody tr th {\n",
       "        vertical-align: top;\n",
       "    }\n",
       "\n",
       "    .dataframe thead th {\n",
       "        text-align: right;\n",
       "    }\n",
       "</style>\n",
       "<table border=\"1\" class=\"dataframe\">\n",
       "  <thead>\n",
       "    <tr style=\"text-align: right;\">\n",
       "      <th></th>\n",
       "      <th>euctr_id</th>\n",
       "      <th>euctr_results_inc</th>\n",
       "      <th>ctgov_results_inc</th>\n",
       "      <th>isrctn_results_inc</th>\n",
       "      <th>journal_results_inc</th>\n",
       "      <th>any_results_inc</th>\n",
       "      <th>nct_id</th>\n",
       "      <th>isrctn_id</th>\n",
       "      <th>journal_result</th>\n",
       "      <th>inferred</th>\n",
       "      <th>trial_start_yr</th>\n",
       "      <th>enrollment</th>\n",
       "      <th>location</th>\n",
       "      <th>sponsor_status</th>\n",
       "      <th>protocol_country</th>\n",
       "      <th>sponsor_country</th>\n",
       "    </tr>\n",
       "  </thead>\n",
       "  <tbody>\n",
       "  </tbody>\n",
       "</table>\n",
       "</div>"
      ],
      "text/plain": [
       "Empty DataFrame\n",
       "Columns: [euctr_id, euctr_results_inc, ctgov_results_inc, isrctn_results_inc, journal_results_inc, any_results_inc, nct_id, isrctn_id, journal_result, inferred, trial_start_yr, enrollment, location, sponsor_status, protocol_country, sponsor_country]\n",
       "Index: []"
      ]
     },
     "execution_count": 104,
     "metadata": {},
     "output_type": "execute_result"
    }
   ],
   "source": [
    "exploratory_final[exploratory_final.enrollment.isna()]"
   ]
  },
  {
   "cell_type": "markdown",
   "id": "f157f016-2193-4ab4-8bec-ec519fe32a10",
   "metadata": {},
   "source": [
    "Run the next two cells on the relevant variables in `exploratory_final` to get data for Table 1 of the paper.\n",
    "\n",
    "#We will run `.describe()` on `enrollment` and `protocol_country`\n",
    "\n",
    "#We will run `.value_counts()` on `sponsor_status`,`location`, and `trial_start_yr`"
   ]
  },
  {
   "cell_type": "code",
   "execution_count": 128,
   "id": "aee7c98c-d9ea-43e7-ad75-921f3692427b",
   "metadata": {},
   "outputs": [
    {
     "data": {
      "text/plain": [
       "count      500.00000\n",
       "mean       240.33600\n",
       "std        820.53967\n",
       "min          1.00000\n",
       "25%         36.00000\n",
       "50%         70.50000\n",
       "75%        196.50000\n",
       "max      16000.00000\n",
       "Name: enrollment, dtype: float64"
      ]
     },
     "execution_count": 128,
     "metadata": {},
     "output_type": "execute_result"
    }
   ],
   "source": [
    "exploratory_final.enrollment.describe()"
   ]
  },
  {
   "cell_type": "code",
   "execution_count": 134,
   "id": "de94ef30-0237-4393-a4ea-f0c6739824d8",
   "metadata": {},
   "outputs": [
    {
     "data": {
      "text/plain": [
       "EEA Only           319\n",
       "EEA and Non-EEA    167\n",
       "Non-EEA             14\n",
       "Name: location, dtype: int64"
      ]
     },
     "execution_count": 134,
     "metadata": {},
     "output_type": "execute_result"
    }
   ],
   "source": [
    "exploratory_final.location.value_counts().sort_index()"
   ]
  },
  {
   "cell_type": "markdown",
   "id": "6f8b71a4-12ce-4c96-9ad2-e12e005546ce",
   "metadata": {},
   "source": [
    "## Analysis 1: Regression"
   ]
  },
  {
   "cell_type": "code",
   "execution_count": 107,
   "id": "636b0860-1b37-4690-bfcb-7c7875772d64",
   "metadata": {},
   "outputs": [],
   "source": [
    "#Taking only what we need:\n",
    "regression_final = exploratory_final[['euctr_id', 'euctr_results_inc', 'any_results_inc', 'inferred', \n",
    "                                      'trial_start_yr', 'enrollment', 'location', 'sponsor_status', \n",
    "                                      'protocol_country']].reset_index(drop=True)\n",
    "\n",
    "regression_final = regression_final[regression_final.any_results_inc == 1].reset_index(drop=True)\n",
    "\n",
    "regression_final = regression_final.join(pd.get_dummies(regression_final[['location', 'sponsor_status']]), how='left')"
   ]
  },
  {
   "cell_type": "code",
   "execution_count": 108,
   "id": "3a768fe2-23dd-4781-94ad-23619ffae105",
   "metadata": {},
   "outputs": [
    {
     "data": {
      "text/plain": [
       "EEA Only           217\n",
       "EEA and Non-EEA    152\n",
       "Non-EEA             14\n",
       "Name: location, dtype: int64"
      ]
     },
     "execution_count": 108,
     "metadata": {},
     "output_type": "execute_result"
    }
   ],
   "source": [
    "regression_final.location.value_counts()"
   ]
  },
  {
   "cell_type": "code",
   "execution_count": 109,
   "id": "8ea6bf58-44bf-417c-9f33-203fe29dceb3",
   "metadata": {},
   "outputs": [],
   "source": [
    "y_reg = regression_final['euctr_results_inc'].reset_index(drop=True)\n",
    "x_reg = regression_final[['inferred', 'trial_start_yr', 'enrollment',\n",
    "                         'protocol_country', 'location_EEA and Non-EEA', 'location_Non-EEA', \n",
    "                         'sponsor_status_Commercial']].reset_index(drop=True)"
   ]
  },
  {
   "cell_type": "code",
   "execution_count": 110,
   "id": "5eb84cdc-9496-46bf-8835-8a3cb076b326",
   "metadata": {},
   "outputs": [
    {
     "name": "stdout",
     "output_type": "stream",
     "text": [
      "Optimization terminated successfully.\n",
      "         Current function value: 0.309099\n",
      "         Iterations 8\n",
      "                           Logit Regression Results                           \n",
      "==============================================================================\n",
      "Dep. Variable:      euctr_results_inc   No. Observations:                  383\n",
      "Model:                          Logit   Df Residuals:                      375\n",
      "Method:                           MLE   Df Model:                            7\n",
      "Date:                Wed, 23 Aug 2023   Pseudo R-squ.:                  0.4978\n",
      "Time:                        10:06:51   Log-Likelihood:                -118.38\n",
      "converged:                       True   LL-Null:                       -235.71\n",
      "Covariance Type:            nonrobust   LLR p-value:                 5.085e-47\n",
      "=============================================================================================\n",
      "                                coef    std err          z      P>|z|      [0.025      0.975]\n",
      "---------------------------------------------------------------------------------------------\n",
      "inferred                     -5.3757      1.082     -4.967      0.000      -7.497      -3.254\n",
      "trial_start_yr                0.1210      0.053      2.262      0.024       0.016       0.226\n",
      "enrollment                   -0.0002      0.000     -0.384      0.701      -0.001       0.001\n",
      "protocol_country              0.1065      0.095      1.125      0.261      -0.079       0.292\n",
      "location_EEA and Non-EEA      0.0106      0.467      0.023      0.982      -0.905       0.926\n",
      "location_Non-EEA              2.2704      1.832      1.239      0.215      -1.320       5.861\n",
      "sponsor_status_Commercial     1.5828      0.410      3.858      0.000       0.779       2.387\n",
      "cons                       -242.6147    107.462     -2.258      0.024    -453.236     -31.994\n",
      "=============================================================================================\n"
     ]
    },
    {
     "data": {
      "text/html": [
       "<div>\n",
       "<style scoped>\n",
       "    .dataframe tbody tr th:only-of-type {\n",
       "        vertical-align: middle;\n",
       "    }\n",
       "\n",
       "    .dataframe tbody tr th {\n",
       "        vertical-align: top;\n",
       "    }\n",
       "\n",
       "    .dataframe thead th {\n",
       "        text-align: right;\n",
       "    }\n",
       "</style>\n",
       "<table border=\"1\" class=\"dataframe\">\n",
       "  <thead>\n",
       "    <tr style=\"text-align: right;\">\n",
       "      <th></th>\n",
       "      <th>OR</th>\n",
       "      <th>2.5%</th>\n",
       "      <th>97.5%</th>\n",
       "      <th>p_value</th>\n",
       "    </tr>\n",
       "  </thead>\n",
       "  <tbody>\n",
       "    <tr>\n",
       "      <th>inferred</th>\n",
       "      <td>0.00</td>\n",
       "      <td>0.00</td>\n",
       "      <td>0.04</td>\n",
       "      <td>0.00000</td>\n",
       "    </tr>\n",
       "    <tr>\n",
       "      <th>trial_start_yr</th>\n",
       "      <td>1.13</td>\n",
       "      <td>1.02</td>\n",
       "      <td>1.25</td>\n",
       "      <td>0.02369</td>\n",
       "    </tr>\n",
       "    <tr>\n",
       "      <th>enrollment</th>\n",
       "      <td>1.00</td>\n",
       "      <td>1.00</td>\n",
       "      <td>1.00</td>\n",
       "      <td>0.70082</td>\n",
       "    </tr>\n",
       "    <tr>\n",
       "      <th>protocol_country</th>\n",
       "      <td>1.11</td>\n",
       "      <td>0.92</td>\n",
       "      <td>1.34</td>\n",
       "      <td>0.26077</td>\n",
       "    </tr>\n",
       "    <tr>\n",
       "      <th>location_EEA and Non-EEA</th>\n",
       "      <td>1.01</td>\n",
       "      <td>0.40</td>\n",
       "      <td>2.53</td>\n",
       "      <td>0.98185</td>\n",
       "    </tr>\n",
       "    <tr>\n",
       "      <th>location_Non-EEA</th>\n",
       "      <td>9.68</td>\n",
       "      <td>0.27</td>\n",
       "      <td>350.99</td>\n",
       "      <td>0.21518</td>\n",
       "    </tr>\n",
       "    <tr>\n",
       "      <th>sponsor_status_Commercial</th>\n",
       "      <td>4.87</td>\n",
       "      <td>2.18</td>\n",
       "      <td>10.88</td>\n",
       "      <td>0.00011</td>\n",
       "    </tr>\n",
       "    <tr>\n",
       "      <th>cons</th>\n",
       "      <td>0.00</td>\n",
       "      <td>0.00</td>\n",
       "      <td>0.00</td>\n",
       "      <td>0.02397</td>\n",
       "    </tr>\n",
       "  </tbody>\n",
       "</table>\n",
       "</div>"
      ],
      "text/plain": [
       "                             OR  2.5%   97.5%  p_value\n",
       "inferred                   0.00  0.00    0.04  0.00000\n",
       "trial_start_yr             1.13  1.02    1.25  0.02369\n",
       "enrollment                 1.00  1.00    1.00  0.70082\n",
       "protocol_country           1.11  0.92    1.34  0.26077\n",
       "location_EEA and Non-EEA   1.01  0.40    2.53  0.98185\n",
       "location_Non-EEA           9.68  0.27  350.99  0.21518\n",
       "sponsor_status_Commercial  4.87  2.18   10.88  0.00011\n",
       "cons                       0.00  0.00    0.00  0.02397"
      ]
     },
     "execution_count": 110,
     "metadata": {},
     "output_type": "execute_result"
    }
   ],
   "source": [
    "simple_logistic_regression(y_reg, x_reg)"
   ]
  },
  {
   "cell_type": "markdown",
   "id": "c54ddf16-248b-464b-b02f-f78ef81d043d",
   "metadata": {},
   "source": [
    "If we run the regression per protocol it leads to some funky results because of only including 1 trial with inferred results, as shown earlier. I will therefore remove this from the regression as it is a derived variable anyway."
   ]
  },
  {
   "cell_type": "code",
   "execution_count": 111,
   "id": "992763f9-9bfa-4d1e-a004-6ab0d8284f8c",
   "metadata": {},
   "outputs": [],
   "source": [
    "#Re-running the regression without the \"inferred\" variable\n",
    "y_reg1 = regression_final['euctr_results_inc'].reset_index(drop=True)\n",
    "x_reg1 = regression_final[['trial_start_yr', 'enrollment',\n",
    "                         'protocol_country', 'location_EEA and Non-EEA', 'location_Non-EEA', \n",
    "                         'sponsor_status_Commercial']].reset_index(drop=True)"
   ]
  },
  {
   "cell_type": "code",
   "execution_count": 112,
   "id": "a6d4b6b8-4ae0-418a-8336-98efda39742b",
   "metadata": {},
   "outputs": [
    {
     "name": "stdout",
     "output_type": "stream",
     "text": [
      "Optimization terminated successfully.\n",
      "         Current function value: 0.443707\n",
      "         Iterations 7\n",
      "                           Logit Regression Results                           \n",
      "==============================================================================\n",
      "Dep. Variable:      euctr_results_inc   No. Observations:                  383\n",
      "Model:                          Logit   Df Residuals:                      376\n",
      "Method:                           MLE   Df Model:                            6\n",
      "Date:                Wed, 23 Aug 2023   Pseudo R-squ.:                  0.2790\n",
      "Time:                        10:07:22   Log-Likelihood:                -169.94\n",
      "converged:                       True   LL-Null:                       -235.71\n",
      "Covariance Type:            nonrobust   LLR p-value:                 6.072e-26\n",
      "=============================================================================================\n",
      "                                coef    std err          z      P>|z|      [0.025      0.975]\n",
      "---------------------------------------------------------------------------------------------\n",
      "trial_start_yr                0.0888      0.043      2.066      0.039       0.005       0.173\n",
      "enrollment                 -2.19e-05      0.000     -0.053      0.958      -0.001       0.001\n",
      "protocol_country              0.1983      0.100      1.988      0.047       0.003       0.394\n",
      "location_EEA and Non-EEA      0.1329      0.398      0.334      0.739      -0.648       0.914\n",
      "location_Non-EEA              1.1494      1.090      1.054      0.292      -0.987       3.286\n",
      "sponsor_status_Commercial     2.2771      0.337      6.766      0.000       1.617       2.937\n",
      "cons                       -179.1853     86.356     -2.075      0.038    -348.440      -9.931\n",
      "=============================================================================================\n"
     ]
    },
    {
     "data": {
      "text/html": [
       "<div>\n",
       "<style scoped>\n",
       "    .dataframe tbody tr th:only-of-type {\n",
       "        vertical-align: middle;\n",
       "    }\n",
       "\n",
       "    .dataframe tbody tr th {\n",
       "        vertical-align: top;\n",
       "    }\n",
       "\n",
       "    .dataframe thead th {\n",
       "        text-align: right;\n",
       "    }\n",
       "</style>\n",
       "<table border=\"1\" class=\"dataframe\">\n",
       "  <thead>\n",
       "    <tr style=\"text-align: right;\">\n",
       "      <th></th>\n",
       "      <th>OR</th>\n",
       "      <th>2.5%</th>\n",
       "      <th>97.5%</th>\n",
       "      <th>p_value</th>\n",
       "    </tr>\n",
       "  </thead>\n",
       "  <tbody>\n",
       "    <tr>\n",
       "      <th>trial_start_yr</th>\n",
       "      <td>1.09</td>\n",
       "      <td>1.00</td>\n",
       "      <td>1.19</td>\n",
       "      <td>0.03885</td>\n",
       "    </tr>\n",
       "    <tr>\n",
       "      <th>enrollment</th>\n",
       "      <td>1.00</td>\n",
       "      <td>1.00</td>\n",
       "      <td>1.00</td>\n",
       "      <td>0.95769</td>\n",
       "    </tr>\n",
       "    <tr>\n",
       "      <th>protocol_country</th>\n",
       "      <td>1.22</td>\n",
       "      <td>1.00</td>\n",
       "      <td>1.48</td>\n",
       "      <td>0.04679</td>\n",
       "    </tr>\n",
       "    <tr>\n",
       "      <th>location_EEA and Non-EEA</th>\n",
       "      <td>1.14</td>\n",
       "      <td>0.52</td>\n",
       "      <td>2.49</td>\n",
       "      <td>0.73875</td>\n",
       "    </tr>\n",
       "    <tr>\n",
       "      <th>location_Non-EEA</th>\n",
       "      <td>3.16</td>\n",
       "      <td>0.37</td>\n",
       "      <td>26.74</td>\n",
       "      <td>0.29176</td>\n",
       "    </tr>\n",
       "    <tr>\n",
       "      <th>sponsor_status_Commercial</th>\n",
       "      <td>9.75</td>\n",
       "      <td>5.04</td>\n",
       "      <td>18.85</td>\n",
       "      <td>0.00000</td>\n",
       "    </tr>\n",
       "    <tr>\n",
       "      <th>cons</th>\n",
       "      <td>0.00</td>\n",
       "      <td>0.00</td>\n",
       "      <td>0.00</td>\n",
       "      <td>0.03799</td>\n",
       "    </tr>\n",
       "  </tbody>\n",
       "</table>\n",
       "</div>"
      ],
      "text/plain": [
       "                             OR  2.5%  97.5%  p_value\n",
       "trial_start_yr             1.09  1.00   1.19  0.03885\n",
       "enrollment                 1.00  1.00   1.00  0.95769\n",
       "protocol_country           1.22  1.00   1.48  0.04679\n",
       "location_EEA and Non-EEA   1.14  0.52   2.49  0.73875\n",
       "location_Non-EEA           3.16  0.37  26.74  0.29176\n",
       "sponsor_status_Commercial  9.75  5.04  18.85  0.00000\n",
       "cons                       0.00  0.00   0.00  0.03799"
      ]
     },
     "execution_count": 112,
     "metadata": {},
     "output_type": "execute_result"
    }
   ],
   "source": [
    "simple_logistic_regression(y_reg1, x_reg1)"
   ]
  },
  {
   "cell_type": "markdown",
   "id": "7c5d59b2-8131-42f5-8838-ec1132b6971f",
   "metadata": {},
   "source": [
    "Check univariable ORs here with any of these variables:\n",
    "\n",
    "`trial_start_yr`, `enrollment`, `protocol_country`, `location_EEA and Non-EEA`, `location_Non-EEA`, `sponsor_status_Commercial`"
   ]
  },
  {
   "cell_type": "code",
   "execution_count": 119,
   "id": "a2a268e2-fe62-4004-a9f1-a49783c2b0e2",
   "metadata": {},
   "outputs": [
    {
     "name": "stdout",
     "output_type": "stream",
     "text": [
      "Optimization terminated successfully.\n",
      "         Current function value: 0.543839\n",
      "         Iterations 7\n",
      "                           Logit Regression Results                           \n",
      "==============================================================================\n",
      "Dep. Variable:      euctr_results_inc   No. Observations:                  383\n",
      "Model:                          Logit   Df Residuals:                      380\n",
      "Method:                           MLE   Df Model:                            2\n",
      "Date:                Wed, 23 Aug 2023   Pseudo R-squ.:                  0.1163\n",
      "Time:                        10:18:19   Log-Likelihood:                -208.29\n",
      "converged:                       True   LL-Null:                       -235.71\n",
      "Covariance Type:            nonrobust   LLR p-value:                 1.232e-12\n",
      "============================================================================================\n",
      "                               coef    std err          z      P>|z|      [0.025      0.975]\n",
      "--------------------------------------------------------------------------------------------\n",
      "location_EEA and Non-EEA     1.8133      0.286      6.347      0.000       1.253       2.373\n",
      "location_Non-EEA             2.3708      1.047      2.265      0.024       0.319       4.422\n",
      "cons                         0.1942      0.136      1.423      0.155      -0.073       0.462\n",
      "============================================================================================\n"
     ]
    },
    {
     "data": {
      "text/html": [
       "<div>\n",
       "<style scoped>\n",
       "    .dataframe tbody tr th:only-of-type {\n",
       "        vertical-align: middle;\n",
       "    }\n",
       "\n",
       "    .dataframe tbody tr th {\n",
       "        vertical-align: top;\n",
       "    }\n",
       "\n",
       "    .dataframe thead th {\n",
       "        text-align: right;\n",
       "    }\n",
       "</style>\n",
       "<table border=\"1\" class=\"dataframe\">\n",
       "  <thead>\n",
       "    <tr style=\"text-align: right;\">\n",
       "      <th></th>\n",
       "      <th>OR</th>\n",
       "      <th>2.5%</th>\n",
       "      <th>97.5%</th>\n",
       "      <th>p_value</th>\n",
       "    </tr>\n",
       "  </thead>\n",
       "  <tbody>\n",
       "    <tr>\n",
       "      <th>location_EEA and Non-EEA</th>\n",
       "      <td>6.13</td>\n",
       "      <td>3.50</td>\n",
       "      <td>10.73</td>\n",
       "      <td>0.00000</td>\n",
       "    </tr>\n",
       "    <tr>\n",
       "      <th>location_Non-EEA</th>\n",
       "      <td>10.71</td>\n",
       "      <td>1.38</td>\n",
       "      <td>83.28</td>\n",
       "      <td>0.02351</td>\n",
       "    </tr>\n",
       "    <tr>\n",
       "      <th>cons</th>\n",
       "      <td>1.21</td>\n",
       "      <td>0.93</td>\n",
       "      <td>1.59</td>\n",
       "      <td>0.15464</td>\n",
       "    </tr>\n",
       "  </tbody>\n",
       "</table>\n",
       "</div>"
      ],
      "text/plain": [
       "                             OR  2.5%  97.5%  p_value\n",
       "location_EEA and Non-EEA   6.13  3.50  10.73  0.00000\n",
       "location_Non-EEA          10.71  1.38  83.28  0.02351\n",
       "cons                       1.21  0.93   1.59  0.15464"
      ]
     },
     "execution_count": 119,
     "metadata": {},
     "output_type": "execute_result"
    }
   ],
   "source": [
    "x_regu = regression_final[['location_EEA and Non-EEA', 'location_Non-EEA']].reset_index(drop=True)\n",
    "\n",
    "simple_logistic_regression(y_reg1, x_regu)"
   ]
  },
  {
   "cell_type": "markdown",
   "id": "7c7d2d16-acfc-4b41-93f7-8826fd41608a",
   "metadata": {},
   "source": [
    "p-values uni:\n",
    "com spon: <0.00001\n",
    "nonEEA: <0.0001\n",
    "prot_country: <0.0001\n",
    "enrollment: .05\n",
    "start_yr: 0.17209\n",
    "EEA/NonEEA: .02412\n",
    "\n"
   ]
  },
  {
   "cell_type": "code",
   "execution_count": 120,
   "id": "46d4d979-8d4d-484e-b2d9-5a62c84eb20d",
   "metadata": {},
   "outputs": [
    {
     "name": "stdout",
     "output_type": "stream",
     "text": [
      "0.0071428571428571435\n",
      "0.008333333333333333\n",
      "0.01\n",
      "0.0125\n",
      "0.016666666666666666\n"
     ]
    }
   ],
   "source": [
    "#Holm-Bonferroni corrected thresholds\n",
    "print(.05 / (7 - 1 + 1))\n",
    "print(.05 / (7 - 2 + 1))\n",
    "print(.05 / (7 - 3 + 1))\n",
    "print(.05 / (7 - 4 + 1))\n",
    "print(.05 / (7 - 5 + 1))"
   ]
  },
  {
   "cell_type": "markdown",
   "id": "94dd4583-5dd3-471e-93d9-a88694d2e94b",
   "metadata": {},
   "source": [
    "# Analysis 2: Sponsor Country\n",
    "Each trial will be assigned a “sponsor country” based on the most frequent sponsor country assigned in the EUCTR country protocols. A protocol of a specific country need not contain a sponsor from that country. If no single country appears most frequently, the trial will be coded as having “multi-country” sponsorship. The percent of trials reported to the EUCTR, other registries, and the literature will be reported for each unique sponsor country in the sample."
   ]
  },
  {
   "cell_type": "code",
   "execution_count": 121,
   "id": "052348f7-0c87-42e6-8dc1-96039ea3c336",
   "metadata": {},
   "outputs": [],
   "source": [
    "spon_country = exploratory_final[['euctr_id', 'nct_id', 'isrctn_id', 'journal_result', 'euctr_results_inc', \n",
    "                                  'ctgov_results_inc', 'isrctn_results_inc', 'journal_results_inc', \n",
    "                                  'any_results_inc', 'sponsor_country']].reset_index(drop=True)"
   ]
  },
  {
   "cell_type": "code",
   "execution_count": 122,
   "id": "e709500f-e371-44f9-b709-42be91c99559",
   "metadata": {},
   "outputs": [
    {
     "data": {
      "text/html": [
       "<div>\n",
       "<style scoped>\n",
       "    .dataframe tbody tr th:only-of-type {\n",
       "        vertical-align: middle;\n",
       "    }\n",
       "\n",
       "    .dataframe tbody tr th {\n",
       "        vertical-align: top;\n",
       "    }\n",
       "\n",
       "    .dataframe thead th {\n",
       "        text-align: right;\n",
       "    }\n",
       "</style>\n",
       "<table border=\"1\" class=\"dataframe\">\n",
       "  <thead>\n",
       "    <tr style=\"text-align: right;\">\n",
       "      <th></th>\n",
       "      <th>sponsor_country</th>\n",
       "      <th>not_reported</th>\n",
       "      <th>reported</th>\n",
       "      <th>all</th>\n",
       "      <th>prct_reported</th>\n",
       "    </tr>\n",
       "  </thead>\n",
       "  <tbody>\n",
       "    <tr>\n",
       "      <th>26</th>\n",
       "      <td>All</td>\n",
       "      <td>234</td>\n",
       "      <td>266</td>\n",
       "      <td>500</td>\n",
       "      <td>53.20</td>\n",
       "    </tr>\n",
       "    <tr>\n",
       "      <th>25</th>\n",
       "      <td>United States</td>\n",
       "      <td>19</td>\n",
       "      <td>51</td>\n",
       "      <td>70</td>\n",
       "      <td>72.86</td>\n",
       "    </tr>\n",
       "    <tr>\n",
       "      <th>24</th>\n",
       "      <td>United Kingdom</td>\n",
       "      <td>15</td>\n",
       "      <td>46</td>\n",
       "      <td>61</td>\n",
       "      <td>75.41</td>\n",
       "    </tr>\n",
       "    <tr>\n",
       "      <th>8</th>\n",
       "      <td>Germany</td>\n",
       "      <td>29</td>\n",
       "      <td>29</td>\n",
       "      <td>58</td>\n",
       "      <td>50.00</td>\n",
       "    </tr>\n",
       "    <tr>\n",
       "      <th>7</th>\n",
       "      <td>France</td>\n",
       "      <td>21</td>\n",
       "      <td>28</td>\n",
       "      <td>49</td>\n",
       "      <td>57.14</td>\n",
       "    </tr>\n",
       "    <tr>\n",
       "      <th>12</th>\n",
       "      <td>Italy</td>\n",
       "      <td>38</td>\n",
       "      <td>8</td>\n",
       "      <td>46</td>\n",
       "      <td>17.39</td>\n",
       "    </tr>\n",
       "    <tr>\n",
       "      <th>20</th>\n",
       "      <td>Spain</td>\n",
       "      <td>31</td>\n",
       "      <td>5</td>\n",
       "      <td>36</td>\n",
       "      <td>13.89</td>\n",
       "    </tr>\n",
       "    <tr>\n",
       "      <th>16</th>\n",
       "      <td>Netherlands</td>\n",
       "      <td>25</td>\n",
       "      <td>9</td>\n",
       "      <td>34</td>\n",
       "      <td>26.47</td>\n",
       "    </tr>\n",
       "    <tr>\n",
       "      <th>22</th>\n",
       "      <td>Switzerland</td>\n",
       "      <td>3</td>\n",
       "      <td>25</td>\n",
       "      <td>28</td>\n",
       "      <td>89.29</td>\n",
       "    </tr>\n",
       "    <tr>\n",
       "      <th>5</th>\n",
       "      <td>Denmark</td>\n",
       "      <td>8</td>\n",
       "      <td>14</td>\n",
       "      <td>22</td>\n",
       "      <td>63.64</td>\n",
       "    </tr>\n",
       "    <tr>\n",
       "      <th>2</th>\n",
       "      <td>Belgium</td>\n",
       "      <td>11</td>\n",
       "      <td>10</td>\n",
       "      <td>21</td>\n",
       "      <td>47.62</td>\n",
       "    </tr>\n",
       "    <tr>\n",
       "      <th>21</th>\n",
       "      <td>Sweden</td>\n",
       "      <td>8</td>\n",
       "      <td>12</td>\n",
       "      <td>20</td>\n",
       "      <td>60.00</td>\n",
       "    </tr>\n",
       "    <tr>\n",
       "      <th>1</th>\n",
       "      <td>Austria</td>\n",
       "      <td>10</td>\n",
       "      <td>7</td>\n",
       "      <td>17</td>\n",
       "      <td>41.18</td>\n",
       "    </tr>\n",
       "    <tr>\n",
       "      <th>15</th>\n",
       "      <td>Multi-country</td>\n",
       "      <td>0</td>\n",
       "      <td>9</td>\n",
       "      <td>9</td>\n",
       "      <td>100.00</td>\n",
       "    </tr>\n",
       "    <tr>\n",
       "      <th>6</th>\n",
       "      <td>Finland</td>\n",
       "      <td>4</td>\n",
       "      <td>1</td>\n",
       "      <td>5</td>\n",
       "      <td>20.00</td>\n",
       "    </tr>\n",
       "    <tr>\n",
       "      <th>0</th>\n",
       "      <td>Australia</td>\n",
       "      <td>1</td>\n",
       "      <td>2</td>\n",
       "      <td>3</td>\n",
       "      <td>66.67</td>\n",
       "    </tr>\n",
       "    <tr>\n",
       "      <th>11</th>\n",
       "      <td>Ireland</td>\n",
       "      <td>2</td>\n",
       "      <td>1</td>\n",
       "      <td>3</td>\n",
       "      <td>33.33</td>\n",
       "    </tr>\n",
       "    <tr>\n",
       "      <th>10</th>\n",
       "      <td>Hungary</td>\n",
       "      <td>1</td>\n",
       "      <td>2</td>\n",
       "      <td>3</td>\n",
       "      <td>66.67</td>\n",
       "    </tr>\n",
       "    <tr>\n",
       "      <th>13</th>\n",
       "      <td>Japan</td>\n",
       "      <td>1</td>\n",
       "      <td>2</td>\n",
       "      <td>3</td>\n",
       "      <td>66.67</td>\n",
       "    </tr>\n",
       "    <tr>\n",
       "      <th>14</th>\n",
       "      <td>Korea, Republic of</td>\n",
       "      <td>1</td>\n",
       "      <td>1</td>\n",
       "      <td>2</td>\n",
       "      <td>50.00</td>\n",
       "    </tr>\n",
       "    <tr>\n",
       "      <th>19</th>\n",
       "      <td>Portugal</td>\n",
       "      <td>0</td>\n",
       "      <td>2</td>\n",
       "      <td>2</td>\n",
       "      <td>100.00</td>\n",
       "    </tr>\n",
       "    <tr>\n",
       "      <th>4</th>\n",
       "      <td>Czech Republic</td>\n",
       "      <td>2</td>\n",
       "      <td>0</td>\n",
       "      <td>2</td>\n",
       "      <td>0.00</td>\n",
       "    </tr>\n",
       "    <tr>\n",
       "      <th>3</th>\n",
       "      <td>Canada</td>\n",
       "      <td>1</td>\n",
       "      <td>1</td>\n",
       "      <td>2</td>\n",
       "      <td>50.00</td>\n",
       "    </tr>\n",
       "    <tr>\n",
       "      <th>17</th>\n",
       "      <td>No Data Available</td>\n",
       "      <td>1</td>\n",
       "      <td>0</td>\n",
       "      <td>1</td>\n",
       "      <td>0.00</td>\n",
       "    </tr>\n",
       "    <tr>\n",
       "      <th>18</th>\n",
       "      <td>Norway</td>\n",
       "      <td>1</td>\n",
       "      <td>0</td>\n",
       "      <td>1</td>\n",
       "      <td>0.00</td>\n",
       "    </tr>\n",
       "    <tr>\n",
       "      <th>9</th>\n",
       "      <td>Greece</td>\n",
       "      <td>0</td>\n",
       "      <td>1</td>\n",
       "      <td>1</td>\n",
       "      <td>100.00</td>\n",
       "    </tr>\n",
       "    <tr>\n",
       "      <th>23</th>\n",
       "      <td>United Arab Emirates</td>\n",
       "      <td>1</td>\n",
       "      <td>0</td>\n",
       "      <td>1</td>\n",
       "      <td>0.00</td>\n",
       "    </tr>\n",
       "  </tbody>\n",
       "</table>\n",
       "</div>"
      ],
      "text/plain": [
       "         sponsor_country  not_reported  reported  all  prct_reported\n",
       "26                   All           234       266  500          53.20\n",
       "25         United States            19        51   70          72.86\n",
       "24        United Kingdom            15        46   61          75.41\n",
       "8                Germany            29        29   58          50.00\n",
       "7                 France            21        28   49          57.14\n",
       "12                 Italy            38         8   46          17.39\n",
       "20                 Spain            31         5   36          13.89\n",
       "16           Netherlands            25         9   34          26.47\n",
       "22           Switzerland             3        25   28          89.29\n",
       "5                Denmark             8        14   22          63.64\n",
       "2                Belgium            11        10   21          47.62\n",
       "21                Sweden             8        12   20          60.00\n",
       "1                Austria            10         7   17          41.18\n",
       "15         Multi-country             0         9    9         100.00\n",
       "6                Finland             4         1    5          20.00\n",
       "0              Australia             1         2    3          66.67\n",
       "11               Ireland             2         1    3          33.33\n",
       "10               Hungary             1         2    3          66.67\n",
       "13                 Japan             1         2    3          66.67\n",
       "14    Korea, Republic of             1         1    2          50.00\n",
       "19              Portugal             0         2    2         100.00\n",
       "4         Czech Republic             2         0    2           0.00\n",
       "3                 Canada             1         1    2          50.00\n",
       "17     No Data Available             1         0    1           0.00\n",
       "18                Norway             1         0    1           0.00\n",
       "9                 Greece             0         1    1         100.00\n",
       "23  United Arab Emirates             1         0    1           0.00"
      ]
     },
     "execution_count": 122,
     "metadata": {},
     "output_type": "execute_result"
    }
   ],
   "source": [
    "#First for the EUCTR\n",
    "spon_country_reporting = crosstab(spon_country, 'euctr_results_inc', 'sponsor_country').reset_index()\n",
    "spon_country_reporting.columns = ['sponsor_country', 'not_reported', 'reported', 'all']\n",
    "spon_country_reporting['prct_reported'] = round((spon_country_reporting.reported / spon_country_reporting['all'])*100,2)\n",
    "spon_country_reporting.sort_values(by='all', ascending=False)"
   ]
  },
  {
   "cell_type": "code",
   "execution_count": 123,
   "id": "5a243b07-30e7-4786-b70e-d340cb9df656",
   "metadata": {},
   "outputs": [
    {
     "data": {
      "text/html": [
       "<div>\n",
       "<style scoped>\n",
       "    .dataframe tbody tr th:only-of-type {\n",
       "        vertical-align: middle;\n",
       "    }\n",
       "\n",
       "    .dataframe tbody tr th {\n",
       "        vertical-align: top;\n",
       "    }\n",
       "\n",
       "    .dataframe thead th {\n",
       "        text-align: right;\n",
       "    }\n",
       "</style>\n",
       "<table border=\"1\" class=\"dataframe\">\n",
       "  <thead>\n",
       "    <tr style=\"text-align: right;\">\n",
       "      <th></th>\n",
       "      <th>sponsor_country</th>\n",
       "      <th>not_reported</th>\n",
       "      <th>reported</th>\n",
       "      <th>all</th>\n",
       "      <th>prct_reported</th>\n",
       "    </tr>\n",
       "  </thead>\n",
       "  <tbody>\n",
       "    <tr>\n",
       "      <th>23</th>\n",
       "      <td>All</td>\n",
       "      <td>206</td>\n",
       "      <td>133</td>\n",
       "      <td>339</td>\n",
       "      <td>39.23</td>\n",
       "    </tr>\n",
       "    <tr>\n",
       "      <th>22</th>\n",
       "      <td>United States</td>\n",
       "      <td>24</td>\n",
       "      <td>43</td>\n",
       "      <td>67</td>\n",
       "      <td>64.18</td>\n",
       "    </tr>\n",
       "    <tr>\n",
       "      <th>8</th>\n",
       "      <td>Germany</td>\n",
       "      <td>33</td>\n",
       "      <td>7</td>\n",
       "      <td>40</td>\n",
       "      <td>17.50</td>\n",
       "    </tr>\n",
       "    <tr>\n",
       "      <th>7</th>\n",
       "      <td>France</td>\n",
       "      <td>28</td>\n",
       "      <td>11</td>\n",
       "      <td>39</td>\n",
       "      <td>28.21</td>\n",
       "    </tr>\n",
       "    <tr>\n",
       "      <th>21</th>\n",
       "      <td>United Kingdom</td>\n",
       "      <td>18</td>\n",
       "      <td>14</td>\n",
       "      <td>32</td>\n",
       "      <td>43.75</td>\n",
       "    </tr>\n",
       "    <tr>\n",
       "      <th>19</th>\n",
       "      <td>Switzerland</td>\n",
       "      <td>8</td>\n",
       "      <td>18</td>\n",
       "      <td>26</td>\n",
       "      <td>69.23</td>\n",
       "    </tr>\n",
       "    <tr>\n",
       "      <th>17</th>\n",
       "      <td>Spain</td>\n",
       "      <td>20</td>\n",
       "      <td>0</td>\n",
       "      <td>20</td>\n",
       "      <td>0.00</td>\n",
       "    </tr>\n",
       "    <tr>\n",
       "      <th>14</th>\n",
       "      <td>Netherlands</td>\n",
       "      <td>15</td>\n",
       "      <td>4</td>\n",
       "      <td>19</td>\n",
       "      <td>21.05</td>\n",
       "    </tr>\n",
       "    <tr>\n",
       "      <th>5</th>\n",
       "      <td>Denmark</td>\n",
       "      <td>12</td>\n",
       "      <td>4</td>\n",
       "      <td>16</td>\n",
       "      <td>25.00</td>\n",
       "    </tr>\n",
       "    <tr>\n",
       "      <th>10</th>\n",
       "      <td>Italy</td>\n",
       "      <td>13</td>\n",
       "      <td>3</td>\n",
       "      <td>16</td>\n",
       "      <td>18.75</td>\n",
       "    </tr>\n",
       "    <tr>\n",
       "      <th>18</th>\n",
       "      <td>Sweden</td>\n",
       "      <td>9</td>\n",
       "      <td>6</td>\n",
       "      <td>15</td>\n",
       "      <td>40.00</td>\n",
       "    </tr>\n",
       "    <tr>\n",
       "      <th>2</th>\n",
       "      <td>Belgium</td>\n",
       "      <td>7</td>\n",
       "      <td>7</td>\n",
       "      <td>14</td>\n",
       "      <td>50.00</td>\n",
       "    </tr>\n",
       "    <tr>\n",
       "      <th>1</th>\n",
       "      <td>Austria</td>\n",
       "      <td>5</td>\n",
       "      <td>5</td>\n",
       "      <td>10</td>\n",
       "      <td>50.00</td>\n",
       "    </tr>\n",
       "    <tr>\n",
       "      <th>13</th>\n",
       "      <td>Multi-country</td>\n",
       "      <td>4</td>\n",
       "      <td>3</td>\n",
       "      <td>7</td>\n",
       "      <td>42.86</td>\n",
       "    </tr>\n",
       "    <tr>\n",
       "      <th>6</th>\n",
       "      <td>Finland</td>\n",
       "      <td>2</td>\n",
       "      <td>1</td>\n",
       "      <td>3</td>\n",
       "      <td>33.33</td>\n",
       "    </tr>\n",
       "    <tr>\n",
       "      <th>11</th>\n",
       "      <td>Japan</td>\n",
       "      <td>1</td>\n",
       "      <td>2</td>\n",
       "      <td>3</td>\n",
       "      <td>66.67</td>\n",
       "    </tr>\n",
       "    <tr>\n",
       "      <th>12</th>\n",
       "      <td>Korea, Republic of</td>\n",
       "      <td>1</td>\n",
       "      <td>1</td>\n",
       "      <td>2</td>\n",
       "      <td>50.00</td>\n",
       "    </tr>\n",
       "    <tr>\n",
       "      <th>16</th>\n",
       "      <td>Portugal</td>\n",
       "      <td>1</td>\n",
       "      <td>1</td>\n",
       "      <td>2</td>\n",
       "      <td>50.00</td>\n",
       "    </tr>\n",
       "    <tr>\n",
       "      <th>9</th>\n",
       "      <td>Hungary</td>\n",
       "      <td>2</td>\n",
       "      <td>0</td>\n",
       "      <td>2</td>\n",
       "      <td>0.00</td>\n",
       "    </tr>\n",
       "    <tr>\n",
       "      <th>3</th>\n",
       "      <td>Canada</td>\n",
       "      <td>1</td>\n",
       "      <td>1</td>\n",
       "      <td>2</td>\n",
       "      <td>50.00</td>\n",
       "    </tr>\n",
       "    <tr>\n",
       "      <th>15</th>\n",
       "      <td>Norway</td>\n",
       "      <td>1</td>\n",
       "      <td>0</td>\n",
       "      <td>1</td>\n",
       "      <td>0.00</td>\n",
       "    </tr>\n",
       "    <tr>\n",
       "      <th>20</th>\n",
       "      <td>United Arab Emirates</td>\n",
       "      <td>0</td>\n",
       "      <td>1</td>\n",
       "      <td>1</td>\n",
       "      <td>100.00</td>\n",
       "    </tr>\n",
       "    <tr>\n",
       "      <th>4</th>\n",
       "      <td>Czech Republic</td>\n",
       "      <td>1</td>\n",
       "      <td>0</td>\n",
       "      <td>1</td>\n",
       "      <td>0.00</td>\n",
       "    </tr>\n",
       "    <tr>\n",
       "      <th>0</th>\n",
       "      <td>Australia</td>\n",
       "      <td>0</td>\n",
       "      <td>1</td>\n",
       "      <td>1</td>\n",
       "      <td>100.00</td>\n",
       "    </tr>\n",
       "  </tbody>\n",
       "</table>\n",
       "</div>"
      ],
      "text/plain": [
       "         sponsor_country  not_reported  reported  all  prct_reported\n",
       "23                   All           206       133  339          39.23\n",
       "22         United States            24        43   67          64.18\n",
       "8                Germany            33         7   40          17.50\n",
       "7                 France            28        11   39          28.21\n",
       "21        United Kingdom            18        14   32          43.75\n",
       "19           Switzerland             8        18   26          69.23\n",
       "17                 Spain            20         0   20           0.00\n",
       "14           Netherlands            15         4   19          21.05\n",
       "5                Denmark            12         4   16          25.00\n",
       "10                 Italy            13         3   16          18.75\n",
       "18                Sweden             9         6   15          40.00\n",
       "2                Belgium             7         7   14          50.00\n",
       "1                Austria             5         5   10          50.00\n",
       "13         Multi-country             4         3    7          42.86\n",
       "6                Finland             2         1    3          33.33\n",
       "11                 Japan             1         2    3          66.67\n",
       "12    Korea, Republic of             1         1    2          50.00\n",
       "16              Portugal             1         1    2          50.00\n",
       "9                Hungary             2         0    2           0.00\n",
       "3                 Canada             1         1    2          50.00\n",
       "15                Norway             1         0    1           0.00\n",
       "20  United Arab Emirates             0         1    1         100.00\n",
       "4         Czech Republic             1         0    1           0.00\n",
       "0              Australia             0         1    1         100.00"
      ]
     },
     "execution_count": 123,
     "metadata": {},
     "output_type": "execute_result"
    }
   ],
   "source": [
    "#Now for the other dissemination routes\n",
    "\n",
    "#CTG\n",
    "ct_gov_trials = spon_country[spon_country.nct_id.notnull()].reset_index(drop=True)\n",
    "ctg_reporting = crosstab(ct_gov_trials, 'ctgov_results_inc', 'sponsor_country').reset_index()\n",
    "ctg_reporting.columns = ['sponsor_country', 'not_reported', 'reported', 'all']\n",
    "ctg_reporting['prct_reported'] = round((ctg_reporting.reported / ctg_reporting['all'])*100,2)\n",
    "ctg_reporting.sort_values(by='all', ascending=False)"
   ]
  },
  {
   "cell_type": "code",
   "execution_count": 124,
   "id": "4d4560e5-3bcc-4f4e-9529-8276c3f38193",
   "metadata": {},
   "outputs": [
    {
     "data": {
      "text/html": [
       "<div>\n",
       "<style scoped>\n",
       "    .dataframe tbody tr th:only-of-type {\n",
       "        vertical-align: middle;\n",
       "    }\n",
       "\n",
       "    .dataframe tbody tr th {\n",
       "        vertical-align: top;\n",
       "    }\n",
       "\n",
       "    .dataframe thead th {\n",
       "        text-align: right;\n",
       "    }\n",
       "</style>\n",
       "<table border=\"1\" class=\"dataframe\">\n",
       "  <thead>\n",
       "    <tr style=\"text-align: right;\">\n",
       "      <th></th>\n",
       "      <th>sponsor_country</th>\n",
       "      <th>not_reported</th>\n",
       "      <th>reported</th>\n",
       "      <th>all</th>\n",
       "      <th>prct_reported</th>\n",
       "    </tr>\n",
       "  </thead>\n",
       "  <tbody>\n",
       "    <tr>\n",
       "      <th>7</th>\n",
       "      <td>All</td>\n",
       "      <td>30</td>\n",
       "      <td>2</td>\n",
       "      <td>32</td>\n",
       "      <td>6.250000</td>\n",
       "    </tr>\n",
       "    <tr>\n",
       "      <th>6</th>\n",
       "      <td>United Kingdom</td>\n",
       "      <td>20</td>\n",
       "      <td>1</td>\n",
       "      <td>21</td>\n",
       "      <td>4.761905</td>\n",
       "    </tr>\n",
       "    <tr>\n",
       "      <th>4</th>\n",
       "      <td>Germany</td>\n",
       "      <td>3</td>\n",
       "      <td>0</td>\n",
       "      <td>3</td>\n",
       "      <td>0.000000</td>\n",
       "    </tr>\n",
       "    <tr>\n",
       "      <th>5</th>\n",
       "      <td>Netherlands</td>\n",
       "      <td>2</td>\n",
       "      <td>1</td>\n",
       "      <td>3</td>\n",
       "      <td>33.333333</td>\n",
       "    </tr>\n",
       "    <tr>\n",
       "      <th>0</th>\n",
       "      <td>Austria</td>\n",
       "      <td>2</td>\n",
       "      <td>0</td>\n",
       "      <td>2</td>\n",
       "      <td>0.000000</td>\n",
       "    </tr>\n",
       "    <tr>\n",
       "      <th>1</th>\n",
       "      <td>Canada</td>\n",
       "      <td>1</td>\n",
       "      <td>0</td>\n",
       "      <td>1</td>\n",
       "      <td>0.000000</td>\n",
       "    </tr>\n",
       "    <tr>\n",
       "      <th>2</th>\n",
       "      <td>Denmark</td>\n",
       "      <td>1</td>\n",
       "      <td>0</td>\n",
       "      <td>1</td>\n",
       "      <td>0.000000</td>\n",
       "    </tr>\n",
       "    <tr>\n",
       "      <th>3</th>\n",
       "      <td>France</td>\n",
       "      <td>1</td>\n",
       "      <td>0</td>\n",
       "      <td>1</td>\n",
       "      <td>0.000000</td>\n",
       "    </tr>\n",
       "  </tbody>\n",
       "</table>\n",
       "</div>"
      ],
      "text/plain": [
       "  sponsor_country  not_reported  reported  all  prct_reported\n",
       "7             All            30         2   32       6.250000\n",
       "6  United Kingdom            20         1   21       4.761905\n",
       "4         Germany             3         0    3       0.000000\n",
       "5     Netherlands             2         1    3      33.333333\n",
       "0         Austria             2         0    2       0.000000\n",
       "1          Canada             1         0    1       0.000000\n",
       "2         Denmark             1         0    1       0.000000\n",
       "3          France             1         0    1       0.000000"
      ]
     },
     "execution_count": 124,
     "metadata": {},
     "output_type": "execute_result"
    }
   ],
   "source": [
    "#ISRCTN\n",
    "isrctn_trials = spon_country[spon_country.isrctn_id.notnull()].reset_index(drop=True)\n",
    "isrctn_reporting = crosstab(isrctn_trials, 'isrctn_results_inc', 'sponsor_country').reset_index()\n",
    "isrctn_reporting.columns = ['sponsor_country', 'not_reported', 'reported', 'all']\n",
    "isrctn_reporting['prct_reported'] = (isrctn_reporting.reported / isrctn_reporting['all']) * 100\n",
    "isrctn_reporting.sort_values(by='all', ascending=False)"
   ]
  },
  {
   "cell_type": "code",
   "execution_count": 125,
   "id": "3d49ba4a-6843-4b86-ba00-f4f7936dbfc9",
   "metadata": {},
   "outputs": [
    {
     "data": {
      "text/html": [
       "<div>\n",
       "<style scoped>\n",
       "    .dataframe tbody tr th:only-of-type {\n",
       "        vertical-align: middle;\n",
       "    }\n",
       "\n",
       "    .dataframe tbody tr th {\n",
       "        vertical-align: top;\n",
       "    }\n",
       "\n",
       "    .dataframe thead th {\n",
       "        text-align: right;\n",
       "    }\n",
       "</style>\n",
       "<table border=\"1\" class=\"dataframe\">\n",
       "  <thead>\n",
       "    <tr style=\"text-align: right;\">\n",
       "      <th></th>\n",
       "      <th>sponsor_country</th>\n",
       "      <th>not_reported</th>\n",
       "      <th>reported</th>\n",
       "      <th>all</th>\n",
       "      <th>prct_reported</th>\n",
       "    </tr>\n",
       "  </thead>\n",
       "  <tbody>\n",
       "    <tr>\n",
       "      <th>26</th>\n",
       "      <td>All</td>\n",
       "      <td>207</td>\n",
       "      <td>293</td>\n",
       "      <td>500</td>\n",
       "      <td>58.60</td>\n",
       "    </tr>\n",
       "    <tr>\n",
       "      <th>25</th>\n",
       "      <td>United States</td>\n",
       "      <td>24</td>\n",
       "      <td>46</td>\n",
       "      <td>70</td>\n",
       "      <td>65.71</td>\n",
       "    </tr>\n",
       "    <tr>\n",
       "      <th>24</th>\n",
       "      <td>United Kingdom</td>\n",
       "      <td>16</td>\n",
       "      <td>45</td>\n",
       "      <td>61</td>\n",
       "      <td>73.77</td>\n",
       "    </tr>\n",
       "    <tr>\n",
       "      <th>8</th>\n",
       "      <td>Germany</td>\n",
       "      <td>27</td>\n",
       "      <td>31</td>\n",
       "      <td>58</td>\n",
       "      <td>53.45</td>\n",
       "    </tr>\n",
       "    <tr>\n",
       "      <th>7</th>\n",
       "      <td>France</td>\n",
       "      <td>27</td>\n",
       "      <td>22</td>\n",
       "      <td>49</td>\n",
       "      <td>44.90</td>\n",
       "    </tr>\n",
       "    <tr>\n",
       "      <th>12</th>\n",
       "      <td>Italy</td>\n",
       "      <td>25</td>\n",
       "      <td>21</td>\n",
       "      <td>46</td>\n",
       "      <td>45.65</td>\n",
       "    </tr>\n",
       "    <tr>\n",
       "      <th>20</th>\n",
       "      <td>Spain</td>\n",
       "      <td>19</td>\n",
       "      <td>17</td>\n",
       "      <td>36</td>\n",
       "      <td>47.22</td>\n",
       "    </tr>\n",
       "    <tr>\n",
       "      <th>16</th>\n",
       "      <td>Netherlands</td>\n",
       "      <td>10</td>\n",
       "      <td>24</td>\n",
       "      <td>34</td>\n",
       "      <td>70.59</td>\n",
       "    </tr>\n",
       "    <tr>\n",
       "      <th>22</th>\n",
       "      <td>Switzerland</td>\n",
       "      <td>10</td>\n",
       "      <td>18</td>\n",
       "      <td>28</td>\n",
       "      <td>64.29</td>\n",
       "    </tr>\n",
       "    <tr>\n",
       "      <th>5</th>\n",
       "      <td>Denmark</td>\n",
       "      <td>10</td>\n",
       "      <td>12</td>\n",
       "      <td>22</td>\n",
       "      <td>54.55</td>\n",
       "    </tr>\n",
       "    <tr>\n",
       "      <th>2</th>\n",
       "      <td>Belgium</td>\n",
       "      <td>8</td>\n",
       "      <td>13</td>\n",
       "      <td>21</td>\n",
       "      <td>61.90</td>\n",
       "    </tr>\n",
       "    <tr>\n",
       "      <th>21</th>\n",
       "      <td>Sweden</td>\n",
       "      <td>10</td>\n",
       "      <td>10</td>\n",
       "      <td>20</td>\n",
       "      <td>50.00</td>\n",
       "    </tr>\n",
       "    <tr>\n",
       "      <th>1</th>\n",
       "      <td>Austria</td>\n",
       "      <td>3</td>\n",
       "      <td>14</td>\n",
       "      <td>17</td>\n",
       "      <td>82.35</td>\n",
       "    </tr>\n",
       "    <tr>\n",
       "      <th>15</th>\n",
       "      <td>Multi-country</td>\n",
       "      <td>4</td>\n",
       "      <td>5</td>\n",
       "      <td>9</td>\n",
       "      <td>55.56</td>\n",
       "    </tr>\n",
       "    <tr>\n",
       "      <th>6</th>\n",
       "      <td>Finland</td>\n",
       "      <td>1</td>\n",
       "      <td>4</td>\n",
       "      <td>5</td>\n",
       "      <td>80.00</td>\n",
       "    </tr>\n",
       "    <tr>\n",
       "      <th>0</th>\n",
       "      <td>Australia</td>\n",
       "      <td>2</td>\n",
       "      <td>1</td>\n",
       "      <td>3</td>\n",
       "      <td>33.33</td>\n",
       "    </tr>\n",
       "    <tr>\n",
       "      <th>11</th>\n",
       "      <td>Ireland</td>\n",
       "      <td>1</td>\n",
       "      <td>2</td>\n",
       "      <td>3</td>\n",
       "      <td>66.67</td>\n",
       "    </tr>\n",
       "    <tr>\n",
       "      <th>10</th>\n",
       "      <td>Hungary</td>\n",
       "      <td>1</td>\n",
       "      <td>2</td>\n",
       "      <td>3</td>\n",
       "      <td>66.67</td>\n",
       "    </tr>\n",
       "    <tr>\n",
       "      <th>13</th>\n",
       "      <td>Japan</td>\n",
       "      <td>1</td>\n",
       "      <td>2</td>\n",
       "      <td>3</td>\n",
       "      <td>66.67</td>\n",
       "    </tr>\n",
       "    <tr>\n",
       "      <th>14</th>\n",
       "      <td>Korea, Republic of</td>\n",
       "      <td>1</td>\n",
       "      <td>1</td>\n",
       "      <td>2</td>\n",
       "      <td>50.00</td>\n",
       "    </tr>\n",
       "    <tr>\n",
       "      <th>19</th>\n",
       "      <td>Portugal</td>\n",
       "      <td>2</td>\n",
       "      <td>0</td>\n",
       "      <td>2</td>\n",
       "      <td>0.00</td>\n",
       "    </tr>\n",
       "    <tr>\n",
       "      <th>4</th>\n",
       "      <td>Czech Republic</td>\n",
       "      <td>2</td>\n",
       "      <td>0</td>\n",
       "      <td>2</td>\n",
       "      <td>0.00</td>\n",
       "    </tr>\n",
       "    <tr>\n",
       "      <th>3</th>\n",
       "      <td>Canada</td>\n",
       "      <td>0</td>\n",
       "      <td>2</td>\n",
       "      <td>2</td>\n",
       "      <td>100.00</td>\n",
       "    </tr>\n",
       "    <tr>\n",
       "      <th>17</th>\n",
       "      <td>No Data Available</td>\n",
       "      <td>1</td>\n",
       "      <td>0</td>\n",
       "      <td>1</td>\n",
       "      <td>0.00</td>\n",
       "    </tr>\n",
       "    <tr>\n",
       "      <th>18</th>\n",
       "      <td>Norway</td>\n",
       "      <td>1</td>\n",
       "      <td>0</td>\n",
       "      <td>1</td>\n",
       "      <td>0.00</td>\n",
       "    </tr>\n",
       "    <tr>\n",
       "      <th>9</th>\n",
       "      <td>Greece</td>\n",
       "      <td>1</td>\n",
       "      <td>0</td>\n",
       "      <td>1</td>\n",
       "      <td>0.00</td>\n",
       "    </tr>\n",
       "    <tr>\n",
       "      <th>23</th>\n",
       "      <td>United Arab Emirates</td>\n",
       "      <td>0</td>\n",
       "      <td>1</td>\n",
       "      <td>1</td>\n",
       "      <td>100.00</td>\n",
       "    </tr>\n",
       "  </tbody>\n",
       "</table>\n",
       "</div>"
      ],
      "text/plain": [
       "         sponsor_country  not_reported  reported  all  prct_reported\n",
       "26                   All           207       293  500          58.60\n",
       "25         United States            24        46   70          65.71\n",
       "24        United Kingdom            16        45   61          73.77\n",
       "8                Germany            27        31   58          53.45\n",
       "7                 France            27        22   49          44.90\n",
       "12                 Italy            25        21   46          45.65\n",
       "20                 Spain            19        17   36          47.22\n",
       "16           Netherlands            10        24   34          70.59\n",
       "22           Switzerland            10        18   28          64.29\n",
       "5                Denmark            10        12   22          54.55\n",
       "2                Belgium             8        13   21          61.90\n",
       "21                Sweden            10        10   20          50.00\n",
       "1                Austria             3        14   17          82.35\n",
       "15         Multi-country             4         5    9          55.56\n",
       "6                Finland             1         4    5          80.00\n",
       "0              Australia             2         1    3          33.33\n",
       "11               Ireland             1         2    3          66.67\n",
       "10               Hungary             1         2    3          66.67\n",
       "13                 Japan             1         2    3          66.67\n",
       "14    Korea, Republic of             1         1    2          50.00\n",
       "19              Portugal             2         0    2           0.00\n",
       "4         Czech Republic             2         0    2           0.00\n",
       "3                 Canada             0         2    2         100.00\n",
       "17     No Data Available             1         0    1           0.00\n",
       "18                Norway             1         0    1           0.00\n",
       "9                 Greece             1         0    1           0.00\n",
       "23  United Arab Emirates             0         1    1         100.00"
      ]
     },
     "execution_count": 125,
     "metadata": {},
     "output_type": "execute_result"
    }
   ],
   "source": [
    "#Journal Reporting\n",
    "journal_reporting = crosstab(spon_country, 'journal_results_inc', 'sponsor_country').reset_index()\n",
    "journal_reporting.columns = ['sponsor_country', 'not_reported', 'reported', 'all']\n",
    "journal_reporting['prct_reported'] = round((journal_reporting.reported / journal_reporting['all'])*100,2)\n",
    "journal_reporting.sort_values(by='all', ascending=False)"
   ]
  },
  {
   "cell_type": "code",
   "execution_count": 126,
   "id": "37c049bf-b2fd-4841-a1ec-a3c864fad802",
   "metadata": {
    "lines_to_next_cell": 0
   },
   "outputs": [
    {
     "data": {
      "text/html": [
       "<div>\n",
       "<style scoped>\n",
       "    .dataframe tbody tr th:only-of-type {\n",
       "        vertical-align: middle;\n",
       "    }\n",
       "\n",
       "    .dataframe tbody tr th {\n",
       "        vertical-align: top;\n",
       "    }\n",
       "\n",
       "    .dataframe thead th {\n",
       "        text-align: right;\n",
       "    }\n",
       "</style>\n",
       "<table border=\"1\" class=\"dataframe\">\n",
       "  <thead>\n",
       "    <tr style=\"text-align: right;\">\n",
       "      <th></th>\n",
       "      <th>sponsor_country</th>\n",
       "      <th>not_reported</th>\n",
       "      <th>reported</th>\n",
       "      <th>all</th>\n",
       "      <th>prct_reported</th>\n",
       "    </tr>\n",
       "  </thead>\n",
       "  <tbody>\n",
       "    <tr>\n",
       "      <th>26</th>\n",
       "      <td>All</td>\n",
       "      <td>117</td>\n",
       "      <td>383</td>\n",
       "      <td>500</td>\n",
       "      <td>76.60</td>\n",
       "    </tr>\n",
       "    <tr>\n",
       "      <th>25</th>\n",
       "      <td>United States</td>\n",
       "      <td>11</td>\n",
       "      <td>59</td>\n",
       "      <td>70</td>\n",
       "      <td>84.29</td>\n",
       "    </tr>\n",
       "    <tr>\n",
       "      <th>24</th>\n",
       "      <td>United Kingdom</td>\n",
       "      <td>6</td>\n",
       "      <td>55</td>\n",
       "      <td>61</td>\n",
       "      <td>90.16</td>\n",
       "    </tr>\n",
       "    <tr>\n",
       "      <th>8</th>\n",
       "      <td>Germany</td>\n",
       "      <td>14</td>\n",
       "      <td>44</td>\n",
       "      <td>58</td>\n",
       "      <td>75.86</td>\n",
       "    </tr>\n",
       "    <tr>\n",
       "      <th>7</th>\n",
       "      <td>France</td>\n",
       "      <td>13</td>\n",
       "      <td>36</td>\n",
       "      <td>49</td>\n",
       "      <td>73.47</td>\n",
       "    </tr>\n",
       "    <tr>\n",
       "      <th>12</th>\n",
       "      <td>Italy</td>\n",
       "      <td>21</td>\n",
       "      <td>25</td>\n",
       "      <td>46</td>\n",
       "      <td>54.35</td>\n",
       "    </tr>\n",
       "    <tr>\n",
       "      <th>20</th>\n",
       "      <td>Spain</td>\n",
       "      <td>18</td>\n",
       "      <td>18</td>\n",
       "      <td>36</td>\n",
       "      <td>50.00</td>\n",
       "    </tr>\n",
       "    <tr>\n",
       "      <th>16</th>\n",
       "      <td>Netherlands</td>\n",
       "      <td>8</td>\n",
       "      <td>26</td>\n",
       "      <td>34</td>\n",
       "      <td>76.47</td>\n",
       "    </tr>\n",
       "    <tr>\n",
       "      <th>22</th>\n",
       "      <td>Switzerland</td>\n",
       "      <td>1</td>\n",
       "      <td>27</td>\n",
       "      <td>28</td>\n",
       "      <td>96.43</td>\n",
       "    </tr>\n",
       "    <tr>\n",
       "      <th>5</th>\n",
       "      <td>Denmark</td>\n",
       "      <td>6</td>\n",
       "      <td>16</td>\n",
       "      <td>22</td>\n",
       "      <td>72.73</td>\n",
       "    </tr>\n",
       "    <tr>\n",
       "      <th>2</th>\n",
       "      <td>Belgium</td>\n",
       "      <td>5</td>\n",
       "      <td>16</td>\n",
       "      <td>21</td>\n",
       "      <td>76.19</td>\n",
       "    </tr>\n",
       "    <tr>\n",
       "      <th>21</th>\n",
       "      <td>Sweden</td>\n",
       "      <td>5</td>\n",
       "      <td>15</td>\n",
       "      <td>20</td>\n",
       "      <td>75.00</td>\n",
       "    </tr>\n",
       "    <tr>\n",
       "      <th>1</th>\n",
       "      <td>Austria</td>\n",
       "      <td>2</td>\n",
       "      <td>15</td>\n",
       "      <td>17</td>\n",
       "      <td>88.24</td>\n",
       "    </tr>\n",
       "    <tr>\n",
       "      <th>15</th>\n",
       "      <td>Multi-country</td>\n",
       "      <td>0</td>\n",
       "      <td>9</td>\n",
       "      <td>9</td>\n",
       "      <td>100.00</td>\n",
       "    </tr>\n",
       "    <tr>\n",
       "      <th>6</th>\n",
       "      <td>Finland</td>\n",
       "      <td>0</td>\n",
       "      <td>5</td>\n",
       "      <td>5</td>\n",
       "      <td>100.00</td>\n",
       "    </tr>\n",
       "    <tr>\n",
       "      <th>0</th>\n",
       "      <td>Australia</td>\n",
       "      <td>1</td>\n",
       "      <td>2</td>\n",
       "      <td>3</td>\n",
       "      <td>66.67</td>\n",
       "    </tr>\n",
       "    <tr>\n",
       "      <th>11</th>\n",
       "      <td>Ireland</td>\n",
       "      <td>1</td>\n",
       "      <td>2</td>\n",
       "      <td>3</td>\n",
       "      <td>66.67</td>\n",
       "    </tr>\n",
       "    <tr>\n",
       "      <th>10</th>\n",
       "      <td>Hungary</td>\n",
       "      <td>0</td>\n",
       "      <td>3</td>\n",
       "      <td>3</td>\n",
       "      <td>100.00</td>\n",
       "    </tr>\n",
       "    <tr>\n",
       "      <th>13</th>\n",
       "      <td>Japan</td>\n",
       "      <td>1</td>\n",
       "      <td>2</td>\n",
       "      <td>3</td>\n",
       "      <td>66.67</td>\n",
       "    </tr>\n",
       "    <tr>\n",
       "      <th>14</th>\n",
       "      <td>Korea, Republic of</td>\n",
       "      <td>0</td>\n",
       "      <td>2</td>\n",
       "      <td>2</td>\n",
       "      <td>100.00</td>\n",
       "    </tr>\n",
       "    <tr>\n",
       "      <th>19</th>\n",
       "      <td>Portugal</td>\n",
       "      <td>0</td>\n",
       "      <td>2</td>\n",
       "      <td>2</td>\n",
       "      <td>100.00</td>\n",
       "    </tr>\n",
       "    <tr>\n",
       "      <th>4</th>\n",
       "      <td>Czech Republic</td>\n",
       "      <td>2</td>\n",
       "      <td>0</td>\n",
       "      <td>2</td>\n",
       "      <td>0.00</td>\n",
       "    </tr>\n",
       "    <tr>\n",
       "      <th>3</th>\n",
       "      <td>Canada</td>\n",
       "      <td>0</td>\n",
       "      <td>2</td>\n",
       "      <td>2</td>\n",
       "      <td>100.00</td>\n",
       "    </tr>\n",
       "    <tr>\n",
       "      <th>17</th>\n",
       "      <td>No Data Available</td>\n",
       "      <td>1</td>\n",
       "      <td>0</td>\n",
       "      <td>1</td>\n",
       "      <td>0.00</td>\n",
       "    </tr>\n",
       "    <tr>\n",
       "      <th>18</th>\n",
       "      <td>Norway</td>\n",
       "      <td>1</td>\n",
       "      <td>0</td>\n",
       "      <td>1</td>\n",
       "      <td>0.00</td>\n",
       "    </tr>\n",
       "    <tr>\n",
       "      <th>9</th>\n",
       "      <td>Greece</td>\n",
       "      <td>0</td>\n",
       "      <td>1</td>\n",
       "      <td>1</td>\n",
       "      <td>100.00</td>\n",
       "    </tr>\n",
       "    <tr>\n",
       "      <th>23</th>\n",
       "      <td>United Arab Emirates</td>\n",
       "      <td>0</td>\n",
       "      <td>1</td>\n",
       "      <td>1</td>\n",
       "      <td>100.00</td>\n",
       "    </tr>\n",
       "  </tbody>\n",
       "</table>\n",
       "</div>"
      ],
      "text/plain": [
       "         sponsor_country  not_reported  reported  all  prct_reported\n",
       "26                   All           117       383  500          76.60\n",
       "25         United States            11        59   70          84.29\n",
       "24        United Kingdom             6        55   61          90.16\n",
       "8                Germany            14        44   58          75.86\n",
       "7                 France            13        36   49          73.47\n",
       "12                 Italy            21        25   46          54.35\n",
       "20                 Spain            18        18   36          50.00\n",
       "16           Netherlands             8        26   34          76.47\n",
       "22           Switzerland             1        27   28          96.43\n",
       "5                Denmark             6        16   22          72.73\n",
       "2                Belgium             5        16   21          76.19\n",
       "21                Sweden             5        15   20          75.00\n",
       "1                Austria             2        15   17          88.24\n",
       "15         Multi-country             0         9    9         100.00\n",
       "6                Finland             0         5    5         100.00\n",
       "0              Australia             1         2    3          66.67\n",
       "11               Ireland             1         2    3          66.67\n",
       "10               Hungary             0         3    3         100.00\n",
       "13                 Japan             1         2    3          66.67\n",
       "14    Korea, Republic of             0         2    2         100.00\n",
       "19              Portugal             0         2    2         100.00\n",
       "4         Czech Republic             2         0    2           0.00\n",
       "3                 Canada             0         2    2         100.00\n",
       "17     No Data Available             1         0    1           0.00\n",
       "18                Norway             1         0    1           0.00\n",
       "9                 Greece             0         1    1         100.00\n",
       "23  United Arab Emirates             0         1    1         100.00"
      ]
     },
     "execution_count": 126,
     "metadata": {},
     "output_type": "execute_result"
    }
   ],
   "source": [
    "#Any Reporting\n",
    "any_reporting = crosstab(spon_country, 'any_results_inc', 'sponsor_country').reset_index()\n",
    "any_reporting.columns = ['sponsor_country', 'not_reported', 'reported', 'all']\n",
    "any_reporting['prct_reported'] = round((any_reporting.reported / any_reporting['all'])*100,2)\n",
    "any_reporting.sort_values(by='all', ascending=False)"
   ]
  },
  {
   "cell_type": "markdown",
   "id": "e7751bde-508b-494e-b9bd-5037c60d1b35",
   "metadata": {},
   "source": [
    "# Peer Review Additions\n",
    "\n",
    "Additions to the analysis requested by, or added following, peer review"
   ]
  },
  {
   "cell_type": "markdown",
   "id": "52f8c8ce-48f8-4cb6-8324-1dcf62e36e51",
   "metadata": {},
   "source": [
    "## Breakdown of results by sponsor type"
   ]
  },
  {
   "cell_type": "code",
   "execution_count": 219,
   "id": "307dc59c-49cc-458a-860b-1a876de6d621",
   "metadata": {},
   "outputs": [
    {
     "data": {
      "text/html": [
       "<div>\n",
       "<style scoped>\n",
       "    .dataframe tbody tr th:only-of-type {\n",
       "        vertical-align: middle;\n",
       "    }\n",
       "\n",
       "    .dataframe tbody tr th {\n",
       "        vertical-align: top;\n",
       "    }\n",
       "\n",
       "    .dataframe thead th {\n",
       "        text-align: right;\n",
       "    }\n",
       "</style>\n",
       "<table border=\"1\" class=\"dataframe\">\n",
       "  <thead>\n",
       "    <tr style=\"text-align: right;\">\n",
       "      <th></th>\n",
       "      <th>Unnamed: 0</th>\n",
       "      <th>eudract_number</th>\n",
       "      <th>final_date</th>\n",
       "      <th>inferred</th>\n",
       "    </tr>\n",
       "  </thead>\n",
       "  <tbody>\n",
       "    <tr>\n",
       "      <th>0</th>\n",
       "      <td>5552</td>\n",
       "      <td>2014-003401-15</td>\n",
       "      <td>2015-02-03</td>\n",
       "      <td>0</td>\n",
       "    </tr>\n",
       "    <tr>\n",
       "      <th>1</th>\n",
       "      <td>7336</td>\n",
       "      <td>2011-001616-57</td>\n",
       "      <td>2014-09-12</td>\n",
       "      <td>0</td>\n",
       "    </tr>\n",
       "    <tr>\n",
       "      <th>2</th>\n",
       "      <td>12314</td>\n",
       "      <td>2004-002743-27</td>\n",
       "      <td>2008-01-31</td>\n",
       "      <td>0</td>\n",
       "    </tr>\n",
       "    <tr>\n",
       "      <th>3</th>\n",
       "      <td>6567</td>\n",
       "      <td>2013-003561-34</td>\n",
       "      <td>2017-10-02</td>\n",
       "      <td>0</td>\n",
       "    </tr>\n",
       "    <tr>\n",
       "      <th>4</th>\n",
       "      <td>13573</td>\n",
       "      <td>2006-001414-33</td>\n",
       "      <td>2013-07-01</td>\n",
       "      <td>0</td>\n",
       "    </tr>\n",
       "    <tr>\n",
       "      <th>...</th>\n",
       "      <td>...</td>\n",
       "      <td>...</td>\n",
       "      <td>...</td>\n",
       "      <td>...</td>\n",
       "    </tr>\n",
       "    <tr>\n",
       "      <th>17</th>\n",
       "      <td>1061</td>\n",
       "      <td>2008-000083-17</td>\n",
       "      <td>2010-01-13</td>\n",
       "      <td>1</td>\n",
       "    </tr>\n",
       "    <tr>\n",
       "      <th>18</th>\n",
       "      <td>8457</td>\n",
       "      <td>2007-004350-82</td>\n",
       "      <td>2012-03-23</td>\n",
       "      <td>0</td>\n",
       "    </tr>\n",
       "    <tr>\n",
       "      <th>19</th>\n",
       "      <td>19616</td>\n",
       "      <td>2015-002963-40</td>\n",
       "      <td>2017-07-22</td>\n",
       "      <td>1</td>\n",
       "    </tr>\n",
       "    <tr>\n",
       "      <th>20</th>\n",
       "      <td>2873</td>\n",
       "      <td>2011-001007-12</td>\n",
       "      <td>2012-01-13</td>\n",
       "      <td>0</td>\n",
       "    </tr>\n",
       "    <tr>\n",
       "      <th>21</th>\n",
       "      <td>15206</td>\n",
       "      <td>2016-001575-71</td>\n",
       "      <td>2018-01-29</td>\n",
       "      <td>0</td>\n",
       "    </tr>\n",
       "  </tbody>\n",
       "</table>\n",
       "<p>522 rows × 4 columns</p>\n",
       "</div>"
      ],
      "text/plain": [
       "    Unnamed: 0  eudract_number  final_date  inferred\n",
       "0         5552  2014-003401-15  2015-02-03         0\n",
       "1         7336  2011-001616-57  2014-09-12         0\n",
       "2        12314  2004-002743-27  2008-01-31         0\n",
       "3         6567  2013-003561-34  2017-10-02         0\n",
       "4        13573  2006-001414-33  2013-07-01         0\n",
       "..         ...             ...         ...       ...\n",
       "17        1061  2008-000083-17  2010-01-13         1\n",
       "18        8457  2007-004350-82  2012-03-23         0\n",
       "19       19616  2015-002963-40  2017-07-22         1\n",
       "20        2873  2011-001007-12  2012-01-13         0\n",
       "21       15206  2016-001575-71  2018-01-29         0\n",
       "\n",
       "[522 rows x 4 columns]"
      ]
     },
     "execution_count": 219,
     "metadata": {},
     "output_type": "execute_result"
    }
   ],
   "source": [
    "full_sample"
   ]
  },
  {
   "cell_type": "code",
   "execution_count": 220,
   "id": "49acf9c1-cc3b-4f8f-a79a-5e3bdea1d82a",
   "metadata": {},
   "outputs": [],
   "source": [
    "spon_results = analysis_df.merge(other_reg_data[['trial_id', 'sponsor_status']], \n",
    "                                 left_on='euctr_id', \n",
    "                                 right_on='trial_id', \n",
    "                                 how='left').merge(full_sample[['eudract_number', 'inferred']], \n",
    "                                                   left_on='euctr_id', \n",
    "                                                   right_on='eudract_number', \n",
    "                                                   how='left')"
   ]
  },
  {
   "cell_type": "code",
   "execution_count": 221,
   "id": "81af2bb7-91fa-4ea7-8ee6-183b3f30454b",
   "metadata": {},
   "outputs": [
    {
     "data": {
      "text/plain": [
       "Index(['euctr_id', 'dual_searched', 'searched_by', 'senior_reviewed',\n",
       "       'replaced', 'replaced_reason', 'euctr_results', 'euctr_results_link',\n",
       "       'euctr_results_format', 'euctr_results_date', 'ctgov_xreg', 'nct_id',\n",
       "       'ctgov_results', 'ctgov_results_link', 'ctgov_results_date',\n",
       "       'isrctn_xreg', 'isrctn_id', 'isrctn_results', 'isrctn_results_type',\n",
       "       'isrctn_results_link', 'isrctn_additional_links', 'isrctn_results_date',\n",
       "       'journal_result', 'journal_link', 'journal_source', 'journal_match',\n",
       "       'journal_pub_date', 'journal_reg_numbers', 'main_result_abstract',\n",
       "       'excluded_abstract', 'discl_no_analysis', 'team_discuss',\n",
       "       'additional_results_located', 'notes', 'euctr_results_inc',\n",
       "       'ctgov_results_inc', 'isrctn_results_inc', 'journal_results_inc',\n",
       "       'any_results_inc', 'trial_id', 'sponsor_status', 'eudract_number',\n",
       "       'inferred'],\n",
       "      dtype='object')"
      ]
     },
     "execution_count": 221,
     "metadata": {},
     "output_type": "execute_result"
    }
   ],
   "source": [
    "spon_results.columns"
   ]
  },
  {
   "cell_type": "code",
   "execution_count": 179,
   "id": "5c22799c-4e46-41c1-8cbb-5f49e659d4b5",
   "metadata": {},
   "outputs": [
    {
     "data": {
      "text/html": [
       "<div>\n",
       "<style scoped>\n",
       "    .dataframe tbody tr th:only-of-type {\n",
       "        vertical-align: middle;\n",
       "    }\n",
       "\n",
       "    .dataframe tbody tr th {\n",
       "        vertical-align: top;\n",
       "    }\n",
       "\n",
       "    .dataframe thead th {\n",
       "        text-align: right;\n",
       "    }\n",
       "</style>\n",
       "<table border=\"1\" class=\"dataframe\">\n",
       "  <thead>\n",
       "    <tr style=\"text-align: right;\">\n",
       "      <th>any_results_inc</th>\n",
       "      <th>0</th>\n",
       "      <th>1</th>\n",
       "      <th>All</th>\n",
       "    </tr>\n",
       "    <tr>\n",
       "      <th>sponsor_status</th>\n",
       "      <th></th>\n",
       "      <th></th>\n",
       "      <th></th>\n",
       "    </tr>\n",
       "  </thead>\n",
       "  <tbody>\n",
       "    <tr>\n",
       "      <th>Commercial</th>\n",
       "      <td>37</td>\n",
       "      <td>240</td>\n",
       "      <td>277</td>\n",
       "    </tr>\n",
       "    <tr>\n",
       "      <th>Non-Commercial</th>\n",
       "      <td>79</td>\n",
       "      <td>143</td>\n",
       "      <td>222</td>\n",
       "    </tr>\n",
       "    <tr>\n",
       "      <th>Unknown</th>\n",
       "      <td>1</td>\n",
       "      <td>0</td>\n",
       "      <td>1</td>\n",
       "    </tr>\n",
       "    <tr>\n",
       "      <th>All</th>\n",
       "      <td>117</td>\n",
       "      <td>383</td>\n",
       "      <td>500</td>\n",
       "    </tr>\n",
       "  </tbody>\n",
       "</table>\n",
       "</div>"
      ],
      "text/plain": [
       "any_results_inc    0    1  All\n",
       "sponsor_status                \n",
       "Commercial        37  240  277\n",
       "Non-Commercial    79  143  222\n",
       "Unknown            1    0    1\n",
       "All              117  383  500"
      ]
     },
     "execution_count": 179,
     "metadata": {},
     "output_type": "execute_result"
    }
   ],
   "source": [
    "#All Results\n",
    "crosstab(spon_results, 'any_results_inc', 'sponsor_status')"
   ]
  },
  {
   "cell_type": "code",
   "execution_count": 186,
   "id": "d9c0576d-20d2-4d37-8a5e-4f02bee64962",
   "metadata": {},
   "outputs": [
    {
     "name": "stdout",
     "output_type": "stream",
     "text": [
      "Outcome of Interest: 240\n",
      "Total: 277\n",
      "Proportion: 86.64%\n",
      "95% CI: 82.64-90.65\n",
      "\n",
      "\n",
      "Outcome of Interest: 143\n",
      "Total: 222\n",
      "Proportion: 64.41%\n",
      "95% CI: 58.12-70.71\n"
     ]
    },
    {
     "data": {
      "text/plain": [
       "(0.5811633439714392, 0.6441441441441441, 0.707124944316849)"
      ]
     },
     "execution_count": 186,
     "metadata": {},
     "output_type": "execute_result"
    }
   ],
   "source": [
    "summarizer(240,277)\n",
    "print('\\n')\n",
    "summarizer(143,222)"
   ]
  },
  {
   "cell_type": "code",
   "execution_count": 223,
   "id": "d92d8855-07ef-41fa-809d-dd03f61f6bfc",
   "metadata": {},
   "outputs": [
    {
     "data": {
      "text/html": [
       "<div>\n",
       "<style scoped>\n",
       "    .dataframe tbody tr th:only-of-type {\n",
       "        vertical-align: middle;\n",
       "    }\n",
       "\n",
       "    .dataframe tbody tr th {\n",
       "        vertical-align: top;\n",
       "    }\n",
       "\n",
       "    .dataframe thead th {\n",
       "        text-align: right;\n",
       "    }\n",
       "</style>\n",
       "<table border=\"1\" class=\"dataframe\">\n",
       "  <thead>\n",
       "    <tr style=\"text-align: right;\">\n",
       "      <th>any_results_inc</th>\n",
       "      <th>0</th>\n",
       "      <th>1</th>\n",
       "      <th>All</th>\n",
       "    </tr>\n",
       "    <tr>\n",
       "      <th>sponsor_status</th>\n",
       "      <th></th>\n",
       "      <th></th>\n",
       "      <th></th>\n",
       "    </tr>\n",
       "  </thead>\n",
       "  <tbody>\n",
       "    <tr>\n",
       "      <th>Commercial</th>\n",
       "      <td>27</td>\n",
       "      <td>233</td>\n",
       "      <td>260</td>\n",
       "    </tr>\n",
       "    <tr>\n",
       "      <th>Non-Commercial</th>\n",
       "      <td>15</td>\n",
       "      <td>79</td>\n",
       "      <td>94</td>\n",
       "    </tr>\n",
       "    <tr>\n",
       "      <th>All</th>\n",
       "      <td>42</td>\n",
       "      <td>312</td>\n",
       "      <td>354</td>\n",
       "    </tr>\n",
       "  </tbody>\n",
       "</table>\n",
       "</div>"
      ],
      "text/plain": [
       "any_results_inc   0    1  All\n",
       "sponsor_status               \n",
       "Commercial       27  233  260\n",
       "Non-Commercial   15   79   94\n",
       "All              42  312  354"
      ]
     },
     "execution_count": 223,
     "metadata": {},
     "output_type": "execute_result"
    }
   ],
   "source": [
    "crosstab(spon_results[spon_results.inferred==0], 'any_results_inc', 'sponsor_status')"
   ]
  },
  {
   "cell_type": "code",
   "execution_count": 225,
   "id": "18ec081d-271e-44cd-9519-78a49b24441a",
   "metadata": {},
   "outputs": [
    {
     "name": "stdout",
     "output_type": "stream",
     "text": [
      "Outcome of Interest: 233\n",
      "Total: 260\n",
      "Proportion: 89.62%\n",
      "95% CI: 85.91-93.32\n",
      "\n",
      "\n",
      "Outcome of Interest: 79\n",
      "Total: 94\n",
      "Proportion: 84.04%\n",
      "95% CI: 76.64-91.45\n"
     ]
    },
    {
     "data": {
      "text/plain": [
       "(0.7663928527837035, 0.8404255319148937, 0.9144582110460838)"
      ]
     },
     "execution_count": 225,
     "metadata": {},
     "output_type": "execute_result"
    }
   ],
   "source": [
    "summarizer(233,260)\n",
    "print('\\n')\n",
    "summarizer(79,94)"
   ]
  },
  {
   "cell_type": "code",
   "execution_count": 224,
   "id": "77ec0558-7ed0-4fc3-9657-b4827a3e20a8",
   "metadata": {},
   "outputs": [
    {
     "data": {
      "text/html": [
       "<div>\n",
       "<style scoped>\n",
       "    .dataframe tbody tr th:only-of-type {\n",
       "        vertical-align: middle;\n",
       "    }\n",
       "\n",
       "    .dataframe tbody tr th {\n",
       "        vertical-align: top;\n",
       "    }\n",
       "\n",
       "    .dataframe thead th {\n",
       "        text-align: right;\n",
       "    }\n",
       "</style>\n",
       "<table border=\"1\" class=\"dataframe\">\n",
       "  <thead>\n",
       "    <tr style=\"text-align: right;\">\n",
       "      <th>any_results_inc</th>\n",
       "      <th>0</th>\n",
       "      <th>1</th>\n",
       "      <th>All</th>\n",
       "    </tr>\n",
       "    <tr>\n",
       "      <th>sponsor_status</th>\n",
       "      <th></th>\n",
       "      <th></th>\n",
       "      <th></th>\n",
       "    </tr>\n",
       "  </thead>\n",
       "  <tbody>\n",
       "    <tr>\n",
       "      <th>Commercial</th>\n",
       "      <td>10</td>\n",
       "      <td>7</td>\n",
       "      <td>17</td>\n",
       "    </tr>\n",
       "    <tr>\n",
       "      <th>Non-Commercial</th>\n",
       "      <td>64</td>\n",
       "      <td>64</td>\n",
       "      <td>128</td>\n",
       "    </tr>\n",
       "    <tr>\n",
       "      <th>Unknown</th>\n",
       "      <td>1</td>\n",
       "      <td>0</td>\n",
       "      <td>1</td>\n",
       "    </tr>\n",
       "    <tr>\n",
       "      <th>All</th>\n",
       "      <td>75</td>\n",
       "      <td>71</td>\n",
       "      <td>146</td>\n",
       "    </tr>\n",
       "  </tbody>\n",
       "</table>\n",
       "</div>"
      ],
      "text/plain": [
       "any_results_inc   0   1  All\n",
       "sponsor_status              \n",
       "Commercial       10   7   17\n",
       "Non-Commercial   64  64  128\n",
       "Unknown           1   0    1\n",
       "All              75  71  146"
      ]
     },
     "execution_count": 224,
     "metadata": {},
     "output_type": "execute_result"
    }
   ],
   "source": [
    "crosstab(spon_results[spon_results.inferred==1], 'any_results_inc', 'sponsor_status')"
   ]
  },
  {
   "cell_type": "code",
   "execution_count": 226,
   "id": "8d7d0ef7-c0c5-4c1a-a3d4-696201db832d",
   "metadata": {},
   "outputs": [
    {
     "name": "stdout",
     "output_type": "stream",
     "text": [
      "Outcome of Interest: 7\n",
      "Total: 17\n",
      "Proportion: 41.18%\n",
      "95% CI: 17.78-64.57\n",
      "\n",
      "\n",
      "Outcome of Interest: 64\n",
      "Total: 128\n",
      "Proportion: 50.0%\n",
      "95% CI: 41.34-58.66\n"
     ]
    },
    {
     "data": {
      "text/plain": [
       "(0.41337941930464794, 0.5, 0.5866205806953521)"
      ]
     },
     "execution_count": 226,
     "metadata": {},
     "output_type": "execute_result"
    }
   ],
   "source": [
    "summarizer(7,17)\n",
    "print('\\n')\n",
    "summarizer(64,128)"
   ]
  },
  {
   "cell_type": "code",
   "execution_count": 228,
   "id": "0696cb1a-184f-4d96-8850-84ebbdc14610",
   "metadata": {},
   "outputs": [
    {
     "name": "stdout",
     "output_type": "stream",
     "text": [
      "1.2873952343372565e-08\n"
     ]
    }
   ],
   "source": [
    "#a is the number of trials with results\n",
    "#b is the total number of trials\n",
    "\n",
    "a = [233, 7]\n",
    "b = [260,17]\n",
    "\n",
    "stat, pval = proportions_ztest(a, b)\n",
    "print(pval)"
   ]
  },
  {
   "cell_type": "code",
   "execution_count": 229,
   "id": "66740d3e-a5cd-4d5d-ba1d-c5eaeb1aab1f",
   "metadata": {},
   "outputs": [
    {
     "name": "stdout",
     "output_type": "stream",
     "text": [
      "1.6531601528822604e-07\n"
     ]
    }
   ],
   "source": [
    "a = [79, 64]\n",
    "b = [94,128]\n",
    "\n",
    "stat, pval = proportions_ztest(a, b)\n",
    "print(pval)"
   ]
  },
  {
   "cell_type": "code",
   "execution_count": 187,
   "id": "df796181-95e8-49fd-aac6-616fba3a5c10",
   "metadata": {},
   "outputs": [
    {
     "data": {
      "text/html": [
       "<div>\n",
       "<style scoped>\n",
       "    .dataframe tbody tr th:only-of-type {\n",
       "        vertical-align: middle;\n",
       "    }\n",
       "\n",
       "    .dataframe tbody tr th {\n",
       "        vertical-align: top;\n",
       "    }\n",
       "\n",
       "    .dataframe thead th {\n",
       "        text-align: right;\n",
       "    }\n",
       "</style>\n",
       "<table border=\"1\" class=\"dataframe\">\n",
       "  <thead>\n",
       "    <tr style=\"text-align: right;\">\n",
       "      <th>euctr_results_inc</th>\n",
       "      <th>0</th>\n",
       "      <th>1</th>\n",
       "      <th>All</th>\n",
       "    </tr>\n",
       "    <tr>\n",
       "      <th>sponsor_status</th>\n",
       "      <th></th>\n",
       "      <th></th>\n",
       "      <th></th>\n",
       "    </tr>\n",
       "  </thead>\n",
       "  <tbody>\n",
       "    <tr>\n",
       "      <th>Commercial</th>\n",
       "      <td>63</td>\n",
       "      <td>214</td>\n",
       "      <td>277</td>\n",
       "    </tr>\n",
       "    <tr>\n",
       "      <th>Non-Commercial</th>\n",
       "      <td>170</td>\n",
       "      <td>52</td>\n",
       "      <td>222</td>\n",
       "    </tr>\n",
       "    <tr>\n",
       "      <th>Unknown</th>\n",
       "      <td>1</td>\n",
       "      <td>0</td>\n",
       "      <td>1</td>\n",
       "    </tr>\n",
       "    <tr>\n",
       "      <th>All</th>\n",
       "      <td>234</td>\n",
       "      <td>266</td>\n",
       "      <td>500</td>\n",
       "    </tr>\n",
       "  </tbody>\n",
       "</table>\n",
       "</div>"
      ],
      "text/plain": [
       "euctr_results_inc    0    1  All\n",
       "sponsor_status                  \n",
       "Commercial          63  214  277\n",
       "Non-Commercial     170   52  222\n",
       "Unknown              1    0    1\n",
       "All                234  266  500"
      ]
     },
     "execution_count": 187,
     "metadata": {},
     "output_type": "execute_result"
    }
   ],
   "source": [
    "#EUCTR\n",
    "crosstab(spon_results, 'euctr_results_inc', 'sponsor_status')"
   ]
  },
  {
   "cell_type": "code",
   "execution_count": 188,
   "id": "1794c0a7-06b6-4624-9a21-8a38b48fa95c",
   "metadata": {},
   "outputs": [
    {
     "name": "stdout",
     "output_type": "stream",
     "text": [
      "Outcome of Interest: 214\n",
      "Total: 277\n",
      "Proportion: 77.26%\n",
      "95% CI: 72.32-82.19\n",
      "\n",
      "\n",
      "Outcome of Interest: 52\n",
      "Total: 222\n",
      "Proportion: 23.42%\n",
      "95% CI: 17.85-28.99\n"
     ]
    },
    {
     "data": {
      "text/plain": [
       "(0.17852172203546213, 0.23423423423423423, 0.28994674643300633)"
      ]
     },
     "execution_count": 188,
     "metadata": {},
     "output_type": "execute_result"
    }
   ],
   "source": [
    "summarizer(214,277)\n",
    "print('\\n')\n",
    "summarizer(52,222)"
   ]
  },
  {
   "cell_type": "code",
   "execution_count": 231,
   "id": "64807350-02de-48b2-ac7c-066858d139b2",
   "metadata": {},
   "outputs": [
    {
     "data": {
      "text/html": [
       "<div>\n",
       "<style scoped>\n",
       "    .dataframe tbody tr th:only-of-type {\n",
       "        vertical-align: middle;\n",
       "    }\n",
       "\n",
       "    .dataframe tbody tr th {\n",
       "        vertical-align: top;\n",
       "    }\n",
       "\n",
       "    .dataframe thead th {\n",
       "        text-align: right;\n",
       "    }\n",
       "</style>\n",
       "<table border=\"1\" class=\"dataframe\">\n",
       "  <thead>\n",
       "    <tr style=\"text-align: right;\">\n",
       "      <th>euctr_results_inc</th>\n",
       "      <th>1</th>\n",
       "      <th>All</th>\n",
       "    </tr>\n",
       "    <tr>\n",
       "      <th>sponsor_status</th>\n",
       "      <th></th>\n",
       "      <th></th>\n",
       "    </tr>\n",
       "  </thead>\n",
       "  <tbody>\n",
       "    <tr>\n",
       "      <th>Commercial</th>\n",
       "      <td>41</td>\n",
       "      <td>41</td>\n",
       "    </tr>\n",
       "    <tr>\n",
       "      <th>Non-Commercial</th>\n",
       "      <td>14</td>\n",
       "      <td>14</td>\n",
       "    </tr>\n",
       "    <tr>\n",
       "      <th>All</th>\n",
       "      <td>55</td>\n",
       "      <td>55</td>\n",
       "    </tr>\n",
       "  </tbody>\n",
       "</table>\n",
       "</div>"
      ],
      "text/plain": [
       "euctr_results_inc   1  All\n",
       "sponsor_status            \n",
       "Commercial         41   41\n",
       "Non-Commercial     14   14\n",
       "All                55   55"
      ]
     },
     "execution_count": 231,
     "metadata": {},
     "output_type": "execute_result"
    }
   ],
   "source": [
    "#How many had results on just the EUCTR?\n",
    "j_e = spon_results[spon_results.euctr_id.isin(euctr_results_ids - ctg_results_ids - isrctn_results_ids - journal_results_ids)]\n",
    "crosstab(j_e, 'euctr_results_inc', 'sponsor_status')"
   ]
  },
  {
   "cell_type": "code",
   "execution_count": 216,
   "id": "e38f60ac-e9df-47ec-86f3-7bb611d7d038",
   "metadata": {},
   "outputs": [
    {
     "name": "stdout",
     "output_type": "stream",
     "text": [
      "Outcome of Interest: 41\n",
      "Total: 240\n",
      "Proportion: 17.08%\n",
      "95% CI: 12.32-21.84\n",
      "\n",
      "\n",
      "Outcome of Interest: 14\n",
      "Total: 143\n",
      "Proportion: 9.79%\n",
      "95% CI: 4.92-14.66\n"
     ]
    },
    {
     "data": {
      "text/plain": [
       "(0.04919291008563699, 0.0979020979020979, 0.1466112857185588)"
      ]
     },
     "execution_count": 216,
     "metadata": {},
     "output_type": "execute_result"
    }
   ],
   "source": [
    "summarizer(41,240)\n",
    "print('\\n')\n",
    "summarizer(14,143)"
   ]
  },
  {
   "cell_type": "code",
   "execution_count": 235,
   "id": "c1f87eb1-73eb-40b3-9257-02fb5bdce664",
   "metadata": {},
   "outputs": [
    {
     "data": {
      "text/html": [
       "<div>\n",
       "<style scoped>\n",
       "    .dataframe tbody tr th:only-of-type {\n",
       "        vertical-align: middle;\n",
       "    }\n",
       "\n",
       "    .dataframe tbody tr th {\n",
       "        vertical-align: top;\n",
       "    }\n",
       "\n",
       "    .dataframe thead th {\n",
       "        text-align: right;\n",
       "    }\n",
       "</style>\n",
       "<table border=\"1\" class=\"dataframe\">\n",
       "  <thead>\n",
       "    <tr style=\"text-align: right;\">\n",
       "      <th>euctr_results_inc</th>\n",
       "      <th>0</th>\n",
       "      <th>1</th>\n",
       "      <th>All</th>\n",
       "    </tr>\n",
       "    <tr>\n",
       "      <th>sponsor_status</th>\n",
       "      <th></th>\n",
       "      <th></th>\n",
       "      <th></th>\n",
       "    </tr>\n",
       "  </thead>\n",
       "  <tbody>\n",
       "    <tr>\n",
       "      <th>Commercial</th>\n",
       "      <td>46</td>\n",
       "      <td>214</td>\n",
       "      <td>260</td>\n",
       "    </tr>\n",
       "    <tr>\n",
       "      <th>Non-Commercial</th>\n",
       "      <td>43</td>\n",
       "      <td>51</td>\n",
       "      <td>94</td>\n",
       "    </tr>\n",
       "    <tr>\n",
       "      <th>All</th>\n",
       "      <td>89</td>\n",
       "      <td>265</td>\n",
       "      <td>354</td>\n",
       "    </tr>\n",
       "  </tbody>\n",
       "</table>\n",
       "</div>"
      ],
      "text/plain": [
       "euctr_results_inc   0    1  All\n",
       "sponsor_status                 \n",
       "Commercial         46  214  260\n",
       "Non-Commercial     43   51   94\n",
       "All                89  265  354"
      ]
     },
     "execution_count": 235,
     "metadata": {},
     "output_type": "execute_result"
    }
   ],
   "source": [
    "crosstab(spon_results[spon_results.inferred==0], 'euctr_results_inc', 'sponsor_status')"
   ]
  },
  {
   "cell_type": "code",
   "execution_count": 237,
   "id": "7da4d08c-8904-46af-b5e6-324b5404397a",
   "metadata": {},
   "outputs": [
    {
     "name": "stdout",
     "output_type": "stream",
     "text": [
      "Outcome of Interest: 214\n",
      "Total: 260\n",
      "Proportion: 82.31%\n",
      "95% CI: 77.67-86.95\n",
      "\n",
      "\n",
      "Outcome of Interest: 51\n",
      "Total: 94\n",
      "Proportion: 54.26%\n",
      "95% CI: 44.18-64.33\n"
     ]
    },
    {
     "data": {
      "text/plain": [
       "(0.4418406381192571, 0.5425531914893617, 0.6432657448594662)"
      ]
     },
     "execution_count": 237,
     "metadata": {},
     "output_type": "execute_result"
    }
   ],
   "source": [
    "summarizer(214,260)\n",
    "print('\\n')\n",
    "summarizer(51,94)"
   ]
  },
  {
   "cell_type": "code",
   "execution_count": 236,
   "id": "a825abcf-b30e-4590-867b-526d018af502",
   "metadata": {},
   "outputs": [
    {
     "data": {
      "text/html": [
       "<div>\n",
       "<style scoped>\n",
       "    .dataframe tbody tr th:only-of-type {\n",
       "        vertical-align: middle;\n",
       "    }\n",
       "\n",
       "    .dataframe tbody tr th {\n",
       "        vertical-align: top;\n",
       "    }\n",
       "\n",
       "    .dataframe thead th {\n",
       "        text-align: right;\n",
       "    }\n",
       "</style>\n",
       "<table border=\"1\" class=\"dataframe\">\n",
       "  <thead>\n",
       "    <tr style=\"text-align: right;\">\n",
       "      <th>euctr_results_inc</th>\n",
       "      <th>0</th>\n",
       "      <th>1</th>\n",
       "      <th>All</th>\n",
       "    </tr>\n",
       "    <tr>\n",
       "      <th>sponsor_status</th>\n",
       "      <th></th>\n",
       "      <th></th>\n",
       "      <th></th>\n",
       "    </tr>\n",
       "  </thead>\n",
       "  <tbody>\n",
       "    <tr>\n",
       "      <th>Commercial</th>\n",
       "      <td>17</td>\n",
       "      <td>0</td>\n",
       "      <td>17</td>\n",
       "    </tr>\n",
       "    <tr>\n",
       "      <th>Non-Commercial</th>\n",
       "      <td>127</td>\n",
       "      <td>1</td>\n",
       "      <td>128</td>\n",
       "    </tr>\n",
       "    <tr>\n",
       "      <th>Unknown</th>\n",
       "      <td>1</td>\n",
       "      <td>0</td>\n",
       "      <td>1</td>\n",
       "    </tr>\n",
       "    <tr>\n",
       "      <th>All</th>\n",
       "      <td>145</td>\n",
       "      <td>1</td>\n",
       "      <td>146</td>\n",
       "    </tr>\n",
       "  </tbody>\n",
       "</table>\n",
       "</div>"
      ],
      "text/plain": [
       "euctr_results_inc    0  1  All\n",
       "sponsor_status                \n",
       "Commercial          17  0   17\n",
       "Non-Commercial     127  1  128\n",
       "Unknown              1  0    1\n",
       "All                145  1  146"
      ]
     },
     "execution_count": 236,
     "metadata": {},
     "output_type": "execute_result"
    }
   ],
   "source": [
    "crosstab(spon_results[spon_results.inferred==1], 'euctr_results_inc', 'sponsor_status')"
   ]
  },
  {
   "cell_type": "code",
   "execution_count": 238,
   "id": "a349bcc2-4684-4005-9981-637fb2beda67",
   "metadata": {},
   "outputs": [
    {
     "name": "stdout",
     "output_type": "stream",
     "text": [
      "Outcome of Interest: 0\n",
      "Total: 17\n",
      "Proportion: 0.0%\n",
      "95% CI: 0.0-0.0\n",
      "\n",
      "\n",
      "Outcome of Interest: 1\n",
      "Total: 128\n",
      "Proportion: 0.78%\n",
      "95% CI: -0.74-2.31\n"
     ]
    },
    {
     "data": {
      "text/plain": [
       "(-0.007440068263182659, 0.0078125, 0.023065068263182657)"
      ]
     },
     "execution_count": 238,
     "metadata": {},
     "output_type": "execute_result"
    }
   ],
   "source": [
    "summarizer(0,17)\n",
    "print('\\n')\n",
    "summarizer(1,128)"
   ]
  },
  {
   "cell_type": "code",
   "execution_count": 239,
   "id": "40d2fe3d-120a-4a3c-ac3c-77c819e729d5",
   "metadata": {},
   "outputs": [
    {
     "name": "stdout",
     "output_type": "stream",
     "text": [
      "4.37882920168881e-15\n"
     ]
    }
   ],
   "source": [
    "#a is the number of trials with results\n",
    "#b is the total number of trials\n",
    "\n",
    "a = [214, 0]\n",
    "b = [260,17]\n",
    "\n",
    "stat, pval = proportions_ztest(a, b)\n",
    "print(pval)"
   ]
  },
  {
   "cell_type": "code",
   "execution_count": 240,
   "id": "77564f33-9daa-421d-8f97-6778cf74b5aa",
   "metadata": {},
   "outputs": [
    {
     "name": "stdout",
     "output_type": "stream",
     "text": [
      "1.9645687089927648e-20\n"
     ]
    }
   ],
   "source": [
    "a = [51, 1]\n",
    "b = [94,127]\n",
    "\n",
    "stat, pval = proportions_ztest(a, b)\n",
    "print(pval)"
   ]
  },
  {
   "cell_type": "code",
   "execution_count": 191,
   "id": "ce1bcd7d-36b7-4791-a4bf-3230dcdb8161",
   "metadata": {},
   "outputs": [
    {
     "data": {
      "text/html": [
       "<div>\n",
       "<style scoped>\n",
       "    .dataframe tbody tr th:only-of-type {\n",
       "        vertical-align: middle;\n",
       "    }\n",
       "\n",
       "    .dataframe tbody tr th {\n",
       "        vertical-align: top;\n",
       "    }\n",
       "\n",
       "    .dataframe thead th {\n",
       "        text-align: right;\n",
       "    }\n",
       "</style>\n",
       "<table border=\"1\" class=\"dataframe\">\n",
       "  <thead>\n",
       "    <tr style=\"text-align: right;\">\n",
       "      <th>ctgov_results_inc</th>\n",
       "      <th>0</th>\n",
       "      <th>1</th>\n",
       "      <th>All</th>\n",
       "    </tr>\n",
       "    <tr>\n",
       "      <th>sponsor_status</th>\n",
       "      <th></th>\n",
       "      <th></th>\n",
       "      <th></th>\n",
       "    </tr>\n",
       "  </thead>\n",
       "  <tbody>\n",
       "    <tr>\n",
       "      <th>Commercial</th>\n",
       "      <td>106</td>\n",
       "      <td>129</td>\n",
       "      <td>235</td>\n",
       "    </tr>\n",
       "    <tr>\n",
       "      <th>Non-Commercial</th>\n",
       "      <td>100</td>\n",
       "      <td>4</td>\n",
       "      <td>104</td>\n",
       "    </tr>\n",
       "    <tr>\n",
       "      <th>All</th>\n",
       "      <td>206</td>\n",
       "      <td>133</td>\n",
       "      <td>339</td>\n",
       "    </tr>\n",
       "  </tbody>\n",
       "</table>\n",
       "</div>"
      ],
      "text/plain": [
       "ctgov_results_inc    0    1  All\n",
       "sponsor_status                  \n",
       "Commercial         106  129  235\n",
       "Non-Commercial     100    4  104\n",
       "All                206  133  339"
      ]
     },
     "execution_count": 191,
     "metadata": {},
     "output_type": "execute_result"
    }
   ],
   "source": [
    "#ClinicalTrials.gov\n",
    "crosstab(spon_results[spon_results.nct_id.notnull()], 'ctgov_results_inc', 'sponsor_status')"
   ]
  },
  {
   "cell_type": "code",
   "execution_count": 192,
   "id": "7f68c14d-9562-4758-b014-2ec1ce93ee37",
   "metadata": {},
   "outputs": [
    {
     "name": "stdout",
     "output_type": "stream",
     "text": [
      "Outcome of Interest: 129\n",
      "Total: 235\n",
      "Proportion: 54.89%\n",
      "95% CI: 48.53-61.26\n",
      "\n",
      "\n",
      "Outcome of Interest: 4\n",
      "Total: 104\n",
      "Proportion: 3.85%\n",
      "95% CI: 0.15-7.54\n"
     ]
    },
    {
     "data": {
      "text/plain": [
       "(0.0015011899162653206, 0.038461538461538464, 0.0754218870068116)"
      ]
     },
     "execution_count": 192,
     "metadata": {},
     "output_type": "execute_result"
    }
   ],
   "source": [
    "summarizer(129,235)\n",
    "print('\\n')\n",
    "summarizer(4,104)"
   ]
  },
  {
   "cell_type": "code",
   "execution_count": 211,
   "id": "f708ff6b-9607-4db4-8a62-5192f8efe2f4",
   "metadata": {},
   "outputs": [
    {
     "data": {
      "text/html": [
       "<div>\n",
       "<style scoped>\n",
       "    .dataframe tbody tr th:only-of-type {\n",
       "        vertical-align: middle;\n",
       "    }\n",
       "\n",
       "    .dataframe tbody tr th {\n",
       "        vertical-align: top;\n",
       "    }\n",
       "\n",
       "    .dataframe thead th {\n",
       "        text-align: right;\n",
       "    }\n",
       "</style>\n",
       "<table border=\"1\" class=\"dataframe\">\n",
       "  <thead>\n",
       "    <tr style=\"text-align: right;\">\n",
       "      <th>ctgov_results_inc</th>\n",
       "      <th>1</th>\n",
       "      <th>All</th>\n",
       "    </tr>\n",
       "    <tr>\n",
       "      <th>sponsor_status</th>\n",
       "      <th></th>\n",
       "      <th></th>\n",
       "    </tr>\n",
       "  </thead>\n",
       "  <tbody>\n",
       "    <tr>\n",
       "      <th>Commercial</th>\n",
       "      <td>2</td>\n",
       "      <td>2</td>\n",
       "    </tr>\n",
       "    <tr>\n",
       "      <th>Non-Commercial</th>\n",
       "      <td>1</td>\n",
       "      <td>1</td>\n",
       "    </tr>\n",
       "    <tr>\n",
       "      <th>All</th>\n",
       "      <td>3</td>\n",
       "      <td>3</td>\n",
       "    </tr>\n",
       "  </tbody>\n",
       "</table>\n",
       "</div>"
      ],
      "text/plain": [
       "ctgov_results_inc  1  All\n",
       "sponsor_status           \n",
       "Commercial         2    2\n",
       "Non-Commercial     1    1\n",
       "All                3    3"
      ]
     },
     "execution_count": 211,
     "metadata": {},
     "output_type": "execute_result"
    }
   ],
   "source": [
    "#How many had results on just CTgov?\n",
    "j_c = spon_results[spon_results.euctr_id.isin(ctg_results_ids - euctr_results_ids - isrctn_results_ids - journal_results_ids)]\n",
    "crosstab(j_c, 'ctgov_results_inc', 'sponsor_status')"
   ]
  },
  {
   "cell_type": "code",
   "execution_count": 217,
   "id": "67fc7c92-a26b-4ebc-acc0-3495c86b91a1",
   "metadata": {},
   "outputs": [
    {
     "name": "stdout",
     "output_type": "stream",
     "text": [
      "Outcome of Interest: 2\n",
      "Total: 240\n",
      "Proportion: 0.83%\n",
      "95% CI: -0.32-1.98\n",
      "\n",
      "\n",
      "Outcome of Interest: 1\n",
      "Total: 143\n",
      "Proportion: 0.7%\n",
      "95% CI: -0.67-2.07\n"
     ]
    },
    {
     "data": {
      "text/plain": [
       "(-0.006665278531784565, 0.006993006993006993, 0.020651292517798552)"
      ]
     },
     "execution_count": 217,
     "metadata": {},
     "output_type": "execute_result"
    }
   ],
   "source": [
    "summarizer(2,240)\n",
    "print('\\n')\n",
    "summarizer(1,143)"
   ]
  },
  {
   "cell_type": "code",
   "execution_count": 245,
   "id": "ee2b43df-bbcb-44ea-b589-551994b0ade9",
   "metadata": {},
   "outputs": [
    {
     "data": {
      "text/html": [
       "<div>\n",
       "<style scoped>\n",
       "    .dataframe tbody tr th:only-of-type {\n",
       "        vertical-align: middle;\n",
       "    }\n",
       "\n",
       "    .dataframe tbody tr th {\n",
       "        vertical-align: top;\n",
       "    }\n",
       "\n",
       "    .dataframe thead th {\n",
       "        text-align: right;\n",
       "    }\n",
       "</style>\n",
       "<table border=\"1\" class=\"dataframe\">\n",
       "  <thead>\n",
       "    <tr style=\"text-align: right;\">\n",
       "      <th>ctgov_results_inc</th>\n",
       "      <th>0</th>\n",
       "      <th>1</th>\n",
       "      <th>All</th>\n",
       "    </tr>\n",
       "    <tr>\n",
       "      <th>sponsor_status</th>\n",
       "      <th></th>\n",
       "      <th></th>\n",
       "      <th></th>\n",
       "    </tr>\n",
       "  </thead>\n",
       "  <tbody>\n",
       "    <tr>\n",
       "      <th>Commercial</th>\n",
       "      <td>99</td>\n",
       "      <td>128</td>\n",
       "      <td>227</td>\n",
       "    </tr>\n",
       "    <tr>\n",
       "      <th>Non-Commercial</th>\n",
       "      <td>41</td>\n",
       "      <td>3</td>\n",
       "      <td>44</td>\n",
       "    </tr>\n",
       "    <tr>\n",
       "      <th>All</th>\n",
       "      <td>140</td>\n",
       "      <td>131</td>\n",
       "      <td>271</td>\n",
       "    </tr>\n",
       "  </tbody>\n",
       "</table>\n",
       "</div>"
      ],
      "text/plain": [
       "ctgov_results_inc    0    1  All\n",
       "sponsor_status                  \n",
       "Commercial          99  128  227\n",
       "Non-Commercial      41    3   44\n",
       "All                140  131  271"
      ]
     },
     "execution_count": 245,
     "metadata": {},
     "output_type": "execute_result"
    }
   ],
   "source": [
    "crosstab(spon_results[(spon_results.inferred==0) & spon_results.nct_id.notnull()], 'ctgov_results_inc', 'sponsor_status')"
   ]
  },
  {
   "cell_type": "code",
   "execution_count": 246,
   "id": "c344ae94-7f80-4115-bdc8-de0b6ca3b93a",
   "metadata": {},
   "outputs": [
    {
     "name": "stdout",
     "output_type": "stream",
     "text": [
      "Outcome of Interest: 128\n",
      "Total: 227\n",
      "Proportion: 56.39%\n",
      "95% CI: 49.94-62.84\n",
      "\n",
      "\n",
      "Outcome of Interest: 3\n",
      "Total: 44\n",
      "Proportion: 6.82%\n",
      "95% CI: -0.63-14.27\n"
     ]
    },
    {
     "data": {
      "text/plain": [
       "(-0.0062964573330352575, 0.06818181818181818, 0.1426600936966716)"
      ]
     },
     "execution_count": 246,
     "metadata": {},
     "output_type": "execute_result"
    }
   ],
   "source": [
    "summarizer(128,227)\n",
    "print('\\n')\n",
    "summarizer(3,44)"
   ]
  },
  {
   "cell_type": "code",
   "execution_count": 247,
   "id": "15f4148d-e2d5-43f6-9a69-51b4dd0ff619",
   "metadata": {},
   "outputs": [
    {
     "data": {
      "text/html": [
       "<div>\n",
       "<style scoped>\n",
       "    .dataframe tbody tr th:only-of-type {\n",
       "        vertical-align: middle;\n",
       "    }\n",
       "\n",
       "    .dataframe tbody tr th {\n",
       "        vertical-align: top;\n",
       "    }\n",
       "\n",
       "    .dataframe thead th {\n",
       "        text-align: right;\n",
       "    }\n",
       "</style>\n",
       "<table border=\"1\" class=\"dataframe\">\n",
       "  <thead>\n",
       "    <tr style=\"text-align: right;\">\n",
       "      <th>ctgov_results_inc</th>\n",
       "      <th>0</th>\n",
       "      <th>1</th>\n",
       "      <th>All</th>\n",
       "    </tr>\n",
       "    <tr>\n",
       "      <th>sponsor_status</th>\n",
       "      <th></th>\n",
       "      <th></th>\n",
       "      <th></th>\n",
       "    </tr>\n",
       "  </thead>\n",
       "  <tbody>\n",
       "    <tr>\n",
       "      <th>Commercial</th>\n",
       "      <td>7</td>\n",
       "      <td>1</td>\n",
       "      <td>8</td>\n",
       "    </tr>\n",
       "    <tr>\n",
       "      <th>Non-Commercial</th>\n",
       "      <td>59</td>\n",
       "      <td>1</td>\n",
       "      <td>60</td>\n",
       "    </tr>\n",
       "    <tr>\n",
       "      <th>All</th>\n",
       "      <td>66</td>\n",
       "      <td>2</td>\n",
       "      <td>68</td>\n",
       "    </tr>\n",
       "  </tbody>\n",
       "</table>\n",
       "</div>"
      ],
      "text/plain": [
       "ctgov_results_inc   0  1  All\n",
       "sponsor_status               \n",
       "Commercial          7  1    8\n",
       "Non-Commercial     59  1   60\n",
       "All                66  2   68"
      ]
     },
     "execution_count": 247,
     "metadata": {},
     "output_type": "execute_result"
    }
   ],
   "source": [
    "crosstab(spon_results[(spon_results.inferred==1) & spon_results.nct_id.notnull()], 'ctgov_results_inc', 'sponsor_status')"
   ]
  },
  {
   "cell_type": "code",
   "execution_count": 248,
   "id": "fb01963d-4add-4103-ae6b-2a1a093b354a",
   "metadata": {},
   "outputs": [
    {
     "name": "stdout",
     "output_type": "stream",
     "text": [
      "Outcome of Interest: 1\n",
      "Total: 8\n",
      "Proportion: 12.5%\n",
      "95% CI: -10.42-35.42\n",
      "\n",
      "\n",
      "Outcome of Interest: 1\n",
      "Total: 60\n",
      "Proportion: 1.67%\n",
      "95% CI: -1.57-4.91\n"
     ]
    },
    {
     "data": {
      "text/plain": [
       "(-0.01572663396673477, 0.016666666666666666, 0.049059967300068105)"
      ]
     },
     "execution_count": 248,
     "metadata": {},
     "output_type": "execute_result"
    }
   ],
   "source": [
    "summarizer(1,8)\n",
    "print('\\n')\n",
    "summarizer(1,60)"
   ]
  },
  {
   "cell_type": "code",
   "execution_count": 249,
   "id": "4a71a74f-9fa0-4001-849d-98deb760f37d",
   "metadata": {},
   "outputs": [
    {
     "name": "stdout",
     "output_type": "stream",
     "text": [
      "0.014214029343954382\n"
     ]
    }
   ],
   "source": [
    "#a is the number of trials with results\n",
    "#b is the total number of trials\n",
    "\n",
    "a = [128, 1]\n",
    "b = [227,8]\n",
    "\n",
    "stat, pval = proportions_ztest(a, b)\n",
    "print(pval)"
   ]
  },
  {
   "cell_type": "code",
   "execution_count": 250,
   "id": "f21c10f0-054d-4b3c-9a39-35df534a2dd0",
   "metadata": {},
   "outputs": [
    {
     "name": "stdout",
     "output_type": "stream",
     "text": [
      "0.17712582445647074\n"
     ]
    }
   ],
   "source": [
    "a = [3, 1]\n",
    "b = [44, 60]\n",
    "\n",
    "stat, pval = proportions_ztest(a, b)\n",
    "print(pval)"
   ]
  },
  {
   "cell_type": "code",
   "execution_count": 193,
   "id": "ecd47803-df5a-4aa8-bce7-038c89928931",
   "metadata": {},
   "outputs": [
    {
     "data": {
      "text/html": [
       "<div>\n",
       "<style scoped>\n",
       "    .dataframe tbody tr th:only-of-type {\n",
       "        vertical-align: middle;\n",
       "    }\n",
       "\n",
       "    .dataframe tbody tr th {\n",
       "        vertical-align: top;\n",
       "    }\n",
       "\n",
       "    .dataframe thead th {\n",
       "        text-align: right;\n",
       "    }\n",
       "</style>\n",
       "<table border=\"1\" class=\"dataframe\">\n",
       "  <thead>\n",
       "    <tr style=\"text-align: right;\">\n",
       "      <th>isrctn_results_inc</th>\n",
       "      <th>0</th>\n",
       "      <th>1</th>\n",
       "      <th>All</th>\n",
       "    </tr>\n",
       "    <tr>\n",
       "      <th>sponsor_status</th>\n",
       "      <th></th>\n",
       "      <th></th>\n",
       "      <th></th>\n",
       "    </tr>\n",
       "  </thead>\n",
       "  <tbody>\n",
       "    <tr>\n",
       "      <th>Commercial</th>\n",
       "      <td>2</td>\n",
       "      <td>0</td>\n",
       "      <td>2</td>\n",
       "    </tr>\n",
       "    <tr>\n",
       "      <th>Non-Commercial</th>\n",
       "      <td>28</td>\n",
       "      <td>2</td>\n",
       "      <td>30</td>\n",
       "    </tr>\n",
       "    <tr>\n",
       "      <th>All</th>\n",
       "      <td>30</td>\n",
       "      <td>2</td>\n",
       "      <td>32</td>\n",
       "    </tr>\n",
       "  </tbody>\n",
       "</table>\n",
       "</div>"
      ],
      "text/plain": [
       "isrctn_results_inc   0  1  All\n",
       "sponsor_status                \n",
       "Commercial           2  0    2\n",
       "Non-Commercial      28  2   30\n",
       "All                 30  2   32"
      ]
     },
     "execution_count": 193,
     "metadata": {},
     "output_type": "execute_result"
    }
   ],
   "source": [
    "#ISRCTN\n",
    "crosstab(spon_results[spon_results.isrctn_id.notnull()], 'isrctn_results_inc', 'sponsor_status')"
   ]
  },
  {
   "cell_type": "code",
   "execution_count": 196,
   "id": "0beb8ff5-2654-4d24-bccb-2c31d05e6a14",
   "metadata": {},
   "outputs": [
    {
     "name": "stdout",
     "output_type": "stream",
     "text": [
      "Outcome of Interest: 0\n",
      "Total: 2\n",
      "Proportion: 0.0%\n",
      "95% CI: 0.0-0.0\n",
      "\n",
      "\n",
      "Outcome of Interest: 2\n",
      "Total: 30\n",
      "Proportion: 6.67%\n",
      "95% CI: -2.26-15.59\n"
     ]
    },
    {
     "data": {
      "text/plain": [
       "(-0.022595660005692506, 0.06666666666666667, 0.15592899333902582)"
      ]
     },
     "execution_count": 196,
     "metadata": {},
     "output_type": "execute_result"
    }
   ],
   "source": [
    "summarizer(0,2)\n",
    "print('\\n')\n",
    "summarizer(2,30)"
   ]
  },
  {
   "cell_type": "code",
   "execution_count": 213,
   "id": "dc2df6c1-5e2c-48ad-8b40-20effd85d020",
   "metadata": {},
   "outputs": [],
   "source": [
    "#The ISRCTN has no unique results"
   ]
  },
  {
   "cell_type": "code",
   "execution_count": 251,
   "id": "d56fc7f2-0b0c-4044-9222-75bfddea3177",
   "metadata": {},
   "outputs": [
    {
     "data": {
      "text/html": [
       "<div>\n",
       "<style scoped>\n",
       "    .dataframe tbody tr th:only-of-type {\n",
       "        vertical-align: middle;\n",
       "    }\n",
       "\n",
       "    .dataframe tbody tr th {\n",
       "        vertical-align: top;\n",
       "    }\n",
       "\n",
       "    .dataframe thead th {\n",
       "        text-align: right;\n",
       "    }\n",
       "</style>\n",
       "<table border=\"1\" class=\"dataframe\">\n",
       "  <thead>\n",
       "    <tr style=\"text-align: right;\">\n",
       "      <th>isrctn_results_inc</th>\n",
       "      <th>0</th>\n",
       "      <th>1</th>\n",
       "      <th>All</th>\n",
       "    </tr>\n",
       "    <tr>\n",
       "      <th>sponsor_status</th>\n",
       "      <th></th>\n",
       "      <th></th>\n",
       "      <th></th>\n",
       "    </tr>\n",
       "  </thead>\n",
       "  <tbody>\n",
       "    <tr>\n",
       "      <th>Commercial</th>\n",
       "      <td>2</td>\n",
       "      <td>0</td>\n",
       "      <td>2</td>\n",
       "    </tr>\n",
       "    <tr>\n",
       "      <th>Non-Commercial</th>\n",
       "      <td>25</td>\n",
       "      <td>2</td>\n",
       "      <td>27</td>\n",
       "    </tr>\n",
       "    <tr>\n",
       "      <th>All</th>\n",
       "      <td>27</td>\n",
       "      <td>2</td>\n",
       "      <td>29</td>\n",
       "    </tr>\n",
       "  </tbody>\n",
       "</table>\n",
       "</div>"
      ],
      "text/plain": [
       "isrctn_results_inc   0  1  All\n",
       "sponsor_status                \n",
       "Commercial           2  0    2\n",
       "Non-Commercial      25  2   27\n",
       "All                 27  2   29"
      ]
     },
     "execution_count": 251,
     "metadata": {},
     "output_type": "execute_result"
    }
   ],
   "source": [
    "crosstab(spon_results[(spon_results.inferred==0) & spon_results.isrctn_id.notnull()], 'isrctn_results_inc', 'sponsor_status')"
   ]
  },
  {
   "cell_type": "code",
   "execution_count": 253,
   "id": "57c40f04-6ae2-4dfb-be16-d3ec558875ab",
   "metadata": {},
   "outputs": [
    {
     "name": "stdout",
     "output_type": "stream",
     "text": [
      "Outcome of Interest: 0\n",
      "Total: 2\n",
      "Proportion: 0.0%\n",
      "95% CI: 0.0-0.0\n",
      "\n",
      "\n",
      "Outcome of Interest: 2\n",
      "Total: 27\n",
      "Proportion: 7.41%\n",
      "95% CI: -2.47-17.29\n"
     ]
    },
    {
     "data": {
      "text/plain": [
       "(-0.02471193201347796, 0.07407407407407407, 0.1728600801616261)"
      ]
     },
     "execution_count": 253,
     "metadata": {},
     "output_type": "execute_result"
    }
   ],
   "source": [
    "summarizer(0,2)\n",
    "print('\\n')\n",
    "summarizer(2,27)"
   ]
  },
  {
   "cell_type": "code",
   "execution_count": 252,
   "id": "08bf32e8-9bbc-4f29-9cf1-e591857e9c6e",
   "metadata": {},
   "outputs": [
    {
     "data": {
      "text/html": [
       "<div>\n",
       "<style scoped>\n",
       "    .dataframe tbody tr th:only-of-type {\n",
       "        vertical-align: middle;\n",
       "    }\n",
       "\n",
       "    .dataframe tbody tr th {\n",
       "        vertical-align: top;\n",
       "    }\n",
       "\n",
       "    .dataframe thead th {\n",
       "        text-align: right;\n",
       "    }\n",
       "</style>\n",
       "<table border=\"1\" class=\"dataframe\">\n",
       "  <thead>\n",
       "    <tr style=\"text-align: right;\">\n",
       "      <th>isrctn_results_inc</th>\n",
       "      <th>0</th>\n",
       "      <th>All</th>\n",
       "    </tr>\n",
       "    <tr>\n",
       "      <th>sponsor_status</th>\n",
       "      <th></th>\n",
       "      <th></th>\n",
       "    </tr>\n",
       "  </thead>\n",
       "  <tbody>\n",
       "    <tr>\n",
       "      <th>Non-Commercial</th>\n",
       "      <td>3</td>\n",
       "      <td>3</td>\n",
       "    </tr>\n",
       "    <tr>\n",
       "      <th>All</th>\n",
       "      <td>3</td>\n",
       "      <td>3</td>\n",
       "    </tr>\n",
       "  </tbody>\n",
       "</table>\n",
       "</div>"
      ],
      "text/plain": [
       "isrctn_results_inc  0  All\n",
       "sponsor_status            \n",
       "Non-Commercial      3    3\n",
       "All                 3    3"
      ]
     },
     "execution_count": 252,
     "metadata": {},
     "output_type": "execute_result"
    }
   ],
   "source": [
    "crosstab(spon_results[(spon_results.inferred==1) & spon_results.isrctn_id.notnull()], 'isrctn_results_inc', 'sponsor_status')"
   ]
  },
  {
   "cell_type": "code",
   "execution_count": 255,
   "id": "d893c0f5-2089-44c5-ad4f-01a6201d78f7",
   "metadata": {},
   "outputs": [
    {
     "name": "stdout",
     "output_type": "stream",
     "text": [
      "nan\n"
     ]
    }
   ],
   "source": [
    "#a is the number of trials with results\n",
    "#b is the total number of trials\n",
    "\n",
    "a = [0,0]\n",
    "b = [2,0]\n",
    "\n",
    "stat, pval = proportions_ztest(a, b)\n",
    "print(pval)"
   ]
  },
  {
   "cell_type": "code",
   "execution_count": 256,
   "id": "cd952fd2-204c-47fb-8e38-d6d0743639a6",
   "metadata": {},
   "outputs": [
    {
     "name": "stdout",
     "output_type": "stream",
     "text": [
      "0.6255852315243253\n"
     ]
    }
   ],
   "source": [
    "a = [2,0]\n",
    "b = [27,3]\n",
    "\n",
    "stat, pval = proportions_ztest(a, b)\n",
    "print(pval)"
   ]
  },
  {
   "cell_type": "code",
   "execution_count": 257,
   "id": "5f9f7616-664c-4bcd-90a6-95584865263d",
   "metadata": {},
   "outputs": [
    {
     "data": {
      "text/html": [
       "<div>\n",
       "<style scoped>\n",
       "    .dataframe tbody tr th:only-of-type {\n",
       "        vertical-align: middle;\n",
       "    }\n",
       "\n",
       "    .dataframe tbody tr th {\n",
       "        vertical-align: top;\n",
       "    }\n",
       "\n",
       "    .dataframe thead th {\n",
       "        text-align: right;\n",
       "    }\n",
       "</style>\n",
       "<table border=\"1\" class=\"dataframe\">\n",
       "  <thead>\n",
       "    <tr style=\"text-align: right;\">\n",
       "      <th>journal_results_inc</th>\n",
       "      <th>0</th>\n",
       "      <th>1</th>\n",
       "      <th>All</th>\n",
       "    </tr>\n",
       "    <tr>\n",
       "      <th>sponsor_status</th>\n",
       "      <th></th>\n",
       "      <th></th>\n",
       "      <th></th>\n",
       "    </tr>\n",
       "  </thead>\n",
       "  <tbody>\n",
       "    <tr>\n",
       "      <th>Commercial</th>\n",
       "      <td>110</td>\n",
       "      <td>167</td>\n",
       "      <td>277</td>\n",
       "    </tr>\n",
       "    <tr>\n",
       "      <th>Non-Commercial</th>\n",
       "      <td>96</td>\n",
       "      <td>126</td>\n",
       "      <td>222</td>\n",
       "    </tr>\n",
       "    <tr>\n",
       "      <th>Unknown</th>\n",
       "      <td>1</td>\n",
       "      <td>0</td>\n",
       "      <td>1</td>\n",
       "    </tr>\n",
       "    <tr>\n",
       "      <th>All</th>\n",
       "      <td>207</td>\n",
       "      <td>293</td>\n",
       "      <td>500</td>\n",
       "    </tr>\n",
       "  </tbody>\n",
       "</table>\n",
       "</div>"
      ],
      "text/plain": [
       "journal_results_inc    0    1  All\n",
       "sponsor_status                    \n",
       "Commercial           110  167  277\n",
       "Non-Commercial        96  126  222\n",
       "Unknown                1    0    1\n",
       "All                  207  293  500"
      ]
     },
     "execution_count": 257,
     "metadata": {},
     "output_type": "execute_result"
    }
   ],
   "source": [
    "#Journal Articles\n",
    "crosstab(spon_results, 'journal_results_inc', 'sponsor_status')"
   ]
  },
  {
   "cell_type": "code",
   "execution_count": 258,
   "id": "02def38a-56de-4dab-8df9-b47fe3a506e2",
   "metadata": {},
   "outputs": [
    {
     "name": "stdout",
     "output_type": "stream",
     "text": [
      "Outcome of Interest: 167\n",
      "Total: 277\n",
      "Proportion: 60.29%\n",
      "95% CI: 54.53-66.05\n",
      "\n",
      "\n",
      "Outcome of Interest: 126\n",
      "Total: 222\n",
      "Proportion: 56.76%\n",
      "95% CI: 50.24-63.27\n"
     ]
    },
    {
     "data": {
      "text/plain": [
       "(0.5023976009162529, 0.5675675675675675, 0.6327375342188822)"
      ]
     },
     "execution_count": 258,
     "metadata": {},
     "output_type": "execute_result"
    }
   ],
   "source": [
    "summarizer(167,277)\n",
    "print('\\n')\n",
    "summarizer(126,222)"
   ]
  },
  {
   "cell_type": "code",
   "execution_count": 259,
   "id": "37b97bff-9ee0-465a-bc77-1ad41fb61354",
   "metadata": {},
   "outputs": [
    {
     "data": {
      "text/html": [
       "<div>\n",
       "<style scoped>\n",
       "    .dataframe tbody tr th:only-of-type {\n",
       "        vertical-align: middle;\n",
       "    }\n",
       "\n",
       "    .dataframe tbody tr th {\n",
       "        vertical-align: top;\n",
       "    }\n",
       "\n",
       "    .dataframe thead th {\n",
       "        text-align: right;\n",
       "    }\n",
       "</style>\n",
       "<table border=\"1\" class=\"dataframe\">\n",
       "  <thead>\n",
       "    <tr style=\"text-align: right;\">\n",
       "      <th>journal_results_inc</th>\n",
       "      <th>1</th>\n",
       "      <th>All</th>\n",
       "    </tr>\n",
       "    <tr>\n",
       "      <th>sponsor_status</th>\n",
       "      <th></th>\n",
       "      <th></th>\n",
       "    </tr>\n",
       "  </thead>\n",
       "  <tbody>\n",
       "    <tr>\n",
       "      <th>Commercial</th>\n",
       "      <td>18</td>\n",
       "      <td>18</td>\n",
       "    </tr>\n",
       "    <tr>\n",
       "      <th>Non-Commercial</th>\n",
       "      <td>90</td>\n",
       "      <td>90</td>\n",
       "    </tr>\n",
       "    <tr>\n",
       "      <th>All</th>\n",
       "      <td>108</td>\n",
       "      <td>108</td>\n",
       "    </tr>\n",
       "  </tbody>\n",
       "</table>\n",
       "</div>"
      ],
      "text/plain": [
       "journal_results_inc    1  All\n",
       "sponsor_status               \n",
       "Commercial            18   18\n",
       "Non-Commercial        90   90\n",
       "All                  108  108"
      ]
     },
     "execution_count": 259,
     "metadata": {},
     "output_type": "execute_result"
    }
   ],
   "source": [
    "#How many had results just in a journal?\n",
    "j_e = spon_results[spon_results.euctr_id.isin(journal_results_ids - euctr_results_ids - isrctn_results_ids - ctg_results_ids)]\n",
    "crosstab(j_e, 'journal_results_inc', 'sponsor_status')"
   ]
  },
  {
   "cell_type": "code",
   "execution_count": 260,
   "id": "b4f343f5-40e4-4b0a-9729-a9083c18c24d",
   "metadata": {},
   "outputs": [
    {
     "name": "stdout",
     "output_type": "stream",
     "text": [
      "Outcome of Interest: 18\n",
      "Total: 277\n",
      "Proportion: 6.5%\n",
      "95% CI: 3.6-9.4\n",
      "\n",
      "\n",
      "Outcome of Interest: 90\n",
      "Total: 222\n",
      "Proportion: 40.54%\n",
      "95% CI: 34.08-47.0\n"
     ]
    },
    {
     "data": {
      "text/plain": [
       "(0.34081993456673687, 0.40540540540540543, 0.469990876244074)"
      ]
     },
     "execution_count": 260,
     "metadata": {},
     "output_type": "execute_result"
    }
   ],
   "source": [
    "summarizer(18,277)\n",
    "print('\\n')\n",
    "summarizer(90,222)"
   ]
  },
  {
   "cell_type": "code",
   "execution_count": 261,
   "id": "d81a0b7a-bb43-4167-84eb-4b2c62709176",
   "metadata": {},
   "outputs": [
    {
     "data": {
      "text/html": [
       "<div>\n",
       "<style scoped>\n",
       "    .dataframe tbody tr th:only-of-type {\n",
       "        vertical-align: middle;\n",
       "    }\n",
       "\n",
       "    .dataframe tbody tr th {\n",
       "        vertical-align: top;\n",
       "    }\n",
       "\n",
       "    .dataframe thead th {\n",
       "        text-align: right;\n",
       "    }\n",
       "</style>\n",
       "<table border=\"1\" class=\"dataframe\">\n",
       "  <thead>\n",
       "    <tr style=\"text-align: right;\">\n",
       "      <th>journal_results_inc</th>\n",
       "      <th>0</th>\n",
       "      <th>1</th>\n",
       "      <th>All</th>\n",
       "    </tr>\n",
       "    <tr>\n",
       "      <th>sponsor_status</th>\n",
       "      <th></th>\n",
       "      <th></th>\n",
       "      <th></th>\n",
       "    </tr>\n",
       "  </thead>\n",
       "  <tbody>\n",
       "    <tr>\n",
       "      <th>Commercial</th>\n",
       "      <td>100</td>\n",
       "      <td>160</td>\n",
       "      <td>260</td>\n",
       "    </tr>\n",
       "    <tr>\n",
       "      <th>Non-Commercial</th>\n",
       "      <td>30</td>\n",
       "      <td>64</td>\n",
       "      <td>94</td>\n",
       "    </tr>\n",
       "    <tr>\n",
       "      <th>All</th>\n",
       "      <td>130</td>\n",
       "      <td>224</td>\n",
       "      <td>354</td>\n",
       "    </tr>\n",
       "  </tbody>\n",
       "</table>\n",
       "</div>"
      ],
      "text/plain": [
       "journal_results_inc    0    1  All\n",
       "sponsor_status                    \n",
       "Commercial           100  160  260\n",
       "Non-Commercial        30   64   94\n",
       "All                  130  224  354"
      ]
     },
     "execution_count": 261,
     "metadata": {},
     "output_type": "execute_result"
    }
   ],
   "source": [
    "crosstab(spon_results[(spon_results.inferred==0)], 'journal_results_inc', 'sponsor_status')"
   ]
  },
  {
   "cell_type": "code",
   "execution_count": 265,
   "id": "9329c71f-54c5-4f01-b756-b9e8bbd7b19c",
   "metadata": {},
   "outputs": [
    {
     "name": "stdout",
     "output_type": "stream",
     "text": [
      "Outcome of Interest: 160\n",
      "Total: 260\n",
      "Proportion: 61.54%\n",
      "95% CI: 55.62-67.45\n",
      "\n",
      "\n",
      "Outcome of Interest: 64\n",
      "Total: 94\n",
      "Proportion: 68.09%\n",
      "95% CI: 58.66-77.51\n"
     ]
    },
    {
     "data": {
      "text/plain": [
       "(0.5866154843900065, 0.6808510638297872, 0.7750866432695679)"
      ]
     },
     "execution_count": 265,
     "metadata": {},
     "output_type": "execute_result"
    }
   ],
   "source": [
    "summarizer(160,260)\n",
    "print('\\n')\n",
    "summarizer(64,94)"
   ]
  },
  {
   "cell_type": "code",
   "execution_count": 266,
   "id": "c5071c99-bef6-486f-a8d9-dbb36cac55fa",
   "metadata": {},
   "outputs": [
    {
     "data": {
      "text/html": [
       "<div>\n",
       "<style scoped>\n",
       "    .dataframe tbody tr th:only-of-type {\n",
       "        vertical-align: middle;\n",
       "    }\n",
       "\n",
       "    .dataframe tbody tr th {\n",
       "        vertical-align: top;\n",
       "    }\n",
       "\n",
       "    .dataframe thead th {\n",
       "        text-align: right;\n",
       "    }\n",
       "</style>\n",
       "<table border=\"1\" class=\"dataframe\">\n",
       "  <thead>\n",
       "    <tr style=\"text-align: right;\">\n",
       "      <th>journal_results_inc</th>\n",
       "      <th>0</th>\n",
       "      <th>1</th>\n",
       "      <th>All</th>\n",
       "    </tr>\n",
       "    <tr>\n",
       "      <th>sponsor_status</th>\n",
       "      <th></th>\n",
       "      <th></th>\n",
       "      <th></th>\n",
       "    </tr>\n",
       "  </thead>\n",
       "  <tbody>\n",
       "    <tr>\n",
       "      <th>Commercial</th>\n",
       "      <td>10</td>\n",
       "      <td>7</td>\n",
       "      <td>17</td>\n",
       "    </tr>\n",
       "    <tr>\n",
       "      <th>Non-Commercial</th>\n",
       "      <td>66</td>\n",
       "      <td>62</td>\n",
       "      <td>128</td>\n",
       "    </tr>\n",
       "    <tr>\n",
       "      <th>Unknown</th>\n",
       "      <td>1</td>\n",
       "      <td>0</td>\n",
       "      <td>1</td>\n",
       "    </tr>\n",
       "    <tr>\n",
       "      <th>All</th>\n",
       "      <td>77</td>\n",
       "      <td>69</td>\n",
       "      <td>146</td>\n",
       "    </tr>\n",
       "  </tbody>\n",
       "</table>\n",
       "</div>"
      ],
      "text/plain": [
       "journal_results_inc   0   1  All\n",
       "sponsor_status                  \n",
       "Commercial           10   7   17\n",
       "Non-Commercial       66  62  128\n",
       "Unknown               1   0    1\n",
       "All                  77  69  146"
      ]
     },
     "execution_count": 266,
     "metadata": {},
     "output_type": "execute_result"
    }
   ],
   "source": [
    "crosstab(spon_results[(spon_results.inferred==1)], 'journal_results_inc', 'sponsor_status')"
   ]
  },
  {
   "cell_type": "code",
   "execution_count": 267,
   "id": "49cfdd0a-0c2d-4f66-8856-998bea692d69",
   "metadata": {},
   "outputs": [
    {
     "name": "stdout",
     "output_type": "stream",
     "text": [
      "Outcome of Interest: 7\n",
      "Total: 17\n",
      "Proportion: 41.18%\n",
      "95% CI: 17.78-64.57\n",
      "\n",
      "\n",
      "Outcome of Interest: 62\n",
      "Total: 128\n",
      "Proportion: 48.44%\n",
      "95% CI: 39.78-57.1\n"
     ]
    },
    {
     "data": {
      "text/plain": [
       "(0.3977967248410885, 0.484375, 0.5709532751589115)"
      ]
     },
     "execution_count": 267,
     "metadata": {},
     "output_type": "execute_result"
    }
   ],
   "source": [
    "summarizer(7,17)\n",
    "print('\\n')\n",
    "summarizer(62,128)"
   ]
  },
  {
   "cell_type": "code",
   "execution_count": 268,
   "id": "74c1621c-b1b1-404f-a2b7-a191b0edc5d6",
   "metadata": {},
   "outputs": [
    {
     "name": "stdout",
     "output_type": "stream",
     "text": [
      "0.09644705649057483\n"
     ]
    }
   ],
   "source": [
    "#a is the number of trials with results\n",
    "#b is the total number of trials\n",
    "\n",
    "a = [160, 7]\n",
    "b = [260,17]\n",
    "\n",
    "stat, pval = proportions_ztest(a, b)\n",
    "print(pval)"
   ]
  },
  {
   "cell_type": "code",
   "execution_count": 269,
   "id": "0b458ea8-d3db-4b86-b6d6-fa8e658062d6",
   "metadata": {},
   "outputs": [
    {
     "name": "stdout",
     "output_type": "stream",
     "text": [
      "0.0035039926186231063\n"
     ]
    }
   ],
   "source": [
    "a = [64, 62]\n",
    "b = [94,128]\n",
    "\n",
    "stat, pval = proportions_ztest(a, b)\n",
    "print(pval)"
   ]
  },
  {
   "cell_type": "code",
   "execution_count": 270,
   "id": "a2d3b9de-0567-44b5-b185-000a973015b0",
   "metadata": {},
   "outputs": [],
   "source": [
    "#Non-EUCTR\n",
    "spon_results['non_euctr_results'] = np.where((spon_results.ctgov_results_inc==1) | \n",
    "                                             (spon_results.isrctn_results_inc==1) | \n",
    "                                             (spon_results.journal_results_inc==1), 1,0)"
   ]
  },
  {
   "cell_type": "code",
   "execution_count": 271,
   "id": "c8b22cc6-1cf9-4c09-8076-900c244afa15",
   "metadata": {},
   "outputs": [
    {
     "data": {
      "text/html": [
       "<div>\n",
       "<style scoped>\n",
       "    .dataframe tbody tr th:only-of-type {\n",
       "        vertical-align: middle;\n",
       "    }\n",
       "\n",
       "    .dataframe tbody tr th {\n",
       "        vertical-align: top;\n",
       "    }\n",
       "\n",
       "    .dataframe thead th {\n",
       "        text-align: right;\n",
       "    }\n",
       "</style>\n",
       "<table border=\"1\" class=\"dataframe\">\n",
       "  <thead>\n",
       "    <tr style=\"text-align: right;\">\n",
       "      <th>non_euctr_results</th>\n",
       "      <th>0</th>\n",
       "      <th>1</th>\n",
       "      <th>All</th>\n",
       "    </tr>\n",
       "    <tr>\n",
       "      <th>sponsor_status</th>\n",
       "      <th></th>\n",
       "      <th></th>\n",
       "      <th></th>\n",
       "    </tr>\n",
       "  </thead>\n",
       "  <tbody>\n",
       "    <tr>\n",
       "      <th>Commercial</th>\n",
       "      <td>78</td>\n",
       "      <td>199</td>\n",
       "      <td>277</td>\n",
       "    </tr>\n",
       "    <tr>\n",
       "      <th>Non-Commercial</th>\n",
       "      <td>93</td>\n",
       "      <td>129</td>\n",
       "      <td>222</td>\n",
       "    </tr>\n",
       "    <tr>\n",
       "      <th>Unknown</th>\n",
       "      <td>1</td>\n",
       "      <td>0</td>\n",
       "      <td>1</td>\n",
       "    </tr>\n",
       "    <tr>\n",
       "      <th>All</th>\n",
       "      <td>172</td>\n",
       "      <td>328</td>\n",
       "      <td>500</td>\n",
       "    </tr>\n",
       "  </tbody>\n",
       "</table>\n",
       "</div>"
      ],
      "text/plain": [
       "non_euctr_results    0    1  All\n",
       "sponsor_status                  \n",
       "Commercial          78  199  277\n",
       "Non-Commercial      93  129  222\n",
       "Unknown              1    0    1\n",
       "All                172  328  500"
      ]
     },
     "execution_count": 271,
     "metadata": {},
     "output_type": "execute_result"
    }
   ],
   "source": [
    "crosstab(spon_results, 'non_euctr_results', 'sponsor_status')"
   ]
  },
  {
   "cell_type": "code",
   "execution_count": 272,
   "id": "90f83471-a2a0-4951-aa3c-081b6225ef08",
   "metadata": {},
   "outputs": [
    {
     "name": "stdout",
     "output_type": "stream",
     "text": [
      "Outcome of Interest: 199\n",
      "Total: 277\n",
      "Proportion: 71.84%\n",
      "95% CI: 66.54-77.14\n",
      "\n",
      "\n",
      "Outcome of Interest: 129\n",
      "Total: 222\n",
      "Proportion: 58.11%\n",
      "95% CI: 51.62-64.6\n"
     ]
    },
    {
     "data": {
      "text/plain": [
       "(0.516178354934141, 0.581081081081081, 0.6459838072280211)"
      ]
     },
     "execution_count": 272,
     "metadata": {},
     "output_type": "execute_result"
    }
   ],
   "source": [
    "summarizer(199,277)\n",
    "print('\\n')\n",
    "summarizer(129,222)"
   ]
  },
  {
   "cell_type": "code",
   "execution_count": 275,
   "id": "5fe4fb73-3ca5-43ed-a484-6f6b9c91ec7d",
   "metadata": {},
   "outputs": [
    {
     "data": {
      "text/html": [
       "<div>\n",
       "<style scoped>\n",
       "    .dataframe tbody tr th:only-of-type {\n",
       "        vertical-align: middle;\n",
       "    }\n",
       "\n",
       "    .dataframe tbody tr th {\n",
       "        vertical-align: top;\n",
       "    }\n",
       "\n",
       "    .dataframe thead th {\n",
       "        text-align: right;\n",
       "    }\n",
       "</style>\n",
       "<table border=\"1\" class=\"dataframe\">\n",
       "  <thead>\n",
       "    <tr style=\"text-align: right;\">\n",
       "      <th>non_euctr_results</th>\n",
       "      <th>0</th>\n",
       "      <th>1</th>\n",
       "      <th>All</th>\n",
       "    </tr>\n",
       "    <tr>\n",
       "      <th>sponsor_status</th>\n",
       "      <th></th>\n",
       "      <th></th>\n",
       "      <th></th>\n",
       "    </tr>\n",
       "  </thead>\n",
       "  <tbody>\n",
       "    <tr>\n",
       "      <th>Commercial</th>\n",
       "      <td>68</td>\n",
       "      <td>192</td>\n",
       "      <td>260</td>\n",
       "    </tr>\n",
       "    <tr>\n",
       "      <th>Non-Commercial</th>\n",
       "      <td>28</td>\n",
       "      <td>66</td>\n",
       "      <td>94</td>\n",
       "    </tr>\n",
       "    <tr>\n",
       "      <th>All</th>\n",
       "      <td>96</td>\n",
       "      <td>258</td>\n",
       "      <td>354</td>\n",
       "    </tr>\n",
       "  </tbody>\n",
       "</table>\n",
       "</div>"
      ],
      "text/plain": [
       "non_euctr_results   0    1  All\n",
       "sponsor_status                 \n",
       "Commercial         68  192  260\n",
       "Non-Commercial     28   66   94\n",
       "All                96  258  354"
      ]
     },
     "execution_count": 275,
     "metadata": {},
     "output_type": "execute_result"
    }
   ],
   "source": [
    "crosstab(spon_results[(spon_results.inferred==0)], 'non_euctr_results', 'sponsor_status')"
   ]
  },
  {
   "cell_type": "code",
   "execution_count": 277,
   "id": "58a180e3-9bbc-4e53-963e-16d9e56984c1",
   "metadata": {},
   "outputs": [
    {
     "name": "stdout",
     "output_type": "stream",
     "text": [
      "Outcome of Interest: 192\n",
      "Total: 260\n",
      "Proportion: 73.85%\n",
      "95% CI: 68.5-79.19\n",
      "\n",
      "\n",
      "Outcome of Interest: 66\n",
      "Total: 94\n",
      "Proportion: 70.21%\n",
      "95% CI: 60.97-79.46\n"
     ]
    },
    {
     "data": {
      "text/plain": [
       "(0.6096758801641288, 0.7021276595744681, 0.7945794389848074)"
      ]
     },
     "execution_count": 277,
     "metadata": {},
     "output_type": "execute_result"
    }
   ],
   "source": [
    "summarizer(192,260)\n",
    "print('\\n')\n",
    "summarizer(66,94)"
   ]
  },
  {
   "cell_type": "code",
   "execution_count": 276,
   "id": "0a39c47b-a860-46a7-92e2-ec652a2b3869",
   "metadata": {},
   "outputs": [
    {
     "data": {
      "text/html": [
       "<div>\n",
       "<style scoped>\n",
       "    .dataframe tbody tr th:only-of-type {\n",
       "        vertical-align: middle;\n",
       "    }\n",
       "\n",
       "    .dataframe tbody tr th {\n",
       "        vertical-align: top;\n",
       "    }\n",
       "\n",
       "    .dataframe thead th {\n",
       "        text-align: right;\n",
       "    }\n",
       "</style>\n",
       "<table border=\"1\" class=\"dataframe\">\n",
       "  <thead>\n",
       "    <tr style=\"text-align: right;\">\n",
       "      <th>non_euctr_results</th>\n",
       "      <th>0</th>\n",
       "      <th>1</th>\n",
       "      <th>All</th>\n",
       "    </tr>\n",
       "    <tr>\n",
       "      <th>sponsor_status</th>\n",
       "      <th></th>\n",
       "      <th></th>\n",
       "      <th></th>\n",
       "    </tr>\n",
       "  </thead>\n",
       "  <tbody>\n",
       "    <tr>\n",
       "      <th>Commercial</th>\n",
       "      <td>10</td>\n",
       "      <td>7</td>\n",
       "      <td>17</td>\n",
       "    </tr>\n",
       "    <tr>\n",
       "      <th>Non-Commercial</th>\n",
       "      <td>65</td>\n",
       "      <td>63</td>\n",
       "      <td>128</td>\n",
       "    </tr>\n",
       "    <tr>\n",
       "      <th>Unknown</th>\n",
       "      <td>1</td>\n",
       "      <td>0</td>\n",
       "      <td>1</td>\n",
       "    </tr>\n",
       "    <tr>\n",
       "      <th>All</th>\n",
       "      <td>76</td>\n",
       "      <td>70</td>\n",
       "      <td>146</td>\n",
       "    </tr>\n",
       "  </tbody>\n",
       "</table>\n",
       "</div>"
      ],
      "text/plain": [
       "non_euctr_results   0   1  All\n",
       "sponsor_status                \n",
       "Commercial         10   7   17\n",
       "Non-Commercial     65  63  128\n",
       "Unknown             1   0    1\n",
       "All                76  70  146"
      ]
     },
     "execution_count": 276,
     "metadata": {},
     "output_type": "execute_result"
    }
   ],
   "source": [
    "crosstab(spon_results[(spon_results.inferred==1)], 'non_euctr_results', 'sponsor_status')"
   ]
  },
  {
   "cell_type": "code",
   "execution_count": 278,
   "id": "634e325a-e010-410b-a580-1a73f0ba3be0",
   "metadata": {},
   "outputs": [
    {
     "name": "stdout",
     "output_type": "stream",
     "text": [
      "Outcome of Interest: 7\n",
      "Total: 17\n",
      "Proportion: 41.18%\n",
      "95% CI: 17.78-64.57\n",
      "\n",
      "\n",
      "Outcome of Interest: 63\n",
      "Total: 128\n",
      "Proportion: 49.22%\n",
      "95% CI: 40.56-57.88\n"
     ]
    },
    {
     "data": {
      "text/plain": [
       "(0.40557749375145474, 0.4921875, 0.5787975062485452)"
      ]
     },
     "execution_count": 278,
     "metadata": {},
     "output_type": "execute_result"
    }
   ],
   "source": [
    "summarizer(7,17)\n",
    "print('\\n')\n",
    "summarizer(63,128)"
   ]
  },
  {
   "cell_type": "code",
   "execution_count": 279,
   "id": "805599c3-7936-433e-b4f1-a10a8597f63f",
   "metadata": {},
   "outputs": [
    {
     "name": "stdout",
     "output_type": "stream",
     "text": [
      "0.0037138451221579794\n"
     ]
    }
   ],
   "source": [
    "#a is the number of trials with results\n",
    "#b is the total number of trials\n",
    "\n",
    "a = [192, 7]\n",
    "b = [260,17]\n",
    "\n",
    "stat, pval = proportions_ztest(a, b)\n",
    "print(pval)"
   ]
  },
  {
   "cell_type": "code",
   "execution_count": 280,
   "id": "88b47586-c559-40b9-8d1a-5b25ad2de0d7",
   "metadata": {},
   "outputs": [
    {
     "name": "stdout",
     "output_type": "stream",
     "text": [
      "0.0017326688873375395\n"
     ]
    }
   ],
   "source": [
    "a = [66, 63]\n",
    "b = [94,128]\n",
    "\n",
    "stat, pval = proportions_ztest(a, b)\n",
    "print(pval)"
   ]
  },
  {
   "cell_type": "code",
   "execution_count": 283,
   "id": "8440a2e4-e4e5-486e-9ab1-eef65f6262b3",
   "metadata": {},
   "outputs": [
    {
     "name": "stdout",
     "output_type": "stream",
     "text": [
      "0.004545454545454546\n",
      "0.005\n",
      "0.005555555555555556\n",
      "0.00625\n",
      "0.0071428571428571435\n",
      "0.008333333333333333\n",
      "0.01\n",
      "0.0125\n"
     ]
    }
   ],
   "source": [
    "print(.05 / (11 - 1 + 1))\n",
    "print(.05 / (11 - 2 + 1))\n",
    "print(.05 / (11 - 3 + 1))\n",
    "print(.05 / (11 - 4 + 1))\n",
    "print(.05 / (11 - 5 + 1))\n",
    "print(.05 / (11 - 6 + 1))\n",
    "print(.05 / (11 - 7 + 1))\n",
    "print(.05 / (11 - 8 + 1))"
   ]
  },
  {
   "cell_type": "markdown",
   "id": "87188f8b-6111-43d5-b966-6b1948db15a7",
   "metadata": {},
   "source": [
    "## Time to Searches\n",
    "\n",
    "Categorize the follow-up trials had."
   ]
  },
  {
   "cell_type": "code",
   "execution_count": null,
   "id": "9f0703ee-858b-4234-97d9-4fa5ef938717",
   "metadata": {},
   "outputs": [],
   "source": [
    "#Lets make a copy of the sample data\n",
    "\n",
    "sample2 = full_sample[full_sample.eudract_number.isin(analysis_df.euctr_id.to_list())].copy()"
   ]
  },
  {
   "cell_type": "code",
   "execution_count": null,
   "id": "7326c51a-7f63-4e49-847c-9a612f04fab0",
   "metadata": {},
   "outputs": [],
   "source": [
    "sample2['final_date'] = pd.to_datetime(sample2['final_date'])\n",
    "sample2['days_to_search'] = (search_start_date - sample2['final_date']) / pd.Timedelta(1,\"d\")"
   ]
  },
  {
   "cell_type": "code",
   "execution_count": null,
   "id": "ff3890ce-7ab7-402a-a97b-32cb9f510e74",
   "metadata": {},
   "outputs": [],
   "source": [
    "sample2[sample2.inferred == 0].days_to_search.describe()"
   ]
  },
  {
   "cell_type": "code",
   "execution_count": null,
   "id": "ddb6a5ef-9753-41cd-8884-6cedfe9cc86d",
   "metadata": {},
   "outputs": [],
   "source": [
    "sample2[sample2.inferred == 1].days_to_search.describe()"
   ]
  },
  {
   "cell_type": "code",
   "execution_count": null,
   "id": "43897429-ac81-4f0a-9727-604d339495ac",
   "metadata": {},
   "outputs": [],
   "source": [
    "#Moods test for independent medians\n",
    "\n",
    "inferred_data = sample2[sample2.inferred == 1].days_to_search\n",
    "\n",
    "extracted_data = sample2[sample2.inferred == 0].days_to_search\n",
    "\n",
    "stat, p, med, tbl = median_test(inferred_data, extracted_data)\n",
    "print(p)"
   ]
  },
  {
   "cell_type": "code",
   "execution_count": null,
   "id": "6f66b190-68b0-4a18-a23d-4df0df634dd3",
   "metadata": {},
   "outputs": [],
   "source": [
    "#Data for plotting\n",
    "#sample2[['inferred', 'days_to_search']].to_csv(parent + '/data/graphing_data/days_to_search.csv')"
   ]
  },
  {
   "cell_type": "code",
   "execution_count": null,
   "id": "151b020f-1203-40a6-b040-f8d6a7d48a8c",
   "metadata": {},
   "outputs": [],
   "source": []
  },
  {
   "cell_type": "code",
   "execution_count": null,
   "id": "eea59c83-fc9b-4d3b-8fc1-213899476c5b",
   "metadata": {},
   "outputs": [],
   "source": []
  }
 ],
 "metadata": {
  "jupytext": {
   "cell_metadata_filter": "all",
   "notebook_metadata_filter": "all,-language_info"
  },
  "kernelspec": {
   "display_name": "Python 3",
   "language": "python",
   "name": "python3"
  },
  "language_info": {
   "codemirror_mode": {
    "name": "ipython",
    "version": 3
   },
   "file_extension": ".py",
   "mimetype": "text/x-python",
   "name": "python",
   "nbconvert_exporter": "python",
   "pygments_lexer": "ipython3",
   "version": "3.8.1"
  }
 },
 "nbformat": 4,
 "nbformat_minor": 5
}
