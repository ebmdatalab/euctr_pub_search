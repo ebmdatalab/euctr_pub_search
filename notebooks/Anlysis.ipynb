{
 "cells": [
  {
   "cell_type": "code",
   "execution_count": null,
   "id": "d1dcc1dc-aeb9-467e-913c-4be9b3493b5a",
   "metadata": {},
   "outputs": [],
   "source": [
    "import pandas as pd\n",
    "import numpy as np\n",
    "from statsmodels.stats.proportion import proportions_ztest, proportions_chisquare\n",
    "import statsmodels.api as sm"
   ]
  },
  {
   "cell_type": "code",
   "execution_count": null,
   "id": "134c4710-3c9f-40b6-bc43-90f05c16fe0d",
   "metadata": {},
   "outputs": [],
   "source": [
    "import sys\n",
    "from pathlib import Path\n",
    "import os\n",
    "cwd = os.getcwd()\n",
    "parent = str(Path(cwd).parents[0])\n",
    "sys.path.append(parent)"
   ]
  },
  {
   "cell_type": "code",
   "execution_count": null,
   "id": "18321fb3-ba06-4ec5-80c8-76fd36a17e94",
   "metadata": {},
   "outputs": [],
   "source": [
    "#importing custom functions for analysis\n",
    "\n",
    "from lib.functions import ci_calc, z_test, summarizer, check_dupes, simple_logistic_regression, crosstab\n",
    "\n",
    "#ci_calc will compute a simple confidence interval around a proportion\n",
    "#summarizer gives a nice output of proportions and CIs and returns and item with them\n",
    "#check_dupes helps with the date analysis\n",
    "#simple_logicstic_regression and crosstab do what they say on the tin"
   ]
  },
  {
   "cell_type": "markdown",
   "id": "9a685636-9caf-43a1-b6e1-7bdd25c78ed7",
   "metadata": {},
   "source": [
    "# Data Loading and Setup"
   ]
  },
  {
   "cell_type": "code",
   "execution_count": null,
   "id": "f6855f03-24d2-4070-90db-cc543ad781b7",
   "metadata": {
    "lines_to_next_cell": 0
   },
   "outputs": [],
   "source": [
    "#Loading in all the data and creating the analysis dataset.\n",
    "\n",
    "#Primary dataset with dates turned into dates\n",
    "df = pd.read_csv(parent + '/data/final_dataset/final_dataset.csv')\n",
    "df['euctr_results_date'] = pd.to_datetime(df['euctr_results_date'])\n",
    "df['ctgov_results_date'] = pd.to_datetime(df['ctgov_results_date'])\n",
    "df['isrctn_results_date'] = pd.to_datetime(df['isrctn_results_date'])\n",
    "df['journal_pub_date'] = pd.to_datetime(df['journal_pub_date'])\n",
    "\n",
    "#Manually collected sponsor data for regression\n",
    "regression = pd.read_csv(parent + '/data/additional_data/manual_reg_data.csv')\n",
    "\n",
    "#Regression data derived from the EUCTR\n",
    "other_reg_data = pd.read_csv(parent + '/data/additional_data/spon_country_data.csv')\n",
    "\n",
    "#the original sample (and replacements) for data on inferred dates\n",
    "sample = pd.read_csv(parent + '/data/samples/euctr_search_sample_final.csv')\n",
    "replacements  = pd.read_csv(parent + '/data/samples/replacement_sample.csv')\n",
    "full_sample = pd.concat([sample,replacements])\n",
    "\n",
    "#the results section scrape and making one column we need into dates\n",
    "dec_results = pd.read_csv(parent + '/data/source_data/' + 'euctr_data_quality_results_scrape_dec_2020.csv.zip')\n",
    "dec_results['first_version_date'] = pd.to_datetime(dec_results.first_version_date)"
   ]
  },
  {
   "cell_type": "code",
   "execution_count": null,
   "id": "b431c001-f80b-4217-88cc-54069f69115c",
   "metadata": {},
   "outputs": [],
   "source": [
    "#Setting search reference dates\n",
    "search_start_date = pd.to_datetime('2020-12-11')\n",
    "primary_search_completion_date = pd.to_datetime('2021-07-22')\n",
    "last_search_any = pd.to_datetime('2023-01-03')"
   ]
  },
  {
   "cell_type": "markdown",
   "id": "5e6f6281-006f-43d1-a303-e5d3c6b9d00a",
   "metadata": {},
   "source": [
    "# Analysis Prep"
   ]
  },
  {
   "cell_type": "markdown",
   "id": "c0132325-d248-4dbc-85ac-7661ce663791",
   "metadata": {},
   "source": [
    "## Detail the exclusions and get the inferred status of the final sample"
   ]
  },
  {
   "cell_type": "code",
   "execution_count": null,
   "id": "e5433556-9613-4ede-8409-f57ac1c3965d",
   "metadata": {},
   "outputs": [],
   "source": [
    "#Number and reason for exclusions\n",
    "exclusions = df[df.replaced == 1]\n",
    "exclusions.replaced_reason.value_counts()"
   ]
  },
  {
   "cell_type": "code",
   "execution_count": null,
   "id": "1d6aaa3f-8bc7-4da1-91e7-6eed719aa2e0",
   "metadata": {},
   "outputs": [],
   "source": [
    "sample_inferred_status = df[df.replaced.isna()][['euctr_id']].merge(full_sample[['eudract_number', 'inferred']], how='left', left_on='euctr_id', right_on='eudract_number')"
   ]
  },
  {
   "cell_type": "code",
   "execution_count": null,
   "id": "3da3eb2d-3368-41ae-89e4-a232d05f05ca",
   "metadata": {},
   "outputs": [],
   "source": [
    "#Inferred completion date status of the final sample\n",
    "sample_inferred_status.inferred.value_counts()"
   ]
  },
  {
   "cell_type": "code",
   "execution_count": null,
   "id": "79e1deec-620f-45fc-a911-84dbc33bfed0",
   "metadata": {},
   "outputs": [],
   "source": [
    "exclusions_inferred_status = exclusions[['euctr_id']].merge(full_sample[['eudract_number', 'inferred']], how='left', left_on='euctr_id', right_on='eudract_number')"
   ]
  },
  {
   "cell_type": "code",
   "execution_count": null,
   "id": "d2d426c1-7dd2-4d5a-8381-1967f591198e",
   "metadata": {},
   "outputs": [],
   "source": [
    "#Inferred completion date status of the trials we had to replace\n",
    "exclusions_inferred_status.inferred.value_counts()"
   ]
  },
  {
   "cell_type": "markdown",
   "id": "eb29949e-4f47-4ef2-88d3-f69c509ea4a1",
   "metadata": {},
   "source": [
    "## Setting up the analysis dataset"
   ]
  },
  {
   "cell_type": "code",
   "execution_count": null,
   "id": "fc20954a-4f23-4127-aa9f-50aa190e9df3",
   "metadata": {},
   "outputs": [],
   "source": [
    "#For the analysis, we don't want to include these excluded trials so we will make an analyses dataframe moving forward.\n",
    "analysis_df = df[df.replaced != 1].reset_index(drop=True)\n",
    "\n",
    "#Quick check the final dataset is the length we expect\n",
    "assert(len(analysis_df) == 500)"
   ]
  },
  {
   "cell_type": "code",
   "execution_count": null,
   "id": "734d86a4-3203-4540-b8cc-1ef135a3d626",
   "metadata": {},
   "outputs": [],
   "source": [
    "#Here we make binary variable to indicate whether recorded results were published after our cutoff. \n",
    "#Per protocol, nothing available after we began searches should be included in the final results.\n",
    "#Creating binary variables allows us to only correct for this once, rather than have to keep doing it throughout.\n",
    "\n",
    "#Included EUCTR results\n",
    "analysis_df['euctr_results_inc'] = np.where((analysis_df.euctr_results == 'Yes') & \n",
    "                                            (analysis_df.euctr_results_date <= search_start_date), 1, 0)\n",
    "\n",
    "#Included clinicaltrials.gov results\n",
    "analysis_df['ctgov_results_inc'] = np.where((analysis_df.ctgov_results == 'Yes') & \n",
    "                                            (analysis_df.ctgov_results_date <= search_start_date), 1, 0)\n",
    "\n",
    "#Included ISRCTN results\n",
    "analysis_df['isrctn_results_inc'] = np.where((analysis_df.isrctn_results == 'Yes') & \n",
    "                                            (analysis_df.isrctn_results_date <= search_start_date), 1, 0)\n",
    "\n",
    "#Included journal results\n",
    "analysis_df['journal_results_inc'] = np.where((analysis_df.journal_result == 'Yes') & \n",
    "                                            (analysis_df.journal_pub_date <= search_start_date), 1, 0)\n",
    "\n",
    "#A catch-all for any result\n",
    "analysis_df['any_results_inc'] = np.where(((analysis_df.euctr_results_inc == 1) | \n",
    "                                          (analysis_df.ctgov_results_inc == 1) | \n",
    "                                          (analysis_df.isrctn_results_inc == 1) | \n",
    "                                          (analysis_df.journal_results_inc == 1)), 1, 0)"
   ]
  },
  {
   "cell_type": "code",
   "execution_count": null,
   "id": "f8dc6bdc-1b44-44e3-ac87-5cb4c32c893a",
   "metadata": {},
   "outputs": [],
   "source": [
    "#Exporting the analysis dataset so it can be used elsewhere.\n",
    "\n",
    "analysis_df.to_csv(parent + '/data/final_dataset/' + 'analysis_df.csv')"
   ]
  },
  {
   "cell_type": "markdown",
   "id": "20bddf00-4adc-4e8d-b99e-563256b5bb7a",
   "metadata": {
    "tags": []
   },
   "source": [
    "# Main Analysis"
   ]
  },
  {
   "cell_type": "code",
   "execution_count": null,
   "id": "7cc60fb9-7a74-4292-941f-e51fe1f9bf68",
   "metadata": {},
   "outputs": [],
   "source": [
    "analysis_df.head()"
   ]
  },
  {
   "cell_type": "code",
   "execution_count": null,
   "id": "e0766c2c-9598-4d8f-91cb-e9a3b154ff32",
   "metadata": {},
   "outputs": [],
   "source": [
    "full_sample.head()"
   ]
  },
  {
   "cell_type": "markdown",
   "id": "9b49299d-d330-4b1b-86e6-06188c5070af",
   "metadata": {},
   "source": [
    "## Results on the EUCTR"
   ]
  },
  {
   "cell_type": "code",
   "execution_count": null,
   "id": "eedda68b-7186-43b8-bf09-1069022240f5",
   "metadata": {},
   "outputs": [],
   "source": [
    "euctr_results = analysis_df[(analysis_df.euctr_results_inc == 1)]\n",
    "total_found_euctr = len(euctr_results)\n",
    "summarizer(total_found_euctr, len(analysis_df))"
   ]
  },
  {
   "cell_type": "code",
   "execution_count": null,
   "id": "573d0744-ba2f-4f24-83b5-ff8d42776ec3",
   "metadata": {
    "lines_to_next_cell": 2
   },
   "outputs": [],
   "source": [
    "#What do these results look like?\n",
    "euctr_results.euctr_results_format.value_counts()"
   ]
  },
  {
   "cell_type": "code",
   "execution_count": null,
   "id": "be12dbe6-cdb2-45a3-921d-bdfa6dee3d23",
   "metadata": {
    "lines_to_next_cell": 0
   },
   "outputs": [],
   "source": [
    "#Lets get percents and CIs for these.\n",
    "results_types = euctr_results.euctr_results_format.value_counts().to_frame()\n",
    "results_types['percent'] = round((results_types.euctr_results_format / total_found_euctr) * 100,2)\n",
    "\n",
    "#Adding CIs (i'm sure there's a more elegant way to do this with .map() or .apply() \n",
    "#but it's too much of a weird edge case to bother\n",
    "ci_lower = []\n",
    "ci_upper = []\n",
    "for x in results_types.euctr_results_format.to_list():\n",
    "    cis = ci_calc(x, total_found_euctr, printer=False)\n",
    "    ci_lower.append(round(cis[0] * 100,2))\n",
    "    ci_upper.append(round(cis[2] * 100,2))\n",
    "    \n",
    "results_types['ci_lower'] = ci_lower\n",
    "results_types['ci_upper'] = ci_upper\n",
    "\n",
    "results_types = results_types.reset_index().rename(columns={'index':'results_type'})\n",
    "results_types"
   ]
  },
  {
   "cell_type": "code",
   "execution_count": null,
   "id": "60c13335-9ef6-4fe4-8783-31c50318a17d",
   "metadata": {},
   "outputs": [],
   "source": [
    "#Now we want to group like with like to get our final descriptive stats to report\n",
    "\n",
    "#Total with just tabular results\n",
    "summarizer(results_types[results_types.results_type == 'Tabular'].euctr_results_format[0], total_found_euctr)"
   ]
  },
  {
   "cell_type": "code",
   "execution_count": null,
   "id": "1b7f2b7b-bd6c-41c6-860c-d61b43b8291d",
   "metadata": {},
   "outputs": [],
   "source": [
    "#Total with just a Document\n",
    "doc_types = ['CSR Synopsis', \n",
    "             'ClinicalTrials.gov Results', \n",
    "             'Journal Article', \n",
    "             'Short Report', \n",
    "             'Report', \n",
    "             'Notice of termination with low enrollment']\n",
    "summarizer(results_types[results_types.results_type.isin(doc_types)].euctr_results_format.sum(), total_found_euctr)"
   ]
  },
  {
   "cell_type": "code",
   "execution_count": null,
   "id": "4c51da6c-1291-4c08-bc6c-9de5ace78348",
   "metadata": {},
   "outputs": [],
   "source": [
    "for doc in doc_types:\n",
    "    print(doc)\n",
    "    summarizer(results_types[results_types.results_type == doc].euctr_results_format.sum(), total_found_euctr)\n",
    "    print('\\n')"
   ]
  },
  {
   "cell_type": "code",
   "execution_count": null,
   "id": "8672fb37-e0f5-4e9b-a06c-f00346b34c58",
   "metadata": {},
   "outputs": [],
   "source": [
    "#Tab and Journal\n",
    "\n",
    "ci_calc(17,265)"
   ]
  },
  {
   "cell_type": "code",
   "execution_count": null,
   "id": "af6ab811-77f1-4699-abaf-4d32f70d818b",
   "metadata": {},
   "outputs": [],
   "source": [
    "#Tab and CSR and Tab and Report\n",
    "\n",
    "ci_calc(5,264)"
   ]
  },
  {
   "cell_type": "code",
   "execution_count": null,
   "id": "7ee2c43c-68a4-4917-8f18-f56a1e3d0c53",
   "metadata": {},
   "outputs": [],
   "source": [
    "#Total with both Tabular and Document results\n",
    "summarizer(results_types[~results_types.results_type.isin(doc_types + ['Tabular'])].euctr_results_format.sum(), total_found_euctr)"
   ]
  },
  {
   "cell_type": "markdown",
   "id": "e61b8308-8b54-4d2f-96da-bbd54bca1f09",
   "metadata": {},
   "source": [
    "## Cross-Registration and results availability on other registries"
   ]
  },
  {
   "cell_type": "code",
   "execution_count": null,
   "id": "fcbee30b-ac2c-4a50-bb4e-d2d04f97fa1c",
   "metadata": {},
   "outputs": [],
   "source": [
    "#First we looks at unique registrations to the EUCTR\n",
    "euctr_only_reg = analysis_df[analysis_df.nct_id.isna() & analysis_df.isrctn_id.isna()]\n",
    "print(f'Out of {len(analysis_df)} trials {len(euctr_only_reg)} were only on the EUCTR')\n",
    "ci_calc(len(euctr_only_reg), len(analysis_df))"
   ]
  },
  {
   "cell_type": "code",
   "execution_count": null,
   "id": "c70a1765-45aa-4a1b-9716-f063a194d177",
   "metadata": {},
   "outputs": [],
   "source": [
    "#Now we'll look at cross-registration on ClinicalTrials.gov\n",
    "ctg_xreg = analysis_df[analysis_df.nct_id.notnull()]\n",
    "print(f'Out of {len(analysis_df)} trials {len(ctg_xreg)} were cross-registered on ClinicalTrials.gov')\n",
    "ci_calc(len(ctg_xreg),len(analysis_df))"
   ]
  },
  {
   "cell_type": "code",
   "execution_count": null,
   "id": "48a661fc-9534-43e0-8161-ba64d1b21c23",
   "metadata": {},
   "outputs": [],
   "source": [
    "#CTG x-reg results rate\n",
    "ctg_results = ctg_xreg[(ctg_xreg.ctgov_results_inc == 1)]\n",
    "print(f'Of the {len(ctg_xreg)} trials registered on ClinicalTrials.gov, {len(ctg_results)} had results')\n",
    "ci_calc(len(ctg_results), len(ctg_xreg))"
   ]
  },
  {
   "cell_type": "code",
   "execution_count": null,
   "id": "1f9062fa-90cb-4f73-8cf6-2130b56a3f38",
   "metadata": {},
   "outputs": [],
   "source": [
    "#Proportion cross-registered on the ISRCTN \n",
    "isrctn_xreg = analysis_df[analysis_df.isrctn_id.notnull()]\n",
    "print(f'Out of {len(analysis_df)} trials {len(isrctn_xreg)} were cross-registered on the ISRCTN')\n",
    "ci_calc(len(isrctn_xreg), len(analysis_df))"
   ]
  },
  {
   "cell_type": "code",
   "execution_count": null,
   "id": "491a83bc-b264-4400-9b4e-65cb642dfb81",
   "metadata": {},
   "outputs": [],
   "source": [
    "#ISRCTN x-reg results rate\n",
    "isrctn_results = isrctn_xreg[(isrctn_xreg.isrctn_results_inc == 1)]\n",
    "print(f'Of the {len(isrctn_xreg)} trials registered on the ISRCTN, {len(isrctn_results)} had results')\n",
    "ci_calc(len(isrctn_results), len(isrctn_xreg))"
   ]
  },
  {
   "cell_type": "code",
   "execution_count": null,
   "id": "7657cd58-a053-49c5-8c5e-db64616acd68",
   "metadata": {},
   "outputs": [],
   "source": [
    "#How many trials registered on all three registries\n",
    "triple_reg = len(analysis_df[analysis_df.nct_id.notnull() & analysis_df.isrctn_id.notnull()])\n",
    "print(f'{triple_reg} registered on all three registires')\n",
    "ci_calc(triple_reg, len(analysis_df))"
   ]
  },
  {
   "cell_type": "markdown",
   "id": "dba764f8-f9c0-417b-a9a2-14406dd31c45",
   "metadata": {},
   "source": [
    "## Results in the literature"
   ]
  },
  {
   "cell_type": "code",
   "execution_count": null,
   "id": "bd67e6aa-c261-4a08-bb1c-d7432ce28e85",
   "metadata": {},
   "outputs": [],
   "source": [
    "#How many had results in the literature\n",
    "journal_results = analysis_df[(analysis_df.journal_results_inc == 1)]\n",
    "print(f'Out of {len(analysis_df)} trials on the EUCTR, {len(journal_results)} had results in the literature')\n",
    "ci_calc(len(journal_results), len(analysis_df))"
   ]
  },
  {
   "cell_type": "code",
   "execution_count": null,
   "id": "89aefd10-842b-4950-a9eb-17dbce1ea0ce",
   "metadata": {},
   "outputs": [],
   "source": [
    "#How did we find journal results?\n",
    "\n",
    "journal_results.journal_source.value_counts()"
   ]
  },
  {
   "cell_type": "markdown",
   "id": "3d00901c-f5c1-41ab-9469-ada1af0ceeb3",
   "metadata": {},
   "source": [
    "## Summarizing results availability"
   ]
  },
  {
   "cell_type": "code",
   "execution_count": null,
   "id": "0bb94c4d-2ec1-41f3-a0db-ce9f20ff400d",
   "metadata": {},
   "outputs": [],
   "source": [
    "#Getting lists of ids for all results types\n",
    "\n",
    "all_trial_ids = set(analysis_df.euctr_id.to_list())\n",
    "euctr_results_ids = set(euctr_results.euctr_id.to_list())\n",
    "ctg_results_ids = set(ctg_results.euctr_id.to_list())\n",
    "isrctn_results_ids = set(isrctn_results.euctr_id.to_list())\n",
    "journal_results_ids = set(journal_results.euctr_id.to_list())"
   ]
  },
  {
   "cell_type": "code",
   "execution_count": null,
   "id": "b445f12e-09c7-4710-961e-a4746bb1d21b",
   "metadata": {},
   "outputs": [],
   "source": [
    "#Overall, inclusive of duplicates, how many results did we locate?\n",
    "len(euctr_results_ids) + len(ctg_results_ids) + len(isrctn_results_ids) + len(journal_results_ids)"
   ]
  },
  {
   "cell_type": "code",
   "execution_count": null,
   "id": "ba8e7c9a-20c6-47e1-b38b-04ceb2fa40a8",
   "metadata": {},
   "outputs": [],
   "source": [
    "#How many had results anywhere?\n",
    "results_nowhere = all_trial_ids - euctr_results_ids - ctg_results_ids - isrctn_results_ids - journal_results_ids\n",
    "has_some_result = len(analysis_df) - len(results_nowhere)\n",
    "#sense check\n",
    "assert(len(results_nowhere) + has_some_result == 500)\n",
    "\n",
    "print(f'{has_some_result} of {len(analysis_df)} trials had results somewhere')\n",
    "ci_calc(has_some_result,len(analysis_df))"
   ]
  },
  {
   "cell_type": "code",
   "execution_count": null,
   "id": "ff241e6b-7614-4a5e-8350-c3780bc2b054",
   "metadata": {},
   "outputs": [],
   "source": [
    "#What did enrollment look like for the trials with no results?\n",
    "#This uses enrollment numbers from the manual data we collected on enrollment\n",
    "\n",
    "no_results = analysis_df[analysis_df.euctr_id.isin(results_nowhere)].reset_index(drop=True)\n",
    "no_results[['euctr_id']].merge(regression[['Trial ID', 'Enrollment']], how='left', left_on='euctr_id', right_on='Trial ID').Enrollment.sum()"
   ]
  },
  {
   "cell_type": "markdown",
   "id": "222b88cf-25a5-4005-afce-c12279b50ffe",
   "metadata": {},
   "source": [
    "## What results were unique to each dissemination route?"
   ]
  },
  {
   "cell_type": "code",
   "execution_count": null,
   "id": "8af35233-8fe6-4d25-9906-207d086d93bb",
   "metadata": {},
   "outputs": [],
   "source": [
    "#How many had results on just the EUCTR?\n",
    "just_euctr = len(euctr_results_ids - ctg_results_ids - isrctn_results_ids - journal_results_ids)\n",
    "print(f'{just_euctr} trials had results on just the EUCTR')\n",
    "summarizer(just_euctr, has_some_result)"
   ]
  },
  {
   "cell_type": "code",
   "execution_count": null,
   "id": "5e50bb2c-2f01-4bc1-b0b6-2c10006bc992",
   "metadata": {},
   "outputs": [],
   "source": [
    "#What did the distribution of documents look like for unique results\n",
    "\n",
    "just_euctr_ids = euctr_results_ids - ctg_results_ids - isrctn_results_ids - journal_results_ids\n",
    "euctr_results[euctr_results.euctr_id.isin(just_euctr_ids)].euctr_results_format.value_counts()"
   ]
  },
  {
   "cell_type": "code",
   "execution_count": null,
   "id": "24841fd9-8d32-4625-b0ab-8e3de32e6a13",
   "metadata": {},
   "outputs": [],
   "source": [
    "euctr_results[euctr_results.euctr_id.isin(just_euctr_ids)].euctr_results_format.value_counts().sum()"
   ]
  },
  {
   "cell_type": "code",
   "execution_count": null,
   "id": "2b65fb1b-67e6-4bc5-a7a4-683f2c832b5d",
   "metadata": {
    "tags": []
   },
   "outputs": [],
   "source": [
    "# Values for appendix table\n",
    "\n",
    "summarizer(1,55)"
   ]
  },
  {
   "cell_type": "code",
   "execution_count": null,
   "id": "4f1e3b4e-a4fc-4314-81d6-de45807b7ad1",
   "metadata": {},
   "outputs": [],
   "source": [
    "#How many had results on just on ClinicalTrials.gov?\n",
    "just_ctg = len(ctg_results_ids - euctr_results_ids - isrctn_results_ids - journal_results_ids)\n",
    "print(f'{just_ctg} trials had results on just ClinicalTrials.gov')\n",
    "summarizer(just_ctg,has_some_result)"
   ]
  },
  {
   "cell_type": "code",
   "execution_count": null,
   "id": "7ca142e4-b224-4414-b1b6-206ea9fb3704",
   "metadata": {},
   "outputs": [],
   "source": [
    "#How many had results on just on the ISRCTN?\n",
    "just_isrctn = len(isrctn_results_ids - euctr_results_ids - ctg_results_ids - journal_results_ids)\n",
    "print(f'{just_isrctn} trials had results on just the ISRCTN')"
   ]
  },
  {
   "cell_type": "code",
   "execution_count": null,
   "id": "21d3545f-2bb0-4bfa-b86f-86ea00ac8f18",
   "metadata": {},
   "outputs": [],
   "source": [
    "#How many had results just in the literature?\n",
    "just_pub = len(journal_results_ids - euctr_results_ids - ctg_results_ids - isrctn_results_ids)\n",
    "print(f'{just_pub} trials had results only in a journal publication')\n",
    "summarizer(just_pub,has_some_result)"
   ]
  },
  {
   "cell_type": "code",
   "execution_count": null,
   "id": "b8d18d9a-a662-4243-8537-f8ad706799f2",
   "metadata": {},
   "outputs": [],
   "source": [
    "#How many have no results on the EUCTR but results anywhere else?\n",
    "not_euctr = analysis_df[(analysis_df.euctr_results_inc == 0) & ((analysis_df.ctgov_results_inc == 1) | \n",
    "                                                               (analysis_df.isrctn_results_inc == 1) | \n",
    "                                                               (analysis_df.journal_results_inc == 1))]\n",
    "print(f'{len(not_euctr)} trials without EUCTR results had results somewhere else')\n",
    "ci_calc(len(not_euctr), len(analysis_df))"
   ]
  },
  {
   "cell_type": "code",
   "execution_count": null,
   "id": "e71069c4-9f41-4cc7-9068-964c5dad0e74",
   "metadata": {},
   "outputs": [],
   "source": [
    "#How many had results nowhere?\n",
    "print(f'{len(results_nowhere)} trials had no results located')\n",
    "ci_calc(len(results_nowhere), len(analysis_df))"
   ]
  },
  {
   "cell_type": "markdown",
   "id": "84867c92-7bc6-475b-8537-aad17fd5e8bf",
   "metadata": {},
   "source": [
    "## Getting data on combinations of results availability\n",
    "\n",
    "We will visualise these in an upset chart in the paper"
   ]
  },
  {
   "cell_type": "code",
   "execution_count": null,
   "id": "cd1390e7-7d31-4a34-9b4d-56f57c564f05",
   "metadata": {},
   "outputs": [],
   "source": [
    "analysis_df.columns"
   ]
  },
  {
   "cell_type": "code",
   "execution_count": null,
   "id": "772bcea7-b632-435e-8d63-146d4d3d38b4",
   "metadata": {},
   "outputs": [],
   "source": [
    "upset_plot_data = analysis_df[['euctr_results_inc', 'ctgov_results_inc', 'isrctn_results_inc', 'journal_results_inc']]\n",
    "\n",
    "#upset_plot_data.to_csv(parent + '/data/graphing_data/upset_data.csv')\n",
    "\n",
    "cross_reg_upset = analysis_df[['euctr_id', 'nct_id', 'isrctn_id']]\n",
    "\n",
    "#cross_reg_upset.to_csv(parent + '/data/graphing_data/upset_reg_data.csv')"
   ]
  },
  {
   "cell_type": "markdown",
   "id": "686a9687-6e4b-4a8e-af64-5935a8b975c2",
   "metadata": {},
   "source": [
    "# Data Quality, Completion Status, and Reporting\n",
    "\n",
    "For overall population numbers, see the `Data Processing` notebook"
   ]
  },
  {
   "cell_type": "code",
   "execution_count": null,
   "id": "5e6d5d30-0225-43f9-ae00-6840a60abdae",
   "metadata": {},
   "outputs": [],
   "source": [
    "#Making a new DF for this population to investiage results availability by inferred and available completion dates\n",
    "\n",
    "analysis_df_2 = analysis_df.merge(full_sample[['eudract_number', 'inferred']], \n",
    "                                  how='left', \n",
    "                                  left_on='euctr_id', right_on='eudract_number').drop('eudract_number', axis=1)\n",
    "\n",
    "inferred = analysis_df_2[analysis_df_2.inferred == 1]\n",
    "print(f'Inferred: {len(inferred)}; {round((len(inferred)/len(analysis_df_2)) * 100, 2)}%')\n",
    "stated = analysis_df_2[analysis_df_2.inferred == 0]\n",
    "print(f'Stated: {len(stated)}; {round((len(stated)/len(analysis_df_2)) * 100, 2)}%')"
   ]
  },
  {
   "cell_type": "code",
   "execution_count": null,
   "id": "4b9cb939-c2a0-4906-827f-7dec2959ee2b",
   "metadata": {},
   "outputs": [],
   "source": [
    "#How many of the inferred ones had results anywhere?\n",
    "inferred_res_sw = len(inferred[(inferred.euctr_results_inc == 1) | (inferred.ctgov_results_inc == 1) | (inferred.isrctn_results_inc == 1) | (inferred.journal_results_inc == 1)])\n",
    "print(f'Inferred Dates with any results: {inferred_res_sw}')\n",
    "print(f'Total inferred dates: {len(inferred)}')\n",
    "ci_calc(inferred_res_sw, len(inferred))"
   ]
  },
  {
   "cell_type": "code",
   "execution_count": null,
   "id": "2aec3675-0c70-41e7-a762-720c78ded2a8",
   "metadata": {},
   "outputs": [],
   "source": [
    "#How many of the extracted ones had results anywhere?\n",
    "stated_res_sw = len(stated[(stated.euctr_results_inc == 1) | (stated.ctgov_results_inc == 1) | (stated.isrctn_results_inc == 1) | (stated.journal_results_inc == 1)])\n",
    "print(f'Extracted with any results: {stated_res_sw}')\n",
    "print(f'Total extracted dates: {len(stated)}')\n",
    "ci_calc(stated_res_sw, len(stated))"
   ]
  },
  {
   "cell_type": "code",
   "execution_count": null,
   "id": "9a1c29e5-2d61-4967-98db-efcc0114effe",
   "metadata": {},
   "outputs": [],
   "source": [
    "#a is the number of trials with results\n",
    "#b is the total number of trials\n",
    "\n",
    "a = [inferred_res_sw, stated_res_sw]\n",
    "b = [len(inferred),len(stated)]\n",
    "\n",
    "stat, pval = proportions_ztest(a, b)\n",
    "print(pval)"
   ]
  },
  {
   "cell_type": "code",
   "execution_count": null,
   "id": "c77585b9-48ef-45da-a977-93d35375710b",
   "metadata": {},
   "outputs": [],
   "source": [
    "#How many of the inferred ones had results somewhere else?\n",
    "inferred_res_swe = len(inferred[(inferred.ctgov_results_inc == 1) | (inferred.isrctn_results_inc == 1) | (inferred.journal_results_inc == 1)])\n",
    "print(f'Inferred with results outside the EUCTR: {inferred_res_swe}')\n",
    "print(f'Total Inferred: {len(inferred)}')\n",
    "ci_calc(inferred_res_swe, len(inferred))"
   ]
  },
  {
   "cell_type": "code",
   "execution_count": null,
   "id": "7f94c2ff-fa26-4de0-a044-6a4fb9054b97",
   "metadata": {},
   "outputs": [],
   "source": [
    "#How many of the extracted ones had results somewhere else?\n",
    "stated_res_swe = len(stated[(stated.ctgov_results_inc == 1) | (stated.isrctn_results_inc == 1) | (stated.journal_results_inc == 1)])\n",
    "print(f'Extracted with results outside the EUCTR: {stated_res_swe}')\n",
    "print(f'Total Extracted: {len(stated)}')\n",
    "ci_calc(stated_res_swe, len(stated))"
   ]
  },
  {
   "cell_type": "code",
   "execution_count": null,
   "id": "631aa283-5041-4e99-9b10-5c4f9c2ab4b5",
   "metadata": {},
   "outputs": [],
   "source": [
    "a = [inferred_res_swe, stated_res_swe]\n",
    "b = [len(inferred),len(stated)]\n",
    "\n",
    "stat, pval = proportions_ztest(a, b)\n",
    "print(pval)"
   ]
  },
  {
   "cell_type": "markdown",
   "id": "1af893bc-5b7d-43d3-a2c8-c14f9fd1b945",
   "metadata": {},
   "source": [
    "## Now we have to do this for each registry"
   ]
  },
  {
   "cell_type": "code",
   "execution_count": null,
   "id": "d86dc052-1529-4aea-960e-c24cb6f65941",
   "metadata": {},
   "outputs": [],
   "source": [
    "#EUCTR\n",
    "\n",
    "#Results posted to EUCTR by date of search - stated\n",
    "stated_results_euctr = stated[(stated.euctr_results_inc == 1)]\n",
    "print(f'Extracted with EUCTR results: {len(stated_results_euctr)}')\n",
    "print(f'Total extracted: {len(stated)}')\n",
    "ci_calc(len(stated_results_euctr), len(stated))\n",
    "\n",
    "print('\\n')\n",
    "\n",
    "#Results posted to EUCTR by date of search - inferred\n",
    "inferred_results_euctr = inferred[(inferred.euctr_results_inc == 1)]\n",
    "print(f'Inferred with EUCTR results: {len(inferred_results_euctr)}')\n",
    "print(f'Total inferred: {len(inferred)}')\n",
    "ci_calc(len(inferred_results_euctr), len(inferred))"
   ]
  },
  {
   "cell_type": "code",
   "execution_count": null,
   "id": "41cb1cd6-fe84-4444-8eb8-a9083a7414f8",
   "metadata": {},
   "outputs": [],
   "source": [
    "a = [len(inferred_results_euctr), len(stated_results_euctr)]\n",
    "b = [len(inferred),len(stated)]\n",
    "\n",
    "stat, pval = proportions_ztest(a, b)\n",
    "print(pval)"
   ]
  },
  {
   "cell_type": "code",
   "execution_count": null,
   "id": "f1665174-309d-4db1-8db6-35cc4e8a53c2",
   "metadata": {},
   "outputs": [],
   "source": [
    "#CTG extracted dates\n",
    "stated_ctg = stated[stated.nct_id.notnull()]\n",
    "stated_ctg_results = stated_ctg[(stated_ctg.ctgov_results_inc == 1)]\n",
    "print(f'Extracted with CTG results: {len(stated_ctg_results)}')\n",
    "print(f'Total CTG extracted: {len(stated_ctg)}')\n",
    "ci_calc(len(stated_ctg_results), len(stated_ctg))\n",
    "\n",
    "print('\\n')\n",
    "\n",
    "#CTG inferred dates\n",
    "inferred_ctg = inferred[inferred.nct_id.notnull()]\n",
    "inferred_ctg_results = inferred_ctg[(inferred_ctg.ctgov_results_inc == 1)]\n",
    "print(f'Inferred with CTG results: {len(inferred_ctg_results)}')\n",
    "print(f'Total CTG inferred: {len(inferred_ctg)}')\n",
    "ci_calc(len(inferred_ctg_results), len(inferred_ctg))"
   ]
  },
  {
   "cell_type": "code",
   "execution_count": null,
   "id": "d76581dc-38f8-4cc5-b0ce-996dba77cfc7",
   "metadata": {},
   "outputs": [],
   "source": [
    "a = [len(inferred_ctg_results), len(stated_ctg_results)]\n",
    "b = [len(inferred_ctg),len(stated_ctg)]\n",
    "\n",
    "stat, pval = proportions_ztest(a, b)\n",
    "print(pval)"
   ]
  },
  {
   "cell_type": "code",
   "execution_count": null,
   "id": "bec9435b-390b-42bc-993e-a3594b22465a",
   "metadata": {},
   "outputs": [],
   "source": [
    "#isrctn extracted dates\n",
    "stated_isrctn = stated[stated.isrctn_id.notnull()]\n",
    "stated_isrctn_results = stated_isrctn[(stated_isrctn.isrctn_results_inc == 1)]\n",
    "print(f'Extracted with ISRCTN results: {len(stated_isrctn_results)}')\n",
    "print(f'Total ISRCTN extracted: {len(stated_isrctn)}')\n",
    "ci_calc(len(stated_isrctn_results), len(stated_isrctn))\n",
    "\n",
    "print('\\n')\n",
    "\n",
    "#isrctn inferred dates\n",
    "inferred_isrctn = inferred[inferred.isrctn_id.notnull()]\n",
    "inferred_isrctn_results = inferred_isrctn[(inferred_isrctn.isrctn_results_inc == 1)]\n",
    "print(f'Inferred with ISRCTN results:{len(inferred_isrctn_results)}')\n",
    "print(f'Total ISRCTN extracted: {len(inferred_isrctn)}')\n",
    "ci_calc(len(inferred_isrctn_results), len(inferred_isrctn))"
   ]
  },
  {
   "cell_type": "code",
   "execution_count": null,
   "id": "eb164586-d396-41cf-9a3d-353c20fd3d83",
   "metadata": {},
   "outputs": [],
   "source": [
    "a = [len(inferred_isrctn_results), len(stated_isrctn_results)]\n",
    "b = [len(inferred_isrctn),len(stated_isrctn)]\n",
    "\n",
    "stat, pval = proportions_ztest(a, b)\n",
    "print(pval)"
   ]
  },
  {
   "cell_type": "code",
   "execution_count": null,
   "id": "e7098406-19b6-43ac-abf3-f4fd933d11dc",
   "metadata": {},
   "outputs": [],
   "source": [
    "#journal extracted dates\n",
    "stated_journal = stated[(stated.journal_results_inc == 1)]\n",
    "print(f'Extracted with results in a Journal: {len(stated_journal)}')\n",
    "print(f'Total Extracted: {len(stated)}')\n",
    "ci_calc(len(stated_journal), len(stated))\n",
    "\n",
    "print('\\n')\n",
    "\n",
    "#journal inferred dates\n",
    "inferred_journal = inferred[(inferred.journal_results_inc == 1)]\n",
    "print(f'Inferred with results in a Journal: {len(inferred_journal)}')\n",
    "print(f'Total Inferred: {len(inferred)}')\n",
    "ci_calc(len(inferred_journal), len(inferred))"
   ]
  },
  {
   "cell_type": "code",
   "execution_count": null,
   "id": "b1d53d3d-f0bf-4073-8dd0-660f3bf65d8a",
   "metadata": {},
   "outputs": [],
   "source": [
    "a = [len(inferred_journal), len(stated_journal)]\n",
    "b = [len(inferred),len(stated)]\n",
    "\n",
    "stat, pval = proportions_ztest(a, b)\n",
    "print(pval)"
   ]
  },
  {
   "cell_type": "markdown",
   "id": "91b218c7-4757-43ff-b0fa-526c79e7da80",
   "metadata": {},
   "source": [
    "# Publication Date Analysis\n",
    "\n",
    "Due to the very low number of results, all but 1 of which was never the earliest, we are excluding ISRCTN from this analysis. You can verify this fact below using the original date_df dataframe."
   ]
  },
  {
   "cell_type": "code",
   "execution_count": null,
   "id": "9ad910c4-7f31-48bd-88d0-a59cabb94a7c",
   "metadata": {},
   "outputs": [],
   "source": [
    "date_df = analysis_df[['euctr_id', 'euctr_results_inc', 'euctr_results_date', 'nct_id', 'ctgov_results_inc', 'ctgov_results_date', \n",
    "             'isrctn_id', 'isrctn_results_inc', 'isrctn_results_date', 'journal_results_inc', 'journal_pub_date']].reset_index(drop=True)\n",
    "\n",
    "\n",
    "#This is the earliest results available on the EUCTR\n",
    "earliest_euctr_results_date = dec_results.first_version_date.min()\n",
    "print(earliest_euctr_results_date)"
   ]
  },
  {
   "cell_type": "code",
   "execution_count": null,
   "id": "fb2c7fa0-86d5-4756-a4b4-16623c9880fc",
   "metadata": {},
   "outputs": [],
   "source": [
    "#It's probably easiest to just blank out any dates of results that are excluded to make life easier\n",
    "#We'll also remove ISRCTN\n",
    "#Making a fresh copy so we can compare for sanity checks\n",
    "\n",
    "date_df2 = date_df.drop(['isrctn_id', 'isrctn_results_inc', 'isrctn_results_date'], axis=1).reset_index(drop=True)\n",
    "\n",
    "date_df2['euctr_results_date'] = pd.to_datetime(np.where((date_df2.euctr_results_inc == 0) & date_df2.euctr_results_date.notnull(), pd.NaT, date_df2.euctr_results_date))\n",
    "\n",
    "date_df2['ctgov_results_date'] = pd.to_datetime(np.where((date_df2.ctgov_results_inc == 0) & date_df2.ctgov_results_date.notnull(), pd.NaT, date_df2.ctgov_results_date))\n",
    "\n",
    "date_df2['journal_pub_date'] = pd.to_datetime(np.where((date_df2.journal_results_inc == 0) & date_df2.journal_pub_date.notnull(), pd.NaT, date_df2.journal_pub_date))"
   ]
  },
  {
   "cell_type": "code",
   "execution_count": null,
   "id": "0cda2611-5b59-4242-b6b5-a1596c1d1057",
   "metadata": {},
   "outputs": [],
   "source": [
    "#Sense checking to make sure there are no duplicate date values for when we take mins and maxes\n",
    "just_dates = date_df2[['euctr_results_date','ctgov_results_date', 'journal_pub_date']].reset_index(drop=True)\n",
    "just_dates['test'] = just_dates.apply(check_dupes, axis=1)\n",
    "just_dates.test.value_counts()\n",
    "\n",
    "#There are no repeat dates so no need to worry about that."
   ]
  },
  {
   "cell_type": "code",
   "execution_count": null,
   "id": "cf065ea3-a31a-4c3d-bb1c-e2366e021ca5",
   "metadata": {},
   "outputs": [],
   "source": [
    "#Getting the earliest and latest publication dates\n",
    "date_df2['min_date'] = date_df2[['euctr_results_date',\n",
    "                               'ctgov_results_date', \n",
    "                               'journal_pub_date']].min(axis=1)\n",
    "\n",
    "date_df2['max_date'] = date_df2[['euctr_results_date',\n",
    "                               'ctgov_results_date', \n",
    "                               'journal_pub_date']].max(axis=1)"
   ]
  },
  {
   "cell_type": "code",
   "execution_count": null,
   "id": "ee0cdb9f-d387-4fdd-bbac-dac3a1c4e64f",
   "metadata": {},
   "outputs": [],
   "source": [
    "#Getting the total number of results available \n",
    "date_df2['results_counts'] = (date_df2[['euctr_results_inc', 'ctgov_results_inc', 'journal_results_inc']].T.sum())"
   ]
  },
  {
   "cell_type": "markdown",
   "id": "badd7051-fd16-43c6-a112-e4c240e7393d",
   "metadata": {},
   "source": [
    "# Pre-EUTR Reporting"
   ]
  },
  {
   "cell_type": "code",
   "execution_count": null,
   "id": "09d72dd7-f078-40f2-b8f5-5c28e8bea139",
   "metadata": {},
   "outputs": [],
   "source": [
    "#Trials that had a result of some kind before the earliest available EUCTR results date\n",
    "pre_euctr = date_df2[(date_df2.min_date < earliest_euctr_results_date)].reset_index(drop=True)\n",
    "\n",
    "print(len(pre_euctr))"
   ]
  },
  {
   "cell_type": "code",
   "execution_count": null,
   "id": "498680e0-adf6-4f02-94d6-8bcdc0d7a4f5",
   "metadata": {},
   "outputs": [],
   "source": [
    "#How many of these went on the publish a result on the EUCTR\n",
    "\n",
    "print(len(pre_euctr[pre_euctr.euctr_results_inc == 1]))\n",
    "\n",
    "ci_calc(93,135)"
   ]
  },
  {
   "cell_type": "code",
   "execution_count": null,
   "id": "ee923636-a269-4094-af6d-e5d4ee8abe5f",
   "metadata": {},
   "outputs": [],
   "source": [
    "#Lets drop ones that published before the launch of the ClinicalTrials.gov Results section launch in September 2008 \n",
    "#as this wouldn't be a fair comparison. It looks like the results section launched at the end of September so we'll\n",
    "#Exclude anything first in a journal before October as that was the only route available.\n",
    "\n",
    "pre_euctr_post_ctg = pre_euctr[pre_euctr.journal_pub_date > pd.to_datetime('2008-09-30')].reset_index(drop=True)\n",
    "\n",
    "print(len(pre_euctr_post_ctg))"
   ]
  },
  {
   "cell_type": "code",
   "execution_count": null,
   "id": "ece4f519-5645-46ed-9c12-b38c8eb4c0f8",
   "metadata": {},
   "outputs": [],
   "source": [
    "#Here we can extract where the earliest result was extracted for a given trial\n",
    "\n",
    "conds = [pre_euctr_post_ctg.euctr_results_date == pre_euctr_post_ctg.min_date, \n",
    "         pre_euctr_post_ctg.ctgov_results_date == pre_euctr_post_ctg.min_date, \n",
    "         pre_euctr_post_ctg.journal_pub_date == pre_euctr_post_ctg.min_date]\n",
    "\n",
    "out = ['EUCTR', 'CTgov', 'Journal']\n",
    "\n",
    "pre_euctr_post_ctg['earliest_results'] = np.select(conds, out, 'No Result')"
   ]
  },
  {
   "cell_type": "code",
   "execution_count": null,
   "id": "4478f438-d570-4b2b-a8ad-5acb4ff0538b",
   "metadata": {},
   "outputs": [],
   "source": [
    "#Lets now look at the distribution of where trials were first to report prior to the EUCTR\n",
    "#This has to be limited to only trials that were also cross-registered on ClinicalTrials.gov to compare\n",
    "#like with like\n",
    "first_report_pre = pre_euctr_post_ctg[pre_euctr_post_ctg.nct_id.notnull()].earliest_results.value_counts()\n",
    "first_report_pre"
   ]
  },
  {
   "cell_type": "code",
   "execution_count": null,
   "id": "43c90b8b-311a-4a83-afe6-42fa0a3b28be",
   "metadata": {},
   "outputs": [],
   "source": [
    "#Can use this to get the CIs for those\n",
    "#Journals\n",
    "summarizer(first_report_pre[0],first_report_pre.sum())"
   ]
  },
  {
   "cell_type": "code",
   "execution_count": null,
   "id": "aaaeb901-b3c7-4f96-9d74-7b2141804ff2",
   "metadata": {},
   "outputs": [],
   "source": [
    "#CT gov\n",
    "summarizer(first_report_pre[1],first_report_pre.sum())"
   ]
  },
  {
   "cell_type": "markdown",
   "id": "79e00903-d1b7-4167-ab90-0a8e6db9891d",
   "metadata": {},
   "source": [
    "# Post-EUTR Reporting"
   ]
  },
  {
   "cell_type": "code",
   "execution_count": null,
   "id": "a2deac3d-7bc7-4f55-83f2-ea68bf50d297",
   "metadata": {},
   "outputs": [],
   "source": [
    "#Make the sample\n",
    "post_euctr = date_df2[(date_df2.min_date >= earliest_euctr_results_date)].reset_index(drop=True)\n",
    "\n",
    "#Trials with any result after the launch of the EUCTR results section\n",
    "print(len(post_euctr))"
   ]
  },
  {
   "cell_type": "code",
   "execution_count": null,
   "id": "8b26f695-9887-4f79-900a-1f76e9c552fb",
   "metadata": {},
   "outputs": [],
   "source": [
    "#How many of these ended up on the EUCTR at all\n",
    "len(post_euctr[post_euctr.euctr_results_inc == 1])"
   ]
  },
  {
   "cell_type": "code",
   "execution_count": null,
   "id": "36512b9c-4784-4060-9d90-d7b06da5044d",
   "metadata": {},
   "outputs": [],
   "source": [
    "#And the CI for that\n",
    "summarizer(len(post_euctr[post_euctr.euctr_results_inc == 1]),len(post_euctr))"
   ]
  },
  {
   "cell_type": "code",
   "execution_count": null,
   "id": "5058c5f6-e321-42b9-865d-7775131c2bd8",
   "metadata": {},
   "outputs": [],
   "source": [
    "#Adding the earliest dissemination route\n",
    "\n",
    "conds = [post_euctr.euctr_results_date == post_euctr.min_date, \n",
    "         post_euctr.ctgov_results_date == post_euctr.min_date, \n",
    "         post_euctr.journal_pub_date == post_euctr.min_date]\n",
    "\n",
    "out = ['EUCTR', 'CTgov', 'Journal']\n",
    "\n",
    "post_euctr['earliest_results'] = np.select(conds, out, 'No Result')"
   ]
  },
  {
   "cell_type": "code",
   "execution_count": null,
   "id": "6bc3846c-3e96-4da5-8178-c3e611ac313d",
   "metadata": {},
   "outputs": [],
   "source": [
    "first_report_post = post_euctr[post_euctr.nct_id.notnull()].earliest_results.value_counts()\n",
    "first_report_post"
   ]
  },
  {
   "cell_type": "code",
   "execution_count": null,
   "id": "9c96f3fd-0377-49b5-a4b7-1f4211ff5c59",
   "metadata": {},
   "outputs": [],
   "source": [
    "first_report_post.sum()"
   ]
  },
  {
   "cell_type": "code",
   "execution_count": null,
   "id": "e8a4a1b5-f7a8-4542-b068-7f16a597e2b7",
   "metadata": {},
   "outputs": [],
   "source": [
    "#Journal CIs\n",
    "summarizer(first_report_post[0], first_report_post.sum())"
   ]
  },
  {
   "cell_type": "code",
   "execution_count": null,
   "id": "cc39fb18-2532-480a-90c2-c9d61d8ea6b5",
   "metadata": {},
   "outputs": [],
   "source": [
    "#EUCTR CIs\n",
    "summarizer(first_report_post[1], first_report_post.sum())"
   ]
  },
  {
   "cell_type": "code",
   "execution_count": null,
   "id": "ee8465bd-3dac-47cc-9e0e-5a157c2428e7",
   "metadata": {},
   "outputs": [],
   "source": [
    "#CTG CIs\n",
    "summarizer(first_report_post[2], first_report_post.sum())"
   ]
  },
  {
   "cell_type": "code",
   "execution_count": null,
   "id": "bff38aa4-5ae6-4656-96f9-b4e535c6f960",
   "metadata": {},
   "outputs": [],
   "source": [
    "#What about trials not on ClinicalTrials.gov.\n",
    "first_pub_no_ctg = post_euctr[(post_euctr.nct_id.isna())].earliest_results.value_counts()\n",
    "first_pub_no_ctg"
   ]
  },
  {
   "cell_type": "code",
   "execution_count": null,
   "id": "b947d632-03be-40fd-93a0-c19f739624b1",
   "metadata": {},
   "outputs": [],
   "source": [
    "#CI for journal\n",
    "summarizer(first_pub_no_ctg[0],first_pub_no_ctg.sum())"
   ]
  },
  {
   "cell_type": "code",
   "execution_count": null,
   "id": "eb52357c-9b34-45a9-8498-4a694ff19502",
   "metadata": {},
   "outputs": [],
   "source": [
    "#CI for EUCTR\n",
    "summarizer(first_pub_no_ctg[1],first_pub_no_ctg.sum())"
   ]
  },
  {
   "cell_type": "markdown",
   "id": "66b7804a-222b-4b0f-8349-77cc4a941cf8",
   "metadata": {},
   "source": [
    "# Data For Time to Reporting Across Routes"
   ]
  },
  {
   "cell_type": "code",
   "execution_count": null,
   "id": "1a17d0e9-c028-4e6d-abba-51baf3b4a74b",
   "metadata": {},
   "outputs": [],
   "source": [
    "#So this is everything that could have appeared in all three places\n",
    "\n",
    "results_compare = post_euctr[post_euctr.nct_id.notnull()].reset_index(drop=True)"
   ]
  },
  {
   "cell_type": "code",
   "execution_count": null,
   "id": "fbe51c57-ca7f-47b2-9fc7-65178a558809",
   "metadata": {},
   "outputs": [],
   "source": [
    "#This makes it so we can get the next result for any given first result.\n",
    "conds_t = [results_compare.results_counts == 1, \n",
    "         results_compare.results_counts == 2,\n",
    "         results_compare.results_counts == 3]\n",
    "\n",
    "out_t = [pd.NaT,\n",
    "         results_compare.max_date,\n",
    "         results_compare[['euctr_results_date', 'ctgov_results_date', 'journal_pub_date']].median(axis=1, numeric_only=False)]\n",
    "\n",
    "results_compare['next_result'] = np.select(conds_t, out_t)\n",
    "results_compare['next_result'] = pd.to_datetime(results_compare['next_result']).dt.date\n",
    "\n",
    "#creating the censoring variable\n",
    "results_compare['censored'] = np.where((results_compare.results_counts == 1), 1, 0)\n",
    "\n",
    "#need to do this because of weirdness with mixed types\n",
    "results_compare['next_result'] = results_compare['next_result'].replace(pd.NaT, search_start_date.date())\n",
    "results_compare['next_result'] = pd.to_datetime(results_compare['next_result'])"
   ]
  },
  {
   "cell_type": "code",
   "execution_count": null,
   "id": "6fd26ddf-9beb-4fd4-9bf8-ca97766f3a74",
   "metadata": {},
   "outputs": [],
   "source": [
    "results_compare['time_to_second_pub'] = (results_compare.next_result - results_compare.min_date) / pd.Timedelta('1 day')"
   ]
  },
  {
   "cell_type": "code",
   "execution_count": null,
   "id": "a601354d-a267-462b-b620-b4ec74defda9",
   "metadata": {
    "lines_to_next_cell": 2
   },
   "outputs": [],
   "source": [
    "#Output for use in the Figures notebook\n",
    "\n",
    "results_compare.to_csv(parent + '/data/graphing_data/time_next_pub.csv')"
   ]
  },
  {
   "cell_type": "markdown",
   "id": "2e94cf35-f13c-4b94-8b14-a2a8965da0ac",
   "metadata": {},
   "source": [
    "## Data for Start Year Figure\n",
    "\n",
    "Here we just get the data we would need and export it. Figures are made in a separate notebook."
   ]
  },
  {
   "cell_type": "code",
   "execution_count": null,
   "id": "8183551b-4ecb-4b01-b77a-4dd949869fbc",
   "metadata": {},
   "outputs": [],
   "source": [
    "graphing_df = analysis_df[['euctr_id', \n",
    "                           'euctr_results_inc', \n",
    "                           'any_results_inc']].merge(regression[['Trial ID', \n",
    "                                                                 'Trial Start Year']], \n",
    "                                                    how='left', left_on='euctr_id', right_on='Trial ID').drop('Trial ID', axis=1)\n",
    "\n",
    "graphing_df.to_csv(parent + '/data/graphing_data/start_year_data.csv')"
   ]
  },
  {
   "cell_type": "markdown",
   "id": "f080d613-8a52-4349-92a8-fed04dbc4fee",
   "metadata": {},
   "source": [
    "# Reporting of Trial IDs\n",
    "\n",
    "Might need to re-adjust this so that only things eligible to have that ID (i.e. registered there) are in the denom"
   ]
  },
  {
   "cell_type": "code",
   "execution_count": null,
   "id": "44505def-5330-4133-9230-e11bd460fb0a",
   "metadata": {},
   "outputs": [],
   "source": [
    "trial_id_df = analysis_df[['euctr_id', 'nct_id', 'isrctn_id', 'journal_results_inc', 'journal_reg_numbers']].reset_index(drop=True)"
   ]
  },
  {
   "cell_type": "code",
   "execution_count": null,
   "id": "467ea5b9-eed6-4d14-b525-4111c02c2865",
   "metadata": {},
   "outputs": [],
   "source": [
    "reg_id_df = trial_id_df[trial_id_df.journal_results_inc == 1].journal_reg_numbers.value_counts(dropna=False).to_frame().reset_index()"
   ]
  },
  {
   "cell_type": "code",
   "execution_count": null,
   "id": "27c49b78-a833-46f8-8f75-d0248bbac928",
   "metadata": {},
   "outputs": [],
   "source": [
    "#How many EUCTR/Publication pairs had an EUCTR ID\n",
    "\n",
    "euctr_pub_ids = trial_id_df[(trial_id_df.journal_results_inc == 1) & (trial_id_df.euctr_id.notnull())]\n",
    "print(f'There are {len(euctr_pub_ids)} trials with an EUCTR registration and a matched publication')\n",
    "print(f'Below are the ones with a Trial ID excluding the {euctr_pub_ids.journal_reg_numbers.value_counts()[\"None\"]} with no ID')\n",
    "euctr_id_match = euctr_pub_ids[euctr_pub_ids.journal_reg_numbers != 'None'].journal_reg_numbers.value_counts()\n",
    "euctr_id_match"
   ]
  },
  {
   "cell_type": "code",
   "execution_count": null,
   "id": "01d6ee98-024b-431f-aed7-02f71b936613",
   "metadata": {},
   "outputs": [],
   "source": [
    "#Stats on number containing an EUCTR ID\n",
    "summarizer(euctr_id_match.filter(like='EUCTR/EudraCT').sum(), len(euctr_pub_ids))"
   ]
  },
  {
   "cell_type": "code",
   "execution_count": null,
   "id": "32a93b13-2246-4a82-9694-ea8f34366d02",
   "metadata": {},
   "outputs": [],
   "source": [
    "#How many CTG/Publication pairs had an NCT ID\n",
    "\n",
    "ctg_pub_ids = trial_id_df[(trial_id_df.journal_results_inc == 1) & (trial_id_df.nct_id.notnull())]\n",
    "print(f'There are {len(ctg_pub_ids)} trials with a ClinicalTrials.gov registration and a matched publication')\n",
    "print(f'Below are the ones with a Trial ID excluding the {ctg_pub_ids.journal_reg_numbers.value_counts()[\"None\"]} with no ID')\n",
    "ctg_id_match = ctg_pub_ids[ctg_pub_ids.journal_reg_numbers != 'None'].journal_reg_numbers.value_counts()\n",
    "ctg_id_match"
   ]
  },
  {
   "cell_type": "code",
   "execution_count": null,
   "id": "a8225744-ac48-4fef-aab5-f19cf322854d",
   "metadata": {},
   "outputs": [],
   "source": [
    "#Stats on number containing an NCT ID\n",
    "summarizer(ctg_id_match.filter(like='ClinicalTrials.gov').sum(), len(ctg_pub_ids))"
   ]
  },
  {
   "cell_type": "code",
   "execution_count": null,
   "id": "abe92cb6-84fb-4ec2-b985-4578ea1c11cb",
   "metadata": {},
   "outputs": [],
   "source": [
    "#How many EUCTR/Publication pairs had an ISRCTN ID\n",
    "\n",
    "isrctn_pub_ids = trial_id_df[(trial_id_df.journal_results_inc == 1) & (trial_id_df.isrctn_id.notnull())]\n",
    "print(f'There are {len(isrctn_pub_ids)} trials with an ISRCTN registration and a matched publication')\n",
    "print(f'Below are the ones with a Trial ID excluding the {isrctn_pub_ids.journal_reg_numbers.value_counts()[\"None\"]} with no ID')\n",
    "isrctn_id_match = isrctn_pub_ids[isrctn_pub_ids.journal_reg_numbers != 'None'].journal_reg_numbers.value_counts()\n",
    "isrctn_id_match"
   ]
  },
  {
   "cell_type": "code",
   "execution_count": null,
   "id": "bd35df16-0fdc-45f0-a67f-5b2a5028f15d",
   "metadata": {},
   "outputs": [],
   "source": [
    "#Stats on number containing an ISRCTN ID\n",
    "summarizer(isrctn_id_match.filter(like='ISRCTN').sum(), len(isrctn_pub_ids))"
   ]
  },
  {
   "cell_type": "markdown",
   "id": "579b500c-a0e6-40f8-aa13-5da23dd48098",
   "metadata": {},
   "source": [
    "# Exploratory Analyses"
   ]
  },
  {
   "cell_type": "code",
   "execution_count": null,
   "id": "7922a2af-9dca-4b6c-b987-a7a1a4e319cb",
   "metadata": {},
   "outputs": [],
   "source": [
    "#Creating the exploratory analysis dataset through merging a few different DFs \n",
    "#and aligning the columns for ease of use.\n",
    "\n",
    "exploratory_final = analysis_df[['euctr_id', 'euctr_results_inc', 'ctgov_results_inc', 'isrctn_results_inc', \n",
    "                                 'journal_results_inc', 'any_results_inc', 'nct_id', 'isrctn_id', \n",
    "                                 'journal_result']].merge(full_sample[['eudract_number', \n",
    "                                                                  'inferred']], \n",
    "                                                          how='left', \n",
    "                                                          left_on='euctr_id', \n",
    "                                                          right_on='eudract_number')\n",
    "\n",
    "exploratory_final = exploratory_final.merge(regression, \n",
    "                                            how='left', \n",
    "                                            left_on='euctr_id', \n",
    "                                            right_on='Trial ID').drop(['eudract_number', \n",
    "                                                                       'Timestamp', \n",
    "                                                                       'Notes', \n",
    "                                                                       'Trial ID'], axis=1)\n",
    "\n",
    "exploratory_final = exploratory_final.merge(other_reg_data, \n",
    "                                            how='left', \n",
    "                                            left_on='euctr_id', \n",
    "                                            right_on='trial_id').drop(['Unnamed: 0', 'trial_id'], axis=1)\n",
    "\n",
    "exploratory_final.columns = ['euctr_id', 'euctr_results_inc', 'ctgov_results_inc', 'isrctn_results_inc', \n",
    "                             'journal_results_inc', 'any_results_inc', 'nct_id', 'isrctn_id', 'journal_result', \n",
    "                             'inferred', 'trial_start_yr', 'enrollment', 'location', 'sponsor_status', \n",
    "                             'protocol_country', 'sponsor_country']"
   ]
  },
  {
   "cell_type": "code",
   "execution_count": null,
   "id": "01a0b66c-a7f1-403b-ba68-9b7f54c39e9d",
   "metadata": {},
   "outputs": [],
   "source": [
    "exploratory_final.head()"
   ]
  },
  {
   "cell_type": "code",
   "execution_count": null,
   "id": "14875f73-5bcf-4456-9330-ae8beeb28e13",
   "metadata": {},
   "outputs": [],
   "source": [
    "exploratory_final[exploratory_final.enrollment.isna()]"
   ]
  },
  {
   "cell_type": "markdown",
   "id": "f157f016-2193-4ab4-8bec-ec519fe32a10",
   "metadata": {},
   "source": [
    "Run the next two cells on the relevant variables in `exploratory_final` to get data for Table 1 of the paper.\n",
    "\n",
    "#We will run `.describe()` on `enrollment` and `protocol_country`\n",
    "\n",
    "#We will run `.value_counts()` on `sponsor_status`,`location`, and `trial_start_yr`"
   ]
  },
  {
   "cell_type": "code",
   "execution_count": null,
   "id": "aee7c98c-d9ea-43e7-ad75-921f3692427b",
   "metadata": {},
   "outputs": [],
   "source": [
    "exploratory_final.protocol_country.describe()"
   ]
  },
  {
   "cell_type": "code",
   "execution_count": null,
   "id": "de94ef30-0237-4393-a4ea-f0c6739824d8",
   "metadata": {},
   "outputs": [],
   "source": [
    "exploratory_final.trial_start_yr.value_counts().sort_index()"
   ]
  },
  {
   "cell_type": "markdown",
   "id": "6f8b71a4-12ce-4c96-9ad2-e12e005546ce",
   "metadata": {},
   "source": [
    "## Analysis 1: Regression"
   ]
  },
  {
   "cell_type": "code",
   "execution_count": null,
   "id": "636b0860-1b37-4690-bfcb-7c7875772d64",
   "metadata": {},
   "outputs": [],
   "source": [
    "#Taking only what we need:\n",
    "regression_final = exploratory_final[['euctr_id', 'euctr_results_inc', 'any_results_inc', 'inferred', \n",
    "                                      'trial_start_yr', 'enrollment', 'location', 'sponsor_status', \n",
    "                                      'protocol_country']].reset_index(drop=True)\n",
    "\n",
    "regression_final = regression_final[regression_final.any_results_inc == 1].reset_index(drop=True)\n",
    "\n",
    "regression_final = regression_final.join(pd.get_dummies(regression_final[['location', 'sponsor_status']]), how='left')"
   ]
  },
  {
   "cell_type": "code",
   "execution_count": null,
   "id": "3a768fe2-23dd-4781-94ad-23619ffae105",
   "metadata": {},
   "outputs": [],
   "source": [
    "regression_final.location.value_counts()"
   ]
  },
  {
   "cell_type": "code",
   "execution_count": null,
   "id": "8ea6bf58-44bf-417c-9f33-203fe29dceb3",
   "metadata": {},
   "outputs": [],
   "source": [
    "y_reg = regression_final['euctr_results_inc'].reset_index(drop=True)\n",
    "x_reg = regression_final[['inferred', 'trial_start_yr', 'enrollment',\n",
    "                         'protocol_country', 'location_EEA and Non-EEA', 'location_Non-EEA', \n",
    "                         'sponsor_status_Commercial']].reset_index(drop=True)"
   ]
  },
  {
   "cell_type": "code",
   "execution_count": null,
   "id": "5eb84cdc-9496-46bf-8835-8a3cb076b326",
   "metadata": {},
   "outputs": [],
   "source": [
    "simple_logistic_regression(y_reg, x_reg)"
   ]
  },
  {
   "cell_type": "markdown",
   "id": "c54ddf16-248b-464b-b02f-f78ef81d043d",
   "metadata": {},
   "source": [
    "If we run the regression per protocol it leads to some funky results because of only including 1 trial with inferred results, as shown earlier. I will therefore remove this from the regression as it is a derived variable anyway."
   ]
  },
  {
   "cell_type": "code",
   "execution_count": null,
   "id": "992763f9-9bfa-4d1e-a004-6ab0d8284f8c",
   "metadata": {},
   "outputs": [],
   "source": [
    "#Re-running the regression without the \"inferred\" variable\n",
    "y_reg1 = regression_final['euctr_results_inc'].reset_index(drop=True)\n",
    "x_reg1 = regression_final[['trial_start_yr', 'enrollment',\n",
    "                         'protocol_country', 'location_EEA and Non-EEA', 'location_Non-EEA', \n",
    "                         'sponsor_status_Commercial']].reset_index(drop=True)"
   ]
  },
  {
   "cell_type": "code",
   "execution_count": null,
   "id": "a6d4b6b8-4ae0-418a-8336-98efda39742b",
   "metadata": {},
   "outputs": [],
   "source": [
    "simple_logistic_regression(y_reg1, x_reg1)"
   ]
  },
  {
   "cell_type": "markdown",
   "id": "7c5d59b2-8131-42f5-8838-ec1132b6971f",
   "metadata": {},
   "source": [
    "Check univariable ORs here with any of these variables:\n",
    "\n",
    "`trial_start_yr`, `enrollment`, `protocol_country`, `location_EEA and Non-EEA`, `location_Non-EEA`, `sponsor_status_Commercial`"
   ]
  },
  {
   "cell_type": "code",
   "execution_count": null,
   "id": "a2a268e2-fe62-4004-a9f1-a49783c2b0e2",
   "metadata": {},
   "outputs": [],
   "source": [
    "x_regu = regression_final[['trial_start_yr']].reset_index(drop=True)\n",
    "\n",
    "simple_logistic_regression(y_reg1, x_regu)"
   ]
  },
  {
   "cell_type": "markdown",
   "id": "7c7d2d16-acfc-4b41-93f7-8826fd41608a",
   "metadata": {},
   "source": [
    "p-values uni:\n",
    "com spon: <0.00001\n",
    "nonEEA: <0.0001\n",
    "prot_country: <0.0001\n",
    "enrollment: .05\n",
    "start_yr: 0.17209\n",
    "EEA/NonEEA: .02412\n",
    "\n"
   ]
  },
  {
   "cell_type": "code",
   "execution_count": null,
   "id": "46d4d979-8d4d-484e-b2d9-5a62c84eb20d",
   "metadata": {},
   "outputs": [],
   "source": [
    "#Holm-Bonferroni corrected thresholds\n",
    "print(.05 / (7 - 1 + 1))\n",
    "print(.05 / (7 - 2 + 1))\n",
    "print(.05 / (7 - 3 + 1))\n",
    "print(.05 / (7 - 4 + 1))\n",
    "print(.05 / (7 - 5 + 1))"
   ]
  },
  {
   "cell_type": "markdown",
   "id": "94dd4583-5dd3-471e-93d9-a88694d2e94b",
   "metadata": {},
   "source": [
    "# Analysis 2: Sponsor Country\n",
    "Each trial will be assigned a “sponsor country” based on the most frequent sponsor country assigned in the EUCTR country protocols. A protocol of a specific country need not contain a sponsor from that country. If no single country appears most frequently, the trial will be coded as having “multi-country” sponsorship. The percent of trials reported to the EUCTR, other registries, and the literature will be reported for each unique sponsor country in the sample."
   ]
  },
  {
   "cell_type": "code",
   "execution_count": null,
   "id": "052348f7-0c87-42e6-8dc1-96039ea3c336",
   "metadata": {},
   "outputs": [],
   "source": [
    "spon_country = exploratory_final[['euctr_id', 'nct_id', 'isrctn_id', 'journal_result', 'euctr_results_inc', \n",
    "                                  'ctgov_results_inc', 'isrctn_results_inc', 'journal_results_inc', \n",
    "                                  'any_results_inc', 'sponsor_country']].reset_index(drop=True)"
   ]
  },
  {
   "cell_type": "code",
   "execution_count": null,
   "id": "e709500f-e371-44f9-b709-42be91c99559",
   "metadata": {},
   "outputs": [],
   "source": [
    "#First for the EUCTR\n",
    "spon_country_reporting = crosstab(spon_country, 'euctr_results_inc', 'sponsor_country').reset_index()\n",
    "spon_country_reporting.columns = ['sponsor_country', 'not_reported', 'reported', 'all']\n",
    "spon_country_reporting['prct_reported'] = round((spon_country_reporting.reported / spon_country_reporting['all'])*100,2)\n",
    "spon_country_reporting.sort_values(by='all', ascending=False)"
   ]
  },
  {
   "cell_type": "code",
   "execution_count": null,
   "id": "5a243b07-30e7-4786-b70e-d340cb9df656",
   "metadata": {},
   "outputs": [],
   "source": [
    "#Now for the other dissemination routes\n",
    "\n",
    "#CTG\n",
    "ct_gov_trials = spon_country[spon_country.nct_id.notnull()].reset_index(drop=True)\n",
    "ctg_reporting = crosstab(ct_gov_trials, 'ctgov_results_inc', 'sponsor_country').reset_index()\n",
    "ctg_reporting.columns = ['sponsor_country', 'not_reported', 'reported', 'all']\n",
    "ctg_reporting['prct_reported'] = round((ctg_reporting.reported / ctg_reporting['all'])*100,2)\n",
    "ctg_reporting.sort_values(by='all', ascending=False)"
   ]
  },
  {
   "cell_type": "code",
   "execution_count": null,
   "id": "4d4560e5-3bcc-4f4e-9529-8276c3f38193",
   "metadata": {},
   "outputs": [],
   "source": [
    "#ISRCTN\n",
    "isrctn_trials = spon_country[spon_country.isrctn_id.notnull()].reset_index(drop=True)\n",
    "isrctn_reporting = crosstab(isrctn_trials, 'isrctn_results_inc', 'sponsor_country').reset_index()\n",
    "isrctn_reporting.columns = ['sponsor_country', 'not_reported', 'reported', 'all']\n",
    "isrctn_reporting['prct_reported'] = (isrctn_reporting.reported / isrctn_reporting['all']) * 100\n",
    "isrctn_reporting.sort_values(by='all', ascending=False)"
   ]
  },
  {
   "cell_type": "code",
   "execution_count": null,
   "id": "3d49ba4a-6843-4b86-ba00-f4f7936dbfc9",
   "metadata": {},
   "outputs": [],
   "source": [
    "#Journal Reporting\n",
    "journal_reporting = crosstab(spon_country, 'journal_results_inc', 'sponsor_country').reset_index()\n",
    "journal_reporting.columns = ['sponsor_country', 'not_reported', 'reported', 'all']\n",
    "journal_reporting['prct_reported'] = round((journal_reporting.reported / journal_reporting['all'])*100,2)\n",
    "journal_reporting.sort_values(by='all', ascending=False)"
   ]
  },
  {
   "cell_type": "code",
   "execution_count": null,
   "id": "37c049bf-b2fd-4841-a1ec-a3c864fad802",
   "metadata": {
    "lines_to_next_cell": 0
   },
   "outputs": [],
   "source": [
    "#Any Reporting\n",
    "any_reporting = crosstab(spon_country, 'any_results_inc', 'sponsor_country').reset_index()\n",
    "any_reporting.columns = ['sponsor_country', 'not_reported', 'reported', 'all']\n",
    "any_reporting['prct_reported'] = round((any_reporting.reported / any_reporting['all'])*100,2)\n",
    "any_reporting.sort_values(by='all', ascending=False)"
   ]
  },
  {
   "cell_type": "code",
   "execution_count": null,
   "id": "60599bc2-5ef5-4c57-a827-d24576dbdd03",
   "metadata": {},
   "outputs": [],
   "source": []
  },
  {
   "cell_type": "code",
   "execution_count": null,
   "id": "d324cde2-7784-4cb1-be65-cb4b9ed2f492",
   "metadata": {},
   "outputs": [],
   "source": []
  },
  {
   "cell_type": "code",
   "execution_count": null,
   "id": "49acf9c1-cc3b-4f8f-a79a-5e3bdea1d82a",
   "metadata": {},
   "outputs": [],
   "source": []
  },
  {
   "cell_type": "code",
   "execution_count": null,
   "id": "01702c79-c6d4-40ea-82c6-0ae0d24f58e9",
   "metadata": {},
   "outputs": [],
   "source": [
    "\n"
   ]
  }
 ],
 "metadata": {
  "jupytext": {
   "cell_metadata_filter": "all",
   "notebook_metadata_filter": "all,-language_info"
  },
  "kernelspec": {
   "display_name": "Python 3",
   "language": "python",
   "name": "python3"
  },
  "language_info": {
   "codemirror_mode": {
    "name": "ipython",
    "version": 3
   },
   "file_extension": ".py",
   "mimetype": "text/x-python",
   "name": "python",
   "nbconvert_exporter": "python",
   "pygments_lexer": "ipython3",
   "version": "3.8.1"
  }
 },
 "nbformat": 4,
 "nbformat_minor": 5
}
