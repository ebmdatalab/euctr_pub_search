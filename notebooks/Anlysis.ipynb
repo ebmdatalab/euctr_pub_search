{
 "cells": [
  {
   "cell_type": "code",
   "execution_count": 1,
   "id": "d1dcc1dc-aeb9-467e-913c-4be9b3493b5a",
   "metadata": {},
   "outputs": [],
   "source": [
    "import pandas as pd\n",
    "import numpy as np\n",
    "from statsmodels.stats.proportion import proportions_ztest, proportions_chisquare\n",
    "import statsmodels.api as sm"
   ]
  },
  {
   "cell_type": "code",
   "execution_count": 2,
   "id": "134c4710-3c9f-40b6-bc43-90f05c16fe0d",
   "metadata": {},
   "outputs": [],
   "source": [
    "import sys\n",
    "from pathlib import Path\n",
    "import os\n",
    "cwd = os.getcwd()\n",
    "parent = str(Path(cwd).parents[0])\n",
    "sys.path.append(parent)"
   ]
  },
  {
   "cell_type": "code",
   "execution_count": 3,
   "id": "18321fb3-ba06-4ec5-80c8-76fd36a17e94",
   "metadata": {},
   "outputs": [],
   "source": [
    "#importing custom functions for analysis\n",
    "\n",
    "from lib.functions import ci_calc, z_test, summarizer, check_dupes, simple_logistic_regression, crosstab\n",
    "\n",
    "#ci_calc will compute a simple confidence interval around a proportion\n",
    "#summarizer gives a nice output of proportions and CIs and returns and item with them\n",
    "#check_dupes helps with the date analysis\n",
    "#simple_logicstic_regression and crosstab do what they say on the tin"
   ]
  },
  {
   "cell_type": "markdown",
   "id": "9a685636-9caf-43a1-b6e1-7bdd25c78ed7",
   "metadata": {},
   "source": [
    "# Data Loading and Setup"
   ]
  },
  {
   "cell_type": "code",
   "execution_count": 4,
   "id": "f6855f03-24d2-4070-90db-cc543ad781b7",
   "metadata": {
    "lines_to_next_cell": 0
   },
   "outputs": [],
   "source": [
    "#Loading in all the data and creating the analysis dataset.\n",
    "\n",
    "#Primary dataset with dates set\n",
    "df = pd.read_csv(parent + '/data/final_dataset/final_dataset.csv')\n",
    "df['euctr_results_date'] = pd.to_datetime(df['euctr_results_date'])\n",
    "df['ctgov_results_date'] = pd.to_datetime(df['ctgov_results_date'])\n",
    "df['isrctn_results_date'] = pd.to_datetime(df['isrctn_results_date'])\n",
    "df['journal_pub_date'] = pd.to_datetime(df['journal_pub_date'])\n",
    "\n",
    "#Manually collected sponsor data for regression\n",
    "regression = pd.read_csv(parent + '/data/additional_data/manual_reg_data.csv')\n",
    "\n",
    "#Regression data derived from the EUCTR\n",
    "other_reg_data = pd.read_csv(parent + '/data/additional_data/spon_country_data.csv')\n",
    "\n",
    "#the original sample (and replacements) for data on inferred dates\n",
    "sample = pd.read_csv(parent + '/data/samples/euctr_search_sample_final.csv')\n",
    "replacements  = pd.read_csv(parent + '/data/samples/replacement_sample.csv')\n",
    "\n",
    "#the results section scrape and making one column we need into dates\n",
    "dec_results = pd.read_csv(parent + '/data/source_data/' + 'euctr_data_quality_results_scrape_dec_2020.csv.zip')\n",
    "dec_results['first_version_date'] = pd.to_datetime(dec_results.first_version_date)"
   ]
  },
  {
   "cell_type": "code",
   "execution_count": 5,
   "id": "b431c001-f80b-4217-88cc-54069f69115c",
   "metadata": {},
   "outputs": [],
   "source": [
    "#Setting search reference dates\n",
    "search_start_date = pd.to_datetime('2020-12-11')\n",
    "primary_search_completion_date = pd.to_datetime('2021-07-22')\n",
    "last_search_any = pd.to_datetime('2023-01-03')"
   ]
  },
  {
   "cell_type": "markdown",
   "id": "5e6f6281-006f-43d1-a303-e5d3c6b9d00a",
   "metadata": {},
   "source": [
    "# Analysis Prep"
   ]
  },
  {
   "cell_type": "markdown",
   "id": "c0132325-d248-4dbc-85ac-7661ce663791",
   "metadata": {},
   "source": [
    "## Detail the exclusions"
   ]
  },
  {
   "cell_type": "code",
   "execution_count": 6,
   "id": "e5433556-9613-4ede-8409-f57ac1c3965d",
   "metadata": {},
   "outputs": [
    {
     "data": {
      "text/plain": [
       "Withdrawn             15\n",
       "Ongoing                3\n",
       "No protocol access     2\n",
       "Name: replaced_reason, dtype: int64"
      ]
     },
     "execution_count": 6,
     "metadata": {},
     "output_type": "execute_result"
    }
   ],
   "source": [
    "#Number and reason for exclusions\n",
    "exclusions = df[df.replaced == 1]\n",
    "exclusions.replaced_reason.value_counts()"
   ]
  },
  {
   "cell_type": "markdown",
   "id": "eb29949e-4f47-4ef2-88d3-f69c509ea4a1",
   "metadata": {},
   "source": [
    "## Setting up the analysis dataset"
   ]
  },
  {
   "cell_type": "code",
   "execution_count": 7,
   "id": "fc20954a-4f23-4127-aa9f-50aa190e9df3",
   "metadata": {},
   "outputs": [],
   "source": [
    "#For the analysis, we don't want to include these excluded trials so we will make an analyses dataframe moving forward.\n",
    "analysis_df = df[df.replaced != 1].reset_index(drop=True)\n",
    "\n",
    "#Quick check the final dataset is the length we expect\n",
    "assert(len(analysis_df) == 500)"
   ]
  },
  {
   "cell_type": "code",
   "execution_count": 8,
   "id": "734d86a4-3203-4540-b8cc-1ef135a3d626",
   "metadata": {},
   "outputs": [],
   "source": [
    "#Here we make binary variable to indicate whether recorded results were published after our cutoff. \n",
    "#Per protocol, nothing available after we began searches should be included in the final results.\n",
    "#Creating binary variables allows us to only correct for this once, rather than have to keep doing it throughout.\n",
    "\n",
    "#Included EUCTR results\n",
    "analysis_df['euctr_results_inc'] = np.where((analysis_df.euctr_results == 'Yes') & \n",
    "                                            (analysis_df.euctr_results_date <= search_start_date), 1, 0)\n",
    "\n",
    "#Included clinicaltrials.gov results\n",
    "analysis_df['ctgov_results_inc'] = np.where((analysis_df.ctgov_results == 'Yes') & \n",
    "                                            (analysis_df.ctgov_results_date <= search_start_date), 1, 0)\n",
    "\n",
    "#Included ISRCTN results\n",
    "analysis_df['isrctn_results_inc'] = np.where((analysis_df.isrctn_results == 'Yes') & \n",
    "                                            (analysis_df.isrctn_results_date <= search_start_date), 1, 0)\n",
    "\n",
    "#Included journal results\n",
    "analysis_df['journal_results_inc'] = np.where((analysis_df.journal_result == 'Yes') & \n",
    "                                            (analysis_df.journal_pub_date <= search_start_date), 1, 0)\n",
    "\n",
    "#A catch-all for any result\n",
    "analysis_df['any_results_inc'] = np.where(((analysis_df.euctr_results_inc == 1) | \n",
    "                                          (analysis_df.ctgov_results_inc == 1) | \n",
    "                                          (analysis_df.isrctn_results_inc == 1) | \n",
    "                                          (analysis_df.journal_results_inc == 1)), 1, 0)"
   ]
  },
  {
   "cell_type": "markdown",
   "id": "20bddf00-4adc-4e8d-b99e-563256b5bb7a",
   "metadata": {
    "tags": []
   },
   "source": [
    "# Main Analysis"
   ]
  },
  {
   "cell_type": "markdown",
   "id": "9b49299d-d330-4b1b-86e6-06188c5070af",
   "metadata": {},
   "source": [
    "## Results on the EUCTR"
   ]
  },
  {
   "cell_type": "code",
   "execution_count": 9,
   "id": "eedda68b-7186-43b8-bf09-1069022240f5",
   "metadata": {},
   "outputs": [
    {
     "name": "stdout",
     "output_type": "stream",
     "text": [
      "Outcome of Interest: 264\n",
      "Total: 500\n",
      "Proportion: 52.8%\n",
      "95% CI: 48.42-57.18\n"
     ]
    },
    {
     "data": {
      "text/plain": [
       "(0.48424184223256195, 0.528, 0.5717581577674381)"
      ]
     },
     "execution_count": 9,
     "metadata": {},
     "output_type": "execute_result"
    }
   ],
   "source": [
    "euctr_results = analysis_df[(analysis_df.euctr_results_inc == 1)]\n",
    "total_found_euctr = len(euctr_results)\n",
    "summarizer(total_found_euctr, len(analysis_df))"
   ]
  },
  {
   "cell_type": "code",
   "execution_count": 10,
   "id": "573d0744-ba2f-4f24-83b5-ff8d42776ec3",
   "metadata": {
    "lines_to_next_cell": 2
   },
   "outputs": [
    {
     "data": {
      "text/plain": [
       "Tabular                                      116\n",
       "CSR Synopsis                                  86\n",
       "ClinicalTrials.gov Results                    24\n",
       "Journal Article                                8\n",
       "Tabular and Journal Article                    8\n",
       "Short Report                                   6\n",
       "Report                                         6\n",
       "Tabular and CSR Synopsis                       4\n",
       "Tabular and Short Report                       4\n",
       "Notice of termination with low enrollment      1\n",
       "Tabular and Report                             1\n",
       "Name: euctr_results_format, dtype: int64"
      ]
     },
     "execution_count": 10,
     "metadata": {},
     "output_type": "execute_result"
    }
   ],
   "source": [
    "#What do these results look like?\n",
    "euctr_results.euctr_results_format.value_counts()"
   ]
  },
  {
   "cell_type": "code",
   "execution_count": 11,
   "id": "be12dbe6-cdb2-45a3-921d-bdfa6dee3d23",
   "metadata": {
    "lines_to_next_cell": 0
   },
   "outputs": [
    {
     "data": {
      "text/html": [
       "<div>\n",
       "<style scoped>\n",
       "    .dataframe tbody tr th:only-of-type {\n",
       "        vertical-align: middle;\n",
       "    }\n",
       "\n",
       "    .dataframe tbody tr th {\n",
       "        vertical-align: top;\n",
       "    }\n",
       "\n",
       "    .dataframe thead th {\n",
       "        text-align: right;\n",
       "    }\n",
       "</style>\n",
       "<table border=\"1\" class=\"dataframe\">\n",
       "  <thead>\n",
       "    <tr style=\"text-align: right;\">\n",
       "      <th></th>\n",
       "      <th>results_type</th>\n",
       "      <th>euctr_results_format</th>\n",
       "      <th>percent</th>\n",
       "      <th>ci_lower</th>\n",
       "      <th>ci_upper</th>\n",
       "    </tr>\n",
       "  </thead>\n",
       "  <tbody>\n",
       "    <tr>\n",
       "      <th>0</th>\n",
       "      <td>Tabular</td>\n",
       "      <td>116</td>\n",
       "      <td>43.94</td>\n",
       "      <td>37.95</td>\n",
       "      <td>49.93</td>\n",
       "    </tr>\n",
       "    <tr>\n",
       "      <th>1</th>\n",
       "      <td>CSR Synopsis</td>\n",
       "      <td>86</td>\n",
       "      <td>32.58</td>\n",
       "      <td>26.92</td>\n",
       "      <td>38.23</td>\n",
       "    </tr>\n",
       "    <tr>\n",
       "      <th>2</th>\n",
       "      <td>ClinicalTrials.gov Results</td>\n",
       "      <td>24</td>\n",
       "      <td>9.09</td>\n",
       "      <td>5.62</td>\n",
       "      <td>12.56</td>\n",
       "    </tr>\n",
       "    <tr>\n",
       "      <th>3</th>\n",
       "      <td>Journal Article</td>\n",
       "      <td>8</td>\n",
       "      <td>3.03</td>\n",
       "      <td>0.96</td>\n",
       "      <td>5.10</td>\n",
       "    </tr>\n",
       "    <tr>\n",
       "      <th>4</th>\n",
       "      <td>Tabular and Journal Article</td>\n",
       "      <td>8</td>\n",
       "      <td>3.03</td>\n",
       "      <td>0.96</td>\n",
       "      <td>5.10</td>\n",
       "    </tr>\n",
       "    <tr>\n",
       "      <th>5</th>\n",
       "      <td>Short Report</td>\n",
       "      <td>6</td>\n",
       "      <td>2.27</td>\n",
       "      <td>0.47</td>\n",
       "      <td>4.07</td>\n",
       "    </tr>\n",
       "    <tr>\n",
       "      <th>6</th>\n",
       "      <td>Report</td>\n",
       "      <td>6</td>\n",
       "      <td>2.27</td>\n",
       "      <td>0.47</td>\n",
       "      <td>4.07</td>\n",
       "    </tr>\n",
       "    <tr>\n",
       "      <th>7</th>\n",
       "      <td>Tabular and CSR Synopsis</td>\n",
       "      <td>4</td>\n",
       "      <td>1.52</td>\n",
       "      <td>0.04</td>\n",
       "      <td>2.99</td>\n",
       "    </tr>\n",
       "    <tr>\n",
       "      <th>8</th>\n",
       "      <td>Tabular and Short Report</td>\n",
       "      <td>4</td>\n",
       "      <td>1.52</td>\n",
       "      <td>0.04</td>\n",
       "      <td>2.99</td>\n",
       "    </tr>\n",
       "    <tr>\n",
       "      <th>9</th>\n",
       "      <td>Notice of termination with low enrollment</td>\n",
       "      <td>1</td>\n",
       "      <td>0.38</td>\n",
       "      <td>-0.36</td>\n",
       "      <td>1.12</td>\n",
       "    </tr>\n",
       "    <tr>\n",
       "      <th>10</th>\n",
       "      <td>Tabular and Report</td>\n",
       "      <td>1</td>\n",
       "      <td>0.38</td>\n",
       "      <td>-0.36</td>\n",
       "      <td>1.12</td>\n",
       "    </tr>\n",
       "  </tbody>\n",
       "</table>\n",
       "</div>"
      ],
      "text/plain": [
       "                                 results_type  euctr_results_format  percent  \\\n",
       "0                                     Tabular                   116    43.94   \n",
       "1                                CSR Synopsis                    86    32.58   \n",
       "2                  ClinicalTrials.gov Results                    24     9.09   \n",
       "3                             Journal Article                     8     3.03   \n",
       "4                 Tabular and Journal Article                     8     3.03   \n",
       "5                                Short Report                     6     2.27   \n",
       "6                                      Report                     6     2.27   \n",
       "7                    Tabular and CSR Synopsis                     4     1.52   \n",
       "8                    Tabular and Short Report                     4     1.52   \n",
       "9   Notice of termination with low enrollment                     1     0.38   \n",
       "10                         Tabular and Report                     1     0.38   \n",
       "\n",
       "    ci_lower  ci_upper  \n",
       "0      37.95     49.93  \n",
       "1      26.92     38.23  \n",
       "2       5.62     12.56  \n",
       "3       0.96      5.10  \n",
       "4       0.96      5.10  \n",
       "5       0.47      4.07  \n",
       "6       0.47      4.07  \n",
       "7       0.04      2.99  \n",
       "8       0.04      2.99  \n",
       "9      -0.36      1.12  \n",
       "10     -0.36      1.12  "
      ]
     },
     "execution_count": 11,
     "metadata": {},
     "output_type": "execute_result"
    }
   ],
   "source": [
    "#Lets get percents and CIs for these.\n",
    "results_types = euctr_results.euctr_results_format.value_counts().to_frame()\n",
    "results_types['percent'] = round((results_types.euctr_results_format / total_found_euctr) * 100,2)\n",
    "\n",
    "#Adding CIs (i'm sure there's a more elegant way to do this with .map() or .apply() \n",
    "#but it's too much of a weird edge case to bother\n",
    "ci_lower = []\n",
    "ci_upper = []\n",
    "for x in results_types.euctr_results_format.to_list():\n",
    "    cis = ci_calc(x, total_found_euctr, printer=False)\n",
    "    ci_lower.append(round(cis[0] * 100,2))\n",
    "    ci_upper.append(round(cis[2] * 100,2))\n",
    "    \n",
    "results_types['ci_lower'] = ci_lower\n",
    "results_types['ci_upper'] = ci_upper\n",
    "\n",
    "results_types = results_types.reset_index().rename(columns={'index':'results_type'})\n",
    "results_types"
   ]
  },
  {
   "cell_type": "code",
   "execution_count": 12,
   "id": "60c13335-9ef6-4fe4-8783-31c50318a17d",
   "metadata": {},
   "outputs": [
    {
     "name": "stdout",
     "output_type": "stream",
     "text": [
      "Proportion: 43.94%\n",
      "95% CI: 37.95-49.93\n"
     ]
    },
    {
     "data": {
      "text/plain": [
       "(0.37952383252571037, 0.4393939393939394, 0.4992640462621684)"
      ]
     },
     "execution_count": 12,
     "metadata": {},
     "output_type": "execute_result"
    }
   ],
   "source": [
    "#Now we want to group like with like to get our final descriptive stats to report\n",
    "\n",
    "#Total with just tabular results\n",
    "ci_calc(results_types[results_types.results_type == 'Tabular'].euctr_results_format[0], total_found_euctr)"
   ]
  },
  {
   "cell_type": "code",
   "execution_count": 13,
   "id": "1b7f2b7b-bd6c-41c6-860c-d61b43b8291d",
   "metadata": {},
   "outputs": [
    {
     "name": "stdout",
     "output_type": "stream",
     "text": [
      "Proportion: 49.62%\n",
      "95% CI: 43.59-55.65\n"
     ]
    },
    {
     "data": {
      "text/plain": [
       "(0.43589902145456233, 0.4962121212121212, 0.55652522096968)"
      ]
     },
     "execution_count": 13,
     "metadata": {},
     "output_type": "execute_result"
    }
   ],
   "source": [
    "#Total with just a Document\n",
    "doc_types = ['CSR Synopsis', \n",
    "             'ClinicalTrials.gov Results', \n",
    "             'Journal Article', \n",
    "             'Short Report', \n",
    "             'Report', \n",
    "             'Notice of termination with low enrollment']\n",
    "ci_calc(results_types[results_types.results_type.isin(doc_types)].euctr_results_format.sum(), total_found_euctr)"
   ]
  },
  {
   "cell_type": "code",
   "execution_count": 14,
   "id": "7ee2c43c-68a4-4917-8f18-f56a1e3d0c53",
   "metadata": {},
   "outputs": [
    {
     "name": "stdout",
     "output_type": "stream",
     "text": [
      "Proportion: 6.44%\n",
      "95% CI: 3.48-9.4\n"
     ]
    },
    {
     "data": {
      "text/plain": [
       "(0.03478498177391675, 0.06439393939393939, 0.09400289701396203)"
      ]
     },
     "execution_count": 14,
     "metadata": {},
     "output_type": "execute_result"
    }
   ],
   "source": [
    "#Total with both Tabular and Document results\n",
    "ci_calc(results_types[~results_types.results_type.isin(doc_types + ['Tabular'])].euctr_results_format.sum(), total_found_euctr)"
   ]
  },
  {
   "cell_type": "markdown",
   "id": "e61b8308-8b54-4d2f-96da-bbd54bca1f09",
   "metadata": {},
   "source": [
    "## Cross-Registration and results availability on other registries"
   ]
  },
  {
   "cell_type": "code",
   "execution_count": 15,
   "id": "c70a1765-45aa-4a1b-9716-f063a194d177",
   "metadata": {},
   "outputs": [
    {
     "name": "stdout",
     "output_type": "stream",
     "text": [
      "Out of 500 trials 339 were cross-registered on ClinicalTrials.gov\n",
      "Proportion: 67.8%\n",
      "95% CI: 63.7-71.9\n"
     ]
    },
    {
     "data": {
      "text/plain": [
       "(0.6370443472619469, 0.678, 0.7189556527380532)"
      ]
     },
     "execution_count": 15,
     "metadata": {},
     "output_type": "execute_result"
    }
   ],
   "source": [
    "#First we'll look at cross-registration on ClinicalTrials.gov\n",
    "ctg_xreg = analysis_df[analysis_df.nct_id.notnull()]\n",
    "print(f'Out of {len(analysis_df)} trials {len(ctg_xreg)} were cross-registered on ClinicalTrials.gov')\n",
    "ci_calc(len(ctg_xreg),len(analysis_df))"
   ]
  },
  {
   "cell_type": "code",
   "execution_count": 16,
   "id": "48a661fc-9534-43e0-8161-ba64d1b21c23",
   "metadata": {},
   "outputs": [
    {
     "name": "stdout",
     "output_type": "stream",
     "text": [
      "Of the 339 trials registered on ClinicalTrials.gov, 132 had results\n",
      "Proportion: 38.94%\n",
      "95% CI: 33.75-44.13\n"
     ]
    },
    {
     "data": {
      "text/plain": [
       "(0.3374732043090307, 0.3893805309734513, 0.4412878576378719)"
      ]
     },
     "execution_count": 16,
     "metadata": {},
     "output_type": "execute_result"
    }
   ],
   "source": [
    "#CTG x-reg results rate\n",
    "ctg_results = ctg_xreg[(ctg_xreg.ctgov_results_inc == 1)]\n",
    "print(f'Of the {len(ctg_xreg)} trials registered on ClinicalTrials.gov, {len(ctg_results)} had results')\n",
    "ci_calc(len(ctg_results), len(ctg_xreg))"
   ]
  },
  {
   "cell_type": "code",
   "execution_count": 17,
   "id": "1f9062fa-90cb-4f73-8cf6-2130b56a3f38",
   "metadata": {},
   "outputs": [
    {
     "name": "stdout",
     "output_type": "stream",
     "text": [
      "Out of 500 trials 32 were cross-registered on the ISRCTN\n",
      "Proportion: 6.4%\n",
      "95% CI: 4.25-8.55\n"
     ]
    },
    {
     "data": {
      "text/plain": [
       "(0.042546459201334624, 0.064, 0.08545354079866538)"
      ]
     },
     "execution_count": 17,
     "metadata": {},
     "output_type": "execute_result"
    }
   ],
   "source": [
    "#Proportion cross-registered on the ISRCTN \n",
    "isrctn_xreg = analysis_df[analysis_df.isrctn_id.notnull()]\n",
    "print(f'Out of {len(analysis_df)} trials {len(isrctn_xreg)} were cross-registered on the ISRCTN')\n",
    "ci_calc(len(isrctn_xreg), len(analysis_df))"
   ]
  },
  {
   "cell_type": "code",
   "execution_count": 18,
   "id": "491a83bc-b264-4400-9b4e-65cb642dfb81",
   "metadata": {},
   "outputs": [
    {
     "name": "stdout",
     "output_type": "stream",
     "text": [
      "Of the 32 trials registered on the ISRCTN, 2 had results\n",
      "Proportion: 6.25%\n",
      "95% CI: -2.14-14.64\n"
     ]
    },
    {
     "data": {
      "text/plain": [
       "(-0.021370016617978563, 0.0625, 0.14637001661797855)"
      ]
     },
     "execution_count": 18,
     "metadata": {},
     "output_type": "execute_result"
    }
   ],
   "source": [
    "#ISRCTN x-reg results rate\n",
    "isrctn_results = isrctn_xreg[(isrctn_xreg.isrctn_results_inc == 1)]\n",
    "print(f'Of the {len(isrctn_xreg)} trials registered on the ISRCTN, {len(isrctn_results)} had results')\n",
    "ci_calc(len(isrctn_results), len(isrctn_xreg))"
   ]
  },
  {
   "cell_type": "code",
   "execution_count": 19,
   "id": "7657cd58-a053-49c5-8c5e-db64616acd68",
   "metadata": {},
   "outputs": [
    {
     "name": "stdout",
     "output_type": "stream",
     "text": [
      "9 registered on all three registires\n",
      "Proportion: 1.8%\n",
      "95% CI: 0.63-2.97\n"
     ]
    },
    {
     "data": {
      "text/plain": [
       "(0.006346320615359283, 0.018, 0.029653679384640714)"
      ]
     },
     "execution_count": 19,
     "metadata": {},
     "output_type": "execute_result"
    }
   ],
   "source": [
    "#How many trials registered on all three registries\n",
    "triple_reg = len(analysis_df[analysis_df.nct_id.notnull() & analysis_df.isrctn_id.notnull()])\n",
    "print(f'{triple_reg} registered on all three registires')\n",
    "ci_calc(triple_reg, len(analysis_df))"
   ]
  },
  {
   "cell_type": "markdown",
   "id": "dba764f8-f9c0-417b-a9a2-14406dd31c45",
   "metadata": {},
   "source": [
    "## Results in the literature"
   ]
  },
  {
   "cell_type": "code",
   "execution_count": 20,
   "id": "bd67e6aa-c261-4a08-bb1c-d7432ce28e85",
   "metadata": {},
   "outputs": [
    {
     "name": "stdout",
     "output_type": "stream",
     "text": [
      "Out of 500 trials on the EUCTR, 293 had results in the literature\n",
      "Proportion: 58.6%\n",
      "95% CI: 54.28-62.92\n"
     ]
    },
    {
     "data": {
      "text/plain": [
       "(0.5428262226253018, 0.586, 0.6291737773746982)"
      ]
     },
     "execution_count": 20,
     "metadata": {},
     "output_type": "execute_result"
    }
   ],
   "source": [
    "#How many had results in the literature\n",
    "journal_results = analysis_df[(analysis_df.journal_results_inc == 1)]\n",
    "print(f'Out of {len(analysis_df)} trials on the EUCTR, {len(journal_results)} had results in the literature')\n",
    "ci_calc(len(journal_results), len(analysis_df))"
   ]
  },
  {
   "cell_type": "code",
   "execution_count": 21,
   "id": "89aefd10-842b-4950-a9eb-17dbce1ea0ce",
   "metadata": {},
   "outputs": [
    {
     "data": {
      "text/plain": [
       "ClinicalTrials.gov                                 117\n",
       "Google Scholar                                      90\n",
       "PubMed                                              46\n",
       "EUCTR                                               28\n",
       "ISRCTN                                               7\n",
       "CSR on EUCTR and ClinicalTrials.gov                  1\n",
       "Forward citation from review on Google scholar       1\n",
       "Forward citation from ISRCTN articles                1\n",
       "Citation checked located Cochrane review             1\n",
       "Linked to in another document in Google Scholar      1\n",
       "Name: journal_source, dtype: int64"
      ]
     },
     "execution_count": 21,
     "metadata": {},
     "output_type": "execute_result"
    }
   ],
   "source": [
    "#How did we find journal results?\n",
    "\n",
    "journal_results.journal_source.value_counts()"
   ]
  },
  {
   "cell_type": "markdown",
   "id": "3d00901c-f5c1-41ab-9469-ada1af0ceeb3",
   "metadata": {},
   "source": [
    "## Summarizing results availability"
   ]
  },
  {
   "cell_type": "code",
   "execution_count": 22,
   "id": "0bb94c4d-2ec1-41f3-a0db-ce9f20ff400d",
   "metadata": {},
   "outputs": [],
   "source": [
    "#Getting lists of ids for all results types\n",
    "\n",
    "all_trial_ids = set(analysis_df.euctr_id.to_list())\n",
    "euctr_results_ids = set(euctr_results.euctr_id.to_list())\n",
    "ctg_results_ids = set(ctg_results.euctr_id.to_list())\n",
    "isrctn_results_ids = set(isrctn_results.euctr_id.to_list())\n",
    "journal_results_ids = set(journal_results.euctr_id.to_list())"
   ]
  },
  {
   "cell_type": "code",
   "execution_count": 23,
   "id": "b445f12e-09c7-4710-961e-a4746bb1d21b",
   "metadata": {},
   "outputs": [
    {
     "data": {
      "text/plain": [
       "691"
      ]
     },
     "execution_count": 23,
     "metadata": {},
     "output_type": "execute_result"
    }
   ],
   "source": [
    "#Overall, inclusive of duplicates, how many results did we locate?\n",
    "len(euctr_results_ids) + len(ctg_results_ids) + len(isrctn_results_ids) + len(journal_results_ids)"
   ]
  },
  {
   "cell_type": "code",
   "execution_count": 24,
   "id": "ba8e7c9a-20c6-47e1-b38b-04ceb2fa40a8",
   "metadata": {},
   "outputs": [
    {
     "name": "stdout",
     "output_type": "stream",
     "text": [
      "381 of 500 trials had results somewhere\n",
      "Proportion: 76.2%\n",
      "95% CI: 72.47-79.93\n"
     ]
    },
    {
     "data": {
      "text/plain": [
       "(0.7246718012864269, 0.762, 0.7993281987135731)"
      ]
     },
     "execution_count": 24,
     "metadata": {},
     "output_type": "execute_result"
    }
   ],
   "source": [
    "#How many had results anywhere?\n",
    "results_nowhere = all_trial_ids - euctr_results_ids - ctg_results_ids - isrctn_results_ids - journal_results_ids\n",
    "has_some_result = len(analysis_df) - len(results_nowhere)\n",
    "#sense check\n",
    "assert(len(results_nowhere) + has_some_result == 500)\n",
    "\n",
    "print(f'{has_some_result} of {len(analysis_df)} trials had results somewhere')\n",
    "ci_calc(has_some_result,len(analysis_df))"
   ]
  },
  {
   "cell_type": "code",
   "execution_count": 25,
   "id": "ff241e6b-7614-4a5e-8350-c3780bc2b054",
   "metadata": {},
   "outputs": [
    {
     "data": {
      "text/plain": [
       "33744.0"
      ]
     },
     "execution_count": 25,
     "metadata": {},
     "output_type": "execute_result"
    }
   ],
   "source": [
    "#What did enrollment look like for the trials with no results?\n",
    "#This uses enrollment numbers from the manual data we collected on enrollment\n",
    "\n",
    "no_results = analysis_df[analysis_df.euctr_id.isin(results_nowhere)].reset_index(drop=True)\n",
    "no_results[['euctr_id']].merge(regression[['Trial ID', 'Enrollment']], how='left', left_on='euctr_id', right_on='Trial ID').Enrollment.sum()"
   ]
  },
  {
   "cell_type": "markdown",
   "id": "222b88cf-25a5-4005-afce-c12279b50ffe",
   "metadata": {},
   "source": [
    "## What results were unique to each dissemination route?"
   ]
  },
  {
   "cell_type": "code",
   "execution_count": 26,
   "id": "8af35233-8fe6-4d25-9906-207d086d93bb",
   "metadata": {},
   "outputs": [
    {
     "name": "stdout",
     "output_type": "stream",
     "text": [
      "54 trials had results on just the EUCTR\n",
      "Proportion: 20.45%\n",
      "95% CI: 15.59-25.32\n"
     ]
    },
    {
     "data": {
      "text/plain": [
       "(0.15588717957072745, 0.20454545454545456, 0.25320372952018166)"
      ]
     },
     "execution_count": 26,
     "metadata": {},
     "output_type": "execute_result"
    }
   ],
   "source": [
    "#How many had results on just the EUCTR?\n",
    "just_euctr = len(euctr_results_ids - ctg_results_ids - isrctn_results_ids - journal_results_ids)\n",
    "print(f'{just_euctr} trials had results on just the EUCTR')\n",
    "ci_calc(just_euctr, len(euctr_results))"
   ]
  },
  {
   "cell_type": "code",
   "execution_count": 27,
   "id": "4f1e3b4e-a4fc-4314-81d6-de45807b7ad1",
   "metadata": {},
   "outputs": [
    {
     "name": "stdout",
     "output_type": "stream",
     "text": [
      "3 trials had results on just ClinicalTrials.gov\n",
      "Proportion: 2.27%\n",
      "95% CI: -0.27-4.82\n"
     ]
    },
    {
     "data": {
      "text/plain": [
       "(-0.0026971240190091124, 0.022727272727272728, 0.048151669473554565)"
      ]
     },
     "execution_count": 27,
     "metadata": {},
     "output_type": "execute_result"
    }
   ],
   "source": [
    "#How many had results on just on ClinicalTrials.gov?\n",
    "just_ctg = len(ctg_results_ids - euctr_results_ids - isrctn_results_ids - journal_results_ids)\n",
    "print(f'{just_ctg} trials had results on just ClinicalTrials.gov')\n",
    "ci_calc(just_ctg,len(ctg_results))"
   ]
  },
  {
   "cell_type": "code",
   "execution_count": 28,
   "id": "7ca142e4-b224-4414-b1b6-206ea9fb3704",
   "metadata": {},
   "outputs": [
    {
     "name": "stdout",
     "output_type": "stream",
     "text": [
      "0 trials had results on just the ISRCTN\n"
     ]
    }
   ],
   "source": [
    "#How many had results on just on the ISRCTN?\n",
    "just_isrctn = len(isrctn_results_ids - euctr_results_ids - ctg_results_ids - journal_results_ids)\n",
    "print(f'{just_isrctn} trials had results on just the ISRCTN')"
   ]
  },
  {
   "cell_type": "code",
   "execution_count": 29,
   "id": "21d3545f-2bb0-4bfa-b86f-86ea00ac8f18",
   "metadata": {},
   "outputs": [
    {
     "name": "stdout",
     "output_type": "stream",
     "text": [
      "107 trials had results only in a journal publication\n",
      "Proportion: 36.52%\n",
      "95% CI: 31.01-42.03\n"
     ]
    },
    {
     "data": {
      "text/plain": [
       "(0.31005580797466115, 0.3651877133105802, 0.42031961864649925)"
      ]
     },
     "execution_count": 29,
     "metadata": {},
     "output_type": "execute_result"
    }
   ],
   "source": [
    "#How many had results just in the literature?\n",
    "just_pub = len(journal_results_ids - euctr_results_ids - ctg_results_ids - isrctn_results_ids)\n",
    "print(f'{just_pub} trials had results only in a journal publication')\n",
    "ci_calc(just_pub,len(journal_results))"
   ]
  },
  {
   "cell_type": "code",
   "execution_count": 30,
   "id": "b8d18d9a-a662-4243-8537-f8ad706799f2",
   "metadata": {},
   "outputs": [
    {
     "name": "stdout",
     "output_type": "stream",
     "text": [
      "117 trials without EUCTR results had results somewhere else\n",
      "Proportion: 23.4%\n",
      "95% CI: 19.69-27.11\n"
     ]
    },
    {
     "data": {
      "text/plain": [
       "(0.19688979249855912, 0.234, 0.2711102075014409)"
      ]
     },
     "execution_count": 30,
     "metadata": {},
     "output_type": "execute_result"
    }
   ],
   "source": [
    "#How many have no results on the EUCTR but results anywhere else?\n",
    "not_euctr = analysis_df[(analysis_df.euctr_results_inc == 0) & ((analysis_df.ctgov_results_inc == 1) | \n",
    "                                                               (analysis_df.isrctn_results_inc == 1) | \n",
    "                                                               (analysis_df.journal_results_inc == 1))]\n",
    "print(f'{len(not_euctr)} trials without EUCTR results had results somewhere else')\n",
    "ci_calc(len(not_euctr), len(analysis_df))"
   ]
  },
  {
   "cell_type": "code",
   "execution_count": 31,
   "id": "e71069c4-9f41-4cc7-9068-964c5dad0e74",
   "metadata": {},
   "outputs": [
    {
     "name": "stdout",
     "output_type": "stream",
     "text": [
      "119 trials had no results located\n",
      "Proportion: 23.8%\n",
      "95% CI: 20.07-27.53\n"
     ]
    },
    {
     "data": {
      "text/plain": [
       "(0.2006718012864269, 0.238, 0.27532819871357306)"
      ]
     },
     "execution_count": 31,
     "metadata": {},
     "output_type": "execute_result"
    }
   ],
   "source": [
    "#How many had results nowhere?\n",
    "print(f'{len(results_nowhere)} trials had no results located')\n",
    "ci_calc(len(results_nowhere), len(analysis_df))"
   ]
  },
  {
   "cell_type": "markdown",
   "id": "84867c92-7bc6-475b-8537-aad17fd5e8bf",
   "metadata": {},
   "source": [
    "## Getting data on combinations of results availability\n",
    "\n",
    "We will visualise these in an upset chart in the paper"
   ]
  },
  {
   "cell_type": "code",
   "execution_count": 32,
   "id": "772bcea7-b632-435e-8d63-146d4d3d38b4",
   "metadata": {},
   "outputs": [],
   "source": [
    "upset_plot_data = analysis_df[['euctr_results_inc', 'ctgov_results_inc', 'isrctn_results_inc', 'journal_results_inc']]\n",
    "\n",
    "upset_plot_data.to_csv(parent + '/data/graphing_data/upset_data.csv')"
   ]
  },
  {
   "cell_type": "markdown",
   "id": "686a9687-6e4b-4a8e-af64-5935a8b975c2",
   "metadata": {},
   "source": [
    "# Data Quality, Completion Status, and Reporting\n",
    "\n",
    "For overall population numbers, see the `Data Processing` notebooke"
   ]
  },
  {
   "cell_type": "code",
   "execution_count": 33,
   "id": "5e6d5d30-0225-43f9-ae00-6840a60abdae",
   "metadata": {},
   "outputs": [
    {
     "name": "stdout",
     "output_type": "stream",
     "text": [
      "Inferred: 147; 29.4%\n",
      "Stated: 353; 70.6%\n"
     ]
    }
   ],
   "source": [
    "#Making a new DF for this population to investiage results availability by inferred and available completion dates\n",
    "\n",
    "full_sample = pd.concat([sample,replacements])\n",
    "\n",
    "analysis_df_2 = analysis_df.merge(full_sample[['eudract_number', 'inferred']], \n",
    "                                  how='left', \n",
    "                                  left_on='euctr_id', right_on='eudract_number').drop('eudract_number', axis=1)\n",
    "\n",
    "inferred = analysis_df_2[analysis_df_2.inferred == 1]\n",
    "print(f'Inferred: {len(inferred)}; {round((len(inferred)/len(analysis_df_2)) * 100, 2)}%')\n",
    "stated = analysis_df_2[analysis_df_2.inferred == 0]\n",
    "print(f'Stated: {len(stated)}; {round((len(stated)/len(analysis_df_2)) * 100, 2)}%')"
   ]
  },
  {
   "cell_type": "code",
   "execution_count": 34,
   "id": "4b9cb939-c2a0-4906-827f-7dec2959ee2b",
   "metadata": {},
   "outputs": [
    {
     "name": "stdout",
     "output_type": "stream",
     "text": [
      "Inferred Dates with any results: 70\n",
      "Total inferred dates: 147\n",
      "Proportion: 47.62%\n",
      "95% CI: 39.55-55.69\n"
     ]
    },
    {
     "data": {
      "text/plain": [
       "(0.3954531334145431, 0.47619047619047616, 0.5569278189664093)"
      ]
     },
     "execution_count": 34,
     "metadata": {},
     "output_type": "execute_result"
    }
   ],
   "source": [
    "#How many of the inferred ones had results anywhere?\n",
    "inferred_res_sw = len(inferred[(inferred.euctr_results_inc == 1) | (inferred.ctgov_results_inc == 1) | (inferred.isrctn_results_inc == 1) | (inferred.journal_results_inc == 1)])\n",
    "print(f'Inferred Dates with any results: {inferred_res_sw}')\n",
    "print(f'Total inferred dates: {len(inferred)}')\n",
    "ci_calc(inferred_res_sw, len(inferred))"
   ]
  },
  {
   "cell_type": "code",
   "execution_count": 35,
   "id": "2aec3675-0c70-41e7-a762-720c78ded2a8",
   "metadata": {},
   "outputs": [
    {
     "name": "stdout",
     "output_type": "stream",
     "text": [
      "Extracted with any results: 311\n",
      "Total extracted dates: 353\n",
      "Proportion: 88.1%\n",
      "95% CI: 84.72-91.48\n"
     ]
    },
    {
     "data": {
      "text/plain": [
       "(0.8472445581989536, 0.8810198300283286, 0.9147951018577036)"
      ]
     },
     "execution_count": 35,
     "metadata": {},
     "output_type": "execute_result"
    }
   ],
   "source": [
    "#How many of the extracted ones had results anywhere?\n",
    "stated_res_sw = len(stated[(stated.euctr_results_inc == 1) | (stated.ctgov_results_inc == 1) | (stated.isrctn_results_inc == 1) | (stated.journal_results_inc == 1)])\n",
    "print(f'Extracted with any results: {stated_res_sw}')\n",
    "print(f'Total extracted dates: {len(stated)}')\n",
    "ci_calc(stated_res_sw, len(stated))"
   ]
  },
  {
   "cell_type": "code",
   "execution_count": 36,
   "id": "9a1c29e5-2d61-4967-98db-efcc0114effe",
   "metadata": {},
   "outputs": [
    {
     "name": "stdout",
     "output_type": "stream",
     "text": [
      "3.516998150004491e-22\n"
     ]
    }
   ],
   "source": [
    "#a is the number of trials with results\n",
    "#b is the total number of trials\n",
    "\n",
    "a = [inferred_res_sw, stated_res_sw]\n",
    "b = [len(inferred),len(stated)]\n",
    "\n",
    "stat, pval = proportions_ztest(a, b)\n",
    "print(pval)"
   ]
  },
  {
   "cell_type": "code",
   "execution_count": 37,
   "id": "c77585b9-48ef-45da-a977-93d35375710b",
   "metadata": {},
   "outputs": [
    {
     "name": "stdout",
     "output_type": "stream",
     "text": [
      "Inferred with results outside the EUCTR: 70\n",
      "Total Inferred: 147\n",
      "Proportion: 47.62%\n",
      "95% CI: 39.55-55.69\n"
     ]
    },
    {
     "data": {
      "text/plain": [
       "(0.3954531334145431, 0.47619047619047616, 0.5569278189664093)"
      ]
     },
     "execution_count": 37,
     "metadata": {},
     "output_type": "execute_result"
    }
   ],
   "source": [
    "#How many of the inferred ones had results somewhere else?\n",
    "inferred_res_swe = len(inferred[(inferred.ctgov_results_inc == 1) | (inferred.isrctn_results_inc == 1) | (inferred.journal_results_inc == 1)])\n",
    "print(f'Inferred with results outside the EUCTR: {inferred_res_swe}')\n",
    "print(f'Total Inferred: {len(inferred)}')\n",
    "ci_calc(inferred_res_swe, len(inferred))"
   ]
  },
  {
   "cell_type": "code",
   "execution_count": 38,
   "id": "7f94c2ff-fa26-4de0-a044-6a4fb9054b97",
   "metadata": {},
   "outputs": [
    {
     "name": "stdout",
     "output_type": "stream",
     "text": [
      "Extracted with results outside the EUCTR: 257\n",
      "Total Extracted: 353\n",
      "Proportion: 72.8%\n",
      "95% CI: 68.16-77.45\n"
     ]
    },
    {
     "data": {
      "text/plain": [
       "(0.681626281828091, 0.7280453257790368, 0.7744643697299826)"
      ]
     },
     "execution_count": 38,
     "metadata": {},
     "output_type": "execute_result"
    }
   ],
   "source": [
    "#How many of the extracted ones had results somewhere else?\n",
    "stated_res_swe = len(stated[(stated.ctgov_results_inc == 1) | (stated.isrctn_results_inc == 1) | (stated.journal_results_inc == 1)])\n",
    "print(f'Extracted with results outside the EUCTR: {stated_res_swe}')\n",
    "print(f'Total Extracted: {len(stated)}')\n",
    "ci_calc(stated_res_swe, len(stated))"
   ]
  },
  {
   "cell_type": "code",
   "execution_count": 39,
   "id": "631aa283-5041-4e99-9b10-5c4f9c2ab4b5",
   "metadata": {},
   "outputs": [
    {
     "name": "stdout",
     "output_type": "stream",
     "text": [
      "6.903275707982106e-08\n"
     ]
    }
   ],
   "source": [
    "a = [inferred_res_swe, stated_res_swe]\n",
    "b = [len(inferred),len(stated)]\n",
    "\n",
    "stat, pval = proportions_ztest(a, b)\n",
    "print(pval)"
   ]
  },
  {
   "cell_type": "markdown",
   "id": "1af893bc-5b7d-43d3-a2c8-c14f9fd1b945",
   "metadata": {},
   "source": [
    "## Now we have to do this for each registry"
   ]
  },
  {
   "cell_type": "code",
   "execution_count": 40,
   "id": "d86dc052-1529-4aea-960e-c24cb6f65941",
   "metadata": {},
   "outputs": [
    {
     "name": "stdout",
     "output_type": "stream",
     "text": [
      "Extracted with EUCTR results: 264\n",
      "Total extracted: 353\n",
      "Proportion: 74.79%\n",
      "95% CI: 70.26-79.32\n",
      "\n",
      "\n",
      "Inferred with EUCTR results: 0\n",
      "Total inferred: 147\n",
      "Proportion: 0.0%\n",
      "95% CI: 0.0-0.0\n"
     ]
    },
    {
     "data": {
      "text/plain": [
       "(0.0, 0.0, 0.0)"
      ]
     },
     "execution_count": 40,
     "metadata": {},
     "output_type": "execute_result"
    }
   ],
   "source": [
    "#EUCTR\n",
    "\n",
    "#Results posted to EUCTR by date of search - stated\n",
    "stated_results_euctr = stated[(stated.euctr_results_inc == 1)]\n",
    "print(f'Extracted with EUCTR results: {len(stated_results_euctr)}')\n",
    "print(f'Total extracted: {len(stated)}')\n",
    "ci_calc(len(stated_results_euctr), len(stated))\n",
    "\n",
    "print('\\n')\n",
    "\n",
    "#Results posted to EUCTR by date of search - inferred\n",
    "inferred_results_euctr = inferred[(inferred.euctr_results_inc == 1)]\n",
    "print(f'Inferred with EUCTR results: {len(inferred_results_euctr)}')\n",
    "print(f'Total inferred: {len(inferred)}')\n",
    "ci_calc(len(inferred_results_euctr), len(inferred))"
   ]
  },
  {
   "cell_type": "code",
   "execution_count": 41,
   "id": "41cb1cd6-fe84-4444-8eb8-a9083a7414f8",
   "metadata": {},
   "outputs": [
    {
     "name": "stdout",
     "output_type": "stream",
     "text": [
      "1.376627481812372e-52\n"
     ]
    }
   ],
   "source": [
    "a = [len(inferred_results_euctr), len(stated_results_euctr)]\n",
    "b = [len(inferred),len(stated)]\n",
    "\n",
    "stat, pval = proportions_ztest(a, b)\n",
    "print(pval)"
   ]
  },
  {
   "cell_type": "code",
   "execution_count": 42,
   "id": "f1665174-309d-4db1-8db6-35cc4e8a53c2",
   "metadata": {},
   "outputs": [
    {
     "name": "stdout",
     "output_type": "stream",
     "text": [
      "Extracted with CTG results: 130\n",
      "Total CTG extracted: 270\n",
      "Proportion: 48.15%\n",
      "95% CI: 42.19-54.11\n",
      "\n",
      "\n",
      "Inferred with CTG results: 2\n",
      "Total CTG inferred: 69\n",
      "Proportion: 2.9%\n",
      "95% CI: -1.06-6.86\n"
     ]
    },
    {
     "data": {
      "text/plain": [
       "(-0.010599874223468034, 0.028985507246376812, 0.06857088871622166)"
      ]
     },
     "execution_count": 42,
     "metadata": {},
     "output_type": "execute_result"
    }
   ],
   "source": [
    "#CTG extracted dates\n",
    "stated_ctg = stated[stated.nct_id.notnull()]\n",
    "stated_ctg_results = stated_ctg[(stated_ctg.ctgov_results_inc == 1)]\n",
    "print(f'Extracted with CTG results: {len(stated_ctg_results)}')\n",
    "print(f'Total CTG extracted: {len(stated_ctg)}')\n",
    "ci_calc(len(stated_ctg_results), len(stated_ctg))\n",
    "\n",
    "print('\\n')\n",
    "\n",
    "#CTG inferred dates\n",
    "inferred_ctg = inferred[inferred.nct_id.notnull()]\n",
    "inferred_ctg_results = inferred_ctg[(inferred_ctg.ctgov_results_inc == 1)]\n",
    "print(f'Inferred with CTG results: {len(inferred_ctg_results)}')\n",
    "print(f'Total CTG inferred: {len(inferred_ctg)}')\n",
    "ci_calc(len(inferred_ctg_results), len(inferred_ctg))"
   ]
  },
  {
   "cell_type": "code",
   "execution_count": 43,
   "id": "d76581dc-38f8-4cc5-b0ce-996dba77cfc7",
   "metadata": {},
   "outputs": [
    {
     "name": "stdout",
     "output_type": "stream",
     "text": [
      "6.011656192173383e-12\n"
     ]
    }
   ],
   "source": [
    "a = [len(inferred_ctg_results), len(stated_ctg_results)]\n",
    "b = [len(inferred_ctg),len(stated_ctg)]\n",
    "\n",
    "stat, pval = proportions_ztest(a, b)\n",
    "print(pval)"
   ]
  },
  {
   "cell_type": "code",
   "execution_count": 44,
   "id": "bec9435b-390b-42bc-993e-a3594b22465a",
   "metadata": {},
   "outputs": [
    {
     "name": "stdout",
     "output_type": "stream",
     "text": [
      "Extracted with ISRCTN results: 2\n",
      "Total ISRCTN extracted: 29\n",
      "Proportion: 6.9%\n",
      "95% CI: -2.33-16.12\n",
      "\n",
      "\n",
      "Inferred with ISRCTN results:0\n",
      "Total ISRCTN extracted: 3\n",
      "Proportion: 0.0%\n",
      "95% CI: 0.0-0.0\n"
     ]
    },
    {
     "data": {
      "text/plain": [
       "(0.0, 0.0, 0.0)"
      ]
     },
     "execution_count": 44,
     "metadata": {},
     "output_type": "execute_result"
    }
   ],
   "source": [
    "#isrctn extracted dates\n",
    "stated_isrctn = stated[stated.isrctn_id.notnull()]\n",
    "stated_isrctn_results = stated_isrctn[(stated_isrctn.isrctn_results_inc == 1)]\n",
    "print(f'Extracted with ISRCTN results: {len(stated_isrctn_results)}')\n",
    "print(f'Total ISRCTN extracted: {len(stated_isrctn)}')\n",
    "ci_calc(len(stated_isrctn_results), len(stated_isrctn))\n",
    "\n",
    "print('\\n')\n",
    "\n",
    "#isrctn inferred dates\n",
    "inferred_isrctn = inferred[inferred.isrctn_id.notnull()]\n",
    "inferred_isrctn_results = inferred_isrctn[(inferred_isrctn.isrctn_results_inc == 1)]\n",
    "print(f'Inferred with ISRCTN results:{len(inferred_isrctn_results)}')\n",
    "print(f'Total ISRCTN extracted: {len(inferred_isrctn)}')\n",
    "ci_calc(len(inferred_isrctn_results), len(inferred_isrctn))"
   ]
  },
  {
   "cell_type": "code",
   "execution_count": 45,
   "id": "eb164586-d396-41cf-9a3d-353c20fd3d83",
   "metadata": {},
   "outputs": [
    {
     "name": "stdout",
     "output_type": "stream",
     "text": [
      "0.6385149374549752\n"
     ]
    }
   ],
   "source": [
    "a = [len(inferred_isrctn_results), len(stated_isrctn_results)]\n",
    "b = [len(inferred_isrctn),len(stated_isrctn)]\n",
    "\n",
    "stat, pval = proportions_ztest(a, b)\n",
    "print(pval)"
   ]
  },
  {
   "cell_type": "code",
   "execution_count": 46,
   "id": "e7098406-19b6-43ac-abf3-f4fd933d11dc",
   "metadata": {},
   "outputs": [
    {
     "name": "stdout",
     "output_type": "stream",
     "text": [
      "Extracted with results in a Journal: 224\n",
      "Total Extracted: 353\n",
      "Proportion: 63.46%\n",
      "95% CI: 58.43-68.48\n",
      "\n",
      "\n",
      "Inferred with results in a Journal: 69\n",
      "Total Inferred: 147\n",
      "Proportion: 46.94%\n",
      "95% CI: 38.87-55.01\n"
     ]
    },
    {
     "data": {
      "text/plain": [
       "(0.38871035097043183, 0.46938775510204084, 0.5500651592336498)"
      ]
     },
     "execution_count": 46,
     "metadata": {},
     "output_type": "execute_result"
    }
   ],
   "source": [
    "#journal extracted dates\n",
    "stated_journal = stated[(stated.journal_results_inc == 1)]\n",
    "print(f'Extracted with results in a Journal: {len(stated_journal)}')\n",
    "print(f'Total Extracted: {len(stated)}')\n",
    "ci_calc(len(stated_journal), len(stated))\n",
    "\n",
    "print('\\n')\n",
    "\n",
    "#journal inferred dates\n",
    "inferred_journal = inferred[(inferred.journal_results_inc == 1)]\n",
    "print(f'Inferred with results in a Journal: {len(inferred_journal)}')\n",
    "print(f'Total Inferred: {len(inferred)}')\n",
    "ci_calc(len(inferred_journal), len(inferred))"
   ]
  },
  {
   "cell_type": "code",
   "execution_count": 47,
   "id": "b1d53d3d-f0bf-4073-8dd0-660f3bf65d8a",
   "metadata": {},
   "outputs": [
    {
     "name": "stdout",
     "output_type": "stream",
     "text": [
      "0.0006348653817690258\n"
     ]
    }
   ],
   "source": [
    "a = [len(inferred_journal), len(stated_journal)]\n",
    "b = [len(inferred),len(stated)]\n",
    "\n",
    "stat, pval = proportions_ztest(a, b)\n",
    "print(pval)"
   ]
  },
  {
   "cell_type": "markdown",
   "id": "91b218c7-4757-43ff-b0fa-526c79e7da80",
   "metadata": {},
   "source": [
    "# Publication Date Analysis"
   ]
  },
  {
   "cell_type": "code",
   "execution_count": 48,
   "id": "3d17ddbc-a3dd-4446-97aa-864d1b4cf883",
   "metadata": {},
   "outputs": [],
   "source": [
    "date_df = analysis_df[['euctr_id', 'euctr_results', 'euctr_results_date', 'nct_id', 'ctgov_results', 'ctgov_results_date', \n",
    "             'isrctn_id', 'isrctn_results', 'isrctn_results_date', 'journal_result', 'journal_pub_date']].reset_index(drop=True)\n",
    "\n",
    "earliest_results_date = dec_results.first_version_date.min()"
   ]
  },
  {
   "cell_type": "code",
   "execution_count": 49,
   "id": "0d05500d-7137-4e6d-9156-fb7163159ee9",
   "metadata": {},
   "outputs": [
    {
     "data": {
      "text/plain": [
       "False    500\n",
       "Name: test, dtype: int64"
      ]
     },
     "execution_count": 49,
     "metadata": {},
     "output_type": "execute_result"
    }
   ],
   "source": [
    "#Sense checking to make sure there are no duplicate values\n",
    "just_dates = date_df[['euctr_results_date','ctgov_results_date', 'isrctn_results_date', 'journal_pub_date']].reset_index(drop=True)\n",
    "just_dates['test'] = just_dates.apply(check_dupes, axis=1)\n",
    "just_dates.test.value_counts()\n",
    "\n",
    "#There are no repeat dates so no need to worry about that."
   ]
  },
  {
   "cell_type": "code",
   "execution_count": 50,
   "id": "72c97763-deaa-4268-90ef-6714388a7253",
   "metadata": {},
   "outputs": [],
   "source": [
    "#Getting rid of results dates from after we started searching\n",
    "date_df['euctr_results_date'] = np.where(date_df['euctr_results_date'] > search_start_date, pd.NaT, date_df['euctr_results_date'])\n",
    "date_df['euctr_results_date'] = pd.to_datetime(date_df['euctr_results_date'])\n",
    "\n",
    "date_df['ctgov_results_date'] = np.where(date_df['ctgov_results_date'] > search_start_date, pd.NaT, date_df['ctgov_results_date'])\n",
    "date_df['ctgov_results_date'] = pd.to_datetime(date_df['ctgov_results_date'])\n",
    "\n",
    "date_df['isrctn_results_date'] = np.where(date_df['isrctn_results_date'] > search_start_date, pd.NaT, date_df['isrctn_results_date'])\n",
    "date_df['isrctn_results_date'] = pd.to_datetime(date_df['isrctn_results_date'])\n",
    "\n",
    "date_df['journal_pub_date'] = np.where(date_df['journal_pub_date'] > search_start_date, pd.NaT, date_df['journal_pub_date'])\n",
    "date_df['journal_pub_date'] = pd.to_datetime(date_df['journal_pub_date'])"
   ]
  },
  {
   "cell_type": "code",
   "execution_count": 51,
   "id": "c2f88f0d-3bf9-4c33-ba11-e21912cb7bf7",
   "metadata": {},
   "outputs": [],
   "source": [
    "#Getting the earliest publication date for each trial\n",
    "date_df['min_date'] = date_df[['euctr_results_date',\n",
    "                               'ctgov_results_date', \n",
    "                               'isrctn_results_date', \n",
    "                               'journal_pub_date']].min(axis=1)"
   ]
  },
  {
   "cell_type": "code",
   "execution_count": 52,
   "id": "5c68760b-88ae-49e7-a19f-f6b821f6cdf8",
   "metadata": {},
   "outputs": [],
   "source": [
    "#Getting the total number of results available\n",
    "date_df['results_counts'] = (date_df == 'Yes').T.sum()"
   ]
  },
  {
   "cell_type": "markdown",
   "id": "5cfe060e-8ee2-4230-9340-aea7500c5495",
   "metadata": {
    "tags": []
   },
   "source": [
    "## Pre-EUCTR Results Section trials"
   ]
  },
  {
   "cell_type": "code",
   "execution_count": 53,
   "id": "afe238c7-ec1a-4a9b-815e-dd9b228a4610",
   "metadata": {},
   "outputs": [
    {
     "name": "stdout",
     "output_type": "stream",
     "text": [
      "135\n"
     ]
    }
   ],
   "source": [
    "#Trials that had a result of some kind before the EUCTR results section launched\n",
    "pre_euctr = date_df[(date_df.min_date < earliest_results_date)].reset_index(drop=True)\n",
    "\n",
    "print(len(pre_euctr))"
   ]
  },
  {
   "cell_type": "code",
   "execution_count": 54,
   "id": "2a325821-0b91-4d9f-88b7-6401fd353598",
   "metadata": {},
   "outputs": [
    {
     "name": "stdout",
     "output_type": "stream",
     "text": [
      "94\n",
      "Proportion: 70.37%\n",
      "95% CI: 62.67-78.07\n"
     ]
    },
    {
     "data": {
      "text/plain": [
       "(0.6266759528652704, 0.7037037037037037, 0.780731454542137)"
      ]
     },
     "execution_count": 54,
     "metadata": {},
     "output_type": "execute_result"
    }
   ],
   "source": [
    "#How many of these went on the publish a result on the EUCTR\n",
    "\n",
    "print(len(pre_euctr[pre_euctr.euctr_results == 'Yes']))\n",
    "\n",
    "ci_calc(95,135)"
   ]
  },
  {
   "cell_type": "code",
   "execution_count": 55,
   "id": "7aef084c-bb9e-46bf-a107-2d8a7401a412",
   "metadata": {},
   "outputs": [],
   "source": [
    "#Here we can extract where the earliest result was extracted for a given trial\n",
    "\n",
    "conds = [pre_euctr.euctr_results_date == pre_euctr.min_date, \n",
    "         pre_euctr.ctgov_results_date == pre_euctr.min_date, \n",
    "         pre_euctr.isrctn_results_date == pre_euctr.min_date, \n",
    "         pre_euctr.journal_pub_date == pre_euctr.min_date]\n",
    "\n",
    "out = ['EUCTR', 'CTgov', 'ISRCTN', 'Journal']\n",
    "\n",
    "pre_euctr['earliest_results'] = np.select(conds, out, 'No Result')"
   ]
  },
  {
   "cell_type": "code",
   "execution_count": 56,
   "id": "40d48f5e-22b2-412e-806d-666dc5b3f173",
   "metadata": {},
   "outputs": [
    {
     "data": {
      "text/plain": [
       "Journal    67\n",
       "CTgov      31\n",
       "Name: earliest_results, dtype: int64"
      ]
     },
     "execution_count": 56,
     "metadata": {},
     "output_type": "execute_result"
    }
   ],
   "source": [
    "#Lets now look at the distribution of where trials were first to report prior to the EUCTR\n",
    "#This has to be limited to only trials that were also cross-registered on ClinicalTrials.gov to compare\n",
    "#like with like\n",
    "first_report_pre = pre_euctr[pre_euctr.nct_id.notnull()].earliest_results.value_counts()\n",
    "first_report_pre"
   ]
  },
  {
   "cell_type": "code",
   "execution_count": 57,
   "id": "ed00073e-6735-4832-9594-99a8ca3650c5",
   "metadata": {},
   "outputs": [
    {
     "name": "stdout",
     "output_type": "stream",
     "text": [
      "Proportion: 68.37%\n",
      "95% CI: 59.16-77.57\n"
     ]
    },
    {
     "data": {
      "text/plain": [
       "(0.5915998519916292, 0.6836734693877551, 0.7757470867838809)"
      ]
     },
     "execution_count": 57,
     "metadata": {},
     "output_type": "execute_result"
    }
   ],
   "source": [
    "#Can use this to get the CIs for those\n",
    "#Journals\n",
    "ci_calc(first_report_pre[0],first_report_pre.sum())"
   ]
  },
  {
   "cell_type": "code",
   "execution_count": 58,
   "id": "1c246f5c-dd18-4aef-9cf7-ebc893645e7b",
   "metadata": {},
   "outputs": [
    {
     "name": "stdout",
     "output_type": "stream",
     "text": [
      "Proportion: 31.63%\n",
      "95% CI: 22.43-40.84\n"
     ]
    },
    {
     "data": {
      "text/plain": [
       "(0.22425291321611912, 0.3163265306122449, 0.4084001480083707)"
      ]
     },
     "execution_count": 58,
     "metadata": {},
     "output_type": "execute_result"
    }
   ],
   "source": [
    "#CT gov\n",
    "ci_calc(first_report_pre[1],first_report_pre.sum())"
   ]
  },
  {
   "cell_type": "markdown",
   "id": "9ca96549-f34f-44ee-9aaa-c3cc9c8e7570",
   "metadata": {
    "tags": []
   },
   "source": [
    "## Post-EUCTR Results Section Trials"
   ]
  },
  {
   "cell_type": "code",
   "execution_count": 59,
   "id": "ccf224a4-8d67-4468-825e-b55b205db4dc",
   "metadata": {},
   "outputs": [
    {
     "name": "stdout",
     "output_type": "stream",
     "text": [
      "247\n"
     ]
    }
   ],
   "source": [
    "#Make the sample\n",
    "post_euctr = date_df[(date_df.min_date >= earliest_results_date)].reset_index(drop=True)\n",
    "\n",
    "#Trials with any result after the launch of the EUCTR results section\n",
    "print(len(post_euctr))"
   ]
  },
  {
   "cell_type": "code",
   "execution_count": 60,
   "id": "c02e4b64-b5af-4d9e-bf78-60e6e411fc77",
   "metadata": {},
   "outputs": [
    {
     "data": {
      "text/plain": [
       "172"
      ]
     },
     "execution_count": 60,
     "metadata": {},
     "output_type": "execute_result"
    }
   ],
   "source": [
    "#How many of these ended up on the EUCTR at all\n",
    "len(post_euctr[post_euctr.euctr_results == 'Yes'])"
   ]
  },
  {
   "cell_type": "code",
   "execution_count": 61,
   "id": "95c07432-b5e9-482b-bcbb-06a6f47e9dce",
   "metadata": {},
   "outputs": [
    {
     "name": "stdout",
     "output_type": "stream",
     "text": [
      "Proportion: 69.64%\n",
      "95% CI: 63.9-75.37\n"
     ]
    },
    {
     "data": {
      "text/plain": [
       "(0.6390099628541973, 0.6963562753036437, 0.7537025877530902)"
      ]
     },
     "execution_count": 61,
     "metadata": {},
     "output_type": "execute_result"
    }
   ],
   "source": [
    "#And the CI for that\n",
    "ci_calc(len(post_euctr[post_euctr.euctr_results == 'Yes']),len(post_euctr))"
   ]
  },
  {
   "cell_type": "code",
   "execution_count": 62,
   "id": "c24dc246-8e6a-40cd-8224-01c1d0b44102",
   "metadata": {},
   "outputs": [],
   "source": [
    "#Adding the earliest dissemination route\n",
    "\n",
    "conds = [post_euctr.euctr_results_date == post_euctr.min_date, \n",
    "         post_euctr.ctgov_results_date == post_euctr.min_date, \n",
    "         post_euctr.isrctn_results_date == post_euctr.min_date, \n",
    "         post_euctr.journal_pub_date == post_euctr.min_date]\n",
    "\n",
    "out = ['EUCTR', 'CTgov', 'ISRCTN', 'Journal']\n",
    "\n",
    "post_euctr['earliest_results'] = np.select(conds, out, 'No Result')"
   ]
  },
  {
   "cell_type": "code",
   "execution_count": 63,
   "id": "9f88d003-38b9-4925-8139-47a260b7b79c",
   "metadata": {},
   "outputs": [
    {
     "data": {
      "text/plain": [
       "Journal    89\n",
       "EUCTR      83\n",
       "CTgov      20\n",
       "Name: earliest_results, dtype: int64"
      ]
     },
     "execution_count": 63,
     "metadata": {},
     "output_type": "execute_result"
    }
   ],
   "source": [
    "first_report_post = post_euctr[post_euctr.nct_id.notnull()].earliest_results.value_counts()\n",
    "first_report_post"
   ]
  },
  {
   "cell_type": "code",
   "execution_count": 64,
   "id": "2495508a-d321-4437-bc66-2c2e7ab864e0",
   "metadata": {},
   "outputs": [
    {
     "data": {
      "text/plain": [
       "192"
      ]
     },
     "execution_count": 64,
     "metadata": {},
     "output_type": "execute_result"
    }
   ],
   "source": [
    "first_report_post.sum()"
   ]
  },
  {
   "cell_type": "code",
   "execution_count": 65,
   "id": "5fe19465-9b1b-4197-b25e-75830b02d726",
   "metadata": {},
   "outputs": [
    {
     "name": "stdout",
     "output_type": "stream",
     "text": [
      "Proportion: 46.35%\n",
      "95% CI: 39.3-53.41\n"
     ]
    },
    {
     "data": {
      "text/plain": [
       "(0.39300452712164496, 0.4635416666666667, 0.5340788062116884)"
      ]
     },
     "execution_count": 65,
     "metadata": {},
     "output_type": "execute_result"
    }
   ],
   "source": [
    "#Journal CIs\n",
    "ci_calc(first_report_post[0], first_report_post.sum())"
   ]
  },
  {
   "cell_type": "code",
   "execution_count": 66,
   "id": "b0de66e1-c5c6-44d7-840b-70fbf9e3fd07",
   "metadata": {},
   "outputs": [
    {
     "name": "stdout",
     "output_type": "stream",
     "text": [
      "Proportion: 43.23%\n",
      "95% CI: 36.22-50.24\n"
     ]
    },
    {
     "data": {
      "text/plain": [
       "(0.36221772884531195, 0.4322916666666667, 0.5023656044880214)"
      ]
     },
     "execution_count": 66,
     "metadata": {},
     "output_type": "execute_result"
    }
   ],
   "source": [
    "#EUCTR CIs\n",
    "ci_calc(first_report_post[1], first_report_post.sum())"
   ]
  },
  {
   "cell_type": "code",
   "execution_count": 67,
   "id": "ca7a1b03-e559-43f7-b709-74cf71487dd2",
   "metadata": {},
   "outputs": [
    {
     "name": "stdout",
     "output_type": "stream",
     "text": [
      "Proportion: 10.42%\n",
      "95% CI: 6.1-14.74\n"
     ]
    },
    {
     "data": {
      "text/plain": [
       "(0.060956747926332336, 0.10416666666666667, 0.147376585407001)"
      ]
     },
     "execution_count": 67,
     "metadata": {},
     "output_type": "execute_result"
    }
   ],
   "source": [
    "#CTG CIs\n",
    "ci_calc(first_report_post[2], first_report_post.sum())"
   ]
  },
  {
   "cell_type": "code",
   "execution_count": 68,
   "id": "c39b7f70-341a-40e7-9b95-ffb6feefed79",
   "metadata": {},
   "outputs": [
    {
     "data": {
      "text/plain": [
       "Journal    31\n",
       "EUCTR      23\n",
       "ISRCTN      1\n",
       "Name: earliest_results, dtype: int64"
      ]
     },
     "execution_count": 68,
     "metadata": {},
     "output_type": "execute_result"
    }
   ],
   "source": [
    "#What about trials not on ClinicalTrials.gov.\n",
    "first_pub_no_ctg = post_euctr[post_euctr.nct_id.isna()].earliest_results.value_counts()\n",
    "first_pub_no_ctg"
   ]
  },
  {
   "cell_type": "code",
   "execution_count": 69,
   "id": "24e7b120-7657-41b7-bc96-6df99e953f5a",
   "metadata": {},
   "outputs": [
    {
     "name": "stdout",
     "output_type": "stream",
     "text": [
      "Proportion: 56.36%\n",
      "95% CI: 43.26-69.47\n"
     ]
    },
    {
     "data": {
      "text/plain": [
       "(0.4325678106200809, 0.5636363636363636, 0.6947049166526463)"
      ]
     },
     "execution_count": 69,
     "metadata": {},
     "output_type": "execute_result"
    }
   ],
   "source": [
    "#CI for journal\n",
    "ci_calc(first_pub_no_ctg[0],first_pub_no_ctg.sum())"
   ]
  },
  {
   "cell_type": "code",
   "execution_count": 70,
   "id": "bf351e88-65a5-494f-ab63-a9013ef17491",
   "metadata": {},
   "outputs": [
    {
     "name": "stdout",
     "output_type": "stream",
     "text": [
      "Proportion: 41.82%\n",
      "95% CI: 28.78-54.85\n"
     ]
    },
    {
     "data": {
      "text/plain": [
       "(0.28781983933186, 0.41818181818181815, 0.5485437970317764)"
      ]
     },
     "execution_count": 70,
     "metadata": {},
     "output_type": "execute_result"
    }
   ],
   "source": [
    "#CI for EUCTR\n",
    "ci_calc(first_pub_no_ctg[1],first_pub_no_ctg.sum())"
   ]
  },
  {
   "cell_type": "code",
   "execution_count": 71,
   "id": "5a2cefd5-066f-4f26-b347-8e2c037188ad",
   "metadata": {},
   "outputs": [
    {
     "name": "stdout",
     "output_type": "stream",
     "text": [
      "Proportion: 1.82%\n",
      "95% CI: -1.71-5.35\n"
     ]
    },
    {
     "data": {
      "text/plain": [
       "(-0.017129092394234546, 0.01818181818181818, 0.05349272875787091)"
      ]
     },
     "execution_count": 71,
     "metadata": {},
     "output_type": "execute_result"
    }
   ],
   "source": [
    "#CI for ISRCTN\n",
    "ci_calc(first_pub_no_ctg[2],first_pub_no_ctg.sum())"
   ]
  },
  {
   "cell_type": "markdown",
   "id": "2e94cf35-f13c-4b94-8b14-a2a8965da0ac",
   "metadata": {},
   "source": [
    "## Data for Start Year Figure\n",
    "\n",
    "Here we just get the data we would need and export it. Figures are makde in a separate notebook."
   ]
  },
  {
   "cell_type": "code",
   "execution_count": 72,
   "id": "8183551b-4ecb-4b01-b77a-4dd949869fbc",
   "metadata": {},
   "outputs": [],
   "source": [
    "graphing_df = analysis_df[['euctr_id', \n",
    "                           'euctr_results_inc', \n",
    "                           'any_results_inc']].merge(regression[['Trial ID', \n",
    "                                                                 'Trial Start Year']], \n",
    "                                                    how='left', left_on='euctr_id', right_on='Trial ID').drop('Trial ID', axis=1)\n",
    "\n",
    "graphing_df.to_csv(parent + '/data/graphing_data/start_year_data.csv')"
   ]
  },
  {
   "cell_type": "markdown",
   "id": "f080d613-8a52-4349-92a8-fed04dbc4fee",
   "metadata": {},
   "source": [
    "# Reporting of Trial IDs\n",
    "\n",
    "Might need to re-adjust this so that only things eligible to have that ID (i.e. registered there) are in the denom"
   ]
  },
  {
   "cell_type": "code",
   "execution_count": 73,
   "id": "44505def-5330-4133-9230-e11bd460fb0a",
   "metadata": {},
   "outputs": [],
   "source": [
    "trial_id_df = analysis_df[['euctr_id', 'nct_id', 'isrctn_id', 'journal_results_inc', 'journal_reg_numbers']].reset_index(drop=True)"
   ]
  },
  {
   "cell_type": "code",
   "execution_count": 74,
   "id": "467ea5b9-eed6-4d14-b525-4111c02c2865",
   "metadata": {},
   "outputs": [],
   "source": [
    "reg_id_df = trial_id_df[trial_id_df.journal_results_inc == 1].journal_reg_numbers.value_counts(dropna=False).to_frame().reset_index()"
   ]
  },
  {
   "cell_type": "code",
   "execution_count": 75,
   "id": "32f2a8f1-abf5-4549-bf83-91b2ce1ff04c",
   "metadata": {},
   "outputs": [
    {
     "data": {
      "text/html": [
       "<div>\n",
       "<style scoped>\n",
       "    .dataframe tbody tr th:only-of-type {\n",
       "        vertical-align: middle;\n",
       "    }\n",
       "\n",
       "    .dataframe tbody tr th {\n",
       "        vertical-align: top;\n",
       "    }\n",
       "\n",
       "    .dataframe thead th {\n",
       "        text-align: right;\n",
       "    }\n",
       "</style>\n",
       "<table border=\"1\" class=\"dataframe\">\n",
       "  <thead>\n",
       "    <tr style=\"text-align: right;\">\n",
       "      <th></th>\n",
       "      <th>index</th>\n",
       "      <th>journal_reg_numbers</th>\n",
       "    </tr>\n",
       "  </thead>\n",
       "  <tbody>\n",
       "    <tr>\n",
       "      <th>0</th>\n",
       "      <td>ClinicalTrials.gov</td>\n",
       "      <td>157</td>\n",
       "    </tr>\n",
       "    <tr>\n",
       "      <th>1</th>\n",
       "      <td>None</td>\n",
       "      <td>58</td>\n",
       "    </tr>\n",
       "    <tr>\n",
       "      <th>2</th>\n",
       "      <td>EUCTR/EudraCT</td>\n",
       "      <td>33</td>\n",
       "    </tr>\n",
       "    <tr>\n",
       "      <th>3</th>\n",
       "      <td>EUCTR/EudraCT, ClinicalTrials.gov</td>\n",
       "      <td>27</td>\n",
       "    </tr>\n",
       "    <tr>\n",
       "      <th>4</th>\n",
       "      <td>ISRCTN</td>\n",
       "      <td>7</td>\n",
       "    </tr>\n",
       "    <tr>\n",
       "      <th>5</th>\n",
       "      <td>EUCTR/EudraCT, ISRCTN</td>\n",
       "      <td>6</td>\n",
       "    </tr>\n",
       "    <tr>\n",
       "      <th>6</th>\n",
       "      <td>Other registration number</td>\n",
       "      <td>3</td>\n",
       "    </tr>\n",
       "    <tr>\n",
       "      <th>7</th>\n",
       "      <td>ClinicalTrials.gov, ISRCTN</td>\n",
       "      <td>2</td>\n",
       "    </tr>\n",
       "  </tbody>\n",
       "</table>\n",
       "</div>"
      ],
      "text/plain": [
       "                               index  journal_reg_numbers\n",
       "0                 ClinicalTrials.gov                  157\n",
       "1                               None                   58\n",
       "2                      EUCTR/EudraCT                   33\n",
       "3  EUCTR/EudraCT, ClinicalTrials.gov                   27\n",
       "4                             ISRCTN                    7\n",
       "5              EUCTR/EudraCT, ISRCTN                    6\n",
       "6          Other registration number                    3\n",
       "7         ClinicalTrials.gov, ISRCTN                    2"
      ]
     },
     "execution_count": 75,
     "metadata": {},
     "output_type": "execute_result"
    }
   ],
   "source": [
    "reg_id_df"
   ]
  },
  {
   "cell_type": "code",
   "execution_count": 76,
   "id": "4980f8d3-61cf-4378-b835-84d0061a3e30",
   "metadata": {},
   "outputs": [
    {
     "name": "stdout",
     "output_type": "stream",
     "text": [
      "235 journal articles contain any ID\n"
     ]
    }
   ],
   "source": [
    "print(f'{reg_id_df.journal_reg_numbers.sum() - reg_id_df[reg_id_df[\"index\"] == \"None\"].journal_reg_numbers.values[0]} journal articles contain any ID')"
   ]
  },
  {
   "cell_type": "code",
   "execution_count": 77,
   "id": "aed98a3e-5b6e-43ab-aeba-56eb1aa57ea4",
   "metadata": {},
   "outputs": [
    {
     "name": "stdout",
     "output_type": "stream",
     "text": [
      "Contains ClinicalTrials.gov ID:\n",
      "Outcome of Interest: 186\n",
      "Total: 293\n",
      "Proportion: 63.48%\n",
      "95% CI: 57.97-68.99\n"
     ]
    },
    {
     "data": {
      "text/plain": [
       "(0.5796803813535008, 0.6348122866894198, 0.6899441920253389)"
      ]
     },
     "execution_count": 77,
     "metadata": {},
     "output_type": "execute_result"
    }
   ],
   "source": [
    "print('Contains ClinicalTrials.gov ID:')\n",
    "summarizer(reg_id_df[reg_id_df[\"index\"].str.contains(\"ClinicalTrials.gov\")].journal_reg_numbers.sum(), reg_id_df.journal_reg_numbers.sum())"
   ]
  },
  {
   "cell_type": "code",
   "execution_count": 78,
   "id": "64936426-8bdc-4601-8a2b-b70bbe4c1490",
   "metadata": {},
   "outputs": [
    {
     "name": "stdout",
     "output_type": "stream",
     "text": [
      "Contains EUCTR/EudraCT ID:\n",
      "Outcome of Interest: 66\n",
      "Total: 293\n",
      "Proportion: 22.53%\n",
      "95% CI: 17.74-27.31\n"
     ]
    },
    {
     "data": {
      "text/plain": [
       "(0.17742166011265287, 0.22525597269624573, 0.2730902852798386)"
      ]
     },
     "execution_count": 78,
     "metadata": {},
     "output_type": "execute_result"
    }
   ],
   "source": [
    "print('Contains EUCTR/EudraCT ID:')\n",
    "summarizer(reg_id_df[reg_id_df[\"index\"].str.contains(\"EUCTR/EudraCT\")].journal_reg_numbers.sum(), reg_id_df.journal_reg_numbers.sum())"
   ]
  },
  {
   "cell_type": "code",
   "execution_count": 79,
   "id": "7a067118-d1bb-4abe-bd07-d253a1f9d54e",
   "metadata": {},
   "outputs": [
    {
     "name": "stdout",
     "output_type": "stream",
     "text": [
      "Contains ISRCTN:\n",
      "Outcome of Interest: 15\n",
      "Total: 293\n",
      "Proportion: 5.12%\n",
      "95% CI: 2.6-7.64\n"
     ]
    },
    {
     "data": {
      "text/plain": [
       "(0.025958414341064585, 0.051194539249146756, 0.07643066415722893)"
      ]
     },
     "execution_count": 79,
     "metadata": {},
     "output_type": "execute_result"
    }
   ],
   "source": [
    "print('Contains ISRCTN:')\n",
    "summarizer(reg_id_df[reg_id_df[\"index\"].str.contains(\"ISRCTN\")].journal_reg_numbers.sum(), reg_id_df.journal_reg_numbers.sum())"
   ]
  },
  {
   "cell_type": "code",
   "execution_count": 80,
   "id": "11b00979-edc1-425a-ae5c-d8c907496b9e",
   "metadata": {
    "lines_to_next_cell": 0
   },
   "outputs": [
    {
     "name": "stdout",
     "output_type": "stream",
     "text": [
      "No ID:\n",
      "Outcome of Interest: 58\n",
      "Total: 293\n",
      "Proportion: 19.8%\n",
      "95% CI: 15.23-24.36\n"
     ]
    },
    {
     "data": {
      "text/plain": [
       "(0.1523272508629373, 0.19795221843003413, 0.24357718599713096)"
      ]
     },
     "execution_count": 80,
     "metadata": {},
     "output_type": "execute_result"
    }
   ],
   "source": [
    "print('No ID:')\n",
    "summarizer(reg_id_df[reg_id_df[\"index\"].str.contains(\"None\")].journal_reg_numbers.sum(), reg_id_df.journal_reg_numbers.sum())"
   ]
  },
  {
   "cell_type": "markdown",
   "id": "579b500c-a0e6-40f8-aa13-5da23dd48098",
   "metadata": {},
   "source": [
    "# Exploratory Analayses"
   ]
  },
  {
   "cell_type": "code",
   "execution_count": 81,
   "id": "7922a2af-9dca-4b6c-b987-a7a1a4e319cb",
   "metadata": {},
   "outputs": [],
   "source": [
    "#Creating the exploratory analysis dataset through merging a few different DFs \n",
    "#and aligning the columns for ease of use.\n",
    "\n",
    "exploratory_final = analysis_df[['euctr_id', 'euctr_results_inc', 'ctgov_results_inc', 'isrctn_results_inc', \n",
    "                                 'journal_results_inc', 'any_results_inc', 'nct_id', 'isrctn_id', \n",
    "                                 'journal_result']].merge(full_sample[['eudract_number', \n",
    "                                                                  'inferred']], \n",
    "                                                          how='left', \n",
    "                                                          left_on='euctr_id', \n",
    "                                                          right_on='eudract_number')\n",
    "\n",
    "exploratory_final = exploratory_final.merge(regression, \n",
    "                                            how='left', \n",
    "                                            left_on='euctr_id', \n",
    "                                            right_on='Trial ID').drop(['eudract_number', \n",
    "                                                                       'Timestamp', \n",
    "                                                                       'Notes', \n",
    "                                                                       'Trial ID'], axis=1)\n",
    "\n",
    "exploratory_final = exploratory_final.merge(other_reg_data, \n",
    "                                            how='left', \n",
    "                                            left_on='euctr_id', \n",
    "                                            right_on='trial_id').drop(['Unnamed: 0', 'trial_id'], axis=1)\n",
    "\n",
    "exploratory_final.columns = ['euctr_id', 'euctr_results_inc', 'ctgov_results_inc', 'isrctn_results_inc', \n",
    "                             'journal_results_inc', 'any_results_inc', 'nct_id', 'isrctn_id', 'journal_result', \n",
    "                             'inferred', 'trial_start_yr', 'enrollment', 'location', 'sponsor_status', \n",
    "                             'protocol_country', 'sponsor_country']"
   ]
  },
  {
   "cell_type": "code",
   "execution_count": 82,
   "id": "01a0b66c-a7f1-403b-ba68-9b7f54c39e9d",
   "metadata": {},
   "outputs": [
    {
     "data": {
      "text/html": [
       "<div>\n",
       "<style scoped>\n",
       "    .dataframe tbody tr th:only-of-type {\n",
       "        vertical-align: middle;\n",
       "    }\n",
       "\n",
       "    .dataframe tbody tr th {\n",
       "        vertical-align: top;\n",
       "    }\n",
       "\n",
       "    .dataframe thead th {\n",
       "        text-align: right;\n",
       "    }\n",
       "</style>\n",
       "<table border=\"1\" class=\"dataframe\">\n",
       "  <thead>\n",
       "    <tr style=\"text-align: right;\">\n",
       "      <th></th>\n",
       "      <th>euctr_id</th>\n",
       "      <th>euctr_results_inc</th>\n",
       "      <th>ctgov_results_inc</th>\n",
       "      <th>isrctn_results_inc</th>\n",
       "      <th>journal_results_inc</th>\n",
       "      <th>any_results_inc</th>\n",
       "      <th>nct_id</th>\n",
       "      <th>isrctn_id</th>\n",
       "      <th>journal_result</th>\n",
       "      <th>inferred</th>\n",
       "      <th>trial_start_yr</th>\n",
       "      <th>enrollment</th>\n",
       "      <th>location</th>\n",
       "      <th>sponsor_status</th>\n",
       "      <th>protocol_country</th>\n",
       "      <th>sponsor_country</th>\n",
       "    </tr>\n",
       "  </thead>\n",
       "  <tbody>\n",
       "    <tr>\n",
       "      <th>0</th>\n",
       "      <td>2014-003401-15</td>\n",
       "      <td>1</td>\n",
       "      <td>1</td>\n",
       "      <td>0</td>\n",
       "      <td>1</td>\n",
       "      <td>1</td>\n",
       "      <td>NCT02269488</td>\n",
       "      <td>NaN</td>\n",
       "      <td>Yes</td>\n",
       "      <td>0</td>\n",
       "      <td>2014.0</td>\n",
       "      <td>100.0</td>\n",
       "      <td>Non-EEA</td>\n",
       "      <td>Commercial</td>\n",
       "      <td>0.0</td>\n",
       "      <td>Japan</td>\n",
       "    </tr>\n",
       "    <tr>\n",
       "      <th>1</th>\n",
       "      <td>2011-001616-57</td>\n",
       "      <td>1</td>\n",
       "      <td>0</td>\n",
       "      <td>0</td>\n",
       "      <td>1</td>\n",
       "      <td>1</td>\n",
       "      <td>NCT01403636</td>\n",
       "      <td>NaN</td>\n",
       "      <td>Yes</td>\n",
       "      <td>0</td>\n",
       "      <td>2011.0</td>\n",
       "      <td>167.0</td>\n",
       "      <td>EEA and Non-EEA</td>\n",
       "      <td>Commercial</td>\n",
       "      <td>2.0</td>\n",
       "      <td>France</td>\n",
       "    </tr>\n",
       "    <tr>\n",
       "      <th>2</th>\n",
       "      <td>2004-002743-27</td>\n",
       "      <td>1</td>\n",
       "      <td>1</td>\n",
       "      <td>0</td>\n",
       "      <td>1</td>\n",
       "      <td>1</td>\n",
       "      <td>NCT00630747</td>\n",
       "      <td>NaN</td>\n",
       "      <td>Yes</td>\n",
       "      <td>0</td>\n",
       "      <td>2004.0</td>\n",
       "      <td>94.0</td>\n",
       "      <td>EEA and Non-EEA</td>\n",
       "      <td>Commercial</td>\n",
       "      <td>5.0</td>\n",
       "      <td>United States</td>\n",
       "    </tr>\n",
       "    <tr>\n",
       "      <th>3</th>\n",
       "      <td>2013-003561-34</td>\n",
       "      <td>1</td>\n",
       "      <td>1</td>\n",
       "      <td>0</td>\n",
       "      <td>1</td>\n",
       "      <td>1</td>\n",
       "      <td>NCT01980628</td>\n",
       "      <td>NaN</td>\n",
       "      <td>Yes</td>\n",
       "      <td>0</td>\n",
       "      <td>2013.0</td>\n",
       "      <td>63.0</td>\n",
       "      <td>EEA and Non-EEA</td>\n",
       "      <td>Commercial</td>\n",
       "      <td>3.0</td>\n",
       "      <td>United States</td>\n",
       "    </tr>\n",
       "    <tr>\n",
       "      <th>4</th>\n",
       "      <td>2006-001414-33</td>\n",
       "      <td>1</td>\n",
       "      <td>0</td>\n",
       "      <td>0</td>\n",
       "      <td>1</td>\n",
       "      <td>1</td>\n",
       "      <td>NaN</td>\n",
       "      <td>ISRCTN70127774</td>\n",
       "      <td>Yes</td>\n",
       "      <td>0</td>\n",
       "      <td>2006.0</td>\n",
       "      <td>60.0</td>\n",
       "      <td>EEA Only</td>\n",
       "      <td>Non-Commercial</td>\n",
       "      <td>1.0</td>\n",
       "      <td>United Kingdom</td>\n",
       "    </tr>\n",
       "  </tbody>\n",
       "</table>\n",
       "</div>"
      ],
      "text/plain": [
       "         euctr_id  euctr_results_inc  ctgov_results_inc  isrctn_results_inc  \\\n",
       "0  2014-003401-15                  1                  1                   0   \n",
       "1  2011-001616-57                  1                  0                   0   \n",
       "2  2004-002743-27                  1                  1                   0   \n",
       "3  2013-003561-34                  1                  1                   0   \n",
       "4  2006-001414-33                  1                  0                   0   \n",
       "\n",
       "   journal_results_inc  any_results_inc       nct_id       isrctn_id  \\\n",
       "0                    1                1  NCT02269488             NaN   \n",
       "1                    1                1  NCT01403636             NaN   \n",
       "2                    1                1  NCT00630747             NaN   \n",
       "3                    1                1  NCT01980628             NaN   \n",
       "4                    1                1          NaN  ISRCTN70127774   \n",
       "\n",
       "  journal_result  inferred  trial_start_yr  enrollment         location  \\\n",
       "0            Yes         0          2014.0       100.0          Non-EEA   \n",
       "1            Yes         0          2011.0       167.0  EEA and Non-EEA   \n",
       "2            Yes         0          2004.0        94.0  EEA and Non-EEA   \n",
       "3            Yes         0          2013.0        63.0  EEA and Non-EEA   \n",
       "4            Yes         0          2006.0        60.0         EEA Only   \n",
       "\n",
       "   sponsor_status  protocol_country sponsor_country  \n",
       "0      Commercial               0.0           Japan  \n",
       "1      Commercial               2.0          France  \n",
       "2      Commercial               5.0   United States  \n",
       "3      Commercial               3.0   United States  \n",
       "4  Non-Commercial               1.0  United Kingdom  "
      ]
     },
     "execution_count": 82,
     "metadata": {},
     "output_type": "execute_result"
    }
   ],
   "source": [
    "exploratory_final.head()"
   ]
  },
  {
   "cell_type": "code",
   "execution_count": 83,
   "id": "aee7c98c-d9ea-43e7-ad75-921f3692427b",
   "metadata": {},
   "outputs": [
    {
     "data": {
      "text/plain": [
       "count    500.000000\n",
       "mean       2.348000\n",
       "std        2.550275\n",
       "min        0.000000\n",
       "25%        1.000000\n",
       "50%        1.000000\n",
       "75%        3.000000\n",
       "max       16.000000\n",
       "Name: protocol_country, dtype: float64"
      ]
     },
     "execution_count": 83,
     "metadata": {},
     "output_type": "execute_result"
    }
   ],
   "source": [
    "#Using these variable to create Sample Charactersitics table in paper. \n",
    "#Run either .describe() or .value_counts() depending on variable\n",
    "exploratory_final.protocol_country.describe()"
   ]
  },
  {
   "cell_type": "code",
   "execution_count": 84,
   "id": "a7d5f4b7-baa7-487c-8a55-2fc2af47f8b3",
   "metadata": {},
   "outputs": [
    {
     "data": {
      "text/plain": [
       "1999.0     1\n",
       "2002.0     1\n",
       "2003.0     1\n",
       "2004.0    14\n",
       "2005.0    28\n",
       "2006.0    49\n",
       "2007.0    43\n",
       "2008.0    60\n",
       "2009.0    47\n",
       "2010.0    46\n",
       "2011.0    49\n",
       "2012.0    51\n",
       "2013.0    35\n",
       "2014.0    33\n",
       "2015.0    20\n",
       "2016.0    17\n",
       "2017.0     3\n",
       "2018.0     1\n",
       "Name: trial_start_yr, dtype: int64"
      ]
     },
     "execution_count": 84,
     "metadata": {},
     "output_type": "execute_result"
    }
   ],
   "source": [
    "exploratory_final.trial_start_yr.value_counts().sort_index()"
   ]
  },
  {
   "cell_type": "markdown",
   "id": "6f8b71a4-12ce-4c96-9ad2-e12e005546ce",
   "metadata": {},
   "source": [
    "## Analysis 1: Regression"
   ]
  },
  {
   "cell_type": "code",
   "execution_count": 85,
   "id": "636b0860-1b37-4690-bfcb-7c7875772d64",
   "metadata": {},
   "outputs": [],
   "source": [
    "#Taking only what we need:\n",
    "regression_final = exploratory_final[['euctr_id', 'euctr_results_inc', 'any_results_inc', 'inferred', \n",
    "                                      'trial_start_yr', 'enrollment', 'location', 'sponsor_status', \n",
    "                                      'protocol_country']].reset_index(drop=True)\n",
    "\n",
    "regression_final = regression_final[regression_final.any_results_inc == 1].reset_index(drop=True)\n",
    "\n",
    "regression_final = regression_final.join(pd.get_dummies(regression_final[['location', 'sponsor_status']]), how='left')"
   ]
  },
  {
   "cell_type": "code",
   "execution_count": 86,
   "id": "3a768fe2-23dd-4781-94ad-23619ffae105",
   "metadata": {},
   "outputs": [
    {
     "data": {
      "text/plain": [
       "EEA Only           216\n",
       "EEA and Non-EEA    151\n",
       "Non-EEA             14\n",
       "Name: location, dtype: int64"
      ]
     },
     "execution_count": 86,
     "metadata": {},
     "output_type": "execute_result"
    }
   ],
   "source": [
    "regression_final.location.value_counts()"
   ]
  },
  {
   "cell_type": "code",
   "execution_count": 87,
   "id": "8ea6bf58-44bf-417c-9f33-203fe29dceb3",
   "metadata": {},
   "outputs": [],
   "source": [
    "y_reg = regression_final['euctr_results_inc'].reset_index(drop=True)\n",
    "x_reg = regression_final[['inferred', 'trial_start_yr', 'enrollment',\n",
    "                         'protocol_country', 'location_EEA and Non-EEA', 'location_Non-EEA', \n",
    "                         'sponsor_status_Commercial']].reset_index(drop=True)"
   ]
  },
  {
   "cell_type": "code",
   "execution_count": 88,
   "id": "5eb84cdc-9496-46bf-8835-8a3cb076b326",
   "metadata": {},
   "outputs": [
    {
     "name": "stdout",
     "output_type": "stream",
     "text": [
      "Warning: Maximum number of iterations has been exceeded.\n",
      "         Current function value: 0.300646\n",
      "         Iterations: 35\n",
      "                           Logit Regression Results                           \n",
      "==============================================================================\n",
      "Dep. Variable:      euctr_results_inc   No. Observations:                  381\n",
      "Model:                          Logit   Df Residuals:                      373\n",
      "Method:                           MLE   Df Model:                            7\n",
      "Date:                Tue, 21 Feb 2023   Pseudo R-squ.:                  0.5125\n",
      "Time:                        16:34:51   Log-Likelihood:                -114.55\n",
      "converged:                      False   LL-Null:                       -234.98\n",
      "Covariance Type:            nonrobust   LLR p-value:                 2.426e-48\n",
      "=============================================================================================\n",
      "                                coef    std err          z      P>|z|      [0.025      0.975]\n",
      "---------------------------------------------------------------------------------------------\n",
      "inferred                    -43.9988   1.17e+05     -0.000      1.000    -2.3e+05     2.3e+05\n",
      "trial_start_yr                0.1095      0.054      2.041      0.041       0.004       0.215\n",
      "enrollment                   -0.0003      0.000     -0.861      0.389      -0.001       0.000\n",
      "protocol_country              0.0949      0.090      1.051      0.293      -0.082       0.272\n",
      "location_EEA and Non-EEA      0.0075      0.466      0.016      0.987      -0.906       0.921\n",
      "location_Non-EEA             23.9147   1.17e+05      0.000      1.000   -2.29e+05    2.29e+05\n",
      "sponsor_status_Commercial     1.5351      0.414      3.711      0.000       0.724       2.346\n",
      "cons                       -219.4699    107.793     -2.036      0.042    -430.740      -8.200\n",
      "=============================================================================================\n",
      "\n",
      "Possibly complete quasi-separation: A fraction 0.22 of observations can be\n",
      "perfectly predicted. This might indicate that there is complete\n",
      "quasi-separation. In this case some parameters will not be identified.\n"
     ]
    },
    {
     "name": "stderr",
     "output_type": "stream",
     "text": [
      "/root/.pyenv/versions/3.8.1/lib/python3.8/site-packages/statsmodels/base/model.py:604: ConvergenceWarning: Maximum Likelihood optimization failed to converge. Check mle_retvals\n",
      "  warnings.warn(\"Maximum Likelihood optimization failed to \"\n",
      "/root/.pyenv/versions/3.8.1/lib/python3.8/site-packages/pandas/core/internals/blocks.py:402: RuntimeWarning: overflow encountered in exp\n",
      "  result = func(self.values, **kwargs)\n"
     ]
    },
    {
     "data": {
      "text/html": [
       "<div>\n",
       "<style scoped>\n",
       "    .dataframe tbody tr th:only-of-type {\n",
       "        vertical-align: middle;\n",
       "    }\n",
       "\n",
       "    .dataframe tbody tr th {\n",
       "        vertical-align: top;\n",
       "    }\n",
       "\n",
       "    .dataframe thead th {\n",
       "        text-align: right;\n",
       "    }\n",
       "</style>\n",
       "<table border=\"1\" class=\"dataframe\">\n",
       "  <thead>\n",
       "    <tr style=\"text-align: right;\">\n",
       "      <th></th>\n",
       "      <th>OR</th>\n",
       "      <th>2.5%</th>\n",
       "      <th>97.5%</th>\n",
       "      <th>p_value</th>\n",
       "    </tr>\n",
       "  </thead>\n",
       "  <tbody>\n",
       "    <tr>\n",
       "      <th>inferred</th>\n",
       "      <td>0.000000e+00</td>\n",
       "      <td>0.00</td>\n",
       "      <td>inf</td>\n",
       "      <td>0.99970</td>\n",
       "    </tr>\n",
       "    <tr>\n",
       "      <th>trial_start_yr</th>\n",
       "      <td>1.120000e+00</td>\n",
       "      <td>1.00</td>\n",
       "      <td>1.24</td>\n",
       "      <td>0.04123</td>\n",
       "    </tr>\n",
       "    <tr>\n",
       "      <th>enrollment</th>\n",
       "      <td>1.000000e+00</td>\n",
       "      <td>1.00</td>\n",
       "      <td>1.00</td>\n",
       "      <td>0.38933</td>\n",
       "    </tr>\n",
       "    <tr>\n",
       "      <th>protocol_country</th>\n",
       "      <td>1.100000e+00</td>\n",
       "      <td>0.92</td>\n",
       "      <td>1.31</td>\n",
       "      <td>0.29338</td>\n",
       "    </tr>\n",
       "    <tr>\n",
       "      <th>location_EEA and Non-EEA</th>\n",
       "      <td>1.010000e+00</td>\n",
       "      <td>0.40</td>\n",
       "      <td>2.51</td>\n",
       "      <td>0.98723</td>\n",
       "    </tr>\n",
       "    <tr>\n",
       "      <th>location_Non-EEA</th>\n",
       "      <td>2.432313e+10</td>\n",
       "      <td>0.00</td>\n",
       "      <td>inf</td>\n",
       "      <td>0.99984</td>\n",
       "    </tr>\n",
       "    <tr>\n",
       "      <th>sponsor_status_Commercial</th>\n",
       "      <td>4.640000e+00</td>\n",
       "      <td>2.06</td>\n",
       "      <td>10.44</td>\n",
       "      <td>0.00021</td>\n",
       "    </tr>\n",
       "    <tr>\n",
       "      <th>cons</th>\n",
       "      <td>0.000000e+00</td>\n",
       "      <td>0.00</td>\n",
       "      <td>0.00</td>\n",
       "      <td>0.04175</td>\n",
       "    </tr>\n",
       "  </tbody>\n",
       "</table>\n",
       "</div>"
      ],
      "text/plain": [
       "                                     OR  2.5%  97.5%  p_value\n",
       "inferred                   0.000000e+00  0.00    inf  0.99970\n",
       "trial_start_yr             1.120000e+00  1.00   1.24  0.04123\n",
       "enrollment                 1.000000e+00  1.00   1.00  0.38933\n",
       "protocol_country           1.100000e+00  0.92   1.31  0.29338\n",
       "location_EEA and Non-EEA   1.010000e+00  0.40   2.51  0.98723\n",
       "location_Non-EEA           2.432313e+10  0.00    inf  0.99984\n",
       "sponsor_status_Commercial  4.640000e+00  2.06  10.44  0.00021\n",
       "cons                       0.000000e+00  0.00   0.00  0.04175"
      ]
     },
     "execution_count": 88,
     "metadata": {},
     "output_type": "execute_result"
    }
   ],
   "source": [
    "simple_logistic_regression(y_reg, x_reg)"
   ]
  },
  {
   "cell_type": "markdown",
   "id": "c54ddf16-248b-464b-b02f-f78ef81d043d",
   "metadata": {},
   "source": [
    "If we run the regression per protocol it will not converge because, as shown earlier, no trials with inferred completion dates have a result on the EUCTR making that a perfect predictor. I will therefore remove this from the regression as it is a derived variable anyway."
   ]
  },
  {
   "cell_type": "code",
   "execution_count": 89,
   "id": "992763f9-9bfa-4d1e-a004-6ab0d8284f8c",
   "metadata": {},
   "outputs": [],
   "source": [
    "#Re-running the regression without the \"inferred\" variable\n",
    "y_reg1 = regression_final['euctr_results_inc'].reset_index(drop=True)\n",
    "x_reg1 = regression_final[['trial_start_yr', 'enrollment',\n",
    "                         'protocol_country', 'location_EEA and Non-EEA', 'location_Non-EEA', \n",
    "                         'sponsor_status_Commercial']].reset_index(drop=True)"
   ]
  },
  {
   "cell_type": "code",
   "execution_count": 90,
   "id": "a6d4b6b8-4ae0-418a-8336-98efda39742b",
   "metadata": {},
   "outputs": [
    {
     "name": "stdout",
     "output_type": "stream",
     "text": [
      "Optimization terminated successfully.\n",
      "         Current function value: 0.452351\n",
      "         Iterations 7\n",
      "                           Logit Regression Results                           \n",
      "==============================================================================\n",
      "Dep. Variable:      euctr_results_inc   No. Observations:                  381\n",
      "Model:                          Logit   Df Residuals:                      374\n",
      "Method:                           MLE   Df Model:                            6\n",
      "Date:                Tue, 21 Feb 2023   Pseudo R-squ.:                  0.2666\n",
      "Time:                        16:34:51   Log-Likelihood:                -172.35\n",
      "converged:                       True   LL-Null:                       -234.98\n",
      "Covariance Type:            nonrobust   LLR p-value:                 1.271e-24\n",
      "=============================================================================================\n",
      "                                coef    std err          z      P>|z|      [0.025      0.975]\n",
      "---------------------------------------------------------------------------------------------\n",
      "trial_start_yr                0.0798      0.042      1.882      0.060      -0.003       0.163\n",
      "enrollment                   -0.0002      0.000     -0.519      0.604      -0.001       0.001\n",
      "protocol_country              0.1814      0.094      1.925      0.054      -0.003       0.366\n",
      "location_EEA and Non-EEA      0.1425      0.395      0.361      0.718      -0.632       0.917\n",
      "location_Non-EEA              1.1342      1.089      1.042      0.297      -0.999       3.268\n",
      "sponsor_status_Commercial     2.2415      0.334      6.709      0.000       1.587       2.896\n",
      "cons                       -161.1698     85.245     -1.891      0.059    -328.246       5.906\n",
      "=============================================================================================\n"
     ]
    },
    {
     "data": {
      "text/html": [
       "<div>\n",
       "<style scoped>\n",
       "    .dataframe tbody tr th:only-of-type {\n",
       "        vertical-align: middle;\n",
       "    }\n",
       "\n",
       "    .dataframe tbody tr th {\n",
       "        vertical-align: top;\n",
       "    }\n",
       "\n",
       "    .dataframe thead th {\n",
       "        text-align: right;\n",
       "    }\n",
       "</style>\n",
       "<table border=\"1\" class=\"dataframe\">\n",
       "  <thead>\n",
       "    <tr style=\"text-align: right;\">\n",
       "      <th></th>\n",
       "      <th>OR</th>\n",
       "      <th>2.5%</th>\n",
       "      <th>97.5%</th>\n",
       "      <th>p_value</th>\n",
       "    </tr>\n",
       "  </thead>\n",
       "  <tbody>\n",
       "    <tr>\n",
       "      <th>trial_start_yr</th>\n",
       "      <td>1.08</td>\n",
       "      <td>1.00</td>\n",
       "      <td>1.18</td>\n",
       "      <td>0.05984</td>\n",
       "    </tr>\n",
       "    <tr>\n",
       "      <th>enrollment</th>\n",
       "      <td>1.00</td>\n",
       "      <td>1.00</td>\n",
       "      <td>1.00</td>\n",
       "      <td>0.60377</td>\n",
       "    </tr>\n",
       "    <tr>\n",
       "      <th>protocol_country</th>\n",
       "      <td>1.20</td>\n",
       "      <td>1.00</td>\n",
       "      <td>1.44</td>\n",
       "      <td>0.05426</td>\n",
       "    </tr>\n",
       "    <tr>\n",
       "      <th>location_EEA and Non-EEA</th>\n",
       "      <td>1.15</td>\n",
       "      <td>0.53</td>\n",
       "      <td>2.50</td>\n",
       "      <td>0.71838</td>\n",
       "    </tr>\n",
       "    <tr>\n",
       "      <th>location_Non-EEA</th>\n",
       "      <td>3.11</td>\n",
       "      <td>0.37</td>\n",
       "      <td>26.26</td>\n",
       "      <td>0.29745</td>\n",
       "    </tr>\n",
       "    <tr>\n",
       "      <th>sponsor_status_Commercial</th>\n",
       "      <td>9.41</td>\n",
       "      <td>4.89</td>\n",
       "      <td>18.11</td>\n",
       "      <td>0.00000</td>\n",
       "    </tr>\n",
       "    <tr>\n",
       "      <th>cons</th>\n",
       "      <td>0.00</td>\n",
       "      <td>0.00</td>\n",
       "      <td>367.38</td>\n",
       "      <td>0.05867</td>\n",
       "    </tr>\n",
       "  </tbody>\n",
       "</table>\n",
       "</div>"
      ],
      "text/plain": [
       "                             OR  2.5%   97.5%  p_value\n",
       "trial_start_yr             1.08  1.00    1.18  0.05984\n",
       "enrollment                 1.00  1.00    1.00  0.60377\n",
       "protocol_country           1.20  1.00    1.44  0.05426\n",
       "location_EEA and Non-EEA   1.15  0.53    2.50  0.71838\n",
       "location_Non-EEA           3.11  0.37   26.26  0.29745\n",
       "sponsor_status_Commercial  9.41  4.89   18.11  0.00000\n",
       "cons                       0.00  0.00  367.38  0.05867"
      ]
     },
     "execution_count": 90,
     "metadata": {},
     "output_type": "execute_result"
    }
   ],
   "source": [
    "simple_logistic_regression(y_reg1, x_reg1)"
   ]
  },
  {
   "cell_type": "code",
   "execution_count": 91,
   "id": "a2a268e2-fe62-4004-a9f1-a49783c2b0e2",
   "metadata": {},
   "outputs": [
    {
     "name": "stdout",
     "output_type": "stream",
     "text": [
      "Optimization terminated successfully.\n",
      "         Current function value: 0.614284\n",
      "         Iterations 5\n",
      "                           Logit Regression Results                           \n",
      "==============================================================================\n",
      "Dep. Variable:      euctr_results_inc   No. Observations:                  381\n",
      "Model:                          Logit   Df Residuals:                      379\n",
      "Method:                           MLE   Df Model:                            1\n",
      "Date:                Tue, 21 Feb 2023   Pseudo R-squ.:                0.003998\n",
      "Time:                        16:34:52   Log-Likelihood:                -234.04\n",
      "converged:                       True   LL-Null:                       -234.98\n",
      "Covariance Type:            nonrobust   LLR p-value:                    0.1705\n",
      "==================================================================================\n",
      "                     coef    std err          z      P>|z|      [0.025      0.975]\n",
      "----------------------------------------------------------------------------------\n",
      "trial_start_yr     0.0459      0.034      1.366      0.172      -0.020       0.112\n",
      "cons             -91.3847     67.516     -1.354      0.176    -223.713      40.944\n",
      "==================================================================================\n"
     ]
    },
    {
     "data": {
      "text/html": [
       "<div>\n",
       "<style scoped>\n",
       "    .dataframe tbody tr th:only-of-type {\n",
       "        vertical-align: middle;\n",
       "    }\n",
       "\n",
       "    .dataframe tbody tr th {\n",
       "        vertical-align: top;\n",
       "    }\n",
       "\n",
       "    .dataframe thead th {\n",
       "        text-align: right;\n",
       "    }\n",
       "</style>\n",
       "<table border=\"1\" class=\"dataframe\">\n",
       "  <thead>\n",
       "    <tr style=\"text-align: right;\">\n",
       "      <th></th>\n",
       "      <th>OR</th>\n",
       "      <th>2.5%</th>\n",
       "      <th>97.5%</th>\n",
       "      <th>p_value</th>\n",
       "    </tr>\n",
       "  </thead>\n",
       "  <tbody>\n",
       "    <tr>\n",
       "      <th>trial_start_yr</th>\n",
       "      <td>1.05</td>\n",
       "      <td>0.98</td>\n",
       "      <td>1.120000e+00</td>\n",
       "      <td>0.17209</td>\n",
       "    </tr>\n",
       "    <tr>\n",
       "      <th>cons</th>\n",
       "      <td>0.00</td>\n",
       "      <td>0.00</td>\n",
       "      <td>6.047183e+17</td>\n",
       "      <td>0.17589</td>\n",
       "    </tr>\n",
       "  </tbody>\n",
       "</table>\n",
       "</div>"
      ],
      "text/plain": [
       "                  OR  2.5%         97.5%  p_value\n",
       "trial_start_yr  1.05  0.98  1.120000e+00  0.17209\n",
       "cons            0.00  0.00  6.047183e+17  0.17589"
      ]
     },
     "execution_count": 91,
     "metadata": {},
     "output_type": "execute_result"
    }
   ],
   "source": [
    "#Check univariable ORs here with any of these variables:\n",
    "#['trial_start_yr', 'enrollment', 'protocol_country', 'location_EEA and Non-EEA', 'location_Non-EEA', \n",
    "#'sponsor_status_Commercial']\n",
    "\n",
    "x_regu = regression_final[['trial_start_yr']].reset_index(drop=True)\n",
    "\n",
    "simple_logistic_regression(y_reg1, x_regu)"
   ]
  },
  {
   "cell_type": "markdown",
   "id": "4926dfcf-20c8-4095-b0f7-80e6886072ac",
   "metadata": {},
   "source": [
    "When running, keep track of the univariate outputs here."
   ]
  },
  {
   "cell_type": "code",
   "execution_count": 92,
   "id": "46d4d979-8d4d-484e-b2d9-5a62c84eb20d",
   "metadata": {},
   "outputs": [
    {
     "name": "stdout",
     "output_type": "stream",
     "text": [
      "0.0071428571428571435\n",
      "0.008333333333333333\n",
      "0.01\n",
      "0.0125\n",
      "0.016666666666666666\n"
     ]
    }
   ],
   "source": [
    "#Holm-Bonferroni corrected thresholds\n",
    "print(.05 / (7 - 1 + 1))\n",
    "print(.05 / (7 - 2 + 1))\n",
    "print(.05 / (7 - 3 + 1))\n",
    "print(.05 / (7 - 4 + 1))\n",
    "print(.05 / (7 - 5 + 1))"
   ]
  },
  {
   "cell_type": "markdown",
   "id": "94dd4583-5dd3-471e-93d9-a88694d2e94b",
   "metadata": {},
   "source": [
    "# Analysis 2: Sponsor Country\n",
    "Each trial will be assigned a “sponsor country” based on the most frequent sponsor country assigned in the EUCTR country protocols. A protocol of a specific country need not contain a sponsor from that country. If no single country appears most frequently, the trial will be coded as having “multi-country” sponsorship. The percent of trials reported to the EUCTR, other registries, and the literature will be reported for each unique sponsor country in the sample."
   ]
  },
  {
   "cell_type": "code",
   "execution_count": 93,
   "id": "052348f7-0c87-42e6-8dc1-96039ea3c336",
   "metadata": {},
   "outputs": [],
   "source": [
    "spon_country = exploratory_final[['euctr_id', 'nct_id', 'isrctn_id', 'journal_result', 'euctr_results_inc', \n",
    "                                  'ctgov_results_inc', 'isrctn_results_inc', 'journal_results_inc', \n",
    "                                  'any_results_inc', 'sponsor_country']].reset_index(drop=True)"
   ]
  },
  {
   "cell_type": "code",
   "execution_count": 94,
   "id": "e709500f-e371-44f9-b709-42be91c99559",
   "metadata": {},
   "outputs": [
    {
     "data": {
      "text/html": [
       "<div>\n",
       "<style scoped>\n",
       "    .dataframe tbody tr th:only-of-type {\n",
       "        vertical-align: middle;\n",
       "    }\n",
       "\n",
       "    .dataframe tbody tr th {\n",
       "        vertical-align: top;\n",
       "    }\n",
       "\n",
       "    .dataframe thead th {\n",
       "        text-align: right;\n",
       "    }\n",
       "</style>\n",
       "<table border=\"1\" class=\"dataframe\">\n",
       "  <thead>\n",
       "    <tr style=\"text-align: right;\">\n",
       "      <th></th>\n",
       "      <th>sponsor_country</th>\n",
       "      <th>not_reported</th>\n",
       "      <th>reported</th>\n",
       "      <th>all</th>\n",
       "      <th>prct_reported</th>\n",
       "    </tr>\n",
       "  </thead>\n",
       "  <tbody>\n",
       "    <tr>\n",
       "      <th>26</th>\n",
       "      <td>All</td>\n",
       "      <td>236</td>\n",
       "      <td>264</td>\n",
       "      <td>500</td>\n",
       "      <td>0.528000</td>\n",
       "    </tr>\n",
       "    <tr>\n",
       "      <th>25</th>\n",
       "      <td>United States</td>\n",
       "      <td>19</td>\n",
       "      <td>49</td>\n",
       "      <td>68</td>\n",
       "      <td>0.720588</td>\n",
       "    </tr>\n",
       "    <tr>\n",
       "      <th>24</th>\n",
       "      <td>United Kingdom</td>\n",
       "      <td>15</td>\n",
       "      <td>46</td>\n",
       "      <td>61</td>\n",
       "      <td>0.754098</td>\n",
       "    </tr>\n",
       "    <tr>\n",
       "      <th>8</th>\n",
       "      <td>Germany</td>\n",
       "      <td>29</td>\n",
       "      <td>30</td>\n",
       "      <td>59</td>\n",
       "      <td>0.508475</td>\n",
       "    </tr>\n",
       "    <tr>\n",
       "      <th>7</th>\n",
       "      <td>France</td>\n",
       "      <td>21</td>\n",
       "      <td>28</td>\n",
       "      <td>49</td>\n",
       "      <td>0.571429</td>\n",
       "    </tr>\n",
       "    <tr>\n",
       "      <th>12</th>\n",
       "      <td>Italy</td>\n",
       "      <td>38</td>\n",
       "      <td>8</td>\n",
       "      <td>46</td>\n",
       "      <td>0.173913</td>\n",
       "    </tr>\n",
       "    <tr>\n",
       "      <th>20</th>\n",
       "      <td>Spain</td>\n",
       "      <td>31</td>\n",
       "      <td>5</td>\n",
       "      <td>36</td>\n",
       "      <td>0.138889</td>\n",
       "    </tr>\n",
       "    <tr>\n",
       "      <th>16</th>\n",
       "      <td>Netherlands</td>\n",
       "      <td>25</td>\n",
       "      <td>9</td>\n",
       "      <td>34</td>\n",
       "      <td>0.264706</td>\n",
       "    </tr>\n",
       "    <tr>\n",
       "      <th>22</th>\n",
       "      <td>Switzerland</td>\n",
       "      <td>4</td>\n",
       "      <td>25</td>\n",
       "      <td>29</td>\n",
       "      <td>0.862069</td>\n",
       "    </tr>\n",
       "    <tr>\n",
       "      <th>5</th>\n",
       "      <td>Denmark</td>\n",
       "      <td>8</td>\n",
       "      <td>14</td>\n",
       "      <td>22</td>\n",
       "      <td>0.636364</td>\n",
       "    </tr>\n",
       "    <tr>\n",
       "      <th>2</th>\n",
       "      <td>Belgium</td>\n",
       "      <td>11</td>\n",
       "      <td>10</td>\n",
       "      <td>21</td>\n",
       "      <td>0.476190</td>\n",
       "    </tr>\n",
       "    <tr>\n",
       "      <th>21</th>\n",
       "      <td>Sweden</td>\n",
       "      <td>9</td>\n",
       "      <td>11</td>\n",
       "      <td>20</td>\n",
       "      <td>0.550000</td>\n",
       "    </tr>\n",
       "    <tr>\n",
       "      <th>1</th>\n",
       "      <td>Austria</td>\n",
       "      <td>10</td>\n",
       "      <td>7</td>\n",
       "      <td>17</td>\n",
       "      <td>0.411765</td>\n",
       "    </tr>\n",
       "    <tr>\n",
       "      <th>15</th>\n",
       "      <td>Multi-country</td>\n",
       "      <td>0</td>\n",
       "      <td>9</td>\n",
       "      <td>9</td>\n",
       "      <td>1.000000</td>\n",
       "    </tr>\n",
       "    <tr>\n",
       "      <th>6</th>\n",
       "      <td>Finland</td>\n",
       "      <td>4</td>\n",
       "      <td>1</td>\n",
       "      <td>5</td>\n",
       "      <td>0.200000</td>\n",
       "    </tr>\n",
       "    <tr>\n",
       "      <th>0</th>\n",
       "      <td>Australia</td>\n",
       "      <td>1</td>\n",
       "      <td>2</td>\n",
       "      <td>3</td>\n",
       "      <td>0.666667</td>\n",
       "    </tr>\n",
       "    <tr>\n",
       "      <th>11</th>\n",
       "      <td>Ireland</td>\n",
       "      <td>2</td>\n",
       "      <td>1</td>\n",
       "      <td>3</td>\n",
       "      <td>0.333333</td>\n",
       "    </tr>\n",
       "    <tr>\n",
       "      <th>10</th>\n",
       "      <td>Hungary</td>\n",
       "      <td>1</td>\n",
       "      <td>2</td>\n",
       "      <td>3</td>\n",
       "      <td>0.666667</td>\n",
       "    </tr>\n",
       "    <tr>\n",
       "      <th>13</th>\n",
       "      <td>Japan</td>\n",
       "      <td>1</td>\n",
       "      <td>2</td>\n",
       "      <td>3</td>\n",
       "      <td>0.666667</td>\n",
       "    </tr>\n",
       "    <tr>\n",
       "      <th>14</th>\n",
       "      <td>Korea, Republic of</td>\n",
       "      <td>1</td>\n",
       "      <td>1</td>\n",
       "      <td>2</td>\n",
       "      <td>0.500000</td>\n",
       "    </tr>\n",
       "    <tr>\n",
       "      <th>19</th>\n",
       "      <td>Portugal</td>\n",
       "      <td>0</td>\n",
       "      <td>2</td>\n",
       "      <td>2</td>\n",
       "      <td>1.000000</td>\n",
       "    </tr>\n",
       "    <tr>\n",
       "      <th>4</th>\n",
       "      <td>Czech Republic</td>\n",
       "      <td>2</td>\n",
       "      <td>0</td>\n",
       "      <td>2</td>\n",
       "      <td>0.000000</td>\n",
       "    </tr>\n",
       "    <tr>\n",
       "      <th>3</th>\n",
       "      <td>Canada</td>\n",
       "      <td>1</td>\n",
       "      <td>1</td>\n",
       "      <td>2</td>\n",
       "      <td>0.500000</td>\n",
       "    </tr>\n",
       "    <tr>\n",
       "      <th>17</th>\n",
       "      <td>No Data Available</td>\n",
       "      <td>1</td>\n",
       "      <td>0</td>\n",
       "      <td>1</td>\n",
       "      <td>0.000000</td>\n",
       "    </tr>\n",
       "    <tr>\n",
       "      <th>18</th>\n",
       "      <td>Norway</td>\n",
       "      <td>1</td>\n",
       "      <td>0</td>\n",
       "      <td>1</td>\n",
       "      <td>0.000000</td>\n",
       "    </tr>\n",
       "    <tr>\n",
       "      <th>9</th>\n",
       "      <td>Greece</td>\n",
       "      <td>0</td>\n",
       "      <td>1</td>\n",
       "      <td>1</td>\n",
       "      <td>1.000000</td>\n",
       "    </tr>\n",
       "    <tr>\n",
       "      <th>23</th>\n",
       "      <td>United Arab Emirates</td>\n",
       "      <td>1</td>\n",
       "      <td>0</td>\n",
       "      <td>1</td>\n",
       "      <td>0.000000</td>\n",
       "    </tr>\n",
       "  </tbody>\n",
       "</table>\n",
       "</div>"
      ],
      "text/plain": [
       "         sponsor_country  not_reported  reported  all  prct_reported\n",
       "26                   All           236       264  500       0.528000\n",
       "25         United States            19        49   68       0.720588\n",
       "24        United Kingdom            15        46   61       0.754098\n",
       "8                Germany            29        30   59       0.508475\n",
       "7                 France            21        28   49       0.571429\n",
       "12                 Italy            38         8   46       0.173913\n",
       "20                 Spain            31         5   36       0.138889\n",
       "16           Netherlands            25         9   34       0.264706\n",
       "22           Switzerland             4        25   29       0.862069\n",
       "5                Denmark             8        14   22       0.636364\n",
       "2                Belgium            11        10   21       0.476190\n",
       "21                Sweden             9        11   20       0.550000\n",
       "1                Austria            10         7   17       0.411765\n",
       "15         Multi-country             0         9    9       1.000000\n",
       "6                Finland             4         1    5       0.200000\n",
       "0              Australia             1         2    3       0.666667\n",
       "11               Ireland             2         1    3       0.333333\n",
       "10               Hungary             1         2    3       0.666667\n",
       "13                 Japan             1         2    3       0.666667\n",
       "14    Korea, Republic of             1         1    2       0.500000\n",
       "19              Portugal             0         2    2       1.000000\n",
       "4         Czech Republic             2         0    2       0.000000\n",
       "3                 Canada             1         1    2       0.500000\n",
       "17     No Data Available             1         0    1       0.000000\n",
       "18                Norway             1         0    1       0.000000\n",
       "9                 Greece             0         1    1       1.000000\n",
       "23  United Arab Emirates             1         0    1       0.000000"
      ]
     },
     "execution_count": 94,
     "metadata": {},
     "output_type": "execute_result"
    }
   ],
   "source": [
    "#First for the EUCTR\n",
    "spon_country_reporting = crosstab(spon_country, 'euctr_results_inc', 'sponsor_country').reset_index()\n",
    "spon_country_reporting.columns = ['sponsor_country', 'not_reported', 'reported', 'all']\n",
    "spon_country_reporting['prct_reported'] = spon_country_reporting.reported / spon_country_reporting['all']\n",
    "spon_country_reporting.sort_values(by='all', ascending=False)"
   ]
  },
  {
   "cell_type": "code",
   "execution_count": 95,
   "id": "5a243b07-30e7-4786-b70e-d340cb9df656",
   "metadata": {},
   "outputs": [
    {
     "data": {
      "text/html": [
       "<div>\n",
       "<style scoped>\n",
       "    .dataframe tbody tr th:only-of-type {\n",
       "        vertical-align: middle;\n",
       "    }\n",
       "\n",
       "    .dataframe tbody tr th {\n",
       "        vertical-align: top;\n",
       "    }\n",
       "\n",
       "    .dataframe thead th {\n",
       "        text-align: right;\n",
       "    }\n",
       "</style>\n",
       "<table border=\"1\" class=\"dataframe\">\n",
       "  <thead>\n",
       "    <tr style=\"text-align: right;\">\n",
       "      <th></th>\n",
       "      <th>sponsor_country</th>\n",
       "      <th>not_reported</th>\n",
       "      <th>reported</th>\n",
       "      <th>all</th>\n",
       "      <th>prct_reported</th>\n",
       "    </tr>\n",
       "  </thead>\n",
       "  <tbody>\n",
       "    <tr>\n",
       "      <th>23</th>\n",
       "      <td>All</td>\n",
       "      <td>207</td>\n",
       "      <td>132</td>\n",
       "      <td>339</td>\n",
       "      <td>0.389381</td>\n",
       "    </tr>\n",
       "    <tr>\n",
       "      <th>22</th>\n",
       "      <td>United States</td>\n",
       "      <td>24</td>\n",
       "      <td>41</td>\n",
       "      <td>65</td>\n",
       "      <td>0.630769</td>\n",
       "    </tr>\n",
       "    <tr>\n",
       "      <th>8</th>\n",
       "      <td>Germany</td>\n",
       "      <td>34</td>\n",
       "      <td>7</td>\n",
       "      <td>41</td>\n",
       "      <td>0.170732</td>\n",
       "    </tr>\n",
       "    <tr>\n",
       "      <th>7</th>\n",
       "      <td>France</td>\n",
       "      <td>28</td>\n",
       "      <td>11</td>\n",
       "      <td>39</td>\n",
       "      <td>0.282051</td>\n",
       "    </tr>\n",
       "    <tr>\n",
       "      <th>21</th>\n",
       "      <td>United Kingdom</td>\n",
       "      <td>18</td>\n",
       "      <td>14</td>\n",
       "      <td>32</td>\n",
       "      <td>0.437500</td>\n",
       "    </tr>\n",
       "    <tr>\n",
       "      <th>19</th>\n",
       "      <td>Switzerland</td>\n",
       "      <td>8</td>\n",
       "      <td>19</td>\n",
       "      <td>27</td>\n",
       "      <td>0.703704</td>\n",
       "    </tr>\n",
       "    <tr>\n",
       "      <th>17</th>\n",
       "      <td>Spain</td>\n",
       "      <td>20</td>\n",
       "      <td>0</td>\n",
       "      <td>20</td>\n",
       "      <td>0.000000</td>\n",
       "    </tr>\n",
       "    <tr>\n",
       "      <th>14</th>\n",
       "      <td>Netherlands</td>\n",
       "      <td>15</td>\n",
       "      <td>4</td>\n",
       "      <td>19</td>\n",
       "      <td>0.210526</td>\n",
       "    </tr>\n",
       "    <tr>\n",
       "      <th>5</th>\n",
       "      <td>Denmark</td>\n",
       "      <td>12</td>\n",
       "      <td>4</td>\n",
       "      <td>16</td>\n",
       "      <td>0.250000</td>\n",
       "    </tr>\n",
       "    <tr>\n",
       "      <th>10</th>\n",
       "      <td>Italy</td>\n",
       "      <td>13</td>\n",
       "      <td>3</td>\n",
       "      <td>16</td>\n",
       "      <td>0.187500</td>\n",
       "    </tr>\n",
       "    <tr>\n",
       "      <th>18</th>\n",
       "      <td>Sweden</td>\n",
       "      <td>9</td>\n",
       "      <td>6</td>\n",
       "      <td>15</td>\n",
       "      <td>0.400000</td>\n",
       "    </tr>\n",
       "    <tr>\n",
       "      <th>2</th>\n",
       "      <td>Belgium</td>\n",
       "      <td>7</td>\n",
       "      <td>7</td>\n",
       "      <td>14</td>\n",
       "      <td>0.500000</td>\n",
       "    </tr>\n",
       "    <tr>\n",
       "      <th>1</th>\n",
       "      <td>Austria</td>\n",
       "      <td>5</td>\n",
       "      <td>5</td>\n",
       "      <td>10</td>\n",
       "      <td>0.500000</td>\n",
       "    </tr>\n",
       "    <tr>\n",
       "      <th>13</th>\n",
       "      <td>Multi-country</td>\n",
       "      <td>4</td>\n",
       "      <td>3</td>\n",
       "      <td>7</td>\n",
       "      <td>0.428571</td>\n",
       "    </tr>\n",
       "    <tr>\n",
       "      <th>6</th>\n",
       "      <td>Finland</td>\n",
       "      <td>2</td>\n",
       "      <td>1</td>\n",
       "      <td>3</td>\n",
       "      <td>0.333333</td>\n",
       "    </tr>\n",
       "    <tr>\n",
       "      <th>11</th>\n",
       "      <td>Japan</td>\n",
       "      <td>1</td>\n",
       "      <td>2</td>\n",
       "      <td>3</td>\n",
       "      <td>0.666667</td>\n",
       "    </tr>\n",
       "    <tr>\n",
       "      <th>12</th>\n",
       "      <td>Korea, Republic of</td>\n",
       "      <td>1</td>\n",
       "      <td>1</td>\n",
       "      <td>2</td>\n",
       "      <td>0.500000</td>\n",
       "    </tr>\n",
       "    <tr>\n",
       "      <th>16</th>\n",
       "      <td>Portugal</td>\n",
       "      <td>1</td>\n",
       "      <td>1</td>\n",
       "      <td>2</td>\n",
       "      <td>0.500000</td>\n",
       "    </tr>\n",
       "    <tr>\n",
       "      <th>9</th>\n",
       "      <td>Hungary</td>\n",
       "      <td>2</td>\n",
       "      <td>0</td>\n",
       "      <td>2</td>\n",
       "      <td>0.000000</td>\n",
       "    </tr>\n",
       "    <tr>\n",
       "      <th>3</th>\n",
       "      <td>Canada</td>\n",
       "      <td>1</td>\n",
       "      <td>1</td>\n",
       "      <td>2</td>\n",
       "      <td>0.500000</td>\n",
       "    </tr>\n",
       "    <tr>\n",
       "      <th>15</th>\n",
       "      <td>Norway</td>\n",
       "      <td>1</td>\n",
       "      <td>0</td>\n",
       "      <td>1</td>\n",
       "      <td>0.000000</td>\n",
       "    </tr>\n",
       "    <tr>\n",
       "      <th>20</th>\n",
       "      <td>United Arab Emirates</td>\n",
       "      <td>0</td>\n",
       "      <td>1</td>\n",
       "      <td>1</td>\n",
       "      <td>1.000000</td>\n",
       "    </tr>\n",
       "    <tr>\n",
       "      <th>4</th>\n",
       "      <td>Czech Republic</td>\n",
       "      <td>1</td>\n",
       "      <td>0</td>\n",
       "      <td>1</td>\n",
       "      <td>0.000000</td>\n",
       "    </tr>\n",
       "    <tr>\n",
       "      <th>0</th>\n",
       "      <td>Australia</td>\n",
       "      <td>0</td>\n",
       "      <td>1</td>\n",
       "      <td>1</td>\n",
       "      <td>1.000000</td>\n",
       "    </tr>\n",
       "  </tbody>\n",
       "</table>\n",
       "</div>"
      ],
      "text/plain": [
       "         sponsor_country  not_reported  reported  all  prct_reported\n",
       "23                   All           207       132  339       0.389381\n",
       "22         United States            24        41   65       0.630769\n",
       "8                Germany            34         7   41       0.170732\n",
       "7                 France            28        11   39       0.282051\n",
       "21        United Kingdom            18        14   32       0.437500\n",
       "19           Switzerland             8        19   27       0.703704\n",
       "17                 Spain            20         0   20       0.000000\n",
       "14           Netherlands            15         4   19       0.210526\n",
       "5                Denmark            12         4   16       0.250000\n",
       "10                 Italy            13         3   16       0.187500\n",
       "18                Sweden             9         6   15       0.400000\n",
       "2                Belgium             7         7   14       0.500000\n",
       "1                Austria             5         5   10       0.500000\n",
       "13         Multi-country             4         3    7       0.428571\n",
       "6                Finland             2         1    3       0.333333\n",
       "11                 Japan             1         2    3       0.666667\n",
       "12    Korea, Republic of             1         1    2       0.500000\n",
       "16              Portugal             1         1    2       0.500000\n",
       "9                Hungary             2         0    2       0.000000\n",
       "3                 Canada             1         1    2       0.500000\n",
       "15                Norway             1         0    1       0.000000\n",
       "20  United Arab Emirates             0         1    1       1.000000\n",
       "4         Czech Republic             1         0    1       0.000000\n",
       "0              Australia             0         1    1       1.000000"
      ]
     },
     "execution_count": 95,
     "metadata": {},
     "output_type": "execute_result"
    }
   ],
   "source": [
    "#Now for the other dissemination routes\n",
    "\n",
    "#CTG\n",
    "ct_gov_trials = spon_country[spon_country.nct_id.notnull()].reset_index(drop=True)\n",
    "ctg_reporting = crosstab(ct_gov_trials, 'ctgov_results_inc', 'sponsor_country').reset_index()\n",
    "ctg_reporting.columns = ['sponsor_country', 'not_reported', 'reported', 'all']\n",
    "ctg_reporting['prct_reported'] = ctg_reporting.reported / ctg_reporting['all']\n",
    "ctg_reporting.sort_values(by='all', ascending=False)"
   ]
  },
  {
   "cell_type": "code",
   "execution_count": 96,
   "id": "4d4560e5-3bcc-4f4e-9529-8276c3f38193",
   "metadata": {},
   "outputs": [
    {
     "data": {
      "text/html": [
       "<div>\n",
       "<style scoped>\n",
       "    .dataframe tbody tr th:only-of-type {\n",
       "        vertical-align: middle;\n",
       "    }\n",
       "\n",
       "    .dataframe tbody tr th {\n",
       "        vertical-align: top;\n",
       "    }\n",
       "\n",
       "    .dataframe thead th {\n",
       "        text-align: right;\n",
       "    }\n",
       "</style>\n",
       "<table border=\"1\" class=\"dataframe\">\n",
       "  <thead>\n",
       "    <tr style=\"text-align: right;\">\n",
       "      <th></th>\n",
       "      <th>sponsor_country</th>\n",
       "      <th>not_reported</th>\n",
       "      <th>reported</th>\n",
       "      <th>all</th>\n",
       "      <th>prct_reported</th>\n",
       "    </tr>\n",
       "  </thead>\n",
       "  <tbody>\n",
       "    <tr>\n",
       "      <th>7</th>\n",
       "      <td>All</td>\n",
       "      <td>30</td>\n",
       "      <td>2</td>\n",
       "      <td>32</td>\n",
       "      <td>6.250000</td>\n",
       "    </tr>\n",
       "    <tr>\n",
       "      <th>6</th>\n",
       "      <td>United Kingdom</td>\n",
       "      <td>20</td>\n",
       "      <td>1</td>\n",
       "      <td>21</td>\n",
       "      <td>4.761905</td>\n",
       "    </tr>\n",
       "    <tr>\n",
       "      <th>4</th>\n",
       "      <td>Germany</td>\n",
       "      <td>3</td>\n",
       "      <td>0</td>\n",
       "      <td>3</td>\n",
       "      <td>0.000000</td>\n",
       "    </tr>\n",
       "    <tr>\n",
       "      <th>5</th>\n",
       "      <td>Netherlands</td>\n",
       "      <td>2</td>\n",
       "      <td>1</td>\n",
       "      <td>3</td>\n",
       "      <td>33.333333</td>\n",
       "    </tr>\n",
       "    <tr>\n",
       "      <th>0</th>\n",
       "      <td>Austria</td>\n",
       "      <td>2</td>\n",
       "      <td>0</td>\n",
       "      <td>2</td>\n",
       "      <td>0.000000</td>\n",
       "    </tr>\n",
       "    <tr>\n",
       "      <th>1</th>\n",
       "      <td>Canada</td>\n",
       "      <td>1</td>\n",
       "      <td>0</td>\n",
       "      <td>1</td>\n",
       "      <td>0.000000</td>\n",
       "    </tr>\n",
       "    <tr>\n",
       "      <th>2</th>\n",
       "      <td>Denmark</td>\n",
       "      <td>1</td>\n",
       "      <td>0</td>\n",
       "      <td>1</td>\n",
       "      <td>0.000000</td>\n",
       "    </tr>\n",
       "    <tr>\n",
       "      <th>3</th>\n",
       "      <td>France</td>\n",
       "      <td>1</td>\n",
       "      <td>0</td>\n",
       "      <td>1</td>\n",
       "      <td>0.000000</td>\n",
       "    </tr>\n",
       "  </tbody>\n",
       "</table>\n",
       "</div>"
      ],
      "text/plain": [
       "  sponsor_country  not_reported  reported  all  prct_reported\n",
       "7             All            30         2   32       6.250000\n",
       "6  United Kingdom            20         1   21       4.761905\n",
       "4         Germany             3         0    3       0.000000\n",
       "5     Netherlands             2         1    3      33.333333\n",
       "0         Austria             2         0    2       0.000000\n",
       "1          Canada             1         0    1       0.000000\n",
       "2         Denmark             1         0    1       0.000000\n",
       "3          France             1         0    1       0.000000"
      ]
     },
     "execution_count": 96,
     "metadata": {},
     "output_type": "execute_result"
    }
   ],
   "source": [
    "#ISRCTN\n",
    "isrctn_trials = spon_country[spon_country.isrctn_id.notnull()].reset_index(drop=True)\n",
    "isrctn_reporting = crosstab(isrctn_trials, 'isrctn_results_inc', 'sponsor_country').reset_index()\n",
    "isrctn_reporting.columns = ['sponsor_country', 'not_reported', 'reported', 'all']\n",
    "isrctn_reporting['prct_reported'] = (isrctn_reporting.reported / isrctn_reporting['all']) * 100\n",
    "isrctn_reporting.sort_values(by='all', ascending=False)"
   ]
  },
  {
   "cell_type": "code",
   "execution_count": 97,
   "id": "3d49ba4a-6843-4b86-ba00-f4f7936dbfc9",
   "metadata": {},
   "outputs": [
    {
     "data": {
      "text/html": [
       "<div>\n",
       "<style scoped>\n",
       "    .dataframe tbody tr th:only-of-type {\n",
       "        vertical-align: middle;\n",
       "    }\n",
       "\n",
       "    .dataframe tbody tr th {\n",
       "        vertical-align: top;\n",
       "    }\n",
       "\n",
       "    .dataframe thead th {\n",
       "        text-align: right;\n",
       "    }\n",
       "</style>\n",
       "<table border=\"1\" class=\"dataframe\">\n",
       "  <thead>\n",
       "    <tr style=\"text-align: right;\">\n",
       "      <th></th>\n",
       "      <th>sponsor_country</th>\n",
       "      <th>not_reported</th>\n",
       "      <th>reported</th>\n",
       "      <th>all</th>\n",
       "      <th>prct_reported</th>\n",
       "    </tr>\n",
       "  </thead>\n",
       "  <tbody>\n",
       "    <tr>\n",
       "      <th>26</th>\n",
       "      <td>All</td>\n",
       "      <td>207</td>\n",
       "      <td>293</td>\n",
       "      <td>500</td>\n",
       "      <td>0.586000</td>\n",
       "    </tr>\n",
       "    <tr>\n",
       "      <th>25</th>\n",
       "      <td>United States</td>\n",
       "      <td>23</td>\n",
       "      <td>45</td>\n",
       "      <td>68</td>\n",
       "      <td>0.661765</td>\n",
       "    </tr>\n",
       "    <tr>\n",
       "      <th>24</th>\n",
       "      <td>United Kingdom</td>\n",
       "      <td>16</td>\n",
       "      <td>45</td>\n",
       "      <td>61</td>\n",
       "      <td>0.737705</td>\n",
       "    </tr>\n",
       "    <tr>\n",
       "      <th>8</th>\n",
       "      <td>Germany</td>\n",
       "      <td>28</td>\n",
       "      <td>31</td>\n",
       "      <td>59</td>\n",
       "      <td>0.525424</td>\n",
       "    </tr>\n",
       "    <tr>\n",
       "      <th>7</th>\n",
       "      <td>France</td>\n",
       "      <td>27</td>\n",
       "      <td>22</td>\n",
       "      <td>49</td>\n",
       "      <td>0.448980</td>\n",
       "    </tr>\n",
       "    <tr>\n",
       "      <th>12</th>\n",
       "      <td>Italy</td>\n",
       "      <td>25</td>\n",
       "      <td>21</td>\n",
       "      <td>46</td>\n",
       "      <td>0.456522</td>\n",
       "    </tr>\n",
       "    <tr>\n",
       "      <th>20</th>\n",
       "      <td>Spain</td>\n",
       "      <td>19</td>\n",
       "      <td>17</td>\n",
       "      <td>36</td>\n",
       "      <td>0.472222</td>\n",
       "    </tr>\n",
       "    <tr>\n",
       "      <th>16</th>\n",
       "      <td>Netherlands</td>\n",
       "      <td>10</td>\n",
       "      <td>24</td>\n",
       "      <td>34</td>\n",
       "      <td>0.705882</td>\n",
       "    </tr>\n",
       "    <tr>\n",
       "      <th>22</th>\n",
       "      <td>Switzerland</td>\n",
       "      <td>10</td>\n",
       "      <td>19</td>\n",
       "      <td>29</td>\n",
       "      <td>0.655172</td>\n",
       "    </tr>\n",
       "    <tr>\n",
       "      <th>5</th>\n",
       "      <td>Denmark</td>\n",
       "      <td>10</td>\n",
       "      <td>12</td>\n",
       "      <td>22</td>\n",
       "      <td>0.545455</td>\n",
       "    </tr>\n",
       "    <tr>\n",
       "      <th>2</th>\n",
       "      <td>Belgium</td>\n",
       "      <td>8</td>\n",
       "      <td>13</td>\n",
       "      <td>21</td>\n",
       "      <td>0.619048</td>\n",
       "    </tr>\n",
       "    <tr>\n",
       "      <th>21</th>\n",
       "      <td>Sweden</td>\n",
       "      <td>10</td>\n",
       "      <td>10</td>\n",
       "      <td>20</td>\n",
       "      <td>0.500000</td>\n",
       "    </tr>\n",
       "    <tr>\n",
       "      <th>1</th>\n",
       "      <td>Austria</td>\n",
       "      <td>3</td>\n",
       "      <td>14</td>\n",
       "      <td>17</td>\n",
       "      <td>0.823529</td>\n",
       "    </tr>\n",
       "    <tr>\n",
       "      <th>15</th>\n",
       "      <td>Multi-country</td>\n",
       "      <td>4</td>\n",
       "      <td>5</td>\n",
       "      <td>9</td>\n",
       "      <td>0.555556</td>\n",
       "    </tr>\n",
       "    <tr>\n",
       "      <th>6</th>\n",
       "      <td>Finland</td>\n",
       "      <td>1</td>\n",
       "      <td>4</td>\n",
       "      <td>5</td>\n",
       "      <td>0.800000</td>\n",
       "    </tr>\n",
       "    <tr>\n",
       "      <th>0</th>\n",
       "      <td>Australia</td>\n",
       "      <td>2</td>\n",
       "      <td>1</td>\n",
       "      <td>3</td>\n",
       "      <td>0.333333</td>\n",
       "    </tr>\n",
       "    <tr>\n",
       "      <th>11</th>\n",
       "      <td>Ireland</td>\n",
       "      <td>1</td>\n",
       "      <td>2</td>\n",
       "      <td>3</td>\n",
       "      <td>0.666667</td>\n",
       "    </tr>\n",
       "    <tr>\n",
       "      <th>10</th>\n",
       "      <td>Hungary</td>\n",
       "      <td>1</td>\n",
       "      <td>2</td>\n",
       "      <td>3</td>\n",
       "      <td>0.666667</td>\n",
       "    </tr>\n",
       "    <tr>\n",
       "      <th>13</th>\n",
       "      <td>Japan</td>\n",
       "      <td>1</td>\n",
       "      <td>2</td>\n",
       "      <td>3</td>\n",
       "      <td>0.666667</td>\n",
       "    </tr>\n",
       "    <tr>\n",
       "      <th>14</th>\n",
       "      <td>Korea, Republic of</td>\n",
       "      <td>1</td>\n",
       "      <td>1</td>\n",
       "      <td>2</td>\n",
       "      <td>0.500000</td>\n",
       "    </tr>\n",
       "    <tr>\n",
       "      <th>19</th>\n",
       "      <td>Portugal</td>\n",
       "      <td>2</td>\n",
       "      <td>0</td>\n",
       "      <td>2</td>\n",
       "      <td>0.000000</td>\n",
       "    </tr>\n",
       "    <tr>\n",
       "      <th>4</th>\n",
       "      <td>Czech Republic</td>\n",
       "      <td>2</td>\n",
       "      <td>0</td>\n",
       "      <td>2</td>\n",
       "      <td>0.000000</td>\n",
       "    </tr>\n",
       "    <tr>\n",
       "      <th>3</th>\n",
       "      <td>Canada</td>\n",
       "      <td>0</td>\n",
       "      <td>2</td>\n",
       "      <td>2</td>\n",
       "      <td>1.000000</td>\n",
       "    </tr>\n",
       "    <tr>\n",
       "      <th>17</th>\n",
       "      <td>No Data Available</td>\n",
       "      <td>1</td>\n",
       "      <td>0</td>\n",
       "      <td>1</td>\n",
       "      <td>0.000000</td>\n",
       "    </tr>\n",
       "    <tr>\n",
       "      <th>18</th>\n",
       "      <td>Norway</td>\n",
       "      <td>1</td>\n",
       "      <td>0</td>\n",
       "      <td>1</td>\n",
       "      <td>0.000000</td>\n",
       "    </tr>\n",
       "    <tr>\n",
       "      <th>9</th>\n",
       "      <td>Greece</td>\n",
       "      <td>1</td>\n",
       "      <td>0</td>\n",
       "      <td>1</td>\n",
       "      <td>0.000000</td>\n",
       "    </tr>\n",
       "    <tr>\n",
       "      <th>23</th>\n",
       "      <td>United Arab Emirates</td>\n",
       "      <td>0</td>\n",
       "      <td>1</td>\n",
       "      <td>1</td>\n",
       "      <td>1.000000</td>\n",
       "    </tr>\n",
       "  </tbody>\n",
       "</table>\n",
       "</div>"
      ],
      "text/plain": [
       "         sponsor_country  not_reported  reported  all  prct_reported\n",
       "26                   All           207       293  500       0.586000\n",
       "25         United States            23        45   68       0.661765\n",
       "24        United Kingdom            16        45   61       0.737705\n",
       "8                Germany            28        31   59       0.525424\n",
       "7                 France            27        22   49       0.448980\n",
       "12                 Italy            25        21   46       0.456522\n",
       "20                 Spain            19        17   36       0.472222\n",
       "16           Netherlands            10        24   34       0.705882\n",
       "22           Switzerland            10        19   29       0.655172\n",
       "5                Denmark            10        12   22       0.545455\n",
       "2                Belgium             8        13   21       0.619048\n",
       "21                Sweden            10        10   20       0.500000\n",
       "1                Austria             3        14   17       0.823529\n",
       "15         Multi-country             4         5    9       0.555556\n",
       "6                Finland             1         4    5       0.800000\n",
       "0              Australia             2         1    3       0.333333\n",
       "11               Ireland             1         2    3       0.666667\n",
       "10               Hungary             1         2    3       0.666667\n",
       "13                 Japan             1         2    3       0.666667\n",
       "14    Korea, Republic of             1         1    2       0.500000\n",
       "19              Portugal             2         0    2       0.000000\n",
       "4         Czech Republic             2         0    2       0.000000\n",
       "3                 Canada             0         2    2       1.000000\n",
       "17     No Data Available             1         0    1       0.000000\n",
       "18                Norway             1         0    1       0.000000\n",
       "9                 Greece             1         0    1       0.000000\n",
       "23  United Arab Emirates             0         1    1       1.000000"
      ]
     },
     "execution_count": 97,
     "metadata": {},
     "output_type": "execute_result"
    }
   ],
   "source": [
    "#Journal Reporting\n",
    "journal_reporting = crosstab(spon_country, 'journal_results_inc', 'sponsor_country').reset_index()\n",
    "journal_reporting.columns = ['sponsor_country', 'not_reported', 'reported', 'all']\n",
    "journal_reporting['prct_reported'] = journal_reporting.reported / journal_reporting['all']\n",
    "journal_reporting.sort_values(by='all', ascending=False)"
   ]
  },
  {
   "cell_type": "code",
   "execution_count": 98,
   "id": "37c049bf-b2fd-4841-a1ec-a3c864fad802",
   "metadata": {},
   "outputs": [
    {
     "data": {
      "text/html": [
       "<div>\n",
       "<style scoped>\n",
       "    .dataframe tbody tr th:only-of-type {\n",
       "        vertical-align: middle;\n",
       "    }\n",
       "\n",
       "    .dataframe tbody tr th {\n",
       "        vertical-align: top;\n",
       "    }\n",
       "\n",
       "    .dataframe thead th {\n",
       "        text-align: right;\n",
       "    }\n",
       "</style>\n",
       "<table border=\"1\" class=\"dataframe\">\n",
       "  <thead>\n",
       "    <tr style=\"text-align: right;\">\n",
       "      <th></th>\n",
       "      <th>sponsor_country</th>\n",
       "      <th>not_reported</th>\n",
       "      <th>reported</th>\n",
       "      <th>all</th>\n",
       "      <th>prct_reported</th>\n",
       "    </tr>\n",
       "  </thead>\n",
       "  <tbody>\n",
       "    <tr>\n",
       "      <th>26</th>\n",
       "      <td>All</td>\n",
       "      <td>119</td>\n",
       "      <td>381</td>\n",
       "      <td>500</td>\n",
       "      <td>0.762000</td>\n",
       "    </tr>\n",
       "    <tr>\n",
       "      <th>25</th>\n",
       "      <td>United States</td>\n",
       "      <td>11</td>\n",
       "      <td>57</td>\n",
       "      <td>68</td>\n",
       "      <td>0.838235</td>\n",
       "    </tr>\n",
       "    <tr>\n",
       "      <th>24</th>\n",
       "      <td>United Kingdom</td>\n",
       "      <td>6</td>\n",
       "      <td>55</td>\n",
       "      <td>61</td>\n",
       "      <td>0.901639</td>\n",
       "    </tr>\n",
       "    <tr>\n",
       "      <th>8</th>\n",
       "      <td>Germany</td>\n",
       "      <td>15</td>\n",
       "      <td>44</td>\n",
       "      <td>59</td>\n",
       "      <td>0.745763</td>\n",
       "    </tr>\n",
       "    <tr>\n",
       "      <th>7</th>\n",
       "      <td>France</td>\n",
       "      <td>13</td>\n",
       "      <td>36</td>\n",
       "      <td>49</td>\n",
       "      <td>0.734694</td>\n",
       "    </tr>\n",
       "    <tr>\n",
       "      <th>12</th>\n",
       "      <td>Italy</td>\n",
       "      <td>21</td>\n",
       "      <td>25</td>\n",
       "      <td>46</td>\n",
       "      <td>0.543478</td>\n",
       "    </tr>\n",
       "    <tr>\n",
       "      <th>20</th>\n",
       "      <td>Spain</td>\n",
       "      <td>18</td>\n",
       "      <td>18</td>\n",
       "      <td>36</td>\n",
       "      <td>0.500000</td>\n",
       "    </tr>\n",
       "    <tr>\n",
       "      <th>16</th>\n",
       "      <td>Netherlands</td>\n",
       "      <td>8</td>\n",
       "      <td>26</td>\n",
       "      <td>34</td>\n",
       "      <td>0.764706</td>\n",
       "    </tr>\n",
       "    <tr>\n",
       "      <th>22</th>\n",
       "      <td>Switzerland</td>\n",
       "      <td>1</td>\n",
       "      <td>28</td>\n",
       "      <td>29</td>\n",
       "      <td>0.965517</td>\n",
       "    </tr>\n",
       "    <tr>\n",
       "      <th>5</th>\n",
       "      <td>Denmark</td>\n",
       "      <td>6</td>\n",
       "      <td>16</td>\n",
       "      <td>22</td>\n",
       "      <td>0.727273</td>\n",
       "    </tr>\n",
       "    <tr>\n",
       "      <th>2</th>\n",
       "      <td>Belgium</td>\n",
       "      <td>5</td>\n",
       "      <td>16</td>\n",
       "      <td>21</td>\n",
       "      <td>0.761905</td>\n",
       "    </tr>\n",
       "    <tr>\n",
       "      <th>21</th>\n",
       "      <td>Sweden</td>\n",
       "      <td>6</td>\n",
       "      <td>14</td>\n",
       "      <td>20</td>\n",
       "      <td>0.700000</td>\n",
       "    </tr>\n",
       "    <tr>\n",
       "      <th>1</th>\n",
       "      <td>Austria</td>\n",
       "      <td>2</td>\n",
       "      <td>15</td>\n",
       "      <td>17</td>\n",
       "      <td>0.882353</td>\n",
       "    </tr>\n",
       "    <tr>\n",
       "      <th>15</th>\n",
       "      <td>Multi-country</td>\n",
       "      <td>0</td>\n",
       "      <td>9</td>\n",
       "      <td>9</td>\n",
       "      <td>1.000000</td>\n",
       "    </tr>\n",
       "    <tr>\n",
       "      <th>6</th>\n",
       "      <td>Finland</td>\n",
       "      <td>0</td>\n",
       "      <td>5</td>\n",
       "      <td>5</td>\n",
       "      <td>1.000000</td>\n",
       "    </tr>\n",
       "    <tr>\n",
       "      <th>0</th>\n",
       "      <td>Australia</td>\n",
       "      <td>1</td>\n",
       "      <td>2</td>\n",
       "      <td>3</td>\n",
       "      <td>0.666667</td>\n",
       "    </tr>\n",
       "    <tr>\n",
       "      <th>11</th>\n",
       "      <td>Ireland</td>\n",
       "      <td>1</td>\n",
       "      <td>2</td>\n",
       "      <td>3</td>\n",
       "      <td>0.666667</td>\n",
       "    </tr>\n",
       "    <tr>\n",
       "      <th>10</th>\n",
       "      <td>Hungary</td>\n",
       "      <td>0</td>\n",
       "      <td>3</td>\n",
       "      <td>3</td>\n",
       "      <td>1.000000</td>\n",
       "    </tr>\n",
       "    <tr>\n",
       "      <th>13</th>\n",
       "      <td>Japan</td>\n",
       "      <td>1</td>\n",
       "      <td>2</td>\n",
       "      <td>3</td>\n",
       "      <td>0.666667</td>\n",
       "    </tr>\n",
       "    <tr>\n",
       "      <th>14</th>\n",
       "      <td>Korea, Republic of</td>\n",
       "      <td>0</td>\n",
       "      <td>2</td>\n",
       "      <td>2</td>\n",
       "      <td>1.000000</td>\n",
       "    </tr>\n",
       "    <tr>\n",
       "      <th>19</th>\n",
       "      <td>Portugal</td>\n",
       "      <td>0</td>\n",
       "      <td>2</td>\n",
       "      <td>2</td>\n",
       "      <td>1.000000</td>\n",
       "    </tr>\n",
       "    <tr>\n",
       "      <th>4</th>\n",
       "      <td>Czech Republic</td>\n",
       "      <td>2</td>\n",
       "      <td>0</td>\n",
       "      <td>2</td>\n",
       "      <td>0.000000</td>\n",
       "    </tr>\n",
       "    <tr>\n",
       "      <th>3</th>\n",
       "      <td>Canada</td>\n",
       "      <td>0</td>\n",
       "      <td>2</td>\n",
       "      <td>2</td>\n",
       "      <td>1.000000</td>\n",
       "    </tr>\n",
       "    <tr>\n",
       "      <th>17</th>\n",
       "      <td>No Data Available</td>\n",
       "      <td>1</td>\n",
       "      <td>0</td>\n",
       "      <td>1</td>\n",
       "      <td>0.000000</td>\n",
       "    </tr>\n",
       "    <tr>\n",
       "      <th>18</th>\n",
       "      <td>Norway</td>\n",
       "      <td>1</td>\n",
       "      <td>0</td>\n",
       "      <td>1</td>\n",
       "      <td>0.000000</td>\n",
       "    </tr>\n",
       "    <tr>\n",
       "      <th>9</th>\n",
       "      <td>Greece</td>\n",
       "      <td>0</td>\n",
       "      <td>1</td>\n",
       "      <td>1</td>\n",
       "      <td>1.000000</td>\n",
       "    </tr>\n",
       "    <tr>\n",
       "      <th>23</th>\n",
       "      <td>United Arab Emirates</td>\n",
       "      <td>0</td>\n",
       "      <td>1</td>\n",
       "      <td>1</td>\n",
       "      <td>1.000000</td>\n",
       "    </tr>\n",
       "  </tbody>\n",
       "</table>\n",
       "</div>"
      ],
      "text/plain": [
       "         sponsor_country  not_reported  reported  all  prct_reported\n",
       "26                   All           119       381  500       0.762000\n",
       "25         United States            11        57   68       0.838235\n",
       "24        United Kingdom             6        55   61       0.901639\n",
       "8                Germany            15        44   59       0.745763\n",
       "7                 France            13        36   49       0.734694\n",
       "12                 Italy            21        25   46       0.543478\n",
       "20                 Spain            18        18   36       0.500000\n",
       "16           Netherlands             8        26   34       0.764706\n",
       "22           Switzerland             1        28   29       0.965517\n",
       "5                Denmark             6        16   22       0.727273\n",
       "2                Belgium             5        16   21       0.761905\n",
       "21                Sweden             6        14   20       0.700000\n",
       "1                Austria             2        15   17       0.882353\n",
       "15         Multi-country             0         9    9       1.000000\n",
       "6                Finland             0         5    5       1.000000\n",
       "0              Australia             1         2    3       0.666667\n",
       "11               Ireland             1         2    3       0.666667\n",
       "10               Hungary             0         3    3       1.000000\n",
       "13                 Japan             1         2    3       0.666667\n",
       "14    Korea, Republic of             0         2    2       1.000000\n",
       "19              Portugal             0         2    2       1.000000\n",
       "4         Czech Republic             2         0    2       0.000000\n",
       "3                 Canada             0         2    2       1.000000\n",
       "17     No Data Available             1         0    1       0.000000\n",
       "18                Norway             1         0    1       0.000000\n",
       "9                 Greece             0         1    1       1.000000\n",
       "23  United Arab Emirates             0         1    1       1.000000"
      ]
     },
     "execution_count": 98,
     "metadata": {},
     "output_type": "execute_result"
    }
   ],
   "source": [
    "#Any Reporting\n",
    "any_reporting = crosstab(spon_country, 'any_results_inc', 'sponsor_country').reset_index()\n",
    "any_reporting.columns = ['sponsor_country', 'not_reported', 'reported', 'all']\n",
    "any_reporting['prct_reported'] = any_reporting.reported / any_reporting['all']\n",
    "any_reporting.sort_values(by='all', ascending=False)"
   ]
  },
  {
   "cell_type": "code",
   "execution_count": null,
   "id": "60599bc2-5ef5-4c57-a827-d24576dbdd03",
   "metadata": {},
   "outputs": [],
   "source": []
  },
  {
   "cell_type": "code",
   "execution_count": null,
   "id": "d324cde2-7784-4cb1-be65-cb4b9ed2f492",
   "metadata": {},
   "outputs": [],
   "source": []
  },
  {
   "cell_type": "code",
   "execution_count": null,
   "id": "49acf9c1-cc3b-4f8f-a79a-5e3bdea1d82a",
   "metadata": {},
   "outputs": [],
   "source": []
  },
  {
   "cell_type": "code",
   "execution_count": null,
   "id": "01702c79-c6d4-40ea-82c6-0ae0d24f58e9",
   "metadata": {},
   "outputs": [],
   "source": []
  }
 ],
 "metadata": {
  "jupytext": {
   "cell_metadata_filter": "all",
   "notebook_metadata_filter": "all,-language_info"
  },
  "kernelspec": {
   "display_name": "Python 3",
   "language": "python",
   "name": "python3"
  },
  "language_info": {
   "codemirror_mode": {
    "name": "ipython",
    "version": 3
   },
   "file_extension": ".py",
   "mimetype": "text/x-python",
   "name": "python",
   "nbconvert_exporter": "python",
   "pygments_lexer": "ipython3",
   "version": "3.8.1"
  }
 },
 "nbformat": 4,
 "nbformat_minor": 5
}
